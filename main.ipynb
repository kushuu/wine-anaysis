{
 "cells": [
  {
   "cell_type": "code",
   "execution_count": 1,
   "metadata": {},
   "outputs": [],
   "source": [
    "import pandas as pd \n",
    "import matplotlib.pyplot as plt \n",
    "import seaborn as sns \n",
    "import plotly.express as px\n",
    "\n",
    "from tqdm import tqdm\n",
    "\n",
    "%matplotlib inline"
   ]
  },
  {
   "cell_type": "code",
   "execution_count": 6,
   "metadata": {},
   "outputs": [],
   "source": [
    "df = pd.read_csv(\"wine.csv\")"
   ]
  },
  {
   "cell_type": "code",
   "execution_count": 7,
   "metadata": {},
   "outputs": [
    {
     "data": {
      "text/html": [
       "<div>\n",
       "<style scoped>\n",
       "    .dataframe tbody tr th:only-of-type {\n",
       "        vertical-align: middle;\n",
       "    }\n",
       "\n",
       "    .dataframe tbody tr th {\n",
       "        vertical-align: top;\n",
       "    }\n",
       "\n",
       "    .dataframe thead th {\n",
       "        text-align: right;\n",
       "    }\n",
       "</style>\n",
       "<table border=\"1\" class=\"dataframe\">\n",
       "  <thead>\n",
       "    <tr style=\"text-align: right;\">\n",
       "      <th></th>\n",
       "      <th>wine</th>\n",
       "      <th>winery</th>\n",
       "      <th>category</th>\n",
       "      <th>designation</th>\n",
       "      <th>varietal</th>\n",
       "      <th>appellation</th>\n",
       "      <th>alcohol</th>\n",
       "      <th>price</th>\n",
       "      <th>rating</th>\n",
       "      <th>reviewer</th>\n",
       "      <th>review</th>\n",
       "    </tr>\n",
       "  </thead>\n",
       "  <tbody>\n",
       "    <tr>\n",
       "      <th>0</th>\n",
       "      <td>J. Lohr 2000 Hilltop Vineyard Cabernet Sauvign...</td>\n",
       "      <td>J. Lohr</td>\n",
       "      <td>Red</td>\n",
       "      <td>Hilltop Vineyard</td>\n",
       "      <td>Cabernet Sauvignon</td>\n",
       "      <td>Paso Robles, Central Coast, California, US</td>\n",
       "      <td>NaN</td>\n",
       "      <td>$32</td>\n",
       "      <td>87</td>\n",
       "      <td>NaN</td>\n",
       "      <td>Held back nearly five years, this Cab still ha...</td>\n",
       "    </tr>\n",
       "    <tr>\n",
       "      <th>1</th>\n",
       "      <td>Antucura 2010 Pinot Noir (Vista Flores)</td>\n",
       "      <td>Antucura</td>\n",
       "      <td>Red</td>\n",
       "      <td>NaN</td>\n",
       "      <td>Pinot Noir</td>\n",
       "      <td>Vista Flores, Mendoza Province, Argentina</td>\n",
       "      <td>15%</td>\n",
       "      <td>$17</td>\n",
       "      <td>85</td>\n",
       "      <td>Michael Schachner</td>\n",
       "      <td>Rubbery, bold and earthy on the nose, then ful...</td>\n",
       "    </tr>\n",
       "    <tr>\n",
       "      <th>2</th>\n",
       "      <td>Quinta do Portal 1999 Quinta do Portal Reserva...</td>\n",
       "      <td>Quinta do Portal</td>\n",
       "      <td>Red</td>\n",
       "      <td>Quinta do Portal Reserva</td>\n",
       "      <td>Red Blends, Red Blends</td>\n",
       "      <td>Douro, Portugal</td>\n",
       "      <td>NaN</td>\n",
       "      <td>NaN</td>\n",
       "      <td>90</td>\n",
       "      <td>Roger Voss</td>\n",
       "      <td>Smoky, meaty aromas lead into perfumed fruit f...</td>\n",
       "    </tr>\n",
       "    <tr>\n",
       "      <th>3</th>\n",
       "      <td>Tenuta di Ghizzano 2006 Il Ghizzano Red (Toscana)</td>\n",
       "      <td>Tenuta di Ghizzano</td>\n",
       "      <td>Red</td>\n",
       "      <td>Il Ghizzano</td>\n",
       "      <td>Red Blends, Red Blends</td>\n",
       "      <td>Toscana, Tuscany, Italy</td>\n",
       "      <td>13.5%</td>\n",
       "      <td>$18</td>\n",
       "      <td>86</td>\n",
       "      <td>NaN</td>\n",
       "      <td>The nose is rather neutral save for distant ar...</td>\n",
       "    </tr>\n",
       "    <tr>\n",
       "      <th>4</th>\n",
       "      <td>Tenuta San Francesco 2007 Tramonti White (Camp...</td>\n",
       "      <td>Tenuta San Francesco</td>\n",
       "      <td>White</td>\n",
       "      <td>Tramonti</td>\n",
       "      <td>White Blend</td>\n",
       "      <td>Campania, Southern Italy, Italy</td>\n",
       "      <td>13.5%</td>\n",
       "      <td>$21</td>\n",
       "      <td>85</td>\n",
       "      <td>NaN</td>\n",
       "      <td>This intriguing blend of Falanghina, Biancolel...</td>\n",
       "    </tr>\n",
       "  </tbody>\n",
       "</table>\n",
       "</div>"
      ],
      "text/plain": [
       "                                                wine                winery  \\\n",
       "0  J. Lohr 2000 Hilltop Vineyard Cabernet Sauvign...               J. Lohr   \n",
       "1            Antucura 2010 Pinot Noir (Vista Flores)              Antucura   \n",
       "2  Quinta do Portal 1999 Quinta do Portal Reserva...      Quinta do Portal   \n",
       "3  Tenuta di Ghizzano 2006 Il Ghizzano Red (Toscana)    Tenuta di Ghizzano   \n",
       "4  Tenuta San Francesco 2007 Tramonti White (Camp...  Tenuta San Francesco   \n",
       "\n",
       "  category               designation                varietal  \\\n",
       "0      Red          Hilltop Vineyard      Cabernet Sauvignon   \n",
       "1      Red                       NaN              Pinot Noir   \n",
       "2      Red  Quinta do Portal Reserva  Red Blends, Red Blends   \n",
       "3      Red               Il Ghizzano  Red Blends, Red Blends   \n",
       "4    White                  Tramonti             White Blend   \n",
       "\n",
       "                                  appellation alcohol price  rating  \\\n",
       "0  Paso Robles, Central Coast, California, US     NaN   $32      87   \n",
       "1   Vista Flores, Mendoza Province, Argentina     15%   $17      85   \n",
       "2                             Douro, Portugal     NaN   NaN      90   \n",
       "3                     Toscana, Tuscany, Italy   13.5%   $18      86   \n",
       "4             Campania, Southern Italy, Italy   13.5%   $21      85   \n",
       "\n",
       "            reviewer                                             review  \n",
       "0                NaN  Held back nearly five years, this Cab still ha...  \n",
       "1  Michael Schachner  Rubbery, bold and earthy on the nose, then ful...  \n",
       "2         Roger Voss  Smoky, meaty aromas lead into perfumed fruit f...  \n",
       "3                NaN  The nose is rather neutral save for distant ar...  \n",
       "4                NaN  This intriguing blend of Falanghina, Biancolel...  "
      ]
     },
     "execution_count": 7,
     "metadata": {},
     "output_type": "execute_result"
    }
   ],
   "source": [
    "df.head()"
   ]
  },
  {
   "cell_type": "code",
   "execution_count": 8,
   "metadata": {},
   "outputs": [
    {
     "name": "stderr",
     "output_type": "stream",
     "text": [
      "100%|██████████| 323237/323237 [00:00<00:00, 1049468.04it/s]\n"
     ]
    }
   ],
   "source": [
    "def clean_price(val):\n",
    "    if val == val:\n",
    "        if val[1:].isnumeric():\n",
    "            return float(val[1:])\n",
    "    return\n",
    "\n",
    "def clean_alcohol(val):\n",
    "    if val == val:\n",
    "        if val[:-1].isnumeric():\n",
    "            return float(val[:-1])\n",
    "    return\n",
    "\n",
    "def clean_all(val):\n",
    "    if val == val:\n",
    "        return val\n",
    "    return\n",
    "\n",
    "df.price = df.price.apply(clean_price)\n",
    "df.alcohol = df.alcohol.apply(clean_alcohol)\n",
    "\n",
    "for col in df.columns:\n",
    "    df[col] = df[col].apply(clean_all)\n",
    "\n",
    "# for idx, row in tqdm(df.iterrows(), total=df.shape[0]):\n",
    "#     wine = row['wine']\n",
    "#     winery = row['winery']\n",
    "#     # row['wine'] = wine.replace(winery, '')\n",
    "#     df.loc[idx, 'wine'] = wine.replace(winery, '').strip()\n",
    "\n",
    "def get_clean_wine(wine, winery):\n",
    "    res = []\n",
    "    for w, wy in tqdm(zip(wine, winery), total=len(wine)):\n",
    "        res.append(w.replace(wy, '').strip())\n",
    "    return res\n",
    "\n",
    "df['wine'] = get_clean_wine(df.wine, df.winery)\n",
    "\n",
    "df.head()\n",
    "df.dropna().to_csv(\"clean_wine.csv\", index=False)"
   ]
  },
  {
   "cell_type": "code",
   "execution_count": 5,
   "metadata": {},
   "outputs": [
    {
     "data": {
      "text/html": [
       "<div>\n",
       "<style scoped>\n",
       "    .dataframe tbody tr th:only-of-type {\n",
       "        vertical-align: middle;\n",
       "    }\n",
       "\n",
       "    .dataframe tbody tr th {\n",
       "        vertical-align: top;\n",
       "    }\n",
       "\n",
       "    .dataframe thead th {\n",
       "        text-align: right;\n",
       "    }\n",
       "</style>\n",
       "<table border=\"1\" class=\"dataframe\">\n",
       "  <thead>\n",
       "    <tr style=\"text-align: right;\">\n",
       "      <th></th>\n",
       "      <th>alcohol</th>\n",
       "      <th>price</th>\n",
       "      <th>rating</th>\n",
       "    </tr>\n",
       "  </thead>\n",
       "  <tbody>\n",
       "    <tr>\n",
       "      <th>count</th>\n",
       "      <td>95959.000000</td>\n",
       "      <td>291920.000000</td>\n",
       "      <td>323237.000000</td>\n",
       "    </tr>\n",
       "    <tr>\n",
       "      <th>mean</th>\n",
       "      <td>13.928428</td>\n",
       "      <td>35.601833</td>\n",
       "      <td>88.585119</td>\n",
       "    </tr>\n",
       "    <tr>\n",
       "      <th>std</th>\n",
       "      <td>44.284787</td>\n",
       "      <td>45.322691</td>\n",
       "      <td>3.186544</td>\n",
       "    </tr>\n",
       "    <tr>\n",
       "      <th>min</th>\n",
       "      <td>1.000000</td>\n",
       "      <td>3.000000</td>\n",
       "      <td>80.000000</td>\n",
       "    </tr>\n",
       "    <tr>\n",
       "      <th>25%</th>\n",
       "      <td>13.000000</td>\n",
       "      <td>17.000000</td>\n",
       "      <td>86.000000</td>\n",
       "    </tr>\n",
       "    <tr>\n",
       "      <th>50%</th>\n",
       "      <td>13.000000</td>\n",
       "      <td>25.000000</td>\n",
       "      <td>88.000000</td>\n",
       "    </tr>\n",
       "    <tr>\n",
       "      <th>75%</th>\n",
       "      <td>14.000000</td>\n",
       "      <td>42.000000</td>\n",
       "      <td>91.000000</td>\n",
       "    </tr>\n",
       "    <tr>\n",
       "      <th>max</th>\n",
       "      <td>8333.000000</td>\n",
       "      <td>8500.000000</td>\n",
       "      <td>100.000000</td>\n",
       "    </tr>\n",
       "  </tbody>\n",
       "</table>\n",
       "</div>"
      ],
      "text/plain": [
       "            alcohol          price         rating\n",
       "count  95959.000000  291920.000000  323237.000000\n",
       "mean      13.928428      35.601833      88.585119\n",
       "std       44.284787      45.322691       3.186544\n",
       "min        1.000000       3.000000      80.000000\n",
       "25%       13.000000      17.000000      86.000000\n",
       "50%       13.000000      25.000000      88.000000\n",
       "75%       14.000000      42.000000      91.000000\n",
       "max     8333.000000    8500.000000     100.000000"
      ]
     },
     "execution_count": 5,
     "metadata": {},
     "output_type": "execute_result"
    }
   ],
   "source": [
    "df.describe()"
   ]
  },
  {
   "cell_type": "code",
   "execution_count": 6,
   "metadata": {},
   "outputs": [
    {
     "name": "stdout",
     "output_type": "stream",
     "text": [
      "<class 'pandas.core.frame.DataFrame'>\n",
      "RangeIndex: 323237 entries, 0 to 323236\n",
      "Data columns (total 11 columns):\n",
      " #   Column       Non-Null Count   Dtype  \n",
      "---  ------       --------------   -----  \n",
      " 0   wine         323237 non-null  object \n",
      " 1   winery       323237 non-null  object \n",
      " 2   category     323237 non-null  object \n",
      " 3   designation  229692 non-null  object \n",
      " 4   varietal     302190 non-null  object \n",
      " 5   appellation  320630 non-null  object \n",
      " 6   alcohol      95959 non-null   float64\n",
      " 7   price        291920 non-null  float64\n",
      " 8   rating       323237 non-null  int64  \n",
      " 9   reviewer     251075 non-null  object \n",
      " 10  review       322108 non-null  object \n",
      "dtypes: float64(2), int64(1), object(8)\n",
      "memory usage: 27.1+ MB\n"
     ]
    }
   ],
   "source": [
    "df.info()"
   ]
  },
  {
   "cell_type": "code",
   "execution_count": 7,
   "metadata": {},
   "outputs": [
    {
     "data": {
      "text/plain": [
       "<AxesSubplot:>"
      ]
     },
     "execution_count": 7,
     "metadata": {},
     "output_type": "execute_result"
    },
    {
     "data": {
      "image/png": "[encoded data removed]",
      "text/plain": [
       "<Figure size 720x720 with 2 Axes>"
      ]
     },
     "metadata": {
      "needs_background": "light"
     },
     "output_type": "display_data"
    }
   ],
   "source": [
    "plt.figure(figsize=(10,10))\n",
    "sns.heatmap(df.isna())"
   ]
  },
  {
   "cell_type": "code",
   "execution_count": 8,
   "metadata": {},
   "outputs": [
    {
     "data": {
      "image/png": "[encoded data removed]",
      "text/plain": [
       "<Figure size 648x360 with 1 Axes>"
      ]
     },
     "metadata": {
      "needs_background": "light"
     },
     "output_type": "display_data"
    }
   ],
   "source": [
    "plt.figure(figsize=(9,5))\n",
    "\n",
    "plt.plot(df.isna().sum().index, df.isna().sum().values)\n",
    "plt.xticks(rotation=45)\n",
    "plt.show()"
   ]
  },
  {
   "cell_type": "markdown",
   "metadata": {},
   "source": [
    "#### Viewing the top `50` wineries in the dataset"
   ]
  },
  {
   "cell_type": "code",
   "execution_count": 9,
   "metadata": {},
   "outputs": [],
   "source": [
    "top_wineries = df.winery.value_counts()[:50]"
   ]
  },
  {
   "cell_type": "code",
   "execution_count": 10,
   "metadata": {},
   "outputs": [
    {
     "data": {
      "image/png": "[encoded data removed]",
      "text/plain": [
       "<Figure size 576x864 with 1 Axes>"
      ]
     },
     "metadata": {
      "needs_background": "light"
     },
     "output_type": "display_data"
    }
   ],
   "source": [
    "plt.figure(figsize=(8,12))\n",
    "\n",
    "plt.barh(top_wineries.index[::-1], top_wineries.values[::-1])\n",
    "plt.show()"
   ]
  },
  {
   "cell_type": "code",
   "execution_count": 10,
   "metadata": {},
   "outputs": [
    {
     "data": {
      "application/vnd.plotly.v1+json": {
       "config": {
        "plotlyServerURL": "https://plot.ly"
       },
       "data": [
        {
         "alignmentgroup": "True",
         "hovertemplate": "variable=winery<br>value=%{x}<br>index=%{y}<extra></extra>",
         "legendgroup": "winery",
         "marker": {
          "color": "#636efa",
          "pattern": {
           "shape": ""
          }
         },
         "name": "winery",
         "offsetgroup": "winery",
         "orientation": "h",
         "showlegend": true,
         "textposition": "auto",
         "type": "bar",
         "x": [
          221,
          221,
          222,
          223,
          223,
          224,
          224,
          225,
          227,
          229,
          230,
          232,
          233,
          236,
          238,
          240,
          242,
          243,
          244,
          246,
          248,
          248,
          249,
          252,
          259,
          261,
          262,
          269,
          270,
          271,
          271,
          278,
          287,
          288,
          293,
          302,
          317,
          317,
          335,
          340,
          343,
          353,
          382,
          400,
          407,
          413,
          443,
          443,
          489,
          500
         ],
         "xaxis": "x",
         "y": [
          "Companhia das Quintas",
          "Rosenblum",
          "Casca Wines",
          "Trapiche",
          "King Estate",
          "Raymond",
          "Penfolds",
          "Waterbrook",
          "Martin Ray",
          "Willamette Valley Vineyards",
          "Feudi di San Gregorio",
          "Kunde",
          "Casa Santos Lima",
          "Sineann",
          "J. Portugal Ramos",
          "Morgan",
          "Rodney Strong",
          "Beringer",
          "Domaine Zind-Humbrecht",
          "J. Lohr",
          "Yalumba",
          "D'Arenberg",
          "Dutton-Goldfield",
          "Siduri",
          "Santa Rita",
          "L'Ecole No. 41",
          "Dr. Loosen",
          "Fess Parker",
          "Montes",
          "Joseph Drouhin",
          "Dry Creek Vineyard",
          "V. Sattui",
          "Iron Horse",
          "De Loach",
          "Maryhill",
          "Albert Bichot",
          "Gary Farrell",
          "Kenwood",
          "Robert Mondavi",
          "Columbia Crest",
          "Louis Jadot",
          "Louis Latour",
          "Concha y Toro",
          "Wines & Winemakers",
          "Georges Duboeuf",
          "Kendall-Jackson",
          "Testarossa",
          "DFJ Vinhos",
          "Chateau Ste. Michelle",
          "Williams Selyem"
         ],
         "yaxis": "y"
        }
       ],
       "layout": {
        "barmode": "relative",
        "legend": {
         "title": {
          "text": "variable"
         },
         "tracegroupgap": 0
        },
        "margin": {
         "t": 60
        },
        "template": {
         "data": {
          "bar": [
           {
            "error_x": {
             "color": "#2a3f5f"
            },
            "error_y": {
             "color": "#2a3f5f"
            },
            "marker": {
             "line": {
              "color": "#E5ECF6",
              "width": 0.5
             },
             "pattern": {
              "fillmode": "overlay",
              "size": 10,
              "solidity": 0.2
             }
            },
            "type": "bar"
           }
          ],
          "barpolar": [
           {
            "marker": {
             "line": {
              "color": "#E5ECF6",
              "width": 0.5
             },
             "pattern": {
              "fillmode": "overlay",
              "size": 10,
              "solidity": 0.2
             }
            },
            "type": "barpolar"
           }
          ],
          "carpet": [
           {
            "aaxis": {
             "endlinecolor": "#2a3f5f",
             "gridcolor": "white",
             "linecolor": "white",
             "minorgridcolor": "white",
             "startlinecolor": "#2a3f5f"
            },
            "baxis": {
             "endlinecolor": "#2a3f5f",
             "gridcolor": "white",
             "linecolor": "white",
             "minorgridcolor": "white",
             "startlinecolor": "#2a3f5f"
            },
            "type": "carpet"
           }
          ],
          "choropleth": [
           {
            "colorbar": {
             "outlinewidth": 0,
             "ticks": ""
            },
            "type": "choropleth"
           }
          ],
          "contour": [
           {
            "colorbar": {
             "outlinewidth": 0,
             "ticks": ""
            },
            "colorscale": [
             [
              0,
              "#0d0887"
             ],
             [
              0.1111111111111111,
              "#46039f"
             ],
             [
              0.2222222222222222,
              "#7201a8"
             ],
             [
              0.3333333333333333,
              "#9c179e"
             ],
             [
              0.4444444444444444,
              "#bd3786"
             ],
             [
              0.5555555555555556,
              "#d8576b"
             ],
             [
              0.6666666666666666,
              "#ed7953"
             ],
             [
              0.7777777777777778,
              "#fb9f3a"
             ],
             [
              0.8888888888888888,
              "#fdca26"
             ],
             [
              1,
              "#f0f921"
             ]
            ],
            "type": "contour"
           }
          ],
          "contourcarpet": [
           {
            "colorbar": {
             "outlinewidth": 0,
             "ticks": ""
            },
            "type": "contourcarpet"
           }
          ],
          "heatmap": [
           {
            "colorbar": {
             "outlinewidth": 0,
             "ticks": ""
            },
            "colorscale": [
             [
              0,
              "#0d0887"
             ],
             [
              0.1111111111111111,
              "#46039f"
             ],
             [
              0.2222222222222222,
              "#7201a8"
             ],
             [
              0.3333333333333333,
              "#9c179e"
             ],
             [
              0.4444444444444444,
              "#bd3786"
             ],
             [
              0.5555555555555556,
              "#d8576b"
             ],
             [
              0.6666666666666666,
              "#ed7953"
             ],
             [
              0.7777777777777778,
              "#fb9f3a"
             ],
             [
              0.8888888888888888,
              "#fdca26"
             ],
             [
              1,
              "#f0f921"
             ]
            ],
            "type": "heatmap"
           }
          ],
          "heatmapgl": [
           {
            "colorbar": {
             "outlinewidth": 0,
             "ticks": ""
            },
            "colorscale": [
             [
              0,
              "#0d0887"
             ],
             [
              0.1111111111111111,
              "#46039f"
             ],
             [
              0.2222222222222222,
              "#7201a8"
             ],
             [
              0.3333333333333333,
              "#9c179e"
             ],
             [
              0.4444444444444444,
              "#bd3786"
             ],
             [
              0.5555555555555556,
              "#d8576b"
             ],
             [
              0.6666666666666666,
              "#ed7953"
             ],
             [
              0.7777777777777778,
              "#fb9f3a"
             ],
             [
              0.8888888888888888,
              "#fdca26"
             ],
             [
              1,
              "#f0f921"
             ]
            ],
            "type": "heatmapgl"
           }
          ],
          "histogram": [
           {
            "marker": {
             "pattern": {
              "fillmode": "overlay",
              "size": 10,
              "solidity": 0.2
             }
            },
            "type": "histogram"
           }
          ],
          "histogram2d": [
           {
            "colorbar": {
             "outlinewidth": 0,
             "ticks": ""
            },
            "colorscale": [
             [
              0,
              "#0d0887"
             ],
             [
              0.1111111111111111,
              "#46039f"
             ],
             [
              0.2222222222222222,
              "#7201a8"
             ],
             [
              0.3333333333333333,
              "#9c179e"
             ],
             [
              0.4444444444444444,
              "#bd3786"
             ],
             [
              0.5555555555555556,
              "#d8576b"
             ],
             [
              0.6666666666666666,
              "#ed7953"
             ],
             [
              0.7777777777777778,
              "#fb9f3a"
             ],
             [
              0.8888888888888888,
              "#fdca26"
             ],
             [
              1,
              "#f0f921"
             ]
            ],
            "type": "histogram2d"
           }
          ],
          "histogram2dcontour": [
           {
            "colorbar": {
             "outlinewidth": 0,
             "ticks": ""
            },
            "colorscale": [
             [
              0,
              "#0d0887"
             ],
             [
              0.1111111111111111,
              "#46039f"
             ],
             [
              0.2222222222222222,
              "#7201a8"
             ],
             [
              0.3333333333333333,
              "#9c179e"
             ],
             [
              0.4444444444444444,
              "#bd3786"
             ],
             [
              0.5555555555555556,
              "#d8576b"
             ],
             [
              0.6666666666666666,
              "#ed7953"
             ],
             [
              0.7777777777777778,
              "#fb9f3a"
             ],
             [
              0.8888888888888888,
              "#fdca26"
             ],
             [
              1,
              "#f0f921"
             ]
            ],
            "type": "histogram2dcontour"
           }
          ],
          "mesh3d": [
           {
            "colorbar": {
             "outlinewidth": 0,
             "ticks": ""
            },
            "type": "mesh3d"
           }
          ],
          "parcoords": [
           {
            "line": {
             "colorbar": {
              "outlinewidth": 0,
              "ticks": ""
             }
            },
            "type": "parcoords"
           }
          ],
          "pie": [
           {
            "automargin": true,
            "type": "pie"
           }
          ],
          "scatter": [
           {
            "marker": {
             "colorbar": {
              "outlinewidth": 0,
              "ticks": ""
             }
            },
            "type": "scatter"
           }
          ],
          "scatter3d": [
           {
            "line": {
             "colorbar": {
              "outlinewidth": 0,
              "ticks": ""
             }
            },
            "marker": {
             "colorbar": {
              "outlinewidth": 0,
              "ticks": ""
             }
            },
            "type": "scatter3d"
           }
          ],
          "scattercarpet": [
           {
            "marker": {
             "colorbar": {
              "outlinewidth": 0,
              "ticks": ""
             }
            },
            "type": "scattercarpet"
           }
          ],
          "scattergeo": [
           {
            "marker": {
             "colorbar": {
              "outlinewidth": 0,
              "ticks": ""
             }
            },
            "type": "scattergeo"
           }
          ],
          "scattergl": [
           {
            "marker": {
             "colorbar": {
              "outlinewidth": 0,
              "ticks": ""
             }
            },
            "type": "scattergl"
           }
          ],
          "scattermapbox": [
           {
            "marker": {
             "colorbar": {
              "outlinewidth": 0,
              "ticks": ""
             }
            },
            "type": "scattermapbox"
           }
          ],
          "scatterpolar": [
           {
            "marker": {
             "colorbar": {
              "outlinewidth": 0,
              "ticks": ""
             }
            },
            "type": "scatterpolar"
           }
          ],
          "scatterpolargl": [
           {
            "marker": {
             "colorbar": {
              "outlinewidth": 0,
              "ticks": ""
             }
            },
            "type": "scatterpolargl"
           }
          ],
          "scatterternary": [
           {
            "marker": {
             "colorbar": {
              "outlinewidth": 0,
              "ticks": ""
             }
            },
            "type": "scatterternary"
           }
          ],
          "surface": [
           {
            "colorbar": {
             "outlinewidth": 0,
             "ticks": ""
            },
            "colorscale": [
             [
              0,
              "#0d0887"
             ],
             [
              0.1111111111111111,
              "#46039f"
             ],
             [
              0.2222222222222222,
              "#7201a8"
             ],
             [
              0.3333333333333333,
              "#9c179e"
             ],
             [
              0.4444444444444444,
              "#bd3786"
             ],
             [
              0.5555555555555556,
              "#d8576b"
             ],
             [
              0.6666666666666666,
              "#ed7953"
             ],
             [
              0.7777777777777778,
              "#fb9f3a"
             ],
             [
              0.8888888888888888,
              "#fdca26"
             ],
             [
              1,
              "#f0f921"
             ]
            ],
            "type": "surface"
           }
          ],
          "table": [
           {
            "cells": {
             "fill": {
              "color": "#EBF0F8"
             },
             "line": {
              "color": "white"
             }
            },
            "header": {
             "fill": {
              "color": "#C8D4E3"
             },
             "line": {
              "color": "white"
             }
            },
            "type": "table"
           }
          ]
         },
         "layout": {
          "annotationdefaults": {
           "arrowcolor": "#2a3f5f",
           "arrowhead": 0,
           "arrowwidth": 1
          },
          "autotypenumbers": "strict",
          "coloraxis": {
           "colorbar": {
            "outlinewidth": 0,
            "ticks": ""
           }
          },
          "colorscale": {
           "diverging": [
            [
             0,
             "#8e0152"
            ],
            [
             0.1,
             "#c51b7d"
            ],
            [
             0.2,
             "#de77ae"
            ],
            [
             0.3,
             "#f1b6da"
            ],
            [
             0.4,
             "#fde0ef"
            ],
            [
             0.5,
             "#f7f7f7"
            ],
            [
             0.6,
             "#e6f5d0"
            ],
            [
             0.7,
             "#b8e186"
            ],
            [
             0.8,
             "#7fbc41"
            ],
            [
             0.9,
             "#4d9221"
            ],
            [
             1,
             "#276419"
            ]
           ],
           "sequential": [
            [
             0,
             "#0d0887"
            ],
            [
             0.1111111111111111,
             "#46039f"
            ],
            [
             0.2222222222222222,
             "#7201a8"
            ],
            [
             0.3333333333333333,
             "#9c179e"
            ],
            [
             0.4444444444444444,
             "#bd3786"
            ],
            [
             0.5555555555555556,
             "#d8576b"
            ],
            [
             0.6666666666666666,
             "#ed7953"
            ],
            [
             0.7777777777777778,
             "#fb9f3a"
            ],
            [
             0.8888888888888888,
             "#fdca26"
            ],
            [
             1,
             "#f0f921"
            ]
           ],
           "sequentialminus": [
            [
             0,
             "#0d0887"
            ],
            [
             0.1111111111111111,
             "#46039f"
            ],
            [
             0.2222222222222222,
             "#7201a8"
            ],
            [
             0.3333333333333333,
             "#9c179e"
            ],
            [
             0.4444444444444444,
             "#bd3786"
            ],
            [
             0.5555555555555556,
             "#d8576b"
            ],
            [
             0.6666666666666666,
             "#ed7953"
            ],
            [
             0.7777777777777778,
             "#fb9f3a"
            ],
            [
             0.8888888888888888,
             "#fdca26"
            ],
            [
             1,
             "#f0f921"
            ]
           ]
          },
          "colorway": [
           "#636efa",
           "#EF553B",
           "#00cc96",
           "#ab63fa",
           "#FFA15A",
           "#19d3f3",
           "#FF6692",
           "#B6E880",
           "#FF97FF",
           "#FECB52"
          ],
          "font": {
           "color": "#2a3f5f"
          },
          "geo": {
           "bgcolor": "white",
           "lakecolor": "white",
           "landcolor": "#E5ECF6",
           "showlakes": true,
           "showland": true,
           "subunitcolor": "white"
          },
          "hoverlabel": {
           "align": "left"
          },
          "hovermode": "closest",
          "mapbox": {
           "style": "light"
          },
          "paper_bgcolor": "white",
          "plot_bgcolor": "#E5ECF6",
          "polar": {
           "angularaxis": {
            "gridcolor": "white",
            "linecolor": "white",
            "ticks": ""
           },
           "bgcolor": "#E5ECF6",
           "radialaxis": {
            "gridcolor": "white",
            "linecolor": "white",
            "ticks": ""
           }
          },
          "scene": {
           "xaxis": {
            "backgroundcolor": "#E5ECF6",
            "gridcolor": "white",
            "gridwidth": 2,
            "linecolor": "white",
            "showbackground": true,
            "ticks": "",
            "zerolinecolor": "white"
           },
           "yaxis": {
            "backgroundcolor": "#E5ECF6",
            "gridcolor": "white",
            "gridwidth": 2,
            "linecolor": "white",
            "showbackground": true,
            "ticks": "",
            "zerolinecolor": "white"
           },
           "zaxis": {
            "backgroundcolor": "#E5ECF6",
            "gridcolor": "white",
            "gridwidth": 2,
            "linecolor": "white",
            "showbackground": true,
            "ticks": "",
            "zerolinecolor": "white"
           }
          },
          "shapedefaults": {
           "line": {
            "color": "#2a3f5f"
           }
          },
          "ternary": {
           "aaxis": {
            "gridcolor": "white",
            "linecolor": "white",
            "ticks": ""
           },
           "baxis": {
            "gridcolor": "white",
            "linecolor": "white",
            "ticks": ""
           },
           "bgcolor": "#E5ECF6",
           "caxis": {
            "gridcolor": "white",
            "linecolor": "white",
            "ticks": ""
           }
          },
          "title": {
           "x": 0.05
          },
          "xaxis": {
           "automargin": true,
           "gridcolor": "white",
           "linecolor": "white",
           "ticks": "",
           "title": {
            "standoff": 15
           },
           "zerolinecolor": "white",
           "zerolinewidth": 2
          },
          "yaxis": {
           "automargin": true,
           "gridcolor": "white",
           "linecolor": "white",
           "ticks": "",
           "title": {
            "standoff": 15
           },
           "zerolinecolor": "white",
           "zerolinewidth": 2
          }
         }
        },
        "xaxis": {
         "anchor": "y",
         "domain": [
          0,
          1
         ],
         "title": {
          "text": "value"
         }
        },
        "yaxis": {
         "anchor": "x",
         "domain": [
          0,
          1
         ],
         "title": {
          "text": "index"
         }
        }
       }
      }
     },
     "metadata": {},
     "output_type": "display_data"
    }
   ],
   "source": [
    "px.bar(top_wineries[::-1], orientation='h')"
   ]
  },
  {
   "cell_type": "code",
   "execution_count": 22,
   "metadata": {},
   "outputs": [
    {
     "data": {
      "application/vnd.plotly.v1+json": {
       "config": {
        "plotlyServerURL": "https://plot.ly"
       },
       "data": [
        {
         "domain": {
          "x": [
           0,
           1
          ],
          "y": [
           0,
           1
          ]
         },
         "hovertemplate": "index=%{label}<br>value=%{value}<extra></extra>",
         "labels": [
          "Williams Selyem",
          "Chateau Ste. Michelle",
          "Testarossa",
          "DFJ Vinhos",
          "Kendall-Jackson",
          "Georges Duboeuf",
          "Wines & Winemakers",
          "Concha y Toro",
          "Louis Latour",
          "Louis Jadot",
          "Columbia Crest",
          "Robert Mondavi",
          "Kenwood",
          "Gary Farrell",
          "Albert Bichot",
          "Maryhill",
          "De Loach",
          "Iron Horse",
          "V. Sattui",
          "Joseph Drouhin",
          "Dry Creek Vineyard",
          "Montes",
          "Fess Parker",
          "Dr. Loosen",
          "L'Ecole No. 41",
          "Santa Rita",
          "Siduri"
         ],
         "legendgroup": "",
         "name": "",
         "showlegend": true,
         "type": "pie",
         "values": [
          500,
          489,
          443,
          443,
          413,
          407,
          400,
          382,
          353,
          343,
          340,
          335,
          317,
          317,
          302,
          293,
          288,
          287,
          278,
          271,
          271,
          270,
          269,
          262,
          261,
          259,
          252
         ]
        }
       ],
       "layout": {
        "legend": {
         "tracegroupgap": 0
        },
        "template": {
         "data": {
          "bar": [
           {
            "error_x": {
             "color": "#2a3f5f"
            },
            "error_y": {
             "color": "#2a3f5f"
            },
            "marker": {
             "line": {
              "color": "#E5ECF6",
              "width": 0.5
             }
            },
            "type": "bar"
           }
          ],
          "barpolar": [
           {
            "marker": {
             "line": {
              "color": "#E5ECF6",
              "width": 0.5
             }
            },
            "type": "barpolar"
           }
          ],
          "carpet": [
           {
            "aaxis": {
             "endlinecolor": "#2a3f5f",
             "gridcolor": "white",
             "linecolor": "white",
             "minorgridcolor": "white",
             "startlinecolor": "#2a3f5f"
            },
            "baxis": {
             "endlinecolor": "#2a3f5f",
             "gridcolor": "white",
             "linecolor": "white",
             "minorgridcolor": "white",
             "startlinecolor": "#2a3f5f"
            },
            "type": "carpet"
           }
          ],
          "choropleth": [
           {
            "colorbar": {
             "outlinewidth": 0,
             "ticks": ""
            },
            "type": "choropleth"
           }
          ],
          "contour": [
           {
            "colorbar": {
             "outlinewidth": 0,
             "ticks": ""
            },
            "colorscale": [
             [
              0,
              "#0d0887"
             ],
             [
              0.1111111111111111,
              "#46039f"
             ],
             [
              0.2222222222222222,
              "#7201a8"
             ],
             [
              0.3333333333333333,
              "#9c179e"
             ],
             [
              0.4444444444444444,
              "#bd3786"
             ],
             [
              0.5555555555555556,
              "#d8576b"
             ],
             [
              0.6666666666666666,
              "#ed7953"
             ],
             [
              0.7777777777777778,
              "#fb9f3a"
             ],
             [
              0.8888888888888888,
              "#fdca26"
             ],
             [
              1,
              "#f0f921"
             ]
            ],
            "type": "contour"
           }
          ],
          "contourcarpet": [
           {
            "colorbar": {
             "outlinewidth": 0,
             "ticks": ""
            },
            "type": "contourcarpet"
           }
          ],
          "heatmap": [
           {
            "colorbar": {
             "outlinewidth": 0,
             "ticks": ""
            },
            "colorscale": [
             [
              0,
              "#0d0887"
             ],
             [
              0.1111111111111111,
              "#46039f"
             ],
             [
              0.2222222222222222,
              "#7201a8"
             ],
             [
              0.3333333333333333,
              "#9c179e"
             ],
             [
              0.4444444444444444,
              "#bd3786"
             ],
             [
              0.5555555555555556,
              "#d8576b"
             ],
             [
              0.6666666666666666,
              "#ed7953"
             ],
             [
              0.7777777777777778,
              "#fb9f3a"
             ],
             [
              0.8888888888888888,
              "#fdca26"
             ],
             [
              1,
              "#f0f921"
             ]
            ],
            "type": "heatmap"
           }
          ],
          "heatmapgl": [
           {
            "colorbar": {
             "outlinewidth": 0,
             "ticks": ""
            },
            "colorscale": [
             [
              0,
              "#0d0887"
             ],
             [
              0.1111111111111111,
              "#46039f"
             ],
             [
              0.2222222222222222,
              "#7201a8"
             ],
             [
              0.3333333333333333,
              "#9c179e"
             ],
             [
              0.4444444444444444,
              "#bd3786"
             ],
             [
              0.5555555555555556,
              "#d8576b"
             ],
             [
              0.6666666666666666,
              "#ed7953"
             ],
             [
              0.7777777777777778,
              "#fb9f3a"
             ],
             [
              0.8888888888888888,
              "#fdca26"
             ],
             [
              1,
              "#f0f921"
             ]
            ],
            "type": "heatmapgl"
           }
          ],
          "histogram": [
           {
            "marker": {
             "colorbar": {
              "outlinewidth": 0,
              "ticks": ""
             }
            },
            "type": "histogram"
           }
          ],
          "histogram2d": [
           {
            "colorbar": {
             "outlinewidth": 0,
             "ticks": ""
            },
            "colorscale": [
             [
              0,
              "#0d0887"
             ],
             [
              0.1111111111111111,
              "#46039f"
             ],
             [
              0.2222222222222222,
              "#7201a8"
             ],
             [
              0.3333333333333333,
              "#9c179e"
             ],
             [
              0.4444444444444444,
              "#bd3786"
             ],
             [
              0.5555555555555556,
              "#d8576b"
             ],
             [
              0.6666666666666666,
              "#ed7953"
             ],
             [
              0.7777777777777778,
              "#fb9f3a"
             ],
             [
              0.8888888888888888,
              "#fdca26"
             ],
             [
              1,
              "#f0f921"
             ]
            ],
            "type": "histogram2d"
           }
          ],
          "histogram2dcontour": [
           {
            "colorbar": {
             "outlinewidth": 0,
             "ticks": ""
            },
            "colorscale": [
             [
              0,
              "#0d0887"
             ],
             [
              0.1111111111111111,
              "#46039f"
             ],
             [
              0.2222222222222222,
              "#7201a8"
             ],
             [
              0.3333333333333333,
              "#9c179e"
             ],
             [
              0.4444444444444444,
              "#bd3786"
             ],
             [
              0.5555555555555556,
              "#d8576b"
             ],
             [
              0.6666666666666666,
              "#ed7953"
             ],
             [
              0.7777777777777778,
              "#fb9f3a"
             ],
             [
              0.8888888888888888,
              "#fdca26"
             ],
             [
              1,
              "#f0f921"
             ]
            ],
            "type": "histogram2dcontour"
           }
          ],
          "mesh3d": [
           {
            "colorbar": {
             "outlinewidth": 0,
             "ticks": ""
            },
            "type": "mesh3d"
           }
          ],
          "parcoords": [
           {
            "line": {
             "colorbar": {
              "outlinewidth": 0,
              "ticks": ""
             }
            },
            "type": "parcoords"
           }
          ],
          "pie": [
           {
            "automargin": true,
            "type": "pie"
           }
          ],
          "scatter": [
           {
            "marker": {
             "colorbar": {
              "outlinewidth": 0,
              "ticks": ""
             }
            },
            "type": "scatter"
           }
          ],
          "scatter3d": [
           {
            "line": {
             "colorbar": {
              "outlinewidth": 0,
              "ticks": ""
             }
            },
            "marker": {
             "colorbar": {
              "outlinewidth": 0,
              "ticks": ""
             }
            },
            "type": "scatter3d"
           }
          ],
          "scattercarpet": [
           {
            "marker": {
             "colorbar": {
              "outlinewidth": 0,
              "ticks": ""
             }
            },
            "type": "scattercarpet"
           }
          ],
          "scattergeo": [
           {
            "marker": {
             "colorbar": {
              "outlinewidth": 0,
              "ticks": ""
             }
            },
            "type": "scattergeo"
           }
          ],
          "scattergl": [
           {
            "marker": {
             "colorbar": {
              "outlinewidth": 0,
              "ticks": ""
             }
            },
            "type": "scattergl"
           }
          ],
          "scattermapbox": [
           {
            "marker": {
             "colorbar": {
              "outlinewidth": 0,
              "ticks": ""
             }
            },
            "type": "scattermapbox"
           }
          ],
          "scatterpolar": [
           {
            "marker": {
             "colorbar": {
              "outlinewidth": 0,
              "ticks": ""
             }
            },
            "type": "scatterpolar"
           }
          ],
          "scatterpolargl": [
           {
            "marker": {
             "colorbar": {
              "outlinewidth": 0,
              "ticks": ""
             }
            },
            "type": "scatterpolargl"
           }
          ],
          "scatterternary": [
           {
            "marker": {
             "colorbar": {
              "outlinewidth": 0,
              "ticks": ""
             }
            },
            "type": "scatterternary"
           }
          ],
          "surface": [
           {
            "colorbar": {
             "outlinewidth": 0,
             "ticks": ""
            },
            "colorscale": [
             [
              0,
              "#0d0887"
             ],
             [
              0.1111111111111111,
              "#46039f"
             ],
             [
              0.2222222222222222,
              "#7201a8"
             ],
             [
              0.3333333333333333,
              "#9c179e"
             ],
             [
              0.4444444444444444,
              "#bd3786"
             ],
             [
              0.5555555555555556,
              "#d8576b"
             ],
             [
              0.6666666666666666,
              "#ed7953"
             ],
             [
              0.7777777777777778,
              "#fb9f3a"
             ],
             [
              0.8888888888888888,
              "#fdca26"
             ],
             [
              1,
              "#f0f921"
             ]
            ],
            "type": "surface"
           }
          ],
          "table": [
           {
            "cells": {
             "fill": {
              "color": "#EBF0F8"
             },
             "line": {
              "color": "white"
             }
            },
            "header": {
             "fill": {
              "color": "#C8D4E3"
             },
             "line": {
              "color": "white"
             }
            },
            "type": "table"
           }
          ]
         },
         "layout": {
          "annotationdefaults": {
           "arrowcolor": "#2a3f5f",
           "arrowhead": 0,
           "arrowwidth": 1
          },
          "autotypenumbers": "strict",
          "coloraxis": {
           "colorbar": {
            "outlinewidth": 0,
            "ticks": ""
           }
          },
          "colorscale": {
           "diverging": [
            [
             0,
             "#8e0152"
            ],
            [
             0.1,
             "#c51b7d"
            ],
            [
             0.2,
             "#de77ae"
            ],
            [
             0.3,
             "#f1b6da"
            ],
            [
             0.4,
             "#fde0ef"
            ],
            [
             0.5,
             "#f7f7f7"
            ],
            [
             0.6,
             "#e6f5d0"
            ],
            [
             0.7,
             "#b8e186"
            ],
            [
             0.8,
             "#7fbc41"
            ],
            [
             0.9,
             "#4d9221"
            ],
            [
             1,
             "#276419"
            ]
           ],
           "sequential": [
            [
             0,
             "#0d0887"
            ],
            [
             0.1111111111111111,
             "#46039f"
            ],
            [
             0.2222222222222222,
             "#7201a8"
            ],
            [
             0.3333333333333333,
             "#9c179e"
            ],
            [
             0.4444444444444444,
             "#bd3786"
            ],
            [
             0.5555555555555556,
             "#d8576b"
            ],
            [
             0.6666666666666666,
             "#ed7953"
            ],
            [
             0.7777777777777778,
             "#fb9f3a"
            ],
            [
             0.8888888888888888,
             "#fdca26"
            ],
            [
             1,
             "#f0f921"
            ]
           ],
           "sequentialminus": [
            [
             0,
             "#0d0887"
            ],
            [
             0.1111111111111111,
             "#46039f"
            ],
            [
             0.2222222222222222,
             "#7201a8"
            ],
            [
             0.3333333333333333,
             "#9c179e"
            ],
            [
             0.4444444444444444,
             "#bd3786"
            ],
            [
             0.5555555555555556,
             "#d8576b"
            ],
            [
             0.6666666666666666,
             "#ed7953"
            ],
            [
             0.7777777777777778,
             "#fb9f3a"
            ],
            [
             0.8888888888888888,
             "#fdca26"
            ],
            [
             1,
             "#f0f921"
            ]
           ]
          },
          "colorway": [
           "#636efa",
           "#EF553B",
           "#00cc96",
           "#ab63fa",
           "#FFA15A",
           "#19d3f3",
           "#FF6692",
           "#B6E880",
           "#FF97FF",
           "#FECB52"
          ],
          "font": {
           "color": "#2a3f5f"
          },
          "geo": {
           "bgcolor": "white",
           "lakecolor": "white",
           "landcolor": "#E5ECF6",
           "showlakes": true,
           "showland": true,
           "subunitcolor": "white"
          },
          "hoverlabel": {
           "align": "left"
          },
          "hovermode": "closest",
          "mapbox": {
           "style": "light"
          },
          "paper_bgcolor": "white",
          "plot_bgcolor": "#E5ECF6",
          "polar": {
           "angularaxis": {
            "gridcolor": "white",
            "linecolor": "white",
            "ticks": ""
           },
           "bgcolor": "#E5ECF6",
           "radialaxis": {
            "gridcolor": "white",
            "linecolor": "white",
            "ticks": ""
           }
          },
          "scene": {
           "xaxis": {
            "backgroundcolor": "#E5ECF6",
            "gridcolor": "white",
            "gridwidth": 2,
            "linecolor": "white",
            "showbackground": true,
            "ticks": "",
            "zerolinecolor": "white"
           },
           "yaxis": {
            "backgroundcolor": "#E5ECF6",
            "gridcolor": "white",
            "gridwidth": 2,
            "linecolor": "white",
            "showbackground": true,
            "ticks": "",
            "zerolinecolor": "white"
           },
           "zaxis": {
            "backgroundcolor": "#E5ECF6",
            "gridcolor": "white",
            "gridwidth": 2,
            "linecolor": "white",
            "showbackground": true,
            "ticks": "",
            "zerolinecolor": "white"
           }
          },
          "shapedefaults": {
           "line": {
            "color": "#2a3f5f"
           }
          },
          "ternary": {
           "aaxis": {
            "gridcolor": "white",
            "linecolor": "white",
            "ticks": ""
           },
           "baxis": {
            "gridcolor": "white",
            "linecolor": "white",
            "ticks": ""
           },
           "bgcolor": "#E5ECF6",
           "caxis": {
            "gridcolor": "white",
            "linecolor": "white",
            "ticks": ""
           }
          },
          "title": {
           "x": 0.05
          },
          "xaxis": {
           "automargin": true,
           "gridcolor": "white",
           "linecolor": "white",
           "ticks": "",
           "title": {
            "standoff": 15
           },
           "zerolinecolor": "white",
           "zerolinewidth": 2
          },
          "yaxis": {
           "automargin": true,
           "gridcolor": "white",
           "linecolor": "white",
           "ticks": "",
           "title": {
            "standoff": 15
           },
           "zerolinecolor": "white",
           "zerolinewidth": 2
          }
         }
        },
        "title": {
         "text": "Presence of wineries in the dataset"
        }
       }
      }
     },
     "metadata": {},
     "output_type": "display_data"
    }
   ],
   "source": [
    "tt = df.winery.value_counts()\n",
    "tt = tt.where(tt.values > 250).dropna()\n",
    "tt\n",
    "\n",
    "px.pie(tt, values=tt.values, names=tt.index, title='Presence of wineries in the dataset')"
   ]
  },
  {
   "cell_type": "code",
   "execution_count": 11,
   "metadata": {},
   "outputs": [
    {
     "data": {
      "application/vnd.plotly.v1+json": {
       "config": {
        "plotlyServerURL": "https://plot.ly"
       },
       "data": [
        {
         "alignmentgroup": "True",
         "hovertemplate": "variable=category<br>value=%{x}<br>index=%{y}<extra></extra>",
         "legendgroup": "category",
         "marker": {
          "color": "#636efa",
          "pattern": {
           "shape": ""
          }
         },
         "name": "category",
         "offsetgroup": "category",
         "orientation": "h",
         "showlegend": true,
         "textposition": "auto",
         "type": "bar",
         "x": [
          226,
          2257,
          4329,
          11667,
          14938,
          95424,
          194396
         ],
         "xaxis": "x",
         "y": [
          "Fortified",
          "Port/Sherry",
          "Dessert",
          "Rose",
          "Sparkling",
          "White",
          "Red"
         ],
         "yaxis": "y"
        }
       ],
       "layout": {
        "barmode": "relative",
        "legend": {
         "title": {
          "text": "variable"
         },
         "tracegroupgap": 0
        },
        "margin": {
         "t": 60
        },
        "template": {
         "data": {
          "bar": [
           {
            "error_x": {
             "color": "#2a3f5f"
            },
            "error_y": {
             "color": "#2a3f5f"
            },
            "marker": {
             "line": {
              "color": "#E5ECF6",
              "width": 0.5
             },
             "pattern": {
              "fillmode": "overlay",
              "size": 10,
              "solidity": 0.2
             }
            },
            "type": "bar"
           }
          ],
          "barpolar": [
           {
            "marker": {
             "line": {
              "color": "#E5ECF6",
              "width": 0.5
             },
             "pattern": {
              "fillmode": "overlay",
              "size": 10,
              "solidity": 0.2
             }
            },
            "type": "barpolar"
           }
          ],
          "carpet": [
           {
            "aaxis": {
             "endlinecolor": "#2a3f5f",
             "gridcolor": "white",
             "linecolor": "white",
             "minorgridcolor": "white",
             "startlinecolor": "#2a3f5f"
            },
            "baxis": {
             "endlinecolor": "#2a3f5f",
             "gridcolor": "white",
             "linecolor": "white",
             "minorgridcolor": "white",
             "startlinecolor": "#2a3f5f"
            },
            "type": "carpet"
           }
          ],
          "choropleth": [
           {
            "colorbar": {
             "outlinewidth": 0,
             "ticks": ""
            },
            "type": "choropleth"
           }
          ],
          "contour": [
           {
            "colorbar": {
             "outlinewidth": 0,
             "ticks": ""
            },
            "colorscale": [
             [
              0,
              "#0d0887"
             ],
             [
              0.1111111111111111,
              "#46039f"
             ],
             [
              0.2222222222222222,
              "#7201a8"
             ],
             [
              0.3333333333333333,
              "#9c179e"
             ],
             [
              0.4444444444444444,
              "#bd3786"
             ],
             [
              0.5555555555555556,
              "#d8576b"
             ],
             [
              0.6666666666666666,
              "#ed7953"
             ],
             [
              0.7777777777777778,
              "#fb9f3a"
             ],
             [
              0.8888888888888888,
              "#fdca26"
             ],
             [
              1,
              "#f0f921"
             ]
            ],
            "type": "contour"
           }
          ],
          "contourcarpet": [
           {
            "colorbar": {
             "outlinewidth": 0,
             "ticks": ""
            },
            "type": "contourcarpet"
           }
          ],
          "heatmap": [
           {
            "colorbar": {
             "outlinewidth": 0,
             "ticks": ""
            },
            "colorscale": [
             [
              0,
              "#0d0887"
             ],
             [
              0.1111111111111111,
              "#46039f"
             ],
             [
              0.2222222222222222,
              "#7201a8"
             ],
             [
              0.3333333333333333,
              "#9c179e"
             ],
             [
              0.4444444444444444,
              "#bd3786"
             ],
             [
              0.5555555555555556,
              "#d8576b"
             ],
             [
              0.6666666666666666,
              "#ed7953"
             ],
             [
              0.7777777777777778,
              "#fb9f3a"
             ],
             [
              0.8888888888888888,
              "#fdca26"
             ],
             [
              1,
              "#f0f921"
             ]
            ],
            "type": "heatmap"
           }
          ],
          "heatmapgl": [
           {
            "colorbar": {
             "outlinewidth": 0,
             "ticks": ""
            },
            "colorscale": [
             [
              0,
              "#0d0887"
             ],
             [
              0.1111111111111111,
              "#46039f"
             ],
             [
              0.2222222222222222,
              "#7201a8"
             ],
             [
              0.3333333333333333,
              "#9c179e"
             ],
             [
              0.4444444444444444,
              "#bd3786"
             ],
             [
              0.5555555555555556,
              "#d8576b"
             ],
             [
              0.6666666666666666,
              "#ed7953"
             ],
             [
              0.7777777777777778,
              "#fb9f3a"
             ],
             [
              0.8888888888888888,
              "#fdca26"
             ],
             [
              1,
              "#f0f921"
             ]
            ],
            "type": "heatmapgl"
           }
          ],
          "histogram": [
           {
            "marker": {
             "pattern": {
              "fillmode": "overlay",
              "size": 10,
              "solidity": 0.2
             }
            },
            "type": "histogram"
           }
          ],
          "histogram2d": [
           {
            "colorbar": {
             "outlinewidth": 0,
             "ticks": ""
            },
            "colorscale": [
             [
              0,
              "#0d0887"
             ],
             [
              0.1111111111111111,
              "#46039f"
             ],
             [
              0.2222222222222222,
              "#7201a8"
             ],
             [
              0.3333333333333333,
              "#9c179e"
             ],
             [
              0.4444444444444444,
              "#bd3786"
             ],
             [
              0.5555555555555556,
              "#d8576b"
             ],
             [
              0.6666666666666666,
              "#ed7953"
             ],
             [
              0.7777777777777778,
              "#fb9f3a"
             ],
             [
              0.8888888888888888,
              "#fdca26"
             ],
             [
              1,
              "#f0f921"
             ]
            ],
            "type": "histogram2d"
           }
          ],
          "histogram2dcontour": [
           {
            "colorbar": {
             "outlinewidth": 0,
             "ticks": ""
            },
            "colorscale": [
             [
              0,
              "#0d0887"
             ],
             [
              0.1111111111111111,
              "#46039f"
             ],
             [
              0.2222222222222222,
              "#7201a8"
             ],
             [
              0.3333333333333333,
              "#9c179e"
             ],
             [
              0.4444444444444444,
              "#bd3786"
             ],
             [
              0.5555555555555556,
              "#d8576b"
             ],
             [
              0.6666666666666666,
              "#ed7953"
             ],
             [
              0.7777777777777778,
              "#fb9f3a"
             ],
             [
              0.8888888888888888,
              "#fdca26"
             ],
             [
              1,
              "#f0f921"
             ]
            ],
            "type": "histogram2dcontour"
           }
          ],
          "mesh3d": [
           {
            "colorbar": {
             "outlinewidth": 0,
             "ticks": ""
            },
            "type": "mesh3d"
           }
          ],
          "parcoords": [
           {
            "line": {
             "colorbar": {
              "outlinewidth": 0,
              "ticks": ""
             }
            },
            "type": "parcoords"
           }
          ],
          "pie": [
           {
            "automargin": true,
            "type": "pie"
           }
          ],
          "scatter": [
           {
            "marker": {
             "colorbar": {
              "outlinewidth": 0,
              "ticks": ""
             }
            },
            "type": "scatter"
           }
          ],
          "scatter3d": [
           {
            "line": {
             "colorbar": {
              "outlinewidth": 0,
              "ticks": ""
             }
            },
            "marker": {
             "colorbar": {
              "outlinewidth": 0,
              "ticks": ""
             }
            },
            "type": "scatter3d"
           }
          ],
          "scattercarpet": [
           {
            "marker": {
             "colorbar": {
              "outlinewidth": 0,
              "ticks": ""
             }
            },
            "type": "scattercarpet"
           }
          ],
          "scattergeo": [
           {
            "marker": {
             "colorbar": {
              "outlinewidth": 0,
              "ticks": ""
             }
            },
            "type": "scattergeo"
           }
          ],
          "scattergl": [
           {
            "marker": {
             "colorbar": {
              "outlinewidth": 0,
              "ticks": ""
             }
            },
            "type": "scattergl"
           }
          ],
          "scattermapbox": [
           {
            "marker": {
             "colorbar": {
              "outlinewidth": 0,
              "ticks": ""
             }
            },
            "type": "scattermapbox"
           }
          ],
          "scatterpolar": [
           {
            "marker": {
             "colorbar": {
              "outlinewidth": 0,
              "ticks": ""
             }
            },
            "type": "scatterpolar"
           }
          ],
          "scatterpolargl": [
           {
            "marker": {
             "colorbar": {
              "outlinewidth": 0,
              "ticks": ""
             }
            },
            "type": "scatterpolargl"
           }
          ],
          "scatterternary": [
           {
            "marker": {
             "colorbar": {
              "outlinewidth": 0,
              "ticks": ""
             }
            },
            "type": "scatterternary"
           }
          ],
          "surface": [
           {
            "colorbar": {
             "outlinewidth": 0,
             "ticks": ""
            },
            "colorscale": [
             [
              0,
              "#0d0887"
             ],
             [
              0.1111111111111111,
              "#46039f"
             ],
             [
              0.2222222222222222,
              "#7201a8"
             ],
             [
              0.3333333333333333,
              "#9c179e"
             ],
             [
              0.4444444444444444,
              "#bd3786"
             ],
             [
              0.5555555555555556,
              "#d8576b"
             ],
             [
              0.6666666666666666,
              "#ed7953"
             ],
             [
              0.7777777777777778,
              "#fb9f3a"
             ],
             [
              0.8888888888888888,
              "#fdca26"
             ],
             [
              1,
              "#f0f921"
             ]
            ],
            "type": "surface"
           }
          ],
          "table": [
           {
            "cells": {
             "fill": {
              "color": "#EBF0F8"
             },
             "line": {
              "color": "white"
             }
            },
            "header": {
             "fill": {
              "color": "#C8D4E3"
             },
             "line": {
              "color": "white"
             }
            },
            "type": "table"
           }
          ]
         },
         "layout": {
          "annotationdefaults": {
           "arrowcolor": "#2a3f5f",
           "arrowhead": 0,
           "arrowwidth": 1
          },
          "autotypenumbers": "strict",
          "coloraxis": {
           "colorbar": {
            "outlinewidth": 0,
            "ticks": ""
           }
          },
          "colorscale": {
           "diverging": [
            [
             0,
             "#8e0152"
            ],
            [
             0.1,
             "#c51b7d"
            ],
            [
             0.2,
             "#de77ae"
            ],
            [
             0.3,
             "#f1b6da"
            ],
            [
             0.4,
             "#fde0ef"
            ],
            [
             0.5,
             "#f7f7f7"
            ],
            [
             0.6,
             "#e6f5d0"
            ],
            [
             0.7,
             "#b8e186"
            ],
            [
             0.8,
             "#7fbc41"
            ],
            [
             0.9,
             "#4d9221"
            ],
            [
             1,
             "#276419"
            ]
           ],
           "sequential": [
            [
             0,
             "#0d0887"
            ],
            [
             0.1111111111111111,
             "#46039f"
            ],
            [
             0.2222222222222222,
             "#7201a8"
            ],
            [
             0.3333333333333333,
             "#9c179e"
            ],
            [
             0.4444444444444444,
             "#bd3786"
            ],
            [
             0.5555555555555556,
             "#d8576b"
            ],
            [
             0.6666666666666666,
             "#ed7953"
            ],
            [
             0.7777777777777778,
             "#fb9f3a"
            ],
            [
             0.8888888888888888,
             "#fdca26"
            ],
            [
             1,
             "#f0f921"
            ]
           ],
           "sequentialminus": [
            [
             0,
             "#0d0887"
            ],
            [
             0.1111111111111111,
             "#46039f"
            ],
            [
             0.2222222222222222,
             "#7201a8"
            ],
            [
             0.3333333333333333,
             "#9c179e"
            ],
            [
             0.4444444444444444,
             "#bd3786"
            ],
            [
             0.5555555555555556,
             "#d8576b"
            ],
            [
             0.6666666666666666,
             "#ed7953"
            ],
            [
             0.7777777777777778,
             "#fb9f3a"
            ],
            [
             0.8888888888888888,
             "#fdca26"
            ],
            [
             1,
             "#f0f921"
            ]
           ]
          },
          "colorway": [
           "#636efa",
           "#EF553B",
           "#00cc96",
           "#ab63fa",
           "#FFA15A",
           "#19d3f3",
           "#FF6692",
           "#B6E880",
           "#FF97FF",
           "#FECB52"
          ],
          "font": {
           "color": "#2a3f5f"
          },
          "geo": {
           "bgcolor": "white",
           "lakecolor": "white",
           "landcolor": "#E5ECF6",
           "showlakes": true,
           "showland": true,
           "subunitcolor": "white"
          },
          "hoverlabel": {
           "align": "left"
          },
          "hovermode": "closest",
          "mapbox": {
           "style": "light"
          },
          "paper_bgcolor": "white",
          "plot_bgcolor": "#E5ECF6",
          "polar": {
           "angularaxis": {
            "gridcolor": "white",
            "linecolor": "white",
            "ticks": ""
           },
           "bgcolor": "#E5ECF6",
           "radialaxis": {
            "gridcolor": "white",
            "linecolor": "white",
            "ticks": ""
           }
          },
          "scene": {
           "xaxis": {
            "backgroundcolor": "#E5ECF6",
            "gridcolor": "white",
            "gridwidth": 2,
            "linecolor": "white",
            "showbackground": true,
            "ticks": "",
            "zerolinecolor": "white"
           },
           "yaxis": {
            "backgroundcolor": "#E5ECF6",
            "gridcolor": "white",
            "gridwidth": 2,
            "linecolor": "white",
            "showbackground": true,
            "ticks": "",
            "zerolinecolor": "white"
           },
           "zaxis": {
            "backgroundcolor": "#E5ECF6",
            "gridcolor": "white",
            "gridwidth": 2,
            "linecolor": "white",
            "showbackground": true,
            "ticks": "",
            "zerolinecolor": "white"
           }
          },
          "shapedefaults": {
           "line": {
            "color": "#2a3f5f"
           }
          },
          "ternary": {
           "aaxis": {
            "gridcolor": "white",
            "linecolor": "white",
            "ticks": ""
           },
           "baxis": {
            "gridcolor": "white",
            "linecolor": "white",
            "ticks": ""
           },
           "bgcolor": "#E5ECF6",
           "caxis": {
            "gridcolor": "white",
            "linecolor": "white",
            "ticks": ""
           }
          },
          "title": {
           "x": 0.05
          },
          "xaxis": {
           "automargin": true,
           "gridcolor": "white",
           "linecolor": "white",
           "ticks": "",
           "title": {
            "standoff": 15
           },
           "zerolinecolor": "white",
           "zerolinewidth": 2
          },
          "yaxis": {
           "automargin": true,
           "gridcolor": "white",
           "linecolor": "white",
           "ticks": "",
           "title": {
            "standoff": 15
           },
           "zerolinecolor": "white",
           "zerolinewidth": 2
          }
         }
        },
        "xaxis": {
         "anchor": "y",
         "domain": [
          0,
          1
         ],
         "title": {
          "text": "value"
         }
        },
        "yaxis": {
         "anchor": "x",
         "domain": [
          0,
          1
         ],
         "title": {
          "text": "index"
         }
        }
       }
      }
     },
     "metadata": {},
     "output_type": "display_data"
    }
   ],
   "source": [
    "px.bar(df.category.value_counts()[::-1], orientation='h')"
   ]
  },
  {
   "cell_type": "code",
   "execution_count": 12,
   "metadata": {},
   "outputs": [],
   "source": [
    "winery_price = df[(df.price >= 14) & (df.price <= 42)][['winery', 'price']].dropna()\n",
    "wine_price = df[(df.price >= 14) & (df.price <= 42)][['wine', 'price']].dropna()"
   ]
  },
  {
   "cell_type": "code",
   "execution_count": 13,
   "metadata": {},
   "outputs": [
    {
     "data": {
      "application/vnd.plotly.v1+json": {
       "config": {
        "plotlyServerURL": "https://plot.ly"
       },
       "data": [
        {
         "hovertemplate": "variable=price<br>winery=%{x}<br>value=%{y}<extra></extra>",
         "legendgroup": "price",
         "line": {
          "color": "#636efa",
          "dash": "solid"
         },
         "marker": {
          "symbol": "circle"
         },
         "mode": "lines",
         "name": "price",
         "orientation": "v",
         "showlegend": true,
         "type": "scatter",
         "x": [
          "1+1=3",
          "10 Knots",
          "10,000 Hours",
          "100 Percent Wine",
          "1000 Stories",
          "1040FU",
          "1070 Green",
          "10Span",
          "12 Linajes",
          "13 Celsius",
          "13 Stripes",
          "13th & Third",
          "14 Hands",
          "16X20",
          "1752 Signature Wines",
          "181",
          "1848 Winery",
          "1849 Wine Company",
          "1850",
          "1853 Old Vine Estate",
          "1924",
          "1956",
          "2 Lads",
          "2 Plank",
          "2 Up",
          "22 Hundred",
          "24 Knots",
          "240 Days",
          "25 Days",
          "2820 Wine Co.",
          "29 & Oak Wines",
          "2Hawk",
          "2Plank",
          "2nd Chance",
          "3 Badge Beverage",
          "3 Ball",
          "3 Finger",
          "3 Hills High",
          "3 Horse Ranch Vineyards",
          "3 Rings",
          "3 Spells",
          "3 Steves Winery",
          "3 Stones",
          "3 Trees",
          "30 Degrees",
          "32 Winds",
          "337 Wine Cellars",
          "39°",
          "3CV",
          "3Fools",
          "3rd Generation",
          "4 Bears",
          "4 Cellars",
          "4 Gatos Locos",
          "401K",
          "428 Wines",
          "42°S",
          "484",
          "5 Points Cellars",
          "5 Wine Co.",
          "50 Harvests",
          "51 Weeks",
          "5OS Project",
          "5th and Bowie",
          "6 North",
          "6 Under",
          "60 Souls",
          "680 Cellars",
          "689 Cellars",
          "6cepas6",
          "6th Sense",
          "7 Cellars",
          "7 Deadly",
          "7 Heavenly Chards",
          "75 Wine Co.",
          "786 Wines",
          "8 Chains North",
          "868 Estate",
          "9 Mile Road",
          ":Nota Bene",
          "A Blooming Hill Vineyard",
          "A By Acacia",
          "A Cellar Full of Noise",
          "A Coroa",
          "A Donkey and Goat",
          "A Fuga",
          "A Mano",
          "A Telleira",
          "A Tribute to Grace",
          "A to Z",
          "A&D Wines",
          "A. Babatzim",
          "A. Christmann",
          "A. D. Coutelas",
          "A. Faustini",
          "A. Parparoussis",
          "A. Rafanelli",
          "A. Torano",
          "A. Toraño",
          "A. de Luze et Fils",
          "A.A. Badenhorst Family Wines",
          "A.J. de Margerie",
          "A.S. Kiken",
          "A.T. Richardson",
          "A16",
          "A2O",
          "AAA",
          "AJA Vineyards",
          "AJB Vineyards",
          "Aaron",
          "Abacela",
          "Abad",
          "Abad Dom Bueno",
          "Abadia Retuerta",
          "Abadia de Poblet",
          "Abadía da Cova",
          "Abadía de Acón",
          "Abadía de Tortoreos",
          "Abadía la Arroyada",
          "Abandon",
          "Abarbanel",
          "Abbadia Ardenga",
          "Abbaye De Tholomies",
          "Abbaye Sylva Plana",
          "Abbaye de Saint-Ferme",
          "Abbazia",
          "Abbazia Monte Oliveto",
          "Abbazia Santa Anastasia",
          "Abbazia di Novacella",
          "Abbey Creek",
          "Abbey Road Farm",
          "Abbey Vale",
          "Abbey of Saint-Hilaire",
          "Abbeyville",
          "Abbot's Passage",
          "Abbotts",
          "Abbotts Delaunay",
          "Abegoria",
          "Abeja",
          "Abel Mendoza",
          "Abelis Carthago",
          "Abendus",
          "Aberrant Cellars",
          "Abigail Adams",
          "Abiouness",
          "Abiqua Wind",
          "Abraxas",
          "Abrigo Fratelli",
          "Absolution",
          "Abundance Vineyards",
          "Acacia",
          "Acadine",
          "Accadia",
          "Accordini Igino",
          "Acentor",
          "Achaia Cellars",
          "Achaia Clauss",
          "Achaval-Ferrer",
          "Acinum",
          "Ackerly Pond",
          "Ackerman",
          "Aconcagua",
          "Acorex",
          "Acorn",
          "Acquiesce",
          "Acre",
          "Acre Twenty-one",
          "Acri Wine Company",
          "Acrobat",
          "Acronym",
          "Acumen",
          "Acústic",
          "Ad Lib",
          "Ad Lucem",
          "Ada Nada",
          "Adair Bachman",
          "Adalia",
          "Adamant Cellars",
          "Adami",
          "Adams Bench",
          "Adams Brothers",
          "Adanti",
          "Adastra",
          "Addamo",
          "Adea",
          "Adega Algueira",
          "Adega Cachín",
          "Adega Cooperativa de Borba",
          "Adega Cooperativa de Vila Nova de Tazem",
          "Adega Cooperativa do Cartaxo",
          "Adega Martínez Serantes",
          "Adega Mayor",
          "Adega Mãe",
          "Adega Northwest",
          "Adega Ponte da Barca",
          "Adega Vila Real",
          "Adega Viuva Gomes",
          "Adega de Borba",
          "Adega de Cantanhede",
          "Adega de Favaios",
          "Adega de Monção",
          "Adega de Penalva",
          "Adega do Monte Branco",
          "Adega dos Eidos",
          "Adegas D'Altamira",
          "Adegas Galegas",
          "Adegas Gran Vinum",
          "Adegas Moure",
          "Adegas Terra Santa",
          "Adegas Tollodouro",
          "Adelaida",
          "Adelina",
          "Adelseck",
          "Adelsheim",
          "Aderezo",
          "Adirondack Winery",
          "Adler Fels",
          "Adobe Creek",
          "Adobe Road",
          "Adolf & Heinrich Fuchs",
          "Adorato",
          "Adrian Mathier",
          "Adriano Marco & Vittorio",
          "Adrice",
          "Adroît",
          "Adrás",
          "Adzic",
          "Aequorea",
          "Aerena",
          "Aeris",
          "Aether Wine Company",
          "Afton Mountain",
          "Agate Ridge",
          "Agathe Bursin",
          "Agharta",
          "Agnanum",
          "Agness",
          "Agnusdei",
          "Agnès Pegaz",
          "Ago",
          "Agostina Pieri",
          "Agostino Bosco",
          "Agostino Pavia & Figli",
          "Agostino Vicentini",
          "Agrapart & Fils",
          "Agribergidvm",
          "Agricola Alchemysta",
          "Agricola Bellaria",
          "Agricola Castellana",
          "Agricola Falset-Marca",
          "Agricola Pace",
          "Agricola Punica",
          "Agricola Querciabella",
          "Agricola Sulin",
          "Agricola Tamburini",
          "Agricole Vallone",
          "Agricoltori del Chianti Geografico",
          "Agricosimo",
          "Agrina",
          "Agrinatura",
          "Agrisole",
          "Agriverde",
          "Agro de Bazán",
          "Agrolaguna",
          "Agros",
          "Agrícola Labastida",
          "Agua Dulce",
          "Aguijón De Abeja",
          "Aguirre",
          "Aguma",
          "Agustinos",
          "Agustí Torelló",
          "Agustí Torelló Mata",
          "Ahlgren",
          "Ahnfeldt",
          "Aia Vecchia",
          "Aidura",
          "Aigner",
          "Aila",
          "Aimery",
          "Aimé Boucher",
          "Aimé Guthmann",
          "Aimé Roquesante",
          "Aiola",
          "Airfield Estates",
          "Airlie",
          "Airlie Bank",
          "Aisna",
          "Aix Monterey",
          "Akarua",
          "Akash",
          "Al",
          "Al Zagal",
          "Al-Cantàra",
          "Alabanza",
          "Alagna",
          "Alain Brumont",
          "Alain Geoffroy",
          "Alain Girard et Fils",
          "Alain Graillot",
          "Alain Gras",
          "Alain Jaume et Fils",
          "Alain Lorieux",
          "Alain Paret",
          "Alain Voge",
          "Alain de la Treille",
          "Alambrado",
          "Alamos",
          "Alan de Val",
          "Alana Estate",
          "Alapay",
          "Alara",
          "Alasia",
          "Alaverdi",
          "Alaverdi Monastery Cellar",
          "Alba",
          "Albada",
          "Alban",
          "Alban Roblin",
          "Albatreti",
          "Albatross Ridge",
          "Albemarle",
          "Albeno Munari",
          "Alberice",
          "Albert Bichot",
          "Albert Lebrun",
          "Albert Morot",
          "Albert Pic",
          "Alberti 154",
          "Albertina",
          "Alberto Furque",
          "Alberto Loi",
          "Alberto Longo",
          "Alberto Nani",
          "Alberto Orte",
          "Albet I Noya",
          "Albino Armani",
          "Albino Piona",
          "Albino Rocca",
          "Alcance",
          "Alcardet",
          "Alces Gallus",
          "Alceño",
          "Alchemist",
          "Alchemy Wine Productions",
          "Aldegheri",
          "Alder Fels",
          "Alder Ridge",
          "Alder Springs",
          "Alderbrook",
          "Aldinga Bay",
          "Aldo Clerico",
          "Aldo Conterno",
          "Aldo Polencic",
          "Aldonia",
          "Alegra",
          "Alente",
          "Aleo",
          "Alepa",
          "Aleph",
          "Alessandro Berselli",
          "Alessandro Rivetto",
          "Alessandro Speri",
          "Alessandro Tofanari",
          "Alessandro di Camporeale",
          "Alessandrojacopo Boncompagni Ludovisi",
          "Alessio Komjanc",
          "Alex Gambal",
          "Alex Sotelo Cellars",
          "Alexakis",
          "Alexana",
          "Alexander",
          "Alexander Valley Vineyards",
          "Alexandra Wine Company",
          "Alexandre Burgaud",
          "Alexandre Monmousseau",
          "Alexandria Nicole",
          "Alexandros Megapanos",
          "Alexia",
          "Alfaro Family",
          "Alfasi",
          "Alfonso Boeri",
          "Alfred Graf",
          "Alfred Merkelbach",
          "Alfredo Roca",
          "Algairen",
          "Algodon",
          "Alheit",
          "Alhona",
          "Alidis",
          "Alienor",
          "Aliento Del Sol",
          "Aljibes",
          "Alki",
          "Alkoomi",
          "All Saints",
          "Allan Hancock",
          "Allan Scott",
          "Allandale",
          "Allegiance",
          "Allegorie",
          "Allegretto",
          "Allegrini",
          "Alleme",
          "Alleromb",
          "Allesverloren",
          "Alliance Loire",
          "Alliata",
          "Allimant-Laugner",
          "Allison",
          "Alloro",
          "Allram",
          "Allure",
          "Alluviale",
          "Allée Bleue",
          "Alma 4",
          "Alma Andina",
          "Alma Fria",
          "Alma Negra",
          "Alma Rosa",
          "Alma Sol",
          "Alma das Donas",
          "Alma de Cattleya",
          "Alma de los Andes",
          "Alma del Sur",
          "AlmaTerra",
          "Almacruz",
          "Almarada",
          "Almquist",
          "Alois",
          "Alois Lageder",
          "Aloja",
          "Alonso Cuesta",
          "Alonso López",
          "Alonso del Yerro",
          "Aloria",
          "Alouette",
          "Alpamanta",
          "Alpasión",
          "Alpataco",
          "Alpha Box & Dice",
          "Alpha Crucis",
          "Alpha Domus",
          "Alpha Estate",
          "Alpha Loire",
          "Alpha Omega",
          "Alphart",
          "Alphonse Mellot",
          "Alpine Roots",
          "Alt Wines",
          "Alta",
          "Alta Alella",
          "Alta Cima",
          "Alta Colina",
          "Alta Luna",
          "Alta Maria",
          "Alta Pavina",
          "Alta Vista",
          "Altadonna",
          "Altamana",
          "Altamira",
          "Altamura",
          "Altanuta",
          "Altanza",
          "Altas Quintas",
          "Altavia",
          "Altavins",
          "Altaïr",
          "Altemasi",
          "Alterra",
          "Altesino",
          "Althe'a",
          "Althéa",
          "Altico",
          "Altino",
          "Alto",
          "Alto 3",
          "Alto Agrelo",
          "Alto Cinco",
          "Alto Limay",
          "Alto Los Romeros",
          "Alto Moncayo",
          "Alto de la Ballena",
          "Altocedro",
          "Altolandon",
          "Altos De Rioja",
          "Altos Las Hormigas",
          "Altos Nevados",
          "Altos de Cristimil",
          "Altos de Medrano",
          "Altos de San Isidro",
          "Altos de Sueño",
          "Altos de Tamaron",
          "Altos de Torona",
          "Altos de Valdoso",
          "Altos del Marqués",
          "Alturis",
          "Altvs",
          "Aluvé",
          "Alvarez de Toledo",
          "Alvaro Castro",
          "Alvaro Palacios",
          "Alvear",
          "Alves de Sousa",
          "Alvides",
          "Alvinte",
          "Alyris",
          "Alysian",
          "Alzania",
          "Além",
          "Am Turm",
          "Amadio",
          "Amador Cellars",
          "Amador Diez",
          "Amador Foothill Winery",
          "Amadores",
          "Amalagos",
          "Amalaya",
          "Amalia",
          "Amalie Robert",
          "Amalthea Cellars",
          "Amalur",
          "Amani",
          "Amantis",
          "Amapola Creek",
          "Amaral",
          "Amarano",
          "Amaren",
          "Amaro Vineyard",
          "Amarose",
          "Amaru",
          "Amastuola",
          "Amavi",
          "Amayna",
          "Ambassador Vineyard",
          "Ambeloui",
          "Amberley",
          "Ambo Secco",
          "Ambrogio e Giovanni Folonari",
          "Ambrose",
          "Ambrosini Lorella",
          "Amelle",
          "American House Wine",
          "American Roots",
          "American Thread",
          "Americana",
          "Americano",
          "Amethyst",
          "Amici",
          "Amicus by X Winery",
          "Aminea",
          "Amiral",
          "Amiran Vepkhvadze",
          "Amisfield",
          "Amista",
          "Amity",
          "Amity Vineyards",
          "Amizade",
          "Amizetta",
          "Ammunition",
          "Amoise",
          "Amor Fati",
          "Amor de los Andes",
          "Amor-Bendall",
          "Amorotti",
          "Amos Cellars",
          "Ampelon",
          "Ampelos",
          "Amphora",
          "Amusant",
          "Amézola",
          "Ana",
          "Ana Rola",
          "Anaba",
          "Anakena",
          "Analemma",
          "Anam Cara",
          "Anapamu",
          "Anarchist Wine Co.",
          "Anarkos",
          "Anastasia Fragou",
          "Anatomy",
          "Anaya",
          "Ancestrale",
          "Ancestry",
          "Anchor Valley",
          "Anciano",
          "Ancien",
          "Ancient Cellars",
          "Ancient Oak Cellars",
          "Ancient Peaks",
          "Ancilla",
          "Andean",
          "Andean Sky",
          "Andeluna",
          "Anderson Conn Valley",
          "Andes Grapes",
          "Andes Plateau",
          "Andis",
          "Andre Lorentz"
         ],
         "xaxis": "x",
         "y": [
          17.857142857142858,
          25.09090909090909,
          35,
          18,
          18.666666666666668,
          25,
          25,
          15,
          24,
          15,
          16,
          42,
          25.846153846153847,
          35,
          21,
          15,
          26.555555555555557,
          31.666666666666668,
          26.466666666666665,
          21,
          15,
          24,
          23,
          29,
          14.4,
          15,
          17,
          29.4,
          19,
          28,
          35,
          28.764705882352942,
          32.07692307692308,
          26.666666666666668,
          30,
          15,
          15,
          19.6,
          22.69047619047619,
          22.444444444444443,
          26,
          28.285714285714285,
          14.333333333333334,
          15,
          32,
          39,
          14.666666666666666,
          14,
          18.571428571428573,
          22,
          24,
          15,
          22,
          42,
          15,
          34,
          18.2,
          35,
          33,
          17,
          35,
          28,
          25,
          25,
          29,
          23,
          24,
          27,
          24.166666666666668,
          21,
          16.666666666666668,
          21.666666666666668,
          15.666666666666666,
          17,
          18.6,
          14,
          28,
          24.5,
          14.875,
          30.738317757009344,
          22.705882352941178,
          15,
          18,
          26.666666666666668,
          31.22222222222222,
          15,
          19,
          19,
          31.75,
          16.18918918918919,
          16.666666666666668,
          22,
          29.76923076923077,
          35,
          30,
          27.2,
          26,
          30,
          30.666666666666668,
          15,
          24.555555555555557,
          35,
          36.25,
          21.333333333333332,
          26,
          22,
          30,
          33.75,
          21,
          32,
          24.25,
          15,
          23.153846153846153,
          24.714285714285715,
          30,
          22.666666666666668,
          22,
          19,
          23,
          23.666666666666668,
          18.615384615384617,
          33,
          17,
          29,
          25,
          17.5,
          16.25,
          25.782608695652176,
          24.26923076923077,
          26,
          34.333333333333336,
          14.666666666666666,
          18.666666666666668,
          15.333333333333334,
          35,
          27.7,
          21.333333333333332,
          26,
          35.285714285714285,
          33,
          26,
          14,
          31.428571428571427,
          25,
          37.5,
          18.181818181818183,
          23,
          27.666666666666668,
          37.6,
          16.5,
          27.57894736842105,
          14,
          20,
          31.333333333333332,
          15,
          15,
          20,
          28.454545454545453,
          16.6,
          21,
          20,
          15.666666666666666,
          17.75,
          28.68,
          24.6,
          24.555555555555557,
          15,
          37.5,
          17,
          19,
          30,
          28.333333333333332,
          17,
          36.333333333333336,
          40,
          35,
          21.25,
          32.8,
          20.022727272727273,
          38.9,
          28,
          31.2,
          30.8,
          30.5,
          29.6,
          18,
          20.5,
          20.076923076923077,
          18,
          15.045454545454545,
          18,
          24.25,
          18.102040816326532,
          32.5,
          16.25,
          16.666666666666668,
          31,
          16,
          24.266666666666666,
          33,
          21.8,
          28.5,
          24.5,
          24,
          21,
          22,
          24.08,
          26.666666666666668,
          18,
          25.333333333333332,
          30.91176470588235,
          40,
          15,
          25.137931034482758,
          15,
          18,
          18,
          14,
          33,
          17.25,
          29,
          29,
          33.80952380952381,
          36,
          27.5,
          19.142857142857142,
          20,
          36,
          23,
          17,
          36,
          28,
          23.045454545454547,
          32,
          33,
          20,
          17.5,
          17,
          18.4,
          31.875,
          24,
          30,
          21.333333333333332,
          22,
          29.5,
          17,
          20,
          23.866666666666667,
          16.666666666666668,
          23.25,
          19,
          27.625,
          25.5,
          18,
          16,
          17,
          21.27777777777778,
          18.75,
          15.5,
          21,
          37.666666666666664,
          32.666666666666664,
          23.25,
          17,
          17,
          18.25,
          40,
          22,
          15,
          32,
          18.375,
          23.714285714285715,
          27.944444444444443,
          30.333333333333332,
          24,
          26.8,
          22,
          20,
          16,
          18,
          16.6,
          15.333333333333334,
          14.333333333333334,
          26.8,
          22.184,
          21.423076923076923,
          22,
          35,
          15,
          35.25,
          36.25,
          28,
          15,
          24.615384615384617,
          30.25,
          19,
          23.7,
          34,
          28.333333333333332,
          20,
          22,
          22.338028169014084,
          26.666666666666668,
          15,
          26.11111111111111,
          15.333333333333334,
          16,
          18.375,
          17,
          29.6,
          20.2,
          33.3,
          23,
          15,
          25,
          19,
          14,
          29.2,
          22.666666666666668,
          33.333333333333336,
          40,
          18,
          19.6,
          22.5,
          26.822222222222223,
          40,
          40,
          33,
          15,
          25.333333333333332,
          15.5,
          25,
          21.294117647058822,
          18,
          31.6,
          18.761904761904763,
          19.5,
          19.5,
          35.2,
          27.6,
          34,
          14,
          16.5,
          27.615384615384617,
          23.5,
          22.785714285714285,
          20,
          32.63636363636363,
          35.375,
          24.894736842105264,
          19,
          30,
          33,
          38,
          23.4,
          20,
          16,
          16,
          35,
          25,
          25,
          25.666666666666668,
          22.5,
          18.25,
          23.192307692307693,
          30,
          15.333333333333334,
          31.785714285714285,
          28,
          16.333333333333332,
          32.75,
          30.3,
          21.152542372881356,
          30,
          23.666666666666668,
          23.2,
          26.55,
          28,
          19,
          31.25,
          15,
          21,
          15,
          20,
          18.916666666666668,
          19.5,
          25,
          15,
          32,
          24.2,
          36,
          27.666666666666668,
          21.176470588235293,
          20,
          20.266666666666666,
          32.666666666666664,
          15.8,
          18.833333333333332,
          16.75,
          36,
          32,
          36,
          23.88888888888889,
          21.333333333333332,
          40.285714285714285,
          22,
          16.157894736842106,
          30,
          18.97872340425532,
          18,
          34.4,
          27.59375,
          15,
          25,
          21.25,
          24,
          16,
          38.333333333333336,
          23.875,
          27.41304347826087,
          26.454545454545453,
          40,
          23.875,
          22.25,
          18,
          24.666666666666668,
          22,
          15,
          28.821428571428573,
          21.4,
          25.157894736842106,
          14,
          24,
          22.8,
          29.333333333333332,
          31,
          25,
          23.125,
          27.6,
          18.625,
          26,
          27.125,
          18.9,
          26.435897435897434,
          17,
          35.5,
          25,
          31.666666666666668,
          31.6,
          20,
          27.444444444444443,
          27.955223880597014,
          18.5,
          36.86666666666667,
          14,
          26.58823529411765,
          30,
          18.166666666666668,
          15,
          18.5,
          28.333333333333332,
          31.5,
          16.5,
          22,
          30,
          25,
          18.727272727272727,
          26.875,
          28.153846153846153,
          16.5,
          30.333333333333332,
          16,
          20,
          19,
          16,
          20,
          14,
          21,
          15,
          21,
          20.846153846153847,
          28.727272727272727,
          17.666666666666668,
          24.169811320754718,
          30,
          26.666666666666668,
          29.333333333333332,
          17,
          20,
          24,
          17.5,
          16,
          14,
          26.1,
          25,
          25,
          15,
          40,
          36,
          16.571428571428573,
          23,
          30.666666666666668,
          24.22222222222222,
          21,
          28.2,
          22,
          35,
          33.55555555555556,
          35,
          16,
          23.5,
          16,
          31.089285714285715,
          35,
          18.775,
          19,
          14,
          16.666666666666668,
          37.5,
          30.785714285714285,
          21.8,
          25,
          18,
          32.333333333333336,
          42,
          18.5,
          17,
          33,
          40,
          25,
          30,
          20.5,
          27.627450980392158,
          29.166666666666668,
          34.92,
          20,
          18.666666666666668,
          29.333333333333332,
          30.166666666666668,
          25,
          40,
          31.25,
          15,
          19.333333333333332,
          25,
          16,
          17,
          22.75,
          28.475,
          39.5,
          19,
          20,
          30,
          26.625,
          31.2,
          24.830188679245282,
          25.77777777777778,
          20,
          38,
          22.5,
          28.5,
          42,
          15,
          20,
          35,
          28,
          32.5,
          29.033898305084747,
          31.125,
          22.75,
          20,
          17,
          32,
          33.39344262295082,
          17.823529411764707,
          31.25,
          28.487179487179485,
          17.076923076923077,
          32.4,
          15,
          15,
          20,
          30,
          25,
          26.076923076923077,
          28.428571428571427,
          15,
          37.36842105263158,
          22.285714285714285,
          31.88235294117647,
          22.242857142857144,
          21.75,
          16,
          15,
          21.66,
          40,
          17.5,
          30,
          26.195876288659793,
          24.5
         ],
         "yaxis": "y"
        }
       ],
       "layout": {
        "legend": {
         "title": {
          "text": "variable"
         },
         "tracegroupgap": 0
        },
        "margin": {
         "t": 60
        },
        "template": {
         "data": {
          "bar": [
           {
            "error_x": {
             "color": "#2a3f5f"
            },
            "error_y": {
             "color": "#2a3f5f"
            },
            "marker": {
             "line": {
              "color": "#E5ECF6",
              "width": 0.5
             },
             "pattern": {
              "fillmode": "overlay",
              "size": 10,
              "solidity": 0.2
             }
            },
            "type": "bar"
           }
          ],
          "barpolar": [
           {
            "marker": {
             "line": {
              "color": "#E5ECF6",
              "width": 0.5
             },
             "pattern": {
              "fillmode": "overlay",
              "size": 10,
              "solidity": 0.2
             }
            },
            "type": "barpolar"
           }
          ],
          "carpet": [
           {
            "aaxis": {
             "endlinecolor": "#2a3f5f",
             "gridcolor": "white",
             "linecolor": "white",
             "minorgridcolor": "white",
             "startlinecolor": "#2a3f5f"
            },
            "baxis": {
             "endlinecolor": "#2a3f5f",
             "gridcolor": "white",
             "linecolor": "white",
             "minorgridcolor": "white",
             "startlinecolor": "#2a3f5f"
            },
            "type": "carpet"
           }
          ],
          "choropleth": [
           {
            "colorbar": {
             "outlinewidth": 0,
             "ticks": ""
            },
            "type": "choropleth"
           }
          ],
          "contour": [
           {
            "colorbar": {
             "outlinewidth": 0,
             "ticks": ""
            },
            "colorscale": [
             [
              0,
              "#0d0887"
             ],
             [
              0.1111111111111111,
              "#46039f"
             ],
             [
              0.2222222222222222,
              "#7201a8"
             ],
             [
              0.3333333333333333,
              "#9c179e"
             ],
             [
              0.4444444444444444,
              "#bd3786"
             ],
             [
              0.5555555555555556,
              "#d8576b"
             ],
             [
              0.6666666666666666,
              "#ed7953"
             ],
             [
              0.7777777777777778,
              "#fb9f3a"
             ],
             [
              0.8888888888888888,
              "#fdca26"
             ],
             [
              1,
              "#f0f921"
             ]
            ],
            "type": "contour"
           }
          ],
          "contourcarpet": [
           {
            "colorbar": {
             "outlinewidth": 0,
             "ticks": ""
            },
            "type": "contourcarpet"
           }
          ],
          "heatmap": [
           {
            "colorbar": {
             "outlinewidth": 0,
             "ticks": ""
            },
            "colorscale": [
             [
              0,
              "#0d0887"
             ],
             [
              0.1111111111111111,
              "#46039f"
             ],
             [
              0.2222222222222222,
              "#7201a8"
             ],
             [
              0.3333333333333333,
              "#9c179e"
             ],
             [
              0.4444444444444444,
              "#bd3786"
             ],
             [
              0.5555555555555556,
              "#d8576b"
             ],
             [
              0.6666666666666666,
              "#ed7953"
             ],
             [
              0.7777777777777778,
              "#fb9f3a"
             ],
             [
              0.8888888888888888,
              "#fdca26"
             ],
             [
              1,
              "#f0f921"
             ]
            ],
            "type": "heatmap"
           }
          ],
          "heatmapgl": [
           {
            "colorbar": {
             "outlinewidth": 0,
             "ticks": ""
            },
            "colorscale": [
             [
              0,
              "#0d0887"
             ],
             [
              0.1111111111111111,
              "#46039f"
             ],
             [
              0.2222222222222222,
              "#7201a8"
             ],
             [
              0.3333333333333333,
              "#9c179e"
             ],
             [
              0.4444444444444444,
              "#bd3786"
             ],
             [
              0.5555555555555556,
              "#d8576b"
             ],
             [
              0.6666666666666666,
              "#ed7953"
             ],
             [
              0.7777777777777778,
              "#fb9f3a"
             ],
             [
              0.8888888888888888,
              "#fdca26"
             ],
             [
              1,
              "#f0f921"
             ]
            ],
            "type": "heatmapgl"
           }
          ],
          "histogram": [
           {
            "marker": {
             "pattern": {
              "fillmode": "overlay",
              "size": 10,
              "solidity": 0.2
             }
            },
            "type": "histogram"
           }
          ],
          "histogram2d": [
           {
            "colorbar": {
             "outlinewidth": 0,
             "ticks": ""
            },
            "colorscale": [
             [
              0,
              "#0d0887"
             ],
             [
              0.1111111111111111,
              "#46039f"
             ],
             [
              0.2222222222222222,
              "#7201a8"
             ],
             [
              0.3333333333333333,
              "#9c179e"
             ],
             [
              0.4444444444444444,
              "#bd3786"
             ],
             [
              0.5555555555555556,
              "#d8576b"
             ],
             [
              0.6666666666666666,
              "#ed7953"
             ],
             [
              0.7777777777777778,
              "#fb9f3a"
             ],
             [
              0.8888888888888888,
              "#fdca26"
             ],
             [
              1,
              "#f0f921"
             ]
            ],
            "type": "histogram2d"
           }
          ],
          "histogram2dcontour": [
           {
            "colorbar": {
             "outlinewidth": 0,
             "ticks": ""
            },
            "colorscale": [
             [
              0,
              "#0d0887"
             ],
             [
              0.1111111111111111,
              "#46039f"
             ],
             [
              0.2222222222222222,
              "#7201a8"
             ],
             [
              0.3333333333333333,
              "#9c179e"
             ],
             [
              0.4444444444444444,
              "#bd3786"
             ],
             [
              0.5555555555555556,
              "#d8576b"
             ],
             [
              0.6666666666666666,
              "#ed7953"
             ],
             [
              0.7777777777777778,
              "#fb9f3a"
             ],
             [
              0.8888888888888888,
              "#fdca26"
             ],
             [
              1,
              "#f0f921"
             ]
            ],
            "type": "histogram2dcontour"
           }
          ],
          "mesh3d": [
           {
            "colorbar": {
             "outlinewidth": 0,
             "ticks": ""
            },
            "type": "mesh3d"
           }
          ],
          "parcoords": [
           {
            "line": {
             "colorbar": {
              "outlinewidth": 0,
              "ticks": ""
             }
            },
            "type": "parcoords"
           }
          ],
          "pie": [
           {
            "automargin": true,
            "type": "pie"
           }
          ],
          "scatter": [
           {
            "marker": {
             "colorbar": {
              "outlinewidth": 0,
              "ticks": ""
             }
            },
            "type": "scatter"
           }
          ],
          "scatter3d": [
           {
            "line": {
             "colorbar": {
              "outlinewidth": 0,
              "ticks": ""
             }
            },
            "marker": {
             "colorbar": {
              "outlinewidth": 0,
              "ticks": ""
             }
            },
            "type": "scatter3d"
           }
          ],
          "scattercarpet": [
           {
            "marker": {
             "colorbar": {
              "outlinewidth": 0,
              "ticks": ""
             }
            },
            "type": "scattercarpet"
           }
          ],
          "scattergeo": [
           {
            "marker": {
             "colorbar": {
              "outlinewidth": 0,
              "ticks": ""
             }
            },
            "type": "scattergeo"
           }
          ],
          "scattergl": [
           {
            "marker": {
             "colorbar": {
              "outlinewidth": 0,
              "ticks": ""
             }
            },
            "type": "scattergl"
           }
          ],
          "scattermapbox": [
           {
            "marker": {
             "colorbar": {
              "outlinewidth": 0,
              "ticks": ""
             }
            },
            "type": "scattermapbox"
           }
          ],
          "scatterpolar": [
           {
            "marker": {
             "colorbar": {
              "outlinewidth": 0,
              "ticks": ""
             }
            },
            "type": "scatterpolar"
           }
          ],
          "scatterpolargl": [
           {
            "marker": {
             "colorbar": {
              "outlinewidth": 0,
              "ticks": ""
             }
            },
            "type": "scatterpolargl"
           }
          ],
          "scatterternary": [
           {
            "marker": {
             "colorbar": {
              "outlinewidth": 0,
              "ticks": ""
             }
            },
            "type": "scatterternary"
           }
          ],
          "surface": [
           {
            "colorbar": {
             "outlinewidth": 0,
             "ticks": ""
            },
            "colorscale": [
             [
              0,
              "#0d0887"
             ],
             [
              0.1111111111111111,
              "#46039f"
             ],
             [
              0.2222222222222222,
              "#7201a8"
             ],
             [
              0.3333333333333333,
              "#9c179e"
             ],
             [
              0.4444444444444444,
              "#bd3786"
             ],
             [
              0.5555555555555556,
              "#d8576b"
             ],
             [
              0.6666666666666666,
              "#ed7953"
             ],
             [
              0.7777777777777778,
              "#fb9f3a"
             ],
             [
              0.8888888888888888,
              "#fdca26"
             ],
             [
              1,
              "#f0f921"
             ]
            ],
            "type": "surface"
           }
          ],
          "table": [
           {
            "cells": {
             "fill": {
              "color": "#EBF0F8"
             },
             "line": {
              "color": "white"
             }
            },
            "header": {
             "fill": {
              "color": "#C8D4E3"
             },
             "line": {
              "color": "white"
             }
            },
            "type": "table"
           }
          ]
         },
         "layout": {
          "annotationdefaults": {
           "arrowcolor": "#2a3f5f",
           "arrowhead": 0,
           "arrowwidth": 1
          },
          "autotypenumbers": "strict",
          "coloraxis": {
           "colorbar": {
            "outlinewidth": 0,
            "ticks": ""
           }
          },
          "colorscale": {
           "diverging": [
            [
             0,
             "#8e0152"
            ],
            [
             0.1,
             "#c51b7d"
            ],
            [
             0.2,
             "#de77ae"
            ],
            [
             0.3,
             "#f1b6da"
            ],
            [
             0.4,
             "#fde0ef"
            ],
            [
             0.5,
             "#f7f7f7"
            ],
            [
             0.6,
             "#e6f5d0"
            ],
            [
             0.7,
             "#b8e186"
            ],
            [
             0.8,
             "#7fbc41"
            ],
            [
             0.9,
             "#4d9221"
            ],
            [
             1,
             "#276419"
            ]
           ],
           "sequential": [
            [
             0,
             "#0d0887"
            ],
            [
             0.1111111111111111,
             "#46039f"
            ],
            [
             0.2222222222222222,
             "#7201a8"
            ],
            [
             0.3333333333333333,
             "#9c179e"
            ],
            [
             0.4444444444444444,
             "#bd3786"
            ],
            [
             0.5555555555555556,
             "#d8576b"
            ],
            [
             0.6666666666666666,
             "#ed7953"
            ],
            [
             0.7777777777777778,
             "#fb9f3a"
            ],
            [
             0.8888888888888888,
             "#fdca26"
            ],
            [
             1,
             "#f0f921"
            ]
           ],
           "sequentialminus": [
            [
             0,
             "#0d0887"
            ],
            [
             0.1111111111111111,
             "#46039f"
            ],
            [
             0.2222222222222222,
             "#7201a8"
            ],
            [
             0.3333333333333333,
             "#9c179e"
            ],
            [
             0.4444444444444444,
             "#bd3786"
            ],
            [
             0.5555555555555556,
             "#d8576b"
            ],
            [
             0.6666666666666666,
             "#ed7953"
            ],
            [
             0.7777777777777778,
             "#fb9f3a"
            ],
            [
             0.8888888888888888,
             "#fdca26"
            ],
            [
             1,
             "#f0f921"
            ]
           ]
          },
          "colorway": [
           "#636efa",
           "#EF553B",
           "#00cc96",
           "#ab63fa",
           "#FFA15A",
           "#19d3f3",
           "#FF6692",
           "#B6E880",
           "#FF97FF",
           "#FECB52"
          ],
          "font": {
           "color": "#2a3f5f"
          },
          "geo": {
           "bgcolor": "white",
           "lakecolor": "white",
           "landcolor": "#E5ECF6",
           "showlakes": true,
           "showland": true,
           "subunitcolor": "white"
          },
          "hoverlabel": {
           "align": "left"
          },
          "hovermode": "closest",
          "mapbox": {
           "style": "light"
          },
          "paper_bgcolor": "white",
          "plot_bgcolor": "#E5ECF6",
          "polar": {
           "angularaxis": {
            "gridcolor": "white",
            "linecolor": "white",
            "ticks": ""
           },
           "bgcolor": "#E5ECF6",
           "radialaxis": {
            "gridcolor": "white",
            "linecolor": "white",
            "ticks": ""
           }
          },
          "scene": {
           "xaxis": {
            "backgroundcolor": "#E5ECF6",
            "gridcolor": "white",
            "gridwidth": 2,
            "linecolor": "white",
            "showbackground": true,
            "ticks": "",
            "zerolinecolor": "white"
           },
           "yaxis": {
            "backgroundcolor": "#E5ECF6",
            "gridcolor": "white",
            "gridwidth": 2,
            "linecolor": "white",
            "showbackground": true,
            "ticks": "",
            "zerolinecolor": "white"
           },
           "zaxis": {
            "backgroundcolor": "#E5ECF6",
            "gridcolor": "white",
            "gridwidth": 2,
            "linecolor": "white",
            "showbackground": true,
            "ticks": "",
            "zerolinecolor": "white"
           }
          },
          "shapedefaults": {
           "line": {
            "color": "#2a3f5f"
           }
          },
          "ternary": {
           "aaxis": {
            "gridcolor": "white",
            "linecolor": "white",
            "ticks": ""
           },
           "baxis": {
            "gridcolor": "white",
            "linecolor": "white",
            "ticks": ""
           },
           "bgcolor": "#E5ECF6",
           "caxis": {
            "gridcolor": "white",
            "linecolor": "white",
            "ticks": ""
           }
          },
          "title": {
           "x": 0.05
          },
          "xaxis": {
           "automargin": true,
           "gridcolor": "white",
           "linecolor": "white",
           "ticks": "",
           "title": {
            "standoff": 15
           },
           "zerolinecolor": "white",
           "zerolinewidth": 2
          },
          "yaxis": {
           "automargin": true,
           "gridcolor": "white",
           "linecolor": "white",
           "ticks": "",
           "title": {
            "standoff": 15
           },
           "zerolinecolor": "white",
           "zerolinewidth": 2
          }
         }
        },
        "xaxis": {
         "anchor": "y",
         "domain": [
          0,
          1
         ],
         "title": {
          "text": "winery"
         }
        },
        "yaxis": {
         "anchor": "x",
         "domain": [
          0,
          1
         ],
         "title": {
          "text": "value"
         }
        }
       }
      }
     },
     "metadata": {},
     "output_type": "display_data"
    }
   ],
   "source": [
    "wnry_agg = winery_price.groupby('winery').agg({'price' : 'mean'})\n",
    "px.line(wnry_agg[1:601])"
   ]
  },
  {
   "cell_type": "code",
   "execution_count": 11,
   "metadata": {},
   "outputs": [
    {
     "data": {
      "application/vnd.plotly.v1+json": {
       "config": {
        "plotlyServerURL": "https://plot.ly"
       },
       "data": [
        {
         "hovertemplate": "category=Red<br>index=%{x}<br>price=%{y}<extra></extra>",
         "legendgroup": "Red",
         "marker": {
          "color": "#636efa",
          "symbol": "circle"
         },
         "mode": "markers",
         "name": "Red",
         "orientation": "v",
         "showlegend": true,
         "type": "scatter",
         "x": [
          386,
          1818,
          2003,
          2774,
          4624,
          4677,
          5208,
          5316,
          6014,
          7211,
          9303,
          11051,
          12111,
          13881,
          14193,
          14522,
          19915,
          21130,
          25627,
          28142,
          29653,
          30136,
          32308,
          32912,
          35968,
          36600,
          37002,
          37388,
          40659,
          42102,
          42520,
          42533,
          42614,
          42667,
          48184,
          49085,
          49168,
          49417,
          49673,
          51616,
          52318,
          53469,
          55139,
          55361,
          57864,
          58631,
          58708,
          58781,
          60233,
          61383,
          63236,
          63440,
          64129,
          64356,
          64815,
          64847,
          67437,
          67485,
          68624,
          69361,
          69496,
          69702,
          69896,
          71343,
          71462,
          71972,
          74876,
          76989,
          77281,
          79538,
          79891,
          80044,
          80469,
          82353,
          82537,
          84267,
          84545,
          84882,
          87188,
          87518,
          90340,
          91268,
          93932,
          94715,
          95500,
          100760,
          102275,
          103294,
          104158,
          109589,
          111200,
          118459,
          120622,
          123232,
          123886,
          124055,
          124098,
          126592,
          128305,
          129120,
          130382,
          130659,
          132924,
          134035,
          134875,
          135304,
          138339,
          139821,
          140843,
          141831,
          142519,
          142973,
          143819,
          144780,
          145772,
          147468,
          147574,
          147762,
          148722,
          148861,
          149271,
          153335,
          153450,
          153975,
          158841,
          162038,
          162705,
          164091,
          164341,
          164582,
          165299,
          166576,
          168396,
          169037,
          169192,
          169599,
          169955,
          170467,
          172711,
          173264,
          177019,
          179364,
          179693,
          179963,
          180542,
          181089,
          181297,
          182832,
          187123,
          188152,
          188519,
          189679,
          189725,
          190489,
          194092,
          194224,
          197941,
          199232,
          199343,
          201837,
          205747,
          206362,
          206560,
          207108,
          207529,
          207987,
          208084,
          208329,
          209609,
          209713,
          209965,
          211407,
          212159,
          212858,
          213251,
          214636,
          217630,
          218452,
          218587,
          229071,
          229937,
          229991,
          232499,
          235883,
          239441,
          240202,
          242305,
          242642,
          242686,
          243774,
          244183,
          244229,
          245319,
          246133,
          247354,
          249334,
          249845,
          251074,
          251253,
          253401,
          254998,
          255196,
          258201,
          259802,
          260372,
          260462,
          260925,
          262114,
          263132,
          264106,
          265727,
          266291,
          266983,
          267568,
          267861,
          268300,
          269569,
          271659,
          271772,
          271840,
          272489,
          273452,
          273540,
          273777,
          274282,
          275004,
          276679,
          281673,
          281882,
          282267,
          284275,
          286882,
          288393,
          288744,
          289980,
          290322,
          292111,
          292169,
          293806,
          298250,
          298658,
          300114,
          300446,
          301041,
          301413,
          305212,
          306190,
          306279,
          310413,
          310757,
          312263,
          315677,
          316466,
          319213,
          320648,
          320744
         ],
         "xaxis": "x",
         "y": [
          12,
          45,
          38,
          120,
          120,
          100,
          50,
          17,
          17,
          40,
          95,
          60,
          17,
          24,
          75,
          95,
          50,
          30,
          30,
          18,
          10,
          null,
          60,
          17,
          15,
          null,
          40,
          25,
          42,
          null,
          40,
          16,
          30,
          16,
          12,
          25,
          null,
          20,
          18,
          null,
          null,
          100,
          14,
          15,
          null,
          24,
          22,
          25,
          55,
          50,
          17,
          30,
          70,
          26,
          17,
          16,
          17,
          40,
          17,
          14,
          12,
          17,
          35,
          32,
          12,
          40,
          16,
          null,
          null,
          60,
          null,
          35,
          80,
          17,
          65,
          null,
          30,
          null,
          null,
          35,
          17,
          20,
          17,
          28,
          35,
          null,
          35,
          null,
          35,
          19,
          35,
          20,
          125,
          null,
          120,
          9,
          13,
          null,
          12,
          null,
          35,
          70,
          10,
          null,
          12,
          20,
          23,
          95,
          30,
          17,
          null,
          35,
          33,
          20,
          49,
          74,
          12,
          55,
          65,
          17,
          20,
          14,
          null,
          35,
          50,
          17,
          17,
          19,
          25,
          20,
          null,
          100,
          18,
          9,
          75,
          null,
          38,
          14,
          49,
          40,
          30,
          14,
          28,
          9,
          null,
          17,
          20,
          14,
          null,
          28,
          70,
          26,
          70,
          45,
          14,
          35,
          24,
          17,
          70,
          48,
          17,
          null,
          26,
          41,
          24,
          40,
          12,
          9,
          9,
          12,
          26,
          40,
          40,
          28,
          18,
          null,
          28,
          17,
          70,
          28,
          16,
          25,
          12,
          26,
          28,
          null,
          70,
          55,
          28,
          35,
          45,
          null,
          10,
          26,
          40,
          32,
          22,
          null,
          17,
          28,
          null,
          17,
          18,
          17,
          30,
          17,
          26,
          24,
          55,
          null,
          17,
          null,
          12,
          null,
          35,
          26,
          15,
          14,
          14,
          55,
          null,
          null,
          17,
          17,
          26,
          75,
          20,
          null,
          28,
          110,
          100,
          18,
          17,
          38,
          null,
          null,
          18,
          14,
          50,
          17,
          null,
          60,
          45,
          null,
          35,
          120,
          45,
          null,
          24,
          20,
          null,
          18,
          26,
          14,
          12,
          40
         ],
         "yaxis": "y"
        },
        {
         "hovertemplate": "category=White<br>index=%{x}<br>price=%{y}<extra></extra>",
         "legendgroup": "White",
         "marker": {
          "color": "#EF553B",
          "symbol": "circle"
         },
         "mode": "markers",
         "name": "White",
         "orientation": "v",
         "showlegend": true,
         "type": "scatter",
         "x": [
          1336,
          6414,
          8205,
          10711,
          15292,
          17310,
          18612,
          22795,
          26456,
          27050,
          27405,
          28486,
          29251,
          30560,
          33340,
          34946,
          39379,
          40999,
          43792,
          44328,
          45315,
          46712,
          48728,
          50395,
          51160,
          52419,
          55435,
          55712,
          60071,
          61989,
          66939,
          70353,
          70617,
          72860,
          80407,
          86316,
          86838,
          88034,
          90800,
          91008,
          94531,
          95135,
          97577,
          98951,
          101491,
          102636,
          102800,
          109984,
          110380,
          112274,
          112586,
          117536,
          121688,
          122192,
          125753,
          126064,
          127711,
          129559,
          140542,
          143074,
          143291,
          145460,
          147109,
          151389,
          156455,
          158646,
          163170,
          163635,
          166372,
          167334,
          167381,
          167396,
          168514,
          169402,
          173024,
          175126,
          177758,
          181020,
          184683,
          185946,
          185987,
          189227,
          193281,
          196638,
          200861,
          201836,
          205520,
          205552,
          205866,
          205934,
          206068,
          212988,
          218573,
          219169,
          228299,
          231185,
          232537,
          234241,
          234651,
          238623,
          239336,
          242291,
          242579,
          246933,
          247457,
          247787,
          249261,
          249451,
          251530,
          251738,
          257976,
          258453,
          258511,
          261664,
          262575,
          262730,
          264623,
          268920,
          269189,
          270349,
          273396,
          280067,
          280372,
          281174,
          285688,
          287207,
          288765,
          288816,
          289990,
          295223,
          296501,
          297275,
          298520,
          299871,
          301927,
          301953,
          302890,
          302983,
          303780,
          304644,
          307276,
          307583,
          310533,
          310903,
          314534,
          317064,
          322672
         ],
         "xaxis": "x",
         "y": [
          null,
          null,
          null,
          null,
          13,
          11,
          null,
          null,
          null,
          null,
          25,
          14,
          17,
          null,
          null,
          17,
          null,
          null,
          25,
          null,
          null,
          null,
          null,
          null,
          22,
          35,
          9,
          null,
          13,
          30,
          10,
          17,
          null,
          null,
          null,
          17,
          15,
          null,
          20,
          null,
          15,
          12,
          null,
          null,
          null,
          null,
          30,
          null,
          20,
          null,
          15,
          null,
          null,
          null,
          20,
          null,
          null,
          null,
          15,
          11,
          null,
          null,
          15,
          25,
          null,
          15,
          15,
          null,
          10,
          null,
          null,
          null,
          null,
          null,
          12,
          21,
          null,
          null,
          null,
          null,
          10,
          25,
          null,
          null,
          13,
          30,
          15,
          null,
          null,
          12,
          null,
          null,
          17,
          null,
          null,
          null,
          10,
          null,
          30,
          null,
          null,
          null,
          null,
          null,
          null,
          10,
          null,
          null,
          null,
          null,
          30,
          null,
          17,
          null,
          17,
          null,
          null,
          null,
          60,
          null,
          20,
          null,
          15,
          17,
          null,
          15,
          null,
          30,
          null,
          11,
          null,
          null,
          13,
          null,
          9,
          13,
          null,
          null,
          13,
          13,
          11,
          null,
          null,
          21,
          16,
          null,
          null
         ],
         "yaxis": "y"
        },
        {
         "hovertemplate": "category=Dessert<br>index=%{x}<br>price=%{y}<extra></extra>",
         "legendgroup": "Dessert",
         "marker": {
          "color": "#00cc96",
          "symbol": "circle"
         },
         "mode": "markers",
         "name": "Dessert",
         "orientation": "v",
         "showlegend": true,
         "type": "scatter",
         "x": [
          15596,
          248066
         ],
         "xaxis": "x",
         "y": [
          25,
          20
         ],
         "yaxis": "y"
        },
        {
         "hovertemplate": "category=Rose<br>index=%{x}<br>price=%{y}<extra></extra>",
         "legendgroup": "Rose",
         "marker": {
          "color": "#ab63fa",
          "symbol": "circle"
         },
         "mode": "markers",
         "name": "Rose",
         "orientation": "v",
         "showlegend": true,
         "type": "scatter",
         "x": [
          18875,
          128626,
          132627,
          173300,
          177687,
          183128,
          243707,
          306171
         ],
         "xaxis": "x",
         "y": [
          30,
          17,
          17,
          17,
          17,
          18,
          18,
          17
         ],
         "yaxis": "y"
        }
       ],
       "layout": {
        "legend": {
         "title": {
          "text": "category"
         },
         "tracegroupgap": 0
        },
        "template": {
         "data": {
          "bar": [
           {
            "error_x": {
             "color": "#2a3f5f"
            },
            "error_y": {
             "color": "#2a3f5f"
            },
            "marker": {
             "line": {
              "color": "#E5ECF6",
              "width": 0.5
             }
            },
            "type": "bar"
           }
          ],
          "barpolar": [
           {
            "marker": {
             "line": {
              "color": "#E5ECF6",
              "width": 0.5
             }
            },
            "type": "barpolar"
           }
          ],
          "carpet": [
           {
            "aaxis": {
             "endlinecolor": "#2a3f5f",
             "gridcolor": "white",
             "linecolor": "white",
             "minorgridcolor": "white",
             "startlinecolor": "#2a3f5f"
            },
            "baxis": {
             "endlinecolor": "#2a3f5f",
             "gridcolor": "white",
             "linecolor": "white",
             "minorgridcolor": "white",
             "startlinecolor": "#2a3f5f"
            },
            "type": "carpet"
           }
          ],
          "choropleth": [
           {
            "colorbar": {
             "outlinewidth": 0,
             "ticks": ""
            },
            "type": "choropleth"
           }
          ],
          "contour": [
           {
            "colorbar": {
             "outlinewidth": 0,
             "ticks": ""
            },
            "colorscale": [
             [
              0,
              "#0d0887"
             ],
             [
              0.1111111111111111,
              "#46039f"
             ],
             [
              0.2222222222222222,
              "#7201a8"
             ],
             [
              0.3333333333333333,
              "#9c179e"
             ],
             [
              0.4444444444444444,
              "#bd3786"
             ],
             [
              0.5555555555555556,
              "#d8576b"
             ],
             [
              0.6666666666666666,
              "#ed7953"
             ],
             [
              0.7777777777777778,
              "#fb9f3a"
             ],
             [
              0.8888888888888888,
              "#fdca26"
             ],
             [
              1,
              "#f0f921"
             ]
            ],
            "type": "contour"
           }
          ],
          "contourcarpet": [
           {
            "colorbar": {
             "outlinewidth": 0,
             "ticks": ""
            },
            "type": "contourcarpet"
           }
          ],
          "heatmap": [
           {
            "colorbar": {
             "outlinewidth": 0,
             "ticks": ""
            },
            "colorscale": [
             [
              0,
              "#0d0887"
             ],
             [
              0.1111111111111111,
              "#46039f"
             ],
             [
              0.2222222222222222,
              "#7201a8"
             ],
             [
              0.3333333333333333,
              "#9c179e"
             ],
             [
              0.4444444444444444,
              "#bd3786"
             ],
             [
              0.5555555555555556,
              "#d8576b"
             ],
             [
              0.6666666666666666,
              "#ed7953"
             ],
             [
              0.7777777777777778,
              "#fb9f3a"
             ],
             [
              0.8888888888888888,
              "#fdca26"
             ],
             [
              1,
              "#f0f921"
             ]
            ],
            "type": "heatmap"
           }
          ],
          "heatmapgl": [
           {
            "colorbar": {
             "outlinewidth": 0,
             "ticks": ""
            },
            "colorscale": [
             [
              0,
              "#0d0887"
             ],
             [
              0.1111111111111111,
              "#46039f"
             ],
             [
              0.2222222222222222,
              "#7201a8"
             ],
             [
              0.3333333333333333,
              "#9c179e"
             ],
             [
              0.4444444444444444,
              "#bd3786"
             ],
             [
              0.5555555555555556,
              "#d8576b"
             ],
             [
              0.6666666666666666,
              "#ed7953"
             ],
             [
              0.7777777777777778,
              "#fb9f3a"
             ],
             [
              0.8888888888888888,
              "#fdca26"
             ],
             [
              1,
              "#f0f921"
             ]
            ],
            "type": "heatmapgl"
           }
          ],
          "histogram": [
           {
            "marker": {
             "colorbar": {
              "outlinewidth": 0,
              "ticks": ""
             }
            },
            "type": "histogram"
           }
          ],
          "histogram2d": [
           {
            "colorbar": {
             "outlinewidth": 0,
             "ticks": ""
            },
            "colorscale": [
             [
              0,
              "#0d0887"
             ],
             [
              0.1111111111111111,
              "#46039f"
             ],
             [
              0.2222222222222222,
              "#7201a8"
             ],
             [
              0.3333333333333333,
              "#9c179e"
             ],
             [
              0.4444444444444444,
              "#bd3786"
             ],
             [
              0.5555555555555556,
              "#d8576b"
             ],
             [
              0.6666666666666666,
              "#ed7953"
             ],
             [
              0.7777777777777778,
              "#fb9f3a"
             ],
             [
              0.8888888888888888,
              "#fdca26"
             ],
             [
              1,
              "#f0f921"
             ]
            ],
            "type": "histogram2d"
           }
          ],
          "histogram2dcontour": [
           {
            "colorbar": {
             "outlinewidth": 0,
             "ticks": ""
            },
            "colorscale": [
             [
              0,
              "#0d0887"
             ],
             [
              0.1111111111111111,
              "#46039f"
             ],
             [
              0.2222222222222222,
              "#7201a8"
             ],
             [
              0.3333333333333333,
              "#9c179e"
             ],
             [
              0.4444444444444444,
              "#bd3786"
             ],
             [
              0.5555555555555556,
              "#d8576b"
             ],
             [
              0.6666666666666666,
              "#ed7953"
             ],
             [
              0.7777777777777778,
              "#fb9f3a"
             ],
             [
              0.8888888888888888,
              "#fdca26"
             ],
             [
              1,
              "#f0f921"
             ]
            ],
            "type": "histogram2dcontour"
           }
          ],
          "mesh3d": [
           {
            "colorbar": {
             "outlinewidth": 0,
             "ticks": ""
            },
            "type": "mesh3d"
           }
          ],
          "parcoords": [
           {
            "line": {
             "colorbar": {
              "outlinewidth": 0,
              "ticks": ""
             }
            },
            "type": "parcoords"
           }
          ],
          "pie": [
           {
            "automargin": true,
            "type": "pie"
           }
          ],
          "scatter": [
           {
            "marker": {
             "colorbar": {
              "outlinewidth": 0,
              "ticks": ""
             }
            },
            "type": "scatter"
           }
          ],
          "scatter3d": [
           {
            "line": {
             "colorbar": {
              "outlinewidth": 0,
              "ticks": ""
             }
            },
            "marker": {
             "colorbar": {
              "outlinewidth": 0,
              "ticks": ""
             }
            },
            "type": "scatter3d"
           }
          ],
          "scattercarpet": [
           {
            "marker": {
             "colorbar": {
              "outlinewidth": 0,
              "ticks": ""
             }
            },
            "type": "scattercarpet"
           }
          ],
          "scattergeo": [
           {
            "marker": {
             "colorbar": {
              "outlinewidth": 0,
              "ticks": ""
             }
            },
            "type": "scattergeo"
           }
          ],
          "scattergl": [
           {
            "marker": {
             "colorbar": {
              "outlinewidth": 0,
              "ticks": ""
             }
            },
            "type": "scattergl"
           }
          ],
          "scattermapbox": [
           {
            "marker": {
             "colorbar": {
              "outlinewidth": 0,
              "ticks": ""
             }
            },
            "type": "scattermapbox"
           }
          ],
          "scatterpolar": [
           {
            "marker": {
             "colorbar": {
              "outlinewidth": 0,
              "ticks": ""
             }
            },
            "type": "scatterpolar"
           }
          ],
          "scatterpolargl": [
           {
            "marker": {
             "colorbar": {
              "outlinewidth": 0,
              "ticks": ""
             }
            },
            "type": "scatterpolargl"
           }
          ],
          "scatterternary": [
           {
            "marker": {
             "colorbar": {
              "outlinewidth": 0,
              "ticks": ""
             }
            },
            "type": "scatterternary"
           }
          ],
          "surface": [
           {
            "colorbar": {
             "outlinewidth": 0,
             "ticks": ""
            },
            "colorscale": [
             [
              0,
              "#0d0887"
             ],
             [
              0.1111111111111111,
              "#46039f"
             ],
             [
              0.2222222222222222,
              "#7201a8"
             ],
             [
              0.3333333333333333,
              "#9c179e"
             ],
             [
              0.4444444444444444,
              "#bd3786"
             ],
             [
              0.5555555555555556,
              "#d8576b"
             ],
             [
              0.6666666666666666,
              "#ed7953"
             ],
             [
              0.7777777777777778,
              "#fb9f3a"
             ],
             [
              0.8888888888888888,
              "#fdca26"
             ],
             [
              1,
              "#f0f921"
             ]
            ],
            "type": "surface"
           }
          ],
          "table": [
           {
            "cells": {
             "fill": {
              "color": "#EBF0F8"
             },
             "line": {
              "color": "white"
             }
            },
            "header": {
             "fill": {
              "color": "#C8D4E3"
             },
             "line": {
              "color": "white"
             }
            },
            "type": "table"
           }
          ]
         },
         "layout": {
          "annotationdefaults": {
           "arrowcolor": "#2a3f5f",
           "arrowhead": 0,
           "arrowwidth": 1
          },
          "autotypenumbers": "strict",
          "coloraxis": {
           "colorbar": {
            "outlinewidth": 0,
            "ticks": ""
           }
          },
          "colorscale": {
           "diverging": [
            [
             0,
             "#8e0152"
            ],
            [
             0.1,
             "#c51b7d"
            ],
            [
             0.2,
             "#de77ae"
            ],
            [
             0.3,
             "#f1b6da"
            ],
            [
             0.4,
             "#fde0ef"
            ],
            [
             0.5,
             "#f7f7f7"
            ],
            [
             0.6,
             "#e6f5d0"
            ],
            [
             0.7,
             "#b8e186"
            ],
            [
             0.8,
             "#7fbc41"
            ],
            [
             0.9,
             "#4d9221"
            ],
            [
             1,
             "#276419"
            ]
           ],
           "sequential": [
            [
             0,
             "#0d0887"
            ],
            [
             0.1111111111111111,
             "#46039f"
            ],
            [
             0.2222222222222222,
             "#7201a8"
            ],
            [
             0.3333333333333333,
             "#9c179e"
            ],
            [
             0.4444444444444444,
             "#bd3786"
            ],
            [
             0.5555555555555556,
             "#d8576b"
            ],
            [
             0.6666666666666666,
             "#ed7953"
            ],
            [
             0.7777777777777778,
             "#fb9f3a"
            ],
            [
             0.8888888888888888,
             "#fdca26"
            ],
            [
             1,
             "#f0f921"
            ]
           ],
           "sequentialminus": [
            [
             0,
             "#0d0887"
            ],
            [
             0.1111111111111111,
             "#46039f"
            ],
            [
             0.2222222222222222,
             "#7201a8"
            ],
            [
             0.3333333333333333,
             "#9c179e"
            ],
            [
             0.4444444444444444,
             "#bd3786"
            ],
            [
             0.5555555555555556,
             "#d8576b"
            ],
            [
             0.6666666666666666,
             "#ed7953"
            ],
            [
             0.7777777777777778,
             "#fb9f3a"
            ],
            [
             0.8888888888888888,
             "#fdca26"
            ],
            [
             1,
             "#f0f921"
            ]
           ]
          },
          "colorway": [
           "#636efa",
           "#EF553B",
           "#00cc96",
           "#ab63fa",
           "#FFA15A",
           "#19d3f3",
           "#FF6692",
           "#B6E880",
           "#FF97FF",
           "#FECB52"
          ],
          "font": {
           "color": "#2a3f5f"
          },
          "geo": {
           "bgcolor": "white",
           "lakecolor": "white",
           "landcolor": "#E5ECF6",
           "showlakes": true,
           "showland": true,
           "subunitcolor": "white"
          },
          "hoverlabel": {
           "align": "left"
          },
          "hovermode": "closest",
          "mapbox": {
           "style": "light"
          },
          "paper_bgcolor": "white",
          "plot_bgcolor": "#E5ECF6",
          "polar": {
           "angularaxis": {
            "gridcolor": "white",
            "linecolor": "white",
            "ticks": ""
           },
           "bgcolor": "#E5ECF6",
           "radialaxis": {
            "gridcolor": "white",
            "linecolor": "white",
            "ticks": ""
           }
          },
          "scene": {
           "xaxis": {
            "backgroundcolor": "#E5ECF6",
            "gridcolor": "white",
            "gridwidth": 2,
            "linecolor": "white",
            "showbackground": true,
            "ticks": "",
            "zerolinecolor": "white"
           },
           "yaxis": {
            "backgroundcolor": "#E5ECF6",
            "gridcolor": "white",
            "gridwidth": 2,
            "linecolor": "white",
            "showbackground": true,
            "ticks": "",
            "zerolinecolor": "white"
           },
           "zaxis": {
            "backgroundcolor": "#E5ECF6",
            "gridcolor": "white",
            "gridwidth": 2,
            "linecolor": "white",
            "showbackground": true,
            "ticks": "",
            "zerolinecolor": "white"
           }
          },
          "shapedefaults": {
           "line": {
            "color": "#2a3f5f"
           }
          },
          "ternary": {
           "aaxis": {
            "gridcolor": "white",
            "linecolor": "white",
            "ticks": ""
           },
           "baxis": {
            "gridcolor": "white",
            "linecolor": "white",
            "ticks": ""
           },
           "bgcolor": "#E5ECF6",
           "caxis": {
            "gridcolor": "white",
            "linecolor": "white",
            "ticks": ""
           }
          },
          "title": {
           "x": 0.05
          },
          "xaxis": {
           "automargin": true,
           "gridcolor": "white",
           "linecolor": "white",
           "ticks": "",
           "title": {
            "standoff": 15
           },
           "zerolinecolor": "white",
           "zerolinewidth": 2
          },
          "yaxis": {
           "automargin": true,
           "gridcolor": "white",
           "linecolor": "white",
           "ticks": "",
           "title": {
            "standoff": 15
           },
           "zerolinecolor": "white",
           "zerolinewidth": 2
          }
         }
        },
        "title": {
         "text": "Plot for winery : Kendall-Jackson"
        },
        "xaxis": {
         "anchor": "y",
         "domain": [
          0,
          1
         ],
         "title": {
          "text": "index"
         }
        },
        "yaxis": {
         "anchor": "x",
         "domain": [
          0,
          1
         ],
         "title": {
          "text": "price"
         }
        }
       }
      }
     },
     "metadata": {},
     "output_type": "display_data"
    }
   ],
   "source": [
    "winery = input()\n",
    "tt = df[df.winery == winery]\n",
    "tt.category.astype('category')\n",
    "px.scatter(tt,y='price' ,color='category', title=f'Plot for winery : {winery}')"
   ]
  },
  {
   "cell_type": "code",
   "execution_count": 15,
   "metadata": {},
   "outputs": [
    {
     "data": {
      "application/vnd.plotly.v1+json": {
       "config": {
        "plotlyServerURL": "https://plot.ly"
       },
       "data": [
        {
         "hovertemplate": "designation=Mètode Tradicional Brut<br>index=%{x}<br>price=%{y}<extra></extra>",
         "legendgroup": "Mètode Tradicional Brut",
         "line": {
          "color": "#636efa",
          "dash": "solid"
         },
         "mode": "lines",
         "name": "Mètode Tradicional Brut",
         "orientation": "v",
         "showlegend": true,
         "type": "scatter",
         "x": [
          2860
         ],
         "xaxis": "x",
         "y": [
          null
         ],
         "yaxis": "y"
        },
        {
         "hovertemplate": "designation=Brut<br>index=%{x}<br>price=%{y}<extra></extra>",
         "legendgroup": "Brut",
         "line": {
          "color": "#EF553B",
          "dash": "solid"
         },
         "mode": "lines",
         "name": "Brut",
         "orientation": "v",
         "showlegend": true,
         "type": "scatter",
         "x": [
          6117,
          18511,
          81018,
          184935,
          256558,
          266915,
          320828
         ],
         "xaxis": "x",
         "y": [
          16,
          13,
          16,
          13,
          13,
          16,
          16
         ],
         "yaxis": "y"
        },
        {
         "hovertemplate": "designation=Mètode Tradicional Brut Rosé<br>index=%{x}<br>price=%{y}<extra></extra>",
         "legendgroup": "Mètode Tradicional Brut Rosé",
         "line": {
          "color": "#00cc96",
          "dash": "solid"
         },
         "mode": "lines",
         "name": "Mètode Tradicional Brut Rosé",
         "orientation": "v",
         "showlegend": true,
         "type": "scatter",
         "x": [
          32119
         ],
         "xaxis": "x",
         "y": [
          20
         ],
         "yaxis": "y"
        },
        {
         "hovertemplate": "designation=Rosé<br>index=%{x}<br>price=%{y}<extra></extra>",
         "legendgroup": "Rosé",
         "line": {
          "color": "#ab63fa",
          "dash": "solid"
         },
         "mode": "lines",
         "name": "Rosé",
         "orientation": "v",
         "showlegend": true,
         "type": "scatter",
         "x": [
          67987,
          126787,
          154037
         ],
         "xaxis": "x",
         "y": [
          20,
          16,
          18
         ],
         "yaxis": "y"
        },
        {
         "hovertemplate": "designation=Cygnus Brut Made With Organic Grapes<br>index=%{x}<br>price=%{y}<extra></extra>",
         "legendgroup": "Cygnus Brut Made With Organic Grapes",
         "line": {
          "color": "#FFA15A",
          "dash": "solid"
         },
         "mode": "lines",
         "name": "Cygnus Brut Made With Organic Grapes",
         "orientation": "v",
         "showlegend": true,
         "type": "scatter",
         "x": [
          109436,
          313295
         ],
         "xaxis": "x",
         "y": [
          18,
          18
         ],
         "yaxis": "y"
        },
        {
         "hovertemplate": "designation=Cygnus Brut Nature Reserva Made With Organic Grapes<br>index=%{x}<br>price=%{y}<extra></extra>",
         "legendgroup": "Cygnus Brut Nature Reserva Made With Organic Grapes",
         "line": {
          "color": "#19d3f3",
          "dash": "solid"
         },
         "mode": "lines",
         "name": "Cygnus Brut Nature Reserva Made With Organic Grapes",
         "orientation": "v",
         "showlegend": true,
         "type": "scatter",
         "x": [
          117520,
          155697
         ],
         "xaxis": "x",
         "y": [
          20,
          20
         ],
         "yaxis": "y"
        },
        {
         "hovertemplate": "designation=Cabernet Sauvignon<br>index=%{x}<br>price=%{y}<extra></extra>",
         "legendgroup": "Cabernet Sauvignon",
         "line": {
          "color": "#FF6692",
          "dash": "solid"
         },
         "mode": "lines",
         "name": "Cabernet Sauvignon",
         "orientation": "v",
         "showlegend": true,
         "type": "scatter",
         "x": [
          149460
         ],
         "xaxis": "x",
         "y": [
          18
         ],
         "yaxis": "y"
        },
        {
         "hovertemplate": "designation=Brut Mètode Tradicional<br>index=%{x}<br>price=%{y}<extra></extra>",
         "legendgroup": "Brut Mètode Tradicional",
         "line": {
          "color": "#B6E880",
          "dash": "solid"
         },
         "mode": "lines",
         "name": "Brut Mètode Tradicional",
         "orientation": "v",
         "showlegend": true,
         "type": "scatter",
         "x": [
          273533
         ],
         "xaxis": "x",
         "y": [
          18
         ],
         "yaxis": "y"
        }
       ],
       "layout": {
        "legend": {
         "title": {
          "text": "designation"
         },
         "tracegroupgap": 0
        },
        "template": {
         "data": {
          "bar": [
           {
            "error_x": {
             "color": "#2a3f5f"
            },
            "error_y": {
             "color": "#2a3f5f"
            },
            "marker": {
             "line": {
              "color": "#E5ECF6",
              "width": 0.5
             }
            },
            "type": "bar"
           }
          ],
          "barpolar": [
           {
            "marker": {
             "line": {
              "color": "#E5ECF6",
              "width": 0.5
             }
            },
            "type": "barpolar"
           }
          ],
          "carpet": [
           {
            "aaxis": {
             "endlinecolor": "#2a3f5f",
             "gridcolor": "white",
             "linecolor": "white",
             "minorgridcolor": "white",
             "startlinecolor": "#2a3f5f"
            },
            "baxis": {
             "endlinecolor": "#2a3f5f",
             "gridcolor": "white",
             "linecolor": "white",
             "minorgridcolor": "white",
             "startlinecolor": "#2a3f5f"
            },
            "type": "carpet"
           }
          ],
          "choropleth": [
           {
            "colorbar": {
             "outlinewidth": 0,
             "ticks": ""
            },
            "type": "choropleth"
           }
          ],
          "contour": [
           {
            "colorbar": {
             "outlinewidth": 0,
             "ticks": ""
            },
            "colorscale": [
             [
              0,
              "#0d0887"
             ],
             [
              0.1111111111111111,
              "#46039f"
             ],
             [
              0.2222222222222222,
              "#7201a8"
             ],
             [
              0.3333333333333333,
              "#9c179e"
             ],
             [
              0.4444444444444444,
              "#bd3786"
             ],
             [
              0.5555555555555556,
              "#d8576b"
             ],
             [
              0.6666666666666666,
              "#ed7953"
             ],
             [
              0.7777777777777778,
              "#fb9f3a"
             ],
             [
              0.8888888888888888,
              "#fdca26"
             ],
             [
              1,
              "#f0f921"
             ]
            ],
            "type": "contour"
           }
          ],
          "contourcarpet": [
           {
            "colorbar": {
             "outlinewidth": 0,
             "ticks": ""
            },
            "type": "contourcarpet"
           }
          ],
          "heatmap": [
           {
            "colorbar": {
             "outlinewidth": 0,
             "ticks": ""
            },
            "colorscale": [
             [
              0,
              "#0d0887"
             ],
             [
              0.1111111111111111,
              "#46039f"
             ],
             [
              0.2222222222222222,
              "#7201a8"
             ],
             [
              0.3333333333333333,
              "#9c179e"
             ],
             [
              0.4444444444444444,
              "#bd3786"
             ],
             [
              0.5555555555555556,
              "#d8576b"
             ],
             [
              0.6666666666666666,
              "#ed7953"
             ],
             [
              0.7777777777777778,
              "#fb9f3a"
             ],
             [
              0.8888888888888888,
              "#fdca26"
             ],
             [
              1,
              "#f0f921"
             ]
            ],
            "type": "heatmap"
           }
          ],
          "heatmapgl": [
           {
            "colorbar": {
             "outlinewidth": 0,
             "ticks": ""
            },
            "colorscale": [
             [
              0,
              "#0d0887"
             ],
             [
              0.1111111111111111,
              "#46039f"
             ],
             [
              0.2222222222222222,
              "#7201a8"
             ],
             [
              0.3333333333333333,
              "#9c179e"
             ],
             [
              0.4444444444444444,
              "#bd3786"
             ],
             [
              0.5555555555555556,
              "#d8576b"
             ],
             [
              0.6666666666666666,
              "#ed7953"
             ],
             [
              0.7777777777777778,
              "#fb9f3a"
             ],
             [
              0.8888888888888888,
              "#fdca26"
             ],
             [
              1,
              "#f0f921"
             ]
            ],
            "type": "heatmapgl"
           }
          ],
          "histogram": [
           {
            "marker": {
             "colorbar": {
              "outlinewidth": 0,
              "ticks": ""
             }
            },
            "type": "histogram"
           }
          ],
          "histogram2d": [
           {
            "colorbar": {
             "outlinewidth": 0,
             "ticks": ""
            },
            "colorscale": [
             [
              0,
              "#0d0887"
             ],
             [
              0.1111111111111111,
              "#46039f"
             ],
             [
              0.2222222222222222,
              "#7201a8"
             ],
             [
              0.3333333333333333,
              "#9c179e"
             ],
             [
              0.4444444444444444,
              "#bd3786"
             ],
             [
              0.5555555555555556,
              "#d8576b"
             ],
             [
              0.6666666666666666,
              "#ed7953"
             ],
             [
              0.7777777777777778,
              "#fb9f3a"
             ],
             [
              0.8888888888888888,
              "#fdca26"
             ],
             [
              1,
              "#f0f921"
             ]
            ],
            "type": "histogram2d"
           }
          ],
          "histogram2dcontour": [
           {
            "colorbar": {
             "outlinewidth": 0,
             "ticks": ""
            },
            "colorscale": [
             [
              0,
              "#0d0887"
             ],
             [
              0.1111111111111111,
              "#46039f"
             ],
             [
              0.2222222222222222,
              "#7201a8"
             ],
             [
              0.3333333333333333,
              "#9c179e"
             ],
             [
              0.4444444444444444,
              "#bd3786"
             ],
             [
              0.5555555555555556,
              "#d8576b"
             ],
             [
              0.6666666666666666,
              "#ed7953"
             ],
             [
              0.7777777777777778,
              "#fb9f3a"
             ],
             [
              0.8888888888888888,
              "#fdca26"
             ],
             [
              1,
              "#f0f921"
             ]
            ],
            "type": "histogram2dcontour"
           }
          ],
          "mesh3d": [
           {
            "colorbar": {
             "outlinewidth": 0,
             "ticks": ""
            },
            "type": "mesh3d"
           }
          ],
          "parcoords": [
           {
            "line": {
             "colorbar": {
              "outlinewidth": 0,
              "ticks": ""
             }
            },
            "type": "parcoords"
           }
          ],
          "pie": [
           {
            "automargin": true,
            "type": "pie"
           }
          ],
          "scatter": [
           {
            "marker": {
             "colorbar": {
              "outlinewidth": 0,
              "ticks": ""
             }
            },
            "type": "scatter"
           }
          ],
          "scatter3d": [
           {
            "line": {
             "colorbar": {
              "outlinewidth": 0,
              "ticks": ""
             }
            },
            "marker": {
             "colorbar": {
              "outlinewidth": 0,
              "ticks": ""
             }
            },
            "type": "scatter3d"
           }
          ],
          "scattercarpet": [
           {
            "marker": {
             "colorbar": {
              "outlinewidth": 0,
              "ticks": ""
             }
            },
            "type": "scattercarpet"
           }
          ],
          "scattergeo": [
           {
            "marker": {
             "colorbar": {
              "outlinewidth": 0,
              "ticks": ""
             }
            },
            "type": "scattergeo"
           }
          ],
          "scattergl": [
           {
            "marker": {
             "colorbar": {
              "outlinewidth": 0,
              "ticks": ""
             }
            },
            "type": "scattergl"
           }
          ],
          "scattermapbox": [
           {
            "marker": {
             "colorbar": {
              "outlinewidth": 0,
              "ticks": ""
             }
            },
            "type": "scattermapbox"
           }
          ],
          "scatterpolar": [
           {
            "marker": {
             "colorbar": {
              "outlinewidth": 0,
              "ticks": ""
             }
            },
            "type": "scatterpolar"
           }
          ],
          "scatterpolargl": [
           {
            "marker": {
             "colorbar": {
              "outlinewidth": 0,
              "ticks": ""
             }
            },
            "type": "scatterpolargl"
           }
          ],
          "scatterternary": [
           {
            "marker": {
             "colorbar": {
              "outlinewidth": 0,
              "ticks": ""
             }
            },
            "type": "scatterternary"
           }
          ],
          "surface": [
           {
            "colorbar": {
             "outlinewidth": 0,
             "ticks": ""
            },
            "colorscale": [
             [
              0,
              "#0d0887"
             ],
             [
              0.1111111111111111,
              "#46039f"
             ],
             [
              0.2222222222222222,
              "#7201a8"
             ],
             [
              0.3333333333333333,
              "#9c179e"
             ],
             [
              0.4444444444444444,
              "#bd3786"
             ],
             [
              0.5555555555555556,
              "#d8576b"
             ],
             [
              0.6666666666666666,
              "#ed7953"
             ],
             [
              0.7777777777777778,
              "#fb9f3a"
             ],
             [
              0.8888888888888888,
              "#fdca26"
             ],
             [
              1,
              "#f0f921"
             ]
            ],
            "type": "surface"
           }
          ],
          "table": [
           {
            "cells": {
             "fill": {
              "color": "#EBF0F8"
             },
             "line": {
              "color": "white"
             }
            },
            "header": {
             "fill": {
              "color": "#C8D4E3"
             },
             "line": {
              "color": "white"
             }
            },
            "type": "table"
           }
          ]
         },
         "layout": {
          "annotationdefaults": {
           "arrowcolor": "#2a3f5f",
           "arrowhead": 0,
           "arrowwidth": 1
          },
          "autotypenumbers": "strict",
          "coloraxis": {
           "colorbar": {
            "outlinewidth": 0,
            "ticks": ""
           }
          },
          "colorscale": {
           "diverging": [
            [
             0,
             "#8e0152"
            ],
            [
             0.1,
             "#c51b7d"
            ],
            [
             0.2,
             "#de77ae"
            ],
            [
             0.3,
             "#f1b6da"
            ],
            [
             0.4,
             "#fde0ef"
            ],
            [
             0.5,
             "#f7f7f7"
            ],
            [
             0.6,
             "#e6f5d0"
            ],
            [
             0.7,
             "#b8e186"
            ],
            [
             0.8,
             "#7fbc41"
            ],
            [
             0.9,
             "#4d9221"
            ],
            [
             1,
             "#276419"
            ]
           ],
           "sequential": [
            [
             0,
             "#0d0887"
            ],
            [
             0.1111111111111111,
             "#46039f"
            ],
            [
             0.2222222222222222,
             "#7201a8"
            ],
            [
             0.3333333333333333,
             "#9c179e"
            ],
            [
             0.4444444444444444,
             "#bd3786"
            ],
            [
             0.5555555555555556,
             "#d8576b"
            ],
            [
             0.6666666666666666,
             "#ed7953"
            ],
            [
             0.7777777777777778,
             "#fb9f3a"
            ],
            [
             0.8888888888888888,
             "#fdca26"
            ],
            [
             1,
             "#f0f921"
            ]
           ],
           "sequentialminus": [
            [
             0,
             "#0d0887"
            ],
            [
             0.1111111111111111,
             "#46039f"
            ],
            [
             0.2222222222222222,
             "#7201a8"
            ],
            [
             0.3333333333333333,
             "#9c179e"
            ],
            [
             0.4444444444444444,
             "#bd3786"
            ],
            [
             0.5555555555555556,
             "#d8576b"
            ],
            [
             0.6666666666666666,
             "#ed7953"
            ],
            [
             0.7777777777777778,
             "#fb9f3a"
            ],
            [
             0.8888888888888888,
             "#fdca26"
            ],
            [
             1,
             "#f0f921"
            ]
           ]
          },
          "colorway": [
           "#636efa",
           "#EF553B",
           "#00cc96",
           "#ab63fa",
           "#FFA15A",
           "#19d3f3",
           "#FF6692",
           "#B6E880",
           "#FF97FF",
           "#FECB52"
          ],
          "font": {
           "color": "#2a3f5f"
          },
          "geo": {
           "bgcolor": "white",
           "lakecolor": "white",
           "landcolor": "#E5ECF6",
           "showlakes": true,
           "showland": true,
           "subunitcolor": "white"
          },
          "hoverlabel": {
           "align": "left"
          },
          "hovermode": "closest",
          "mapbox": {
           "style": "light"
          },
          "paper_bgcolor": "white",
          "plot_bgcolor": "#E5ECF6",
          "polar": {
           "angularaxis": {
            "gridcolor": "white",
            "linecolor": "white",
            "ticks": ""
           },
           "bgcolor": "#E5ECF6",
           "radialaxis": {
            "gridcolor": "white",
            "linecolor": "white",
            "ticks": ""
           }
          },
          "scene": {
           "xaxis": {
            "backgroundcolor": "#E5ECF6",
            "gridcolor": "white",
            "gridwidth": 2,
            "linecolor": "white",
            "showbackground": true,
            "ticks": "",
            "zerolinecolor": "white"
           },
           "yaxis": {
            "backgroundcolor": "#E5ECF6",
            "gridcolor": "white",
            "gridwidth": 2,
            "linecolor": "white",
            "showbackground": true,
            "ticks": "",
            "zerolinecolor": "white"
           },
           "zaxis": {
            "backgroundcolor": "#E5ECF6",
            "gridcolor": "white",
            "gridwidth": 2,
            "linecolor": "white",
            "showbackground": true,
            "ticks": "",
            "zerolinecolor": "white"
           }
          },
          "shapedefaults": {
           "line": {
            "color": "#2a3f5f"
           }
          },
          "ternary": {
           "aaxis": {
            "gridcolor": "white",
            "linecolor": "white",
            "ticks": ""
           },
           "baxis": {
            "gridcolor": "white",
            "linecolor": "white",
            "ticks": ""
           },
           "bgcolor": "#E5ECF6",
           "caxis": {
            "gridcolor": "white",
            "linecolor": "white",
            "ticks": ""
           }
          },
          "title": {
           "x": 0.05
          },
          "xaxis": {
           "automargin": true,
           "gridcolor": "white",
           "linecolor": "white",
           "ticks": "",
           "title": {
            "standoff": 15
           },
           "zerolinecolor": "white",
           "zerolinewidth": 2
          },
          "yaxis": {
           "automargin": true,
           "gridcolor": "white",
           "linecolor": "white",
           "ticks": "",
           "title": {
            "standoff": 15
           },
           "zerolinecolor": "white",
           "zerolinewidth": 2
          }
         }
        },
        "title": {
         "text": "Plot for winery : 1+1=3"
        },
        "xaxis": {
         "anchor": "y",
         "domain": [
          0,
          1
         ],
         "title": {
          "text": "index"
         }
        },
        "yaxis": {
         "anchor": "x",
         "domain": [
          0,
          1
         ],
         "title": {
          "text": "price"
         }
        }
       }
      }
     },
     "metadata": {},
     "output_type": "display_data"
    }
   ],
   "source": [
    "winery = input()\n",
    "tt = df[df.winery == winery]\n",
    "tt.designation.astype('category')\n",
    "px.line(tt,y='price' ,color='designation', title=f'Plot for winery : {winery}')"
   ]
  },
  {
   "cell_type": "code",
   "execution_count": 20,
   "metadata": {},
   "outputs": [
    {
     "data": {
      "application/vnd.plotly.v1+json": {
       "config": {
        "plotlyServerURL": "https://plot.ly"
       },
       "data": [
        {
         "hovertemplate": "varietal=Sparkling Blend, Sparkling<br>index=%{x}<br>price=%{y}<extra></extra>",
         "legendgroup": "Sparkling Blend, Sparkling",
         "marker": {
          "color": "#636efa",
          "symbol": "circle"
         },
         "mode": "markers",
         "name": "Sparkling Blend, Sparkling",
         "orientation": "v",
         "showlegend": true,
         "type": "scatter",
         "x": [
          2860,
          6117,
          18511,
          32119,
          67987,
          81018,
          109436,
          117520,
          155697,
          184935,
          256558,
          266915,
          273533,
          313295,
          320828
         ],
         "xaxis": "x",
         "y": [
          null,
          16,
          13,
          20,
          20,
          16,
          18,
          20,
          20,
          13,
          13,
          16,
          18,
          18,
          16
         ],
         "yaxis": "y"
        },
        {
         "hovertemplate": "varietal=Cabernet Sauvignon<br>index=%{x}<br>price=%{y}<extra></extra>",
         "legendgroup": "Cabernet Sauvignon",
         "marker": {
          "color": "#EF553B",
          "symbol": "circle"
         },
         "mode": "markers",
         "name": "Cabernet Sauvignon",
         "orientation": "v",
         "showlegend": true,
         "type": "scatter",
         "x": [
          126787,
          154037
         ],
         "xaxis": "x",
         "y": [
          16,
          18
         ],
         "yaxis": "y"
        },
        {
         "hovertemplate": "varietal=Rosé<br>index=%{x}<br>price=%{y}<extra></extra>",
         "legendgroup": "Rosé",
         "marker": {
          "color": "#00cc96",
          "symbol": "circle"
         },
         "mode": "markers",
         "name": "Rosé",
         "orientation": "v",
         "showlegend": true,
         "type": "scatter",
         "x": [
          149460
         ],
         "xaxis": "x",
         "y": [
          18
         ],
         "yaxis": "y"
        }
       ],
       "layout": {
        "legend": {
         "title": {
          "text": "varietal"
         },
         "tracegroupgap": 0
        },
        "template": {
         "data": {
          "bar": [
           {
            "error_x": {
             "color": "#2a3f5f"
            },
            "error_y": {
             "color": "#2a3f5f"
            },
            "marker": {
             "line": {
              "color": "#E5ECF6",
              "width": 0.5
             }
            },
            "type": "bar"
           }
          ],
          "barpolar": [
           {
            "marker": {
             "line": {
              "color": "#E5ECF6",
              "width": 0.5
             }
            },
            "type": "barpolar"
           }
          ],
          "carpet": [
           {
            "aaxis": {
             "endlinecolor": "#2a3f5f",
             "gridcolor": "white",
             "linecolor": "white",
             "minorgridcolor": "white",
             "startlinecolor": "#2a3f5f"
            },
            "baxis": {
             "endlinecolor": "#2a3f5f",
             "gridcolor": "white",
             "linecolor": "white",
             "minorgridcolor": "white",
             "startlinecolor": "#2a3f5f"
            },
            "type": "carpet"
           }
          ],
          "choropleth": [
           {
            "colorbar": {
             "outlinewidth": 0,
             "ticks": ""
            },
            "type": "choropleth"
           }
          ],
          "contour": [
           {
            "colorbar": {
             "outlinewidth": 0,
             "ticks": ""
            },
            "colorscale": [
             [
              0,
              "#0d0887"
             ],
             [
              0.1111111111111111,
              "#46039f"
             ],
             [
              0.2222222222222222,
              "#7201a8"
             ],
             [
              0.3333333333333333,
              "#9c179e"
             ],
             [
              0.4444444444444444,
              "#bd3786"
             ],
             [
              0.5555555555555556,
              "#d8576b"
             ],
             [
              0.6666666666666666,
              "#ed7953"
             ],
             [
              0.7777777777777778,
              "#fb9f3a"
             ],
             [
              0.8888888888888888,
              "#fdca26"
             ],
             [
              1,
              "#f0f921"
             ]
            ],
            "type": "contour"
           }
          ],
          "contourcarpet": [
           {
            "colorbar": {
             "outlinewidth": 0,
             "ticks": ""
            },
            "type": "contourcarpet"
           }
          ],
          "heatmap": [
           {
            "colorbar": {
             "outlinewidth": 0,
             "ticks": ""
            },
            "colorscale": [
             [
              0,
              "#0d0887"
             ],
             [
              0.1111111111111111,
              "#46039f"
             ],
             [
              0.2222222222222222,
              "#7201a8"
             ],
             [
              0.3333333333333333,
              "#9c179e"
             ],
             [
              0.4444444444444444,
              "#bd3786"
             ],
             [
              0.5555555555555556,
              "#d8576b"
             ],
             [
              0.6666666666666666,
              "#ed7953"
             ],
             [
              0.7777777777777778,
              "#fb9f3a"
             ],
             [
              0.8888888888888888,
              "#fdca26"
             ],
             [
              1,
              "#f0f921"
             ]
            ],
            "type": "heatmap"
           }
          ],
          "heatmapgl": [
           {
            "colorbar": {
             "outlinewidth": 0,
             "ticks": ""
            },
            "colorscale": [
             [
              0,
              "#0d0887"
             ],
             [
              0.1111111111111111,
              "#46039f"
             ],
             [
              0.2222222222222222,
              "#7201a8"
             ],
             [
              0.3333333333333333,
              "#9c179e"
             ],
             [
              0.4444444444444444,
              "#bd3786"
             ],
             [
              0.5555555555555556,
              "#d8576b"
             ],
             [
              0.6666666666666666,
              "#ed7953"
             ],
             [
              0.7777777777777778,
              "#fb9f3a"
             ],
             [
              0.8888888888888888,
              "#fdca26"
             ],
             [
              1,
              "#f0f921"
             ]
            ],
            "type": "heatmapgl"
           }
          ],
          "histogram": [
           {
            "marker": {
             "colorbar": {
              "outlinewidth": 0,
              "ticks": ""
             }
            },
            "type": "histogram"
           }
          ],
          "histogram2d": [
           {
            "colorbar": {
             "outlinewidth": 0,
             "ticks": ""
            },
            "colorscale": [
             [
              0,
              "#0d0887"
             ],
             [
              0.1111111111111111,
              "#46039f"
             ],
             [
              0.2222222222222222,
              "#7201a8"
             ],
             [
              0.3333333333333333,
              "#9c179e"
             ],
             [
              0.4444444444444444,
              "#bd3786"
             ],
             [
              0.5555555555555556,
              "#d8576b"
             ],
             [
              0.6666666666666666,
              "#ed7953"
             ],
             [
              0.7777777777777778,
              "#fb9f3a"
             ],
             [
              0.8888888888888888,
              "#fdca26"
             ],
             [
              1,
              "#f0f921"
             ]
            ],
            "type": "histogram2d"
           }
          ],
          "histogram2dcontour": [
           {
            "colorbar": {
             "outlinewidth": 0,
             "ticks": ""
            },
            "colorscale": [
             [
              0,
              "#0d0887"
             ],
             [
              0.1111111111111111,
              "#46039f"
             ],
             [
              0.2222222222222222,
              "#7201a8"
             ],
             [
              0.3333333333333333,
              "#9c179e"
             ],
             [
              0.4444444444444444,
              "#bd3786"
             ],
             [
              0.5555555555555556,
              "#d8576b"
             ],
             [
              0.6666666666666666,
              "#ed7953"
             ],
             [
              0.7777777777777778,
              "#fb9f3a"
             ],
             [
              0.8888888888888888,
              "#fdca26"
             ],
             [
              1,
              "#f0f921"
             ]
            ],
            "type": "histogram2dcontour"
           }
          ],
          "mesh3d": [
           {
            "colorbar": {
             "outlinewidth": 0,
             "ticks": ""
            },
            "type": "mesh3d"
           }
          ],
          "parcoords": [
           {
            "line": {
             "colorbar": {
              "outlinewidth": 0,
              "ticks": ""
             }
            },
            "type": "parcoords"
           }
          ],
          "pie": [
           {
            "automargin": true,
            "type": "pie"
           }
          ],
          "scatter": [
           {
            "marker": {
             "colorbar": {
              "outlinewidth": 0,
              "ticks": ""
             }
            },
            "type": "scatter"
           }
          ],
          "scatter3d": [
           {
            "line": {
             "colorbar": {
              "outlinewidth": 0,
              "ticks": ""
             }
            },
            "marker": {
             "colorbar": {
              "outlinewidth": 0,
              "ticks": ""
             }
            },
            "type": "scatter3d"
           }
          ],
          "scattercarpet": [
           {
            "marker": {
             "colorbar": {
              "outlinewidth": 0,
              "ticks": ""
             }
            },
            "type": "scattercarpet"
           }
          ],
          "scattergeo": [
           {
            "marker": {
             "colorbar": {
              "outlinewidth": 0,
              "ticks": ""
             }
            },
            "type": "scattergeo"
           }
          ],
          "scattergl": [
           {
            "marker": {
             "colorbar": {
              "outlinewidth": 0,
              "ticks": ""
             }
            },
            "type": "scattergl"
           }
          ],
          "scattermapbox": [
           {
            "marker": {
             "colorbar": {
              "outlinewidth": 0,
              "ticks": ""
             }
            },
            "type": "scattermapbox"
           }
          ],
          "scatterpolar": [
           {
            "marker": {
             "colorbar": {
              "outlinewidth": 0,
              "ticks": ""
             }
            },
            "type": "scatterpolar"
           }
          ],
          "scatterpolargl": [
           {
            "marker": {
             "colorbar": {
              "outlinewidth": 0,
              "ticks": ""
             }
            },
            "type": "scatterpolargl"
           }
          ],
          "scatterternary": [
           {
            "marker": {
             "colorbar": {
              "outlinewidth": 0,
              "ticks": ""
             }
            },
            "type": "scatterternary"
           }
          ],
          "surface": [
           {
            "colorbar": {
             "outlinewidth": 0,
             "ticks": ""
            },
            "colorscale": [
             [
              0,
              "#0d0887"
             ],
             [
              0.1111111111111111,
              "#46039f"
             ],
             [
              0.2222222222222222,
              "#7201a8"
             ],
             [
              0.3333333333333333,
              "#9c179e"
             ],
             [
              0.4444444444444444,
              "#bd3786"
             ],
             [
              0.5555555555555556,
              "#d8576b"
             ],
             [
              0.6666666666666666,
              "#ed7953"
             ],
             [
              0.7777777777777778,
              "#fb9f3a"
             ],
             [
              0.8888888888888888,
              "#fdca26"
             ],
             [
              1,
              "#f0f921"
             ]
            ],
            "type": "surface"
           }
          ],
          "table": [
           {
            "cells": {
             "fill": {
              "color": "#EBF0F8"
             },
             "line": {
              "color": "white"
             }
            },
            "header": {
             "fill": {
              "color": "#C8D4E3"
             },
             "line": {
              "color": "white"
             }
            },
            "type": "table"
           }
          ]
         },
         "layout": {
          "annotationdefaults": {
           "arrowcolor": "#2a3f5f",
           "arrowhead": 0,
           "arrowwidth": 1
          },
          "autotypenumbers": "strict",
          "coloraxis": {
           "colorbar": {
            "outlinewidth": 0,
            "ticks": ""
           }
          },
          "colorscale": {
           "diverging": [
            [
             0,
             "#8e0152"
            ],
            [
             0.1,
             "#c51b7d"
            ],
            [
             0.2,
             "#de77ae"
            ],
            [
             0.3,
             "#f1b6da"
            ],
            [
             0.4,
             "#fde0ef"
            ],
            [
             0.5,
             "#f7f7f7"
            ],
            [
             0.6,
             "#e6f5d0"
            ],
            [
             0.7,
             "#b8e186"
            ],
            [
             0.8,
             "#7fbc41"
            ],
            [
             0.9,
             "#4d9221"
            ],
            [
             1,
             "#276419"
            ]
           ],
           "sequential": [
            [
             0,
             "#0d0887"
            ],
            [
             0.1111111111111111,
             "#46039f"
            ],
            [
             0.2222222222222222,
             "#7201a8"
            ],
            [
             0.3333333333333333,
             "#9c179e"
            ],
            [
             0.4444444444444444,
             "#bd3786"
            ],
            [
             0.5555555555555556,
             "#d8576b"
            ],
            [
             0.6666666666666666,
             "#ed7953"
            ],
            [
             0.7777777777777778,
             "#fb9f3a"
            ],
            [
             0.8888888888888888,
             "#fdca26"
            ],
            [
             1,
             "#f0f921"
            ]
           ],
           "sequentialminus": [
            [
             0,
             "#0d0887"
            ],
            [
             0.1111111111111111,
             "#46039f"
            ],
            [
             0.2222222222222222,
             "#7201a8"
            ],
            [
             0.3333333333333333,
             "#9c179e"
            ],
            [
             0.4444444444444444,
             "#bd3786"
            ],
            [
             0.5555555555555556,
             "#d8576b"
            ],
            [
             0.6666666666666666,
             "#ed7953"
            ],
            [
             0.7777777777777778,
             "#fb9f3a"
            ],
            [
             0.8888888888888888,
             "#fdca26"
            ],
            [
             1,
             "#f0f921"
            ]
           ]
          },
          "colorway": [
           "#636efa",
           "#EF553B",
           "#00cc96",
           "#ab63fa",
           "#FFA15A",
           "#19d3f3",
           "#FF6692",
           "#B6E880",
           "#FF97FF",
           "#FECB52"
          ],
          "font": {
           "color": "#2a3f5f"
          },
          "geo": {
           "bgcolor": "white",
           "lakecolor": "white",
           "landcolor": "#E5ECF6",
           "showlakes": true,
           "showland": true,
           "subunitcolor": "white"
          },
          "hoverlabel": {
           "align": "left"
          },
          "hovermode": "closest",
          "mapbox": {
           "style": "light"
          },
          "paper_bgcolor": "white",
          "plot_bgcolor": "#E5ECF6",
          "polar": {
           "angularaxis": {
            "gridcolor": "white",
            "linecolor": "white",
            "ticks": ""
           },
           "bgcolor": "#E5ECF6",
           "radialaxis": {
            "gridcolor": "white",
            "linecolor": "white",
            "ticks": ""
           }
          },
          "scene": {
           "xaxis": {
            "backgroundcolor": "#E5ECF6",
            "gridcolor": "white",
            "gridwidth": 2,
            "linecolor": "white",
            "showbackground": true,
            "ticks": "",
            "zerolinecolor": "white"
           },
           "yaxis": {
            "backgroundcolor": "#E5ECF6",
            "gridcolor": "white",
            "gridwidth": 2,
            "linecolor": "white",
            "showbackground": true,
            "ticks": "",
            "zerolinecolor": "white"
           },
           "zaxis": {
            "backgroundcolor": "#E5ECF6",
            "gridcolor": "white",
            "gridwidth": 2,
            "linecolor": "white",
            "showbackground": true,
            "ticks": "",
            "zerolinecolor": "white"
           }
          },
          "shapedefaults": {
           "line": {
            "color": "#2a3f5f"
           }
          },
          "ternary": {
           "aaxis": {
            "gridcolor": "white",
            "linecolor": "white",
            "ticks": ""
           },
           "baxis": {
            "gridcolor": "white",
            "linecolor": "white",
            "ticks": ""
           },
           "bgcolor": "#E5ECF6",
           "caxis": {
            "gridcolor": "white",
            "linecolor": "white",
            "ticks": ""
           }
          },
          "title": {
           "x": 0.05
          },
          "xaxis": {
           "automargin": true,
           "gridcolor": "white",
           "linecolor": "white",
           "ticks": "",
           "title": {
            "standoff": 15
           },
           "zerolinecolor": "white",
           "zerolinewidth": 2
          },
          "yaxis": {
           "automargin": true,
           "gridcolor": "white",
           "linecolor": "white",
           "ticks": "",
           "title": {
            "standoff": 15
           },
           "zerolinecolor": "white",
           "zerolinewidth": 2
          }
         }
        },
        "title": {
         "text": "Plot for winery : 1+1=3"
        },
        "xaxis": {
         "anchor": "y",
         "domain": [
          0,
          1
         ],
         "title": {
          "text": "index"
         }
        },
        "yaxis": {
         "anchor": "x",
         "domain": [
          0,
          1
         ],
         "title": {
          "text": "price"
         }
        }
       }
      }
     },
     "metadata": {},
     "output_type": "display_data"
    }
   ],
   "source": [
    "winery = input()\n",
    "tt = df[df.winery == winery]\n",
    "tt.varietal.astype('category')\n",
    "px.scatter(tt,y='price' ,color='varietal', title=f'Plot for winery : {winery}')"
   ]
  },
  {
   "cell_type": "code",
   "execution_count": 22,
   "metadata": {},
   "outputs": [
    {
     "data": {
      "application/vnd.plotly.v1+json": {
       "config": {
        "plotlyServerURL": "https://plot.ly"
       },
       "data": [
        {
         "hovertemplate": "color=2002 Vintner's Reserve Zinfandel (California)<br>index=%{x}<br>value=%{y}<extra></extra>",
         "legendgroup": "2002 Vintner's Reserve Zinfandel (California)",
         "marker": {
          "color": "#636efa",
          "symbol": "circle"
         },
         "mode": "markers",
         "name": "2002 Vintner's Reserve Zinfandel (California)",
         "orientation": "v",
         "showlegend": true,
         "type": "scatter",
         "x": [
          386
         ],
         "xaxis": "x",
         "y": [
          86
         ],
         "yaxis": "y"
        },
        {
         "hovertemplate": "color=2003 Vintner's Reserve Chardonnay (California)<br>index=%{x}<br>value=%{y}<extra></extra>",
         "legendgroup": "2003 Vintner's Reserve Chardonnay (California)",
         "marker": {
          "color": "#EF553B",
          "symbol": "circle"
         },
         "mode": "markers",
         "name": "2003 Vintner's Reserve Chardonnay (California)",
         "orientation": "v",
         "showlegend": true,
         "type": "scatter",
         "x": [
          1336
         ],
         "xaxis": "x",
         "y": [
          85
         ],
         "yaxis": "y"
        },
        {
         "hovertemplate": "color=1997 Buckeye Vyd Cabernet Sauvignon (Sonoma County)<br>index=%{x}<br>value=%{y}<extra></extra>",
         "legendgroup": "1997 Buckeye Vyd Cabernet Sauvignon (Sonoma County)",
         "marker": {
          "color": "#00cc96",
          "symbol": "circle"
         },
         "mode": "markers",
         "name": "1997 Buckeye Vyd Cabernet Sauvignon (Sonoma County)",
         "orientation": "v",
         "showlegend": true,
         "type": "scatter",
         "x": [
          1818
         ],
         "xaxis": "x",
         "y": [
          90
         ],
         "yaxis": "y"
        },
        {
         "hovertemplate": "color=2017 Jackson Estate Pinot Noir (Anderson Valley)<br>index=%{x}<br>value=%{y}<extra></extra>",
         "legendgroup": "2017 Jackson Estate Pinot Noir (Anderson Valley)",
         "marker": {
          "color": "#ab63fa",
          "symbol": "circle"
         },
         "mode": "markers",
         "name": "2017 Jackson Estate Pinot Noir (Anderson Valley)",
         "orientation": "v",
         "showlegend": true,
         "type": "scatter",
         "x": [
          2003
         ],
         "xaxis": "x",
         "y": [
          91
         ],
         "yaxis": "y"
        },
        {
         "hovertemplate": "color=2005 Stature Red (Napa Valley)<br>index=%{x}<br>value=%{y}<extra></extra>",
         "legendgroup": "2005 Stature Red (Napa Valley)",
         "marker": {
          "color": "#FFA15A",
          "symbol": "circle"
         },
         "mode": "markers",
         "name": "2005 Stature Red (Napa Valley)",
         "orientation": "v",
         "showlegend": true,
         "type": "scatter",
         "x": [
          2774
         ],
         "xaxis": "x",
         "y": [
          96
         ],
         "yaxis": "y"
        },
        {
         "hovertemplate": "color=2001 Stature Meritage (Napa Valley)<br>index=%{x}<br>value=%{y}<extra></extra>",
         "legendgroup": "2001 Stature Meritage (Napa Valley)",
         "marker": {
          "color": "#19d3f3",
          "symbol": "circle"
         },
         "mode": "markers",
         "name": "2001 Stature Meritage (Napa Valley)",
         "orientation": "v",
         "showlegend": true,
         "type": "scatter",
         "x": [
          4624
         ],
         "xaxis": "x",
         "y": [
          93
         ],
         "yaxis": "y"
        },
        {
         "hovertemplate": "color=1997 Elite Cabernet Sauvignon (Napa Valley)<br>index=%{x}<br>value=%{y}<extra></extra>",
         "legendgroup": "1997 Elite Cabernet Sauvignon (Napa Valley)",
         "marker": {
          "color": "#FF6692",
          "symbol": "circle"
         },
         "mode": "markers",
         "name": "1997 Elite Cabernet Sauvignon (Napa Valley)",
         "orientation": "v",
         "showlegend": true,
         "type": "scatter",
         "x": [
          4677
         ],
         "xaxis": "x",
         "y": [
          91
         ],
         "yaxis": "y"
        },
        {
         "hovertemplate": "color=2004 Hawkeye Mountain Estate Cabernet Sauvignon (Alexander Valley)<br>index=%{x}<br>value=%{y}<extra></extra>",
         "legendgroup": "2004 Hawkeye Mountain Estate Cabernet Sauvignon (Alexander Valley)",
         "marker": {
          "color": "#B6E880",
          "symbol": "circle"
         },
         "mode": "markers",
         "name": "2004 Hawkeye Mountain Estate Cabernet Sauvignon (Alexander Valley)",
         "orientation": "v",
         "showlegend": true,
         "type": "scatter",
         "x": [
          5208
         ],
         "xaxis": "x",
         "y": [
          93
         ],
         "yaxis": "y"
        },
        {
         "hovertemplate": "color=2012 Vintners Reserve Syrah (California)<br>index=%{x}<br>value=%{y}<extra></extra>",
         "legendgroup": "2012 Vintners Reserve Syrah (California)",
         "marker": {
          "color": "#FF97FF",
          "symbol": "circle"
         },
         "mode": "markers",
         "name": "2012 Vintners Reserve Syrah (California)",
         "orientation": "v",
         "showlegend": true,
         "type": "scatter",
         "x": [
          5316
         ],
         "xaxis": "x",
         "y": [
          91
         ],
         "yaxis": "y"
        },
        {
         "hovertemplate": "color=2012 Vintner's Reserve Zinfandel (Mendocino)<br>index=%{x}<br>value=%{y}<extra></extra>",
         "legendgroup": "2012 Vintner's Reserve Zinfandel (Mendocino)",
         "marker": {
          "color": "#FECB52",
          "symbol": "circle"
         },
         "mode": "markers",
         "name": "2012 Vintner's Reserve Zinfandel (Mendocino)",
         "orientation": "v",
         "showlegend": true,
         "type": "scatter",
         "x": [
          6014
         ],
         "xaxis": "x",
         "y": [
          91
         ],
         "yaxis": "y"
        },
        {
         "hovertemplate": "color=2004 Highland Estates Camelot Highlands Chardonnay (Santa Maria Valley)<br>index=%{x}<br>value=%{y}<extra></extra>",
         "legendgroup": "2004 Highland Estates Camelot Highlands Chardonnay (Santa Maria Valley)",
         "marker": {
          "color": "#636efa",
          "symbol": "circle"
         },
         "mode": "markers",
         "name": "2004 Highland Estates Camelot Highlands Chardonnay (Santa Maria Valley)",
         "orientation": "v",
         "showlegend": true,
         "type": "scatter",
         "x": [
          6414
         ],
         "xaxis": "x",
         "y": [
          92
         ],
         "yaxis": "y"
        },
        {
         "hovertemplate": "color=1998 Great Estates Merlot (Alexander Valley)<br>index=%{x}<br>value=%{y}<extra></extra>",
         "legendgroup": "1998 Great Estates Merlot (Alexander Valley)",
         "marker": {
          "color": "#EF553B",
          "symbol": "circle"
         },
         "mode": "markers",
         "name": "1998 Great Estates Merlot (Alexander Valley)",
         "orientation": "v",
         "showlegend": true,
         "type": "scatter",
         "x": [
          7211,
          247354
         ],
         "xaxis": "x",
         "y": [
          89,
          89
         ],
         "yaxis": "y"
        },
        {
         "hovertemplate": "color=2001 Camelot Bench Chardonnay (Santa Maria Valley)<br>index=%{x}<br>value=%{y}<extra></extra>",
         "legendgroup": "2001 Camelot Bench Chardonnay (Santa Maria Valley)",
         "marker": {
          "color": "#00cc96",
          "symbol": "circle"
         },
         "mode": "markers",
         "name": "2001 Camelot Bench Chardonnay (Santa Maria Valley)",
         "orientation": "v",
         "showlegend": true,
         "type": "scatter",
         "x": [
          8205
         ],
         "xaxis": "x",
         "y": [
          89
         ],
         "yaxis": "y"
        },
        {
         "hovertemplate": "color=2003 Stature Red (Napa Valley)<br>index=%{x}<br>value=%{y}<extra></extra>",
         "legendgroup": "2003 Stature Red (Napa Valley)",
         "marker": {
          "color": "#ab63fa",
          "symbol": "circle"
         },
         "mode": "markers",
         "name": "2003 Stature Red (Napa Valley)",
         "orientation": "v",
         "showlegend": true,
         "type": "scatter",
         "x": [
          9303
         ],
         "xaxis": "x",
         "y": [
          95
         ],
         "yaxis": "y"
        },
        {
         "hovertemplate": "color=2001 Vintner's Reserve Chardonnay (California)<br>index=%{x}<br>value=%{y}<extra></extra>",
         "legendgroup": "2001 Vintner's Reserve Chardonnay (California)",
         "marker": {
          "color": "#FFA15A",
          "symbol": "circle"
         },
         "mode": "markers",
         "name": "2001 Vintner's Reserve Chardonnay (California)",
         "orientation": "v",
         "showlegend": true,
         "type": "scatter",
         "x": [
          10711
         ],
         "xaxis": "x",
         "y": [
          84
         ],
         "yaxis": "y"
        },
        {
         "hovertemplate": "color=1997 Grand Reserve Cabernet Sauvignon (California)<br>index=%{x}<br>value=%{y}<extra></extra>",
         "legendgroup": "1997 Grand Reserve Cabernet Sauvignon (California)",
         "marker": {
          "color": "#19d3f3",
          "symbol": "circle"
         },
         "mode": "markers",
         "name": "1997 Grand Reserve Cabernet Sauvignon (California)",
         "orientation": "v",
         "showlegend": true,
         "type": "scatter",
         "x": [
          11051
         ],
         "xaxis": "x",
         "y": [
          93
         ],
         "yaxis": "y"
        },
        {
         "hovertemplate": "color=2012 Vintners Reserve Summation Red (California)<br>index=%{x}<br>value=%{y}<extra></extra>",
         "legendgroup": "2012 Vintners Reserve Summation Red (California)",
         "marker": {
          "color": "#FF6692",
          "symbol": "circle"
         },
         "mode": "markers",
         "name": "2012 Vintners Reserve Summation Red (California)",
         "orientation": "v",
         "showlegend": true,
         "type": "scatter",
         "x": [
          12111
         ],
         "xaxis": "x",
         "y": [
          88
         ],
         "yaxis": "y"
        },
        {
         "hovertemplate": "color=2015 Vintner's Reserve Cabernet Sauvignon (Sonoma County)<br>index=%{x}<br>value=%{y}<extra></extra>",
         "legendgroup": "2015 Vintner's Reserve Cabernet Sauvignon (Sonoma County)",
         "marker": {
          "color": "#B6E880",
          "symbol": "circle"
         },
         "mode": "markers",
         "name": "2015 Vintner's Reserve Cabernet Sauvignon (Sonoma County)",
         "orientation": "v",
         "showlegend": true,
         "type": "scatter",
         "x": [
          13881
         ],
         "xaxis": "x",
         "y": [
          90
         ],
         "yaxis": "y"
        },
        {
         "hovertemplate": "color=2007 Highlands Estates Trace Ridge Red (Knights Valley)<br>index=%{x}<br>value=%{y}<extra></extra>",
         "legendgroup": "2007 Highlands Estates Trace Ridge Red (Knights Valley)",
         "marker": {
          "color": "#FF97FF",
          "symbol": "circle"
         },
         "mode": "markers",
         "name": "2007 Highlands Estates Trace Ridge Red (Knights Valley)",
         "orientation": "v",
         "showlegend": true,
         "type": "scatter",
         "x": [
          14193
         ],
         "xaxis": "x",
         "y": [
          92
         ],
         "yaxis": "y"
        },
        {
         "hovertemplate": "color=2001 Stature Red (Napa Valley)<br>index=%{x}<br>value=%{y}<extra></extra>",
         "legendgroup": "2001 Stature Red (Napa Valley)",
         "marker": {
          "color": "#FECB52",
          "symbol": "circle"
         },
         "mode": "markers",
         "name": "2001 Stature Red (Napa Valley)",
         "orientation": "v",
         "showlegend": true,
         "type": "scatter",
         "x": [
          14522
         ],
         "xaxis": "x",
         "y": [
          90
         ],
         "yaxis": "y"
        },
        {
         "hovertemplate": "color=2013 Avant Sauvignon Blanc (California)<br>index=%{x}<br>value=%{y}<extra></extra>",
         "legendgroup": "2013 Avant Sauvignon Blanc (California)",
         "marker": {
          "color": "#636efa",
          "symbol": "circle"
         },
         "mode": "markers",
         "name": "2013 Avant Sauvignon Blanc (California)",
         "orientation": "v",
         "showlegend": true,
         "type": "scatter",
         "x": [
          15292
         ],
         "xaxis": "x",
         "y": [
          87
         ],
         "yaxis": "y"
        },
        {
         "hovertemplate": "color=2009 Late Harvest Riesling (Monterey County)<br>index=%{x}<br>value=%{y}<extra></extra>",
         "legendgroup": "2009 Late Harvest Riesling (Monterey County)",
         "marker": {
          "color": "#EF553B",
          "symbol": "circle"
         },
         "mode": "markers",
         "name": "2009 Late Harvest Riesling (Monterey County)",
         "orientation": "v",
         "showlegend": true,
         "type": "scatter",
         "x": [
          15596
         ],
         "xaxis": "x",
         "y": [
          86
         ],
         "yaxis": "y"
        },
        {
         "hovertemplate": "color=2005 Vintner's Reserve Sauvignon Blanc (California)<br>index=%{x}<br>value=%{y}<extra></extra>",
         "legendgroup": "2005 Vintner's Reserve Sauvignon Blanc (California)",
         "marker": {
          "color": "#00cc96",
          "symbol": "circle"
         },
         "mode": "markers",
         "name": "2005 Vintner's Reserve Sauvignon Blanc (California)",
         "orientation": "v",
         "showlegend": true,
         "type": "scatter",
         "x": [
          17310
         ],
         "xaxis": "x",
         "y": [
          84
         ],
         "yaxis": "y"
        },
        {
         "hovertemplate": "color=2008 Grand Reserve Pinot Gris (Monterey County)<br>index=%{x}<br>value=%{y}<extra></extra>",
         "legendgroup": "2008 Grand Reserve Pinot Gris (Monterey County)",
         "marker": {
          "color": "#ab63fa",
          "symbol": "circle"
         },
         "mode": "markers",
         "name": "2008 Grand Reserve Pinot Gris (Monterey County)",
         "orientation": "v",
         "showlegend": true,
         "type": "scatter",
         "x": [
          18612
         ],
         "xaxis": "x",
         "y": [
          85
         ],
         "yaxis": "y"
        },
        {
         "hovertemplate": "color=2020 Panorama Vineyard Jackson Estate Rosé of Pinot Noir (Arroyo Seco)<br>index=%{x}<br>value=%{y}<extra></extra>",
         "legendgroup": "2020 Panorama Vineyard Jackson Estate Rosé of Pinot Noir (Arroyo Seco)",
         "marker": {
          "color": "#FFA15A",
          "symbol": "circle"
         },
         "mode": "markers",
         "name": "2020 Panorama Vineyard Jackson Estate Rosé of Pinot Noir (Arroyo Seco)",
         "orientation": "v",
         "showlegend": true,
         "type": "scatter",
         "x": [
          18875
         ],
         "xaxis": "x",
         "y": [
          91
         ],
         "yaxis": "y"
        },
        {
         "hovertemplate": "color=2003 Highlands Estate Napa Mountain Cabernet Sauvignon (Mount Veeder)<br>index=%{x}<br>value=%{y}<extra></extra>",
         "legendgroup": "2003 Highlands Estate Napa Mountain Cabernet Sauvignon (Mount Veeder)",
         "marker": {
          "color": "#19d3f3",
          "symbol": "circle"
         },
         "mode": "markers",
         "name": "2003 Highlands Estate Napa Mountain Cabernet Sauvignon (Mount Veeder)",
         "orientation": "v",
         "showlegend": true,
         "type": "scatter",
         "x": [
          19915
         ],
         "xaxis": "x",
         "y": [
          92
         ],
         "yaxis": "y"
        },
        {
         "hovertemplate": "color=2007 Grand Reserve Cabernet Sauvignon (Sonoma County)<br>index=%{x}<br>value=%{y}<extra></extra>",
         "legendgroup": "2007 Grand Reserve Cabernet Sauvignon (Sonoma County)",
         "marker": {
          "color": "#FF6692",
          "symbol": "circle"
         },
         "mode": "markers",
         "name": "2007 Grand Reserve Cabernet Sauvignon (Sonoma County)",
         "orientation": "v",
         "showlegend": true,
         "type": "scatter",
         "x": [
          21130
         ],
         "xaxis": "x",
         "y": [
          91
         ],
         "yaxis": "y"
        },
        {
         "hovertemplate": "color=2016 Jackson Estate Camelot Highlands Chardonnay (Santa Maria Valley)<br>index=%{x}<br>value=%{y}<extra></extra>",
         "legendgroup": "2016 Jackson Estate Camelot Highlands Chardonnay (Santa Maria Valley)",
         "marker": {
          "color": "#B6E880",
          "symbol": "circle"
         },
         "mode": "markers",
         "name": "2016 Jackson Estate Camelot Highlands Chardonnay (Santa Maria Valley)",
         "orientation": "v",
         "showlegend": true,
         "type": "scatter",
         "x": [
          22795
         ],
         "xaxis": "x",
         "y": [
          89
         ],
         "yaxis": "y"
        },
        {
         "hovertemplate": "color=2006 Grand Reserve Cabernet Sauvignon (Sonoma County)<br>index=%{x}<br>value=%{y}<extra></extra>",
         "legendgroup": "2006 Grand Reserve Cabernet Sauvignon (Sonoma County)",
         "marker": {
          "color": "#FF97FF",
          "symbol": "circle"
         },
         "mode": "markers",
         "name": "2006 Grand Reserve Cabernet Sauvignon (Sonoma County)",
         "orientation": "v",
         "showlegend": true,
         "type": "scatter",
         "x": [
          25627
         ],
         "xaxis": "x",
         "y": [
          91
         ],
         "yaxis": "y"
        },
        {
         "hovertemplate": "color=2019 Stature Chardonnay (Santa Barbara County)<br>index=%{x}<br>value=%{y}<extra></extra>",
         "legendgroup": "2019 Stature Chardonnay (Santa Barbara County)",
         "marker": {
          "color": "#FECB52",
          "symbol": "circle"
         },
         "mode": "markers",
         "name": "2019 Stature Chardonnay (Santa Barbara County)",
         "orientation": "v",
         "showlegend": true,
         "type": "scatter",
         "x": [
          26456
         ],
         "xaxis": "x",
         "y": [
          94
         ],
         "yaxis": "y"
        },
        {
         "hovertemplate": "color=2004 Vintner's Reserve Chardonnay (California)<br>index=%{x}<br>value=%{y}<extra></extra>",
         "legendgroup": "2004 Vintner's Reserve Chardonnay (California)",
         "marker": {
          "color": "#636efa",
          "symbol": "circle"
         },
         "mode": "markers",
         "name": "2004 Vintner's Reserve Chardonnay (California)",
         "orientation": "v",
         "showlegend": true,
         "type": "scatter",
         "x": [
          27050
         ],
         "xaxis": "x",
         "y": [
          84
         ],
         "yaxis": "y"
        },
        {
         "hovertemplate": "color=2009 Jackson Hills Chardonnay (Santa Barbara County)<br>index=%{x}<br>value=%{y}<extra></extra>",
         "legendgroup": "2009 Jackson Hills Chardonnay (Santa Barbara County)",
         "marker": {
          "color": "#EF553B",
          "symbol": "circle"
         },
         "mode": "markers",
         "name": "2009 Jackson Hills Chardonnay (Santa Barbara County)",
         "orientation": "v",
         "showlegend": true,
         "type": "scatter",
         "x": [
          27405
         ],
         "xaxis": "x",
         "y": [
          92
         ],
         "yaxis": "y"
        },
        {
         "hovertemplate": "color=2003 Vintner's Reserve Cabernet Sauvignon (Sonoma-Napa-Mendocino)<br>index=%{x}<br>value=%{y}<extra></extra>",
         "legendgroup": "2003 Vintner's Reserve Cabernet Sauvignon (Sonoma-Napa-Mendocino)",
         "marker": {
          "color": "#00cc96",
          "symbol": "circle"
         },
         "mode": "markers",
         "name": "2003 Vintner's Reserve Cabernet Sauvignon (Sonoma-Napa-Mendocino)",
         "orientation": "v",
         "showlegend": true,
         "type": "scatter",
         "x": [
          28142
         ],
         "xaxis": "x",
         "y": [
          86
         ],
         "yaxis": "y"
        },
        {
         "hovertemplate": "color=2009 Avant Chardonnay (California)<br>index=%{x}<br>value=%{y}<extra></extra>",
         "legendgroup": "2009 Avant Chardonnay (California)",
         "marker": {
          "color": "#ab63fa",
          "symbol": "circle"
         },
         "mode": "markers",
         "name": "2009 Avant Chardonnay (California)",
         "orientation": "v",
         "showlegend": true,
         "type": "scatter",
         "x": [
          28486
         ],
         "xaxis": "x",
         "y": [
          90
         ],
         "yaxis": "y"
        },
        {
         "hovertemplate": "color=2016 Vintner's Reserve Chardonnay (California)<br>index=%{x}<br>value=%{y}<extra></extra>",
         "legendgroup": "2016 Vintner's Reserve Chardonnay (California)",
         "marker": {
          "color": "#FFA15A",
          "symbol": "circle"
         },
         "mode": "markers",
         "name": "2016 Vintner's Reserve Chardonnay (California)",
         "orientation": "v",
         "showlegend": true,
         "type": "scatter",
         "x": [
          29251
         ],
         "xaxis": "x",
         "y": [
          91
         ],
         "yaxis": "y"
        },
        {
         "hovertemplate": "color=2001 Collage Cabernet Sauvignon-Merlot (California)<br>index=%{x}<br>value=%{y}<extra></extra>",
         "legendgroup": "2001 Collage Cabernet Sauvignon-Merlot (California)",
         "marker": {
          "color": "#19d3f3",
          "symbol": "circle"
         },
         "mode": "markers",
         "name": "2001 Collage Cabernet Sauvignon-Merlot (California)",
         "orientation": "v",
         "showlegend": true,
         "type": "scatter",
         "x": [
          29653
         ],
         "xaxis": "x",
         "y": [
          84
         ],
         "yaxis": "y"
        },
        {
         "hovertemplate": "color=2002 Taylor Peak Estate Merlot (Sonoma County)<br>index=%{x}<br>value=%{y}<extra></extra>",
         "legendgroup": "2002 Taylor Peak Estate Merlot (Sonoma County)",
         "marker": {
          "color": "#FF6692",
          "symbol": "circle"
         },
         "mode": "markers",
         "name": "2002 Taylor Peak Estate Merlot (Sonoma County)",
         "orientation": "v",
         "showlegend": true,
         "type": "scatter",
         "x": [
          30136
         ],
         "xaxis": "x",
         "y": [
          92
         ],
         "yaxis": "y"
        },
        {
         "hovertemplate": "color=2012 Avant Chardonnay (California)<br>index=%{x}<br>value=%{y}<extra></extra>",
         "legendgroup": "2012 Avant Chardonnay (California)",
         "marker": {
          "color": "#B6E880",
          "symbol": "circle"
         },
         "mode": "markers",
         "name": "2012 Avant Chardonnay (California)",
         "orientation": "v",
         "showlegend": true,
         "type": "scatter",
         "x": [
          30560
         ],
         "xaxis": "x",
         "y": [
          86
         ],
         "yaxis": "y"
        },
        {
         "hovertemplate": "color=2000 Stature Merlot (Sonoma County)<br>index=%{x}<br>value=%{y}<extra></extra>",
         "legendgroup": "2000 Stature Merlot (Sonoma County)",
         "marker": {
          "color": "#FF97FF",
          "symbol": "circle"
         },
         "mode": "markers",
         "name": "2000 Stature Merlot (Sonoma County)",
         "orientation": "v",
         "showlegend": true,
         "type": "scatter",
         "x": [
          32308
         ],
         "xaxis": "x",
         "y": [
          86
         ],
         "yaxis": "y"
        },
        {
         "hovertemplate": "color=2015 Vintner's Reserve Zinfandel (California)<br>index=%{x}<br>value=%{y}<extra></extra>",
         "legendgroup": "2015 Vintner's Reserve Zinfandel (California)",
         "marker": {
          "color": "#FECB52",
          "symbol": "circle"
         },
         "mode": "markers",
         "name": "2015 Vintner's Reserve Zinfandel (California)",
         "orientation": "v",
         "showlegend": true,
         "type": "scatter",
         "x": [
          32912
         ],
         "xaxis": "x",
         "y": [
          88
         ],
         "yaxis": "y"
        },
        {
         "hovertemplate": "color=2012 Vintner's Reserve Chardonnay (California)<br>index=%{x}<br>value=%{y}<extra></extra>",
         "legendgroup": "2012 Vintner's Reserve Chardonnay (California)",
         "marker": {
          "color": "#636efa",
          "symbol": "circle"
         },
         "mode": "markers",
         "name": "2012 Vintner's Reserve Chardonnay (California)",
         "orientation": "v",
         "showlegend": true,
         "type": "scatter",
         "x": [
          33340
         ],
         "xaxis": "x",
         "y": [
          85
         ],
         "yaxis": "y"
        },
        {
         "hovertemplate": "color=2019 Vintner's Reserve Chardonnay (California)<br>index=%{x}<br>value=%{y}<extra></extra>",
         "legendgroup": "2019 Vintner's Reserve Chardonnay (California)",
         "marker": {
          "color": "#EF553B",
          "symbol": "circle"
         },
         "mode": "markers",
         "name": "2019 Vintner's Reserve Chardonnay (California)",
         "orientation": "v",
         "showlegend": true,
         "type": "scatter",
         "x": [
          34946
         ],
         "xaxis": "x",
         "y": [
          92
         ],
         "yaxis": "y"
        },
        {
         "hovertemplate": "color=2007 Vintner's Reserve Zinfandel (Mendocino County)<br>index=%{x}<br>value=%{y}<extra></extra>",
         "legendgroup": "2007 Vintner's Reserve Zinfandel (Mendocino County)",
         "marker": {
          "color": "#00cc96",
          "symbol": "circle"
         },
         "mode": "markers",
         "name": "2007 Vintner's Reserve Zinfandel (Mendocino County)",
         "orientation": "v",
         "showlegend": true,
         "type": "scatter",
         "x": [
          35968
         ],
         "xaxis": "x",
         "y": [
          86
         ],
         "yaxis": "y"
        },
        {
         "hovertemplate": "color=2005 Vintner's Reserve Cabernet Sauvignon (California)<br>index=%{x}<br>value=%{y}<extra></extra>",
         "legendgroup": "2005 Vintner's Reserve Cabernet Sauvignon (California)",
         "marker": {
          "color": "#ab63fa",
          "symbol": "circle"
         },
         "mode": "markers",
         "name": "2005 Vintner's Reserve Cabernet Sauvignon (California)",
         "orientation": "v",
         "showlegend": true,
         "type": "scatter",
         "x": [
          36600
         ],
         "xaxis": "x",
         "y": [
          83
         ],
         "yaxis": "y"
        },
        {
         "hovertemplate": "color=2007 Jackson Hills Cabernet Sauvignon (Knights Valley)<br>index=%{x}<br>value=%{y}<extra></extra>",
         "legendgroup": "2007 Jackson Hills Cabernet Sauvignon (Knights Valley)",
         "marker": {
          "color": "#FFA15A",
          "symbol": "circle"
         },
         "mode": "markers",
         "name": "2007 Jackson Hills Cabernet Sauvignon (Knights Valley)",
         "orientation": "v",
         "showlegend": true,
         "type": "scatter",
         "x": [
          37002
         ],
         "xaxis": "x",
         "y": [
          93
         ],
         "yaxis": "y"
        },
        {
         "hovertemplate": "color=2002 Sable Mountain Estate Merlot (Mendocino)<br>index=%{x}<br>value=%{y}<extra></extra>",
         "legendgroup": "2002 Sable Mountain Estate Merlot (Mendocino)",
         "marker": {
          "color": "#19d3f3",
          "symbol": "circle"
         },
         "mode": "markers",
         "name": "2002 Sable Mountain Estate Merlot (Mendocino)",
         "orientation": "v",
         "showlegend": true,
         "type": "scatter",
         "x": [
          37388
         ],
         "xaxis": "x",
         "y": [
          87
         ],
         "yaxis": "y"
        },
        {
         "hovertemplate": "color=2010 Vintner's Reserve Chardonnay (California)<br>index=%{x}<br>value=%{y}<extra></extra>",
         "legendgroup": "2010 Vintner's Reserve Chardonnay (California)",
         "marker": {
          "color": "#FF6692",
          "symbol": "circle"
         },
         "mode": "markers",
         "name": "2010 Vintner's Reserve Chardonnay (California)",
         "orientation": "v",
         "showlegend": true,
         "type": "scatter",
         "x": [
          39379
         ],
         "xaxis": "x",
         "y": [
          88
         ],
         "yaxis": "y"
        },
        {
         "hovertemplate": "color=2016 Jackson Estate Outland Ridge Pinot Noir (Anderson Valley)<br>index=%{x}<br>value=%{y}<extra></extra>",
         "legendgroup": "2016 Jackson Estate Outland Ridge Pinot Noir (Anderson Valley)",
         "marker": {
          "color": "#B6E880",
          "symbol": "circle"
         },
         "mode": "markers",
         "name": "2016 Jackson Estate Outland Ridge Pinot Noir (Anderson Valley)",
         "orientation": "v",
         "showlegend": true,
         "type": "scatter",
         "x": [
          40659
         ],
         "xaxis": "x",
         "y": [
          96
         ],
         "yaxis": "y"
        },
        {
         "hovertemplate": "color=2011 Grand Reserve Chardonnay (Santa Barbara-Monterey)<br>index=%{x}<br>value=%{y}<extra></extra>",
         "legendgroup": "2011 Grand Reserve Chardonnay (Santa Barbara-Monterey)",
         "marker": {
          "color": "#FF97FF",
          "symbol": "circle"
         },
         "mode": "markers",
         "name": "2011 Grand Reserve Chardonnay (Santa Barbara-Monterey)",
         "orientation": "v",
         "showlegend": true,
         "type": "scatter",
         "x": [
          40999
         ],
         "xaxis": "x",
         "y": [
          89
         ],
         "yaxis": "y"
        },
        {
         "hovertemplate": "color=2010 Grand Reserve Merlot (Sonoma County)<br>index=%{x}<br>value=%{y}<extra></extra>",
         "legendgroup": "2010 Grand Reserve Merlot (Sonoma County)",
         "marker": {
          "color": "#FECB52",
          "symbol": "circle"
         },
         "mode": "markers",
         "name": "2010 Grand Reserve Merlot (Sonoma County)",
         "orientation": "v",
         "showlegend": true,
         "type": "scatter",
         "x": [
          42102
         ],
         "xaxis": "x",
         "y": [
          93
         ],
         "yaxis": "y"
        },
        {
         "hovertemplate": "color=2004 Taylor Peak Estate Merlot (Bennett Valley)<br>index=%{x}<br>value=%{y}<extra></extra>",
         "legendgroup": "2004 Taylor Peak Estate Merlot (Bennett Valley)",
         "marker": {
          "color": "#636efa",
          "symbol": "circle"
         },
         "mode": "markers",
         "name": "2004 Taylor Peak Estate Merlot (Bennett Valley)",
         "orientation": "v",
         "showlegend": true,
         "type": "scatter",
         "x": [
          42520
         ],
         "xaxis": "x",
         "y": [
          93
         ],
         "yaxis": "y"
        },
        {
         "hovertemplate": "color=2009 Vintner's Reserve Zinfandel (Mendocino County)<br>index=%{x}<br>value=%{y}<extra></extra>",
         "legendgroup": "2009 Vintner's Reserve Zinfandel (Mendocino County)",
         "marker": {
          "color": "#EF553B",
          "symbol": "circle"
         },
         "mode": "markers",
         "name": "2009 Vintner's Reserve Zinfandel (Mendocino County)",
         "orientation": "v",
         "showlegend": true,
         "type": "scatter",
         "x": [
          42533
         ],
         "xaxis": "x",
         "y": [
          87
         ],
         "yaxis": "y"
        },
        {
         "hovertemplate": "color=2012 Jackson Estate Cabernet Sauvignon (Alexander Valley)<br>index=%{x}<br>value=%{y}<extra></extra>",
         "legendgroup": "2012 Jackson Estate Cabernet Sauvignon (Alexander Valley)",
         "marker": {
          "color": "#00cc96",
          "symbol": "circle"
         },
         "mode": "markers",
         "name": "2012 Jackson Estate Cabernet Sauvignon (Alexander Valley)",
         "orientation": "v",
         "showlegend": true,
         "type": "scatter",
         "x": [
          42614
         ],
         "xaxis": "x",
         "y": [
          90
         ],
         "yaxis": "y"
        },
        {
         "hovertemplate": "color=2009 Vintner's Reserve Syrah (Santa Barbara County)<br>index=%{x}<br>value=%{y}<extra></extra>",
         "legendgroup": "2009 Vintner's Reserve Syrah (Santa Barbara County)",
         "marker": {
          "color": "#ab63fa",
          "symbol": "circle"
         },
         "mode": "markers",
         "name": "2009 Vintner's Reserve Syrah (Santa Barbara County)",
         "orientation": "v",
         "showlegend": true,
         "type": "scatter",
         "x": [
          42667
         ],
         "xaxis": "x",
         "y": [
          90
         ],
         "yaxis": "y"
        },
        {
         "hovertemplate": "color=1998 Grand Reserve Chardonnay (California)<br>index=%{x}<br>value=%{y}<extra></extra>",
         "legendgroup": "1998 Grand Reserve Chardonnay (California)",
         "marker": {
          "color": "#FFA15A",
          "symbol": "circle"
         },
         "mode": "markers",
         "name": "1998 Grand Reserve Chardonnay (California)",
         "orientation": "v",
         "showlegend": true,
         "type": "scatter",
         "x": [
          43792
         ],
         "xaxis": "x",
         "y": [
          89
         ],
         "yaxis": "y"
        },
        {
         "hovertemplate": "color=1999 Great Estates Chardonnay (Sonoma Coast)<br>index=%{x}<br>value=%{y}<extra></extra>",
         "legendgroup": "1999 Great Estates Chardonnay (Sonoma Coast)",
         "marker": {
          "color": "#19d3f3",
          "symbol": "circle"
         },
         "mode": "markers",
         "name": "1999 Great Estates Chardonnay (Sonoma Coast)",
         "orientation": "v",
         "showlegend": true,
         "type": "scatter",
         "x": [
          44328
         ],
         "xaxis": "x",
         "y": [
          88
         ],
         "yaxis": "y"
        },
        {
         "hovertemplate": "color=2014 Jackson Estate Chardonnay (Santa Maria Valley)<br>index=%{x}<br>value=%{y}<extra></extra>",
         "legendgroup": "2014 Jackson Estate Chardonnay (Santa Maria Valley)",
         "marker": {
          "color": "#FF6692",
          "symbol": "circle"
         },
         "mode": "markers",
         "name": "2014 Jackson Estate Chardonnay (Santa Maria Valley)",
         "orientation": "v",
         "showlegend": true,
         "type": "scatter",
         "x": [
          45315
         ],
         "xaxis": "x",
         "y": [
          91
         ],
         "yaxis": "y"
        },
        {
         "hovertemplate": "color=2002 Grand Reserve Chardonnay (California)<br>index=%{x}<br>value=%{y}<extra></extra>",
         "legendgroup": "2002 Grand Reserve Chardonnay (California)",
         "marker": {
          "color": "#B6E880",
          "symbol": "circle"
         },
         "mode": "markers",
         "name": "2002 Grand Reserve Chardonnay (California)",
         "orientation": "v",
         "showlegend": true,
         "type": "scatter",
         "x": [
          46712
         ],
         "xaxis": "x",
         "y": [
          89
         ],
         "yaxis": "y"
        },
        {
         "hovertemplate": "color=2004 Vintner's Reserve Syrah (California)<br>index=%{x}<br>value=%{y}<extra></extra>",
         "legendgroup": "2004 Vintner's Reserve Syrah (California)",
         "marker": {
          "color": "#FF97FF",
          "symbol": "circle"
         },
         "mode": "markers",
         "name": "2004 Vintner's Reserve Syrah (California)",
         "orientation": "v",
         "showlegend": true,
         "type": "scatter",
         "x": [
          48184
         ],
         "xaxis": "x",
         "y": [
          85
         ],
         "yaxis": "y"
        },
        {
         "hovertemplate": "color=2019 Winemaker's Block Chardonnay (Monterey County)<br>index=%{x}<br>value=%{y}<extra></extra>",
         "legendgroup": "2019 Winemaker's Block Chardonnay (Monterey County)",
         "marker": {
          "color": "#FECB52",
          "symbol": "circle"
         },
         "mode": "markers",
         "name": "2019 Winemaker's Block Chardonnay (Monterey County)",
         "orientation": "v",
         "showlegend": true,
         "type": "scatter",
         "x": [
          48728
         ],
         "xaxis": "x",
         "y": [
          88
         ],
         "yaxis": "y"
        },
        {
         "hovertemplate": "color=2000 Great Estates Zinfandel (Mendocino)<br>index=%{x}<br>value=%{y}<extra></extra>",
         "legendgroup": "2000 Great Estates Zinfandel (Mendocino)",
         "marker": {
          "color": "#636efa",
          "symbol": "circle"
         },
         "mode": "markers",
         "name": "2000 Great Estates Zinfandel (Mendocino)",
         "orientation": "v",
         "showlegend": true,
         "type": "scatter",
         "x": [
          49085
         ],
         "xaxis": "x",
         "y": [
          91
         ],
         "yaxis": "y"
        },
        {
         "hovertemplate": "color=2014 Vintner's Reserve Merlot (Sonoma County)<br>index=%{x}<br>value=%{y}<extra></extra>",
         "legendgroup": "2014 Vintner's Reserve Merlot (Sonoma County)",
         "marker": {
          "color": "#EF553B",
          "symbol": "circle"
         },
         "mode": "markers",
         "name": "2014 Vintner's Reserve Merlot (Sonoma County)",
         "orientation": "v",
         "showlegend": true,
         "type": "scatter",
         "x": [
          49168
         ],
         "xaxis": "x",
         "y": [
          86
         ],
         "yaxis": "y"
        },
        {
         "hovertemplate": "color=2018 Vintner's Reserve Red (California)<br>index=%{x}<br>value=%{y}<extra></extra>",
         "legendgroup": "2018 Vintner's Reserve Red (California)",
         "marker": {
          "color": "#00cc96",
          "symbol": "circle"
         },
         "mode": "markers",
         "name": "2018 Vintner's Reserve Red (California)",
         "orientation": "v",
         "showlegend": true,
         "type": "scatter",
         "x": [
          49417
         ],
         "xaxis": "x",
         "y": [
          88
         ],
         "yaxis": "y"
        },
        {
         "hovertemplate": "color=2008 Vintner's Reserve Merlot (Sonoma County)<br>index=%{x}<br>value=%{y}<extra></extra>",
         "legendgroup": "2008 Vintner's Reserve Merlot (Sonoma County)",
         "marker": {
          "color": "#ab63fa",
          "symbol": "circle"
         },
         "mode": "markers",
         "name": "2008 Vintner's Reserve Merlot (Sonoma County)",
         "orientation": "v",
         "showlegend": true,
         "type": "scatter",
         "x": [
          49673
         ],
         "xaxis": "x",
         "y": [
          90
         ],
         "yaxis": "y"
        },
        {
         "hovertemplate": "color=2015 Jackson Estate Chardonnay (Santa Maria Valley)<br>index=%{x}<br>value=%{y}<extra></extra>",
         "legendgroup": "2015 Jackson Estate Chardonnay (Santa Maria Valley)",
         "marker": {
          "color": "#FFA15A",
          "symbol": "circle"
         },
         "mode": "markers",
         "name": "2015 Jackson Estate Chardonnay (Santa Maria Valley)",
         "orientation": "v",
         "showlegend": true,
         "type": "scatter",
         "x": [
          50395
         ],
         "xaxis": "x",
         "y": [
          87
         ],
         "yaxis": "y"
        },
        {
         "hovertemplate": "color=2019 Grand Reserve Chardonnay (Santa Barbara County)<br>index=%{x}<br>value=%{y}<extra></extra>",
         "legendgroup": "2019 Grand Reserve Chardonnay (Santa Barbara County)",
         "marker": {
          "color": "#19d3f3",
          "symbol": "circle"
         },
         "mode": "markers",
         "name": "2019 Grand Reserve Chardonnay (Santa Barbara County)",
         "orientation": "v",
         "showlegend": true,
         "type": "scatter",
         "x": [
          51160
         ],
         "xaxis": "x",
         "y": [
          89
         ],
         "yaxis": "y"
        },
        {
         "hovertemplate": "color=2012 Vintner's Reserve Pinot Noir (California)<br>index=%{x}<br>value=%{y}<extra></extra>",
         "legendgroup": "2012 Vintner's Reserve Pinot Noir (California)",
         "marker": {
          "color": "#FF6692",
          "symbol": "circle"
         },
         "mode": "markers",
         "name": "2012 Vintner's Reserve Pinot Noir (California)",
         "orientation": "v",
         "showlegend": true,
         "type": "scatter",
         "x": [
          51616
         ],
         "xaxis": "x",
         "y": [
          89
         ],
         "yaxis": "y"
        },
        {
         "hovertemplate": "color=2002 Grand Reserve Sonoma-Mendocino-Napa Counties Merlot (California)<br>index=%{x}<br>value=%{y}<extra></extra>",
         "legendgroup": "2002 Grand Reserve Sonoma-Mendocino-Napa Counties Merlot (California)",
         "marker": {
          "color": "#B6E880",
          "symbol": "circle"
         },
         "mode": "markers",
         "name": "2002 Grand Reserve Sonoma-Mendocino-Napa Counties Merlot (California)",
         "orientation": "v",
         "showlegend": true,
         "type": "scatter",
         "x": [
          52318
         ],
         "xaxis": "x",
         "y": [
          84
         ],
         "yaxis": "y"
        },
        {
         "hovertemplate": "color=1999 Great Estates Chardonnay (Sonoma Valley)<br>index=%{x}<br>value=%{y}<extra></extra>",
         "legendgroup": "1999 Great Estates Chardonnay (Sonoma Valley)",
         "marker": {
          "color": "#FF97FF",
          "symbol": "circle"
         },
         "mode": "markers",
         "name": "1999 Great Estates Chardonnay (Sonoma Valley)",
         "orientation": "v",
         "showlegend": true,
         "type": "scatter",
         "x": [
          52419
         ],
         "xaxis": "x",
         "y": [
          90
         ],
         "yaxis": "y"
        },
        {
         "hovertemplate": "color=2014 Stature Cabernet Sauvignon (Sonoma County)<br>index=%{x}<br>value=%{y}<extra></extra>",
         "legendgroup": "2014 Stature Cabernet Sauvignon (Sonoma County)",
         "marker": {
          "color": "#FECB52",
          "symbol": "circle"
         },
         "mode": "markers",
         "name": "2014 Stature Cabernet Sauvignon (Sonoma County)",
         "orientation": "v",
         "showlegend": true,
         "type": "scatter",
         "x": [
          53469
         ],
         "xaxis": "x",
         "y": [
          92
         ],
         "yaxis": "y"
        },
        {
         "hovertemplate": "color=2000 Vintner's Reserve Pinot Noir (California)<br>index=%{x}<br>value=%{y}<extra></extra>",
         "legendgroup": "2000 Vintner's Reserve Pinot Noir (California)",
         "marker": {
          "color": "#636efa",
          "symbol": "circle"
         },
         "mode": "markers",
         "name": "2000 Vintner's Reserve Pinot Noir (California)",
         "orientation": "v",
         "showlegend": true,
         "type": "scatter",
         "x": [
          55139
         ],
         "xaxis": "x",
         "y": [
          83
         ],
         "yaxis": "y"
        },
        {
         "hovertemplate": "color=2001 Cabernet Sauvignon (California)<br>index=%{x}<br>value=%{y}<extra></extra>",
         "legendgroup": "2001 Cabernet Sauvignon (California)",
         "marker": {
          "color": "#EF553B",
          "symbol": "circle"
         },
         "mode": "markers",
         "name": "2001 Cabernet Sauvignon (California)",
         "orientation": "v",
         "showlegend": true,
         "type": "scatter",
         "x": [
          55361
         ],
         "xaxis": "x",
         "y": [
          86
         ],
         "yaxis": "y"
        },
        {
         "hovertemplate": "color=2000 Vintner's Reserve Sauvignon Blanc (California)<br>index=%{x}<br>value=%{y}<extra></extra>",
         "legendgroup": "2000 Vintner's Reserve Sauvignon Blanc (California)",
         "marker": {
          "color": "#00cc96",
          "symbol": "circle"
         },
         "mode": "markers",
         "name": "2000 Vintner's Reserve Sauvignon Blanc (California)",
         "orientation": "v",
         "showlegend": true,
         "type": "scatter",
         "x": [
          55435
         ],
         "xaxis": "x",
         "y": [
          83
         ],
         "yaxis": "y"
        },
        {
         "hovertemplate": "color=2012 Grand Reserve Chardonnay (Monterey-Santa Barbara)<br>index=%{x}<br>value=%{y}<extra></extra>",
         "legendgroup": "2012 Grand Reserve Chardonnay (Monterey-Santa Barbara)",
         "marker": {
          "color": "#ab63fa",
          "symbol": "circle"
         },
         "mode": "markers",
         "name": "2012 Grand Reserve Chardonnay (Monterey-Santa Barbara)",
         "orientation": "v",
         "showlegend": true,
         "type": "scatter",
         "x": [
          55712
         ],
         "xaxis": "x",
         "y": [
          86
         ],
         "yaxis": "y"
        },
        {
         "hovertemplate": "color=2006 Vintner's Reserve Merlot (Sonoma-Napa-Mendocino)<br>index=%{x}<br>value=%{y}<extra></extra>",
         "legendgroup": "2006 Vintner's Reserve Merlot (Sonoma-Napa-Mendocino)",
         "marker": {
          "color": "#FFA15A",
          "symbol": "circle"
         },
         "mode": "markers",
         "name": "2006 Vintner's Reserve Merlot (Sonoma-Napa-Mendocino)",
         "orientation": "v",
         "showlegend": true,
         "type": "scatter",
         "x": [
          57864
         ],
         "xaxis": "x",
         "y": [
          87
         ],
         "yaxis": "y"
        },
        {
         "hovertemplate": "color=2012 Vintner's Reserve Cabernet Sauvignon (Sonoma County)<br>index=%{x}<br>value=%{y}<extra></extra>",
         "legendgroup": "2012 Vintner's Reserve Cabernet Sauvignon (Sonoma County)",
         "marker": {
          "color": "#19d3f3",
          "symbol": "circle"
         },
         "mode": "markers",
         "name": "2012 Vintner's Reserve Cabernet Sauvignon (Sonoma County)",
         "orientation": "v",
         "showlegend": true,
         "type": "scatter",
         "x": [
          58631
         ],
         "xaxis": "x",
         "y": [
          87
         ],
         "yaxis": "y"
        },
        {
         "hovertemplate": "color=1999 Grand Reserve Syrah (California)<br>index=%{x}<br>value=%{y}<extra></extra>",
         "legendgroup": "1999 Grand Reserve Syrah (California)",
         "marker": {
          "color": "#FF6692",
          "symbol": "circle"
         },
         "mode": "markers",
         "name": "1999 Grand Reserve Syrah (California)",
         "orientation": "v",
         "showlegend": true,
         "type": "scatter",
         "x": [
          58708
         ],
         "xaxis": "x",
         "y": [
          87
         ],
         "yaxis": "y"
        },
        {
         "hovertemplate": "color=2006 Grand Reserve Pinot Noir (Monterey County)<br>index=%{x}<br>value=%{y}<extra></extra>",
         "legendgroup": "2006 Grand Reserve Pinot Noir (Monterey County)",
         "marker": {
          "color": "#B6E880",
          "symbol": "circle"
         },
         "mode": "markers",
         "name": "2006 Grand Reserve Pinot Noir (Monterey County)",
         "orientation": "v",
         "showlegend": true,
         "type": "scatter",
         "x": [
          58781
         ],
         "xaxis": "x",
         "y": [
          92
         ],
         "yaxis": "y"
        },
        {
         "hovertemplate": "color=2011 Vintner's Reserve Sauvignon Blanc (California)<br>index=%{x}<br>value=%{y}<extra></extra>",
         "legendgroup": "2011 Vintner's Reserve Sauvignon Blanc (California)",
         "marker": {
          "color": "#FF97FF",
          "symbol": "circle"
         },
         "mode": "markers",
         "name": "2011 Vintner's Reserve Sauvignon Blanc (California)",
         "orientation": "v",
         "showlegend": true,
         "type": "scatter",
         "x": [
          60071
         ],
         "xaxis": "x",
         "y": [
          84
         ],
         "yaxis": "y"
        },
        {
         "hovertemplate": "color=2004 Trace Ridge Estate Cabernet Sauvignon (Knights Valley)<br>index=%{x}<br>value=%{y}<extra></extra>",
         "legendgroup": "2004 Trace Ridge Estate Cabernet Sauvignon (Knights Valley)",
         "marker": {
          "color": "#FECB52",
          "symbol": "circle"
         },
         "mode": "markers",
         "name": "2004 Trace Ridge Estate Cabernet Sauvignon (Knights Valley)",
         "orientation": "v",
         "showlegend": true,
         "type": "scatter",
         "x": [
          60233
         ],
         "xaxis": "x",
         "y": [
          94
         ],
         "yaxis": "y"
        },
        {
         "hovertemplate": "color=2006 Highland Estates Taylor Peak Merlot (Bennett Valley)<br>index=%{x}<br>value=%{y}<extra></extra>",
         "legendgroup": "2006 Highland Estates Taylor Peak Merlot (Bennett Valley)",
         "marker": {
          "color": "#636efa",
          "symbol": "circle"
         },
         "mode": "markers",
         "name": "2006 Highland Estates Taylor Peak Merlot (Bennett Valley)",
         "orientation": "v",
         "showlegend": true,
         "type": "scatter",
         "x": [
          61383
         ],
         "xaxis": "x",
         "y": [
          92
         ],
         "yaxis": "y"
        },
        {
         "hovertemplate": "color=2019 Jackson Estate Nielson Vineyard Pinot Blanc (Santa Maria Valley)<br>index=%{x}<br>value=%{y}<extra></extra>",
         "legendgroup": "2019 Jackson Estate Nielson Vineyard Pinot Blanc (Santa Maria Valley)",
         "marker": {
          "color": "#EF553B",
          "symbol": "circle"
         },
         "mode": "markers",
         "name": "2019 Jackson Estate Nielson Vineyard Pinot Blanc (Santa Maria Valley)",
         "orientation": "v",
         "showlegend": true,
         "type": "scatter",
         "x": [
          61989
         ],
         "xaxis": "x",
         "y": [
          92
         ],
         "yaxis": "y"
        },
        {
         "hovertemplate": "color=1997 Vintner's Reserve Cabernet Sauvignon (Calaveras County)<br>index=%{x}<br>value=%{y}<extra></extra>",
         "legendgroup": "1997 Vintner's Reserve Cabernet Sauvignon (Calaveras County)",
         "marker": {
          "color": "#00cc96",
          "symbol": "circle"
         },
         "mode": "markers",
         "name": "1997 Vintner's Reserve Cabernet Sauvignon (Calaveras County)",
         "orientation": "v",
         "showlegend": true,
         "type": "scatter",
         "x": [
          63236
         ],
         "xaxis": "x",
         "y": [
          88
         ],
         "yaxis": "y"
        },
        {
         "hovertemplate": "color=2013 Jackson Estate Pinot Noir (Anderson Valley)<br>index=%{x}<br>value=%{y}<extra></extra>",
         "legendgroup": "2013 Jackson Estate Pinot Noir (Anderson Valley)",
         "marker": {
          "color": "#ab63fa",
          "symbol": "circle"
         },
         "mode": "markers",
         "name": "2013 Jackson Estate Pinot Noir (Anderson Valley)",
         "orientation": "v",
         "showlegend": true,
         "type": "scatter",
         "x": [
          63440
         ],
         "xaxis": "x",
         "y": [
          91
         ],
         "yaxis": "y"
        },
        {
         "hovertemplate": "color=2005 Highlands Estate Napa Mountain Cabernet Sauvignon (Mount Veeder)<br>index=%{x}<br>value=%{y}<extra></extra>",
         "legendgroup": "2005 Highlands Estate Napa Mountain Cabernet Sauvignon (Mount Veeder)",
         "marker": {
          "color": "#FFA15A",
          "symbol": "circle"
         },
         "mode": "markers",
         "name": "2005 Highlands Estate Napa Mountain Cabernet Sauvignon (Mount Veeder)",
         "orientation": "v",
         "showlegend": true,
         "type": "scatter",
         "x": [
          64129
         ],
         "xaxis": "x",
         "y": [
          96
         ],
         "yaxis": "y"
        },
        {
         "hovertemplate": "color=2004 Grand Reserve Cabernet Sauvignon (Sonoma-Napa)<br>index=%{x}<br>value=%{y}<extra></extra>",
         "legendgroup": "2004 Grand Reserve Cabernet Sauvignon (Sonoma-Napa)",
         "marker": {
          "color": "#19d3f3",
          "symbol": "circle"
         },
         "mode": "markers",
         "name": "2004 Grand Reserve Cabernet Sauvignon (Sonoma-Napa)",
         "orientation": "v",
         "showlegend": true,
         "type": "scatter",
         "x": [
          64356,
          246133
         ],
         "xaxis": "x",
         "y": [
          87,
          89
         ],
         "yaxis": "y"
        },
        {
         "hovertemplate": "color=1998 Vintner's Reserve Pinot Noir (California)<br>index=%{x}<br>value=%{y}<extra></extra>",
         "legendgroup": "1998 Vintner's Reserve Pinot Noir (California)",
         "marker": {
          "color": "#FF6692",
          "symbol": "circle"
         },
         "mode": "markers",
         "name": "1998 Vintner's Reserve Pinot Noir (California)",
         "orientation": "v",
         "showlegend": true,
         "type": "scatter",
         "x": [
          64815
         ],
         "xaxis": "x",
         "y": [
          87
         ],
         "yaxis": "y"
        },
        {
         "hovertemplate": "color=2002 Vintner's Reserve Cabernet Sauvignon (Napa-Mendocino-Sonoma)<br>index=%{x}<br>value=%{y}<extra></extra>",
         "legendgroup": "2002 Vintner's Reserve Cabernet Sauvignon (Napa-Mendocino-Sonoma)",
         "marker": {
          "color": "#B6E880",
          "symbol": "circle"
         },
         "mode": "markers",
         "name": "2002 Vintner's Reserve Cabernet Sauvignon (Napa-Mendocino-Sonoma)",
         "orientation": "v",
         "showlegend": true,
         "type": "scatter",
         "x": [
          64847
         ],
         "xaxis": "x",
         "y": [
          84
         ],
         "yaxis": "y"
        },
        {
         "hovertemplate": "color=2001 Vintner's Reserve Sauvignon Blanc (California)<br>index=%{x}<br>value=%{y}<extra></extra>",
         "legendgroup": "2001 Vintner's Reserve Sauvignon Blanc (California)",
         "marker": {
          "color": "#FF97FF",
          "symbol": "circle"
         },
         "mode": "markers",
         "name": "2001 Vintner's Reserve Sauvignon Blanc (California)",
         "orientation": "v",
         "showlegend": true,
         "type": "scatter",
         "x": [
          66939
         ],
         "xaxis": "x",
         "y": [
          84
         ],
         "yaxis": "y"
        },
        {
         "hovertemplate": "color=2014 Vintner's Reserve Zinfandel (California)<br>index=%{x}<br>value=%{y}<extra></extra>",
         "legendgroup": "2014 Vintner's Reserve Zinfandel (California)",
         "marker": {
          "color": "#FECB52",
          "symbol": "circle"
         },
         "mode": "markers",
         "name": "2014 Vintner's Reserve Zinfandel (California)",
         "orientation": "v",
         "showlegend": true,
         "type": "scatter",
         "x": [
          67437
         ],
         "xaxis": "x",
         "y": [
          89
         ],
         "yaxis": "y"
        },
        {
         "hovertemplate": "color=2019 Estates Collection Pinot Noir (Anderson Valley)<br>index=%{x}<br>value=%{y}<extra></extra>",
         "legendgroup": "2019 Estates Collection Pinot Noir (Anderson Valley)",
         "marker": {
          "color": "#636efa",
          "symbol": "circle"
         },
         "mode": "markers",
         "name": "2019 Estates Collection Pinot Noir (Anderson Valley)",
         "orientation": "v",
         "showlegend": true,
         "type": "scatter",
         "x": [
          67485
         ],
         "xaxis": "x",
         "y": [
          91
         ],
         "yaxis": "y"
        },
        {
         "hovertemplate": "color=2011 Vintner's Reserve Zinfandel (Mendocino County)<br>index=%{x}<br>value=%{y}<extra></extra>",
         "legendgroup": "2011 Vintner's Reserve Zinfandel (Mendocino County)",
         "marker": {
          "color": "#EF553B",
          "symbol": "circle"
         },
         "mode": "markers",
         "name": "2011 Vintner's Reserve Zinfandel (Mendocino County)",
         "orientation": "v",
         "showlegend": true,
         "type": "scatter",
         "x": [
          68624
         ],
         "xaxis": "x",
         "y": [
          88
         ],
         "yaxis": "y"
        },
        {
         "hovertemplate": "color=2006 Vintner's Reserve Pinot Noir (California)<br>index=%{x}<br>value=%{y}<extra></extra>",
         "legendgroup": "2006 Vintner's Reserve Pinot Noir (California)",
         "marker": {
          "color": "#00cc96",
          "symbol": "circle"
         },
         "mode": "markers",
         "name": "2006 Vintner's Reserve Pinot Noir (California)",
         "orientation": "v",
         "showlegend": true,
         "type": "scatter",
         "x": [
          69361
         ],
         "xaxis": "x",
         "y": [
          85
         ],
         "yaxis": "y"
        },
        {
         "hovertemplate": "color=2003 Vintner's Reserve Zinfandel (California)<br>index=%{x}<br>value=%{y}<extra></extra>",
         "legendgroup": "2003 Vintner's Reserve Zinfandel (California)",
         "marker": {
          "color": "#ab63fa",
          "symbol": "circle"
         },
         "mode": "markers",
         "name": "2003 Vintner's Reserve Zinfandel (California)",
         "orientation": "v",
         "showlegend": true,
         "type": "scatter",
         "x": [
          69496
         ],
         "xaxis": "x",
         "y": [
          85
         ],
         "yaxis": "y"
        },
        {
         "hovertemplate": "color=2016 Vintner's Reserve Zinfandel (California)<br>index=%{x}<br>value=%{y}<extra></extra>",
         "legendgroup": "2016 Vintner's Reserve Zinfandel (California)",
         "marker": {
          "color": "#FFA15A",
          "symbol": "circle"
         },
         "mode": "markers",
         "name": "2016 Vintner's Reserve Zinfandel (California)",
         "orientation": "v",
         "showlegend": true,
         "type": "scatter",
         "x": [
          69702
         ],
         "xaxis": "x",
         "y": [
          89
         ],
         "yaxis": "y"
        },
        {
         "hovertemplate": "color=2007 Highlands Estates Alisos Hills Syrah (Santa Barbara County)<br>index=%{x}<br>value=%{y}<extra></extra>",
         "legendgroup": "2007 Highlands Estates Alisos Hills Syrah (Santa Barbara County)",
         "marker": {
          "color": "#19d3f3",
          "symbol": "circle"
         },
         "mode": "markers",
         "name": "2007 Highlands Estates Alisos Hills Syrah (Santa Barbara County)",
         "orientation": "v",
         "showlegend": true,
         "type": "scatter",
         "x": [
          69896
         ],
         "xaxis": "x",
         "y": [
          92
         ],
         "yaxis": "y"
        },
        {
         "hovertemplate": "color=2018 Vintner's Reserve Chardonnay (California)<br>index=%{x}<br>value=%{y}<extra></extra>",
         "legendgroup": "2018 Vintner's Reserve Chardonnay (California)",
         "marker": {
          "color": "#FF6692",
          "symbol": "circle"
         },
         "mode": "markers",
         "name": "2018 Vintner's Reserve Chardonnay (California)",
         "orientation": "v",
         "showlegend": true,
         "type": "scatter",
         "x": [
          70353
         ],
         "xaxis": "x",
         "y": [
          90
         ],
         "yaxis": "y"
        },
        {
         "hovertemplate": "color=2016 Jackson Estate Chardonnay (Santa Maria Valley)<br>index=%{x}<br>value=%{y}<extra></extra>",
         "legendgroup": "2016 Jackson Estate Chardonnay (Santa Maria Valley)",
         "marker": {
          "color": "#B6E880",
          "symbol": "circle"
         },
         "mode": "markers",
         "name": "2016 Jackson Estate Chardonnay (Santa Maria Valley)",
         "orientation": "v",
         "showlegend": true,
         "type": "scatter",
         "x": [
          70617
         ],
         "xaxis": "x",
         "y": [
          88
         ],
         "yaxis": "y"
        },
        {
         "hovertemplate": "color=2017 Grand Reserve Cabernet Sauvignon (Sonoma County)<br>index=%{x}<br>value=%{y}<extra></extra>",
         "legendgroup": "2017 Grand Reserve Cabernet Sauvignon (Sonoma County)",
         "marker": {
          "color": "#FF97FF",
          "symbol": "circle"
         },
         "mode": "markers",
         "name": "2017 Grand Reserve Cabernet Sauvignon (Sonoma County)",
         "orientation": "v",
         "showlegend": true,
         "type": "scatter",
         "x": [
          71343
         ],
         "xaxis": "x",
         "y": [
          88
         ],
         "yaxis": "y"
        },
        {
         "hovertemplate": "color=2005 Vintner's Reserve Syrah (California)<br>index=%{x}<br>value=%{y}<extra></extra>",
         "legendgroup": "2005 Vintner's Reserve Syrah (California)",
         "marker": {
          "color": "#FECB52",
          "symbol": "circle"
         },
         "mode": "markers",
         "name": "2005 Vintner's Reserve Syrah (California)",
         "orientation": "v",
         "showlegend": true,
         "type": "scatter",
         "x": [
          71462
         ],
         "xaxis": "x",
         "y": [
          86
         ],
         "yaxis": "y"
        },
        {
         "hovertemplate": "color=1999 Great Estates Cabernet Sauvignon (Alexander Valley)<br>index=%{x}<br>value=%{y}<extra></extra>",
         "legendgroup": "1999 Great Estates Cabernet Sauvignon (Alexander Valley)",
         "marker": {
          "color": "#636efa",
          "symbol": "circle"
         },
         "mode": "markers",
         "name": "1999 Great Estates Cabernet Sauvignon (Alexander Valley)",
         "orientation": "v",
         "showlegend": true,
         "type": "scatter",
         "x": [
          71972
         ],
         "xaxis": "x",
         "y": [
          85
         ],
         "yaxis": "y"
        },
        {
         "hovertemplate": "color=2009 Grand Reserve Pinot Gris (Monterey County)<br>index=%{x}<br>value=%{y}<extra></extra>",
         "legendgroup": "2009 Grand Reserve Pinot Gris (Monterey County)",
         "marker": {
          "color": "#EF553B",
          "symbol": "circle"
         },
         "mode": "markers",
         "name": "2009 Grand Reserve Pinot Gris (Monterey County)",
         "orientation": "v",
         "showlegend": true,
         "type": "scatter",
         "x": [
          72860
         ],
         "xaxis": "x",
         "y": [
          87
         ],
         "yaxis": "y"
        },
        {
         "hovertemplate": "color=1999 Vintner's Reserve Syrah (California)<br>index=%{x}<br>value=%{y}<extra></extra>",
         "legendgroup": "1999 Vintner's Reserve Syrah (California)",
         "marker": {
          "color": "#00cc96",
          "symbol": "circle"
         },
         "mode": "markers",
         "name": "1999 Vintner's Reserve Syrah (California)",
         "orientation": "v",
         "showlegend": true,
         "type": "scatter",
         "x": [
          74876
         ],
         "xaxis": "x",
         "y": [
          89
         ],
         "yaxis": "y"
        },
        {
         "hovertemplate": "color=2014 Grand Reserve Pinot Noir (Central Coast)<br>index=%{x}<br>value=%{y}<extra></extra>",
         "legendgroup": "2014 Grand Reserve Pinot Noir (Central Coast)",
         "marker": {
          "color": "#ab63fa",
          "symbol": "circle"
         },
         "mode": "markers",
         "name": "2014 Grand Reserve Pinot Noir (Central Coast)",
         "orientation": "v",
         "showlegend": true,
         "type": "scatter",
         "x": [
          76989
         ],
         "xaxis": "x",
         "y": [
          86
         ],
         "yaxis": "y"
        },
        {
         "hovertemplate": "color=2015 Vintner's Reserve Merlot (Sonoma County)<br>index=%{x}<br>value=%{y}<extra></extra>",
         "legendgroup": "2015 Vintner's Reserve Merlot (Sonoma County)",
         "marker": {
          "color": "#FFA15A",
          "symbol": "circle"
         },
         "mode": "markers",
         "name": "2015 Vintner's Reserve Merlot (Sonoma County)",
         "orientation": "v",
         "showlegend": true,
         "type": "scatter",
         "x": [
          77281
         ],
         "xaxis": "x",
         "y": [
          85
         ],
         "yaxis": "y"
        },
        {
         "hovertemplate": "color=2006 Highland Estates Hawkeye Mountain Cabernet Sauvignon (Alexander Valley)<br>index=%{x}<br>value=%{y}<extra></extra>",
         "legendgroup": "2006 Highland Estates Hawkeye Mountain Cabernet Sauvignon (Alexander Valley)",
         "marker": {
          "color": "#19d3f3",
          "symbol": "circle"
         },
         "mode": "markers",
         "name": "2006 Highland Estates Hawkeye Mountain Cabernet Sauvignon (Alexander Valley)",
         "orientation": "v",
         "showlegend": true,
         "type": "scatter",
         "x": [
          79538
         ],
         "xaxis": "x",
         "y": [
          92
         ],
         "yaxis": "y"
        },
        {
         "hovertemplate": "color=2011 Vintner's Reserve Syrah (California)<br>index=%{x}<br>value=%{y}<extra></extra>",
         "legendgroup": "2011 Vintner's Reserve Syrah (California)",
         "marker": {
          "color": "#FF6692",
          "symbol": "circle"
         },
         "mode": "markers",
         "name": "2011 Vintner's Reserve Syrah (California)",
         "orientation": "v",
         "showlegend": true,
         "type": "scatter",
         "x": [
          79891
         ],
         "xaxis": "x",
         "y": [
          91
         ],
         "yaxis": "y"
        },
        {
         "hovertemplate": "color=1998 Great Estates Merlot (Sonoma County)<br>index=%{x}<br>value=%{y}<extra></extra>",
         "legendgroup": "1998 Great Estates Merlot (Sonoma County)",
         "marker": {
          "color": "#B6E880",
          "symbol": "circle"
         },
         "mode": "markers",
         "name": "1998 Great Estates Merlot (Sonoma County)",
         "orientation": "v",
         "showlegend": true,
         "type": "scatter",
         "x": [
          80044
         ],
         "xaxis": "x",
         "y": [
          88
         ],
         "yaxis": "y"
        },
        {
         "hovertemplate": "color=2000 Great Estates Chardonnay (Santa Barbara County)<br>index=%{x}<br>value=%{y}<extra></extra>",
         "legendgroup": "2000 Great Estates Chardonnay (Santa Barbara County)",
         "marker": {
          "color": "#FF97FF",
          "symbol": "circle"
         },
         "mode": "markers",
         "name": "2000 Great Estates Chardonnay (Santa Barbara County)",
         "orientation": "v",
         "showlegend": true,
         "type": "scatter",
         "x": [
          80407
         ],
         "xaxis": "x",
         "y": [
          88
         ],
         "yaxis": "y"
        },
        {
         "hovertemplate": "color=2007 Highlands Estates Raptor Peak Cabernet Sauvignon (Alexander Valley)<br>index=%{x}<br>value=%{y}<extra></extra>",
         "legendgroup": "2007 Highlands Estates Raptor Peak Cabernet Sauvignon (Alexander Valley)",
         "marker": {
          "color": "#FECB52",
          "symbol": "circle"
         },
         "mode": "markers",
         "name": "2007 Highlands Estates Raptor Peak Cabernet Sauvignon (Alexander Valley)",
         "orientation": "v",
         "showlegend": true,
         "type": "scatter",
         "x": [
          80469
         ],
         "xaxis": "x",
         "y": [
          93
         ],
         "yaxis": "y"
        },
        {
         "hovertemplate": "color=2017 Zinfandel (California)<br>index=%{x}<br>value=%{y}<extra></extra>",
         "legendgroup": "2017 Zinfandel (California)",
         "marker": {
          "color": "#636efa",
          "symbol": "circle"
         },
         "mode": "markers",
         "name": "2017 Zinfandel (California)",
         "orientation": "v",
         "showlegend": true,
         "type": "scatter",
         "x": [
          82353
         ],
         "xaxis": "x",
         "y": [
          91
         ],
         "yaxis": "y"
        },
        {
         "hovertemplate": "color=2017 Jackson Estate Hawkeye Mountain Cabernet Sauvignon (Alexander Valley)<br>index=%{x}<br>value=%{y}<extra></extra>",
         "legendgroup": "2017 Jackson Estate Hawkeye Mountain Cabernet Sauvignon (Alexander Valley)",
         "marker": {
          "color": "#EF553B",
          "symbol": "circle"
         },
         "mode": "markers",
         "name": "2017 Jackson Estate Hawkeye Mountain Cabernet Sauvignon (Alexander Valley)",
         "orientation": "v",
         "showlegend": true,
         "type": "scatter",
         "x": [
          82537
         ],
         "xaxis": "x",
         "y": [
          90
         ],
         "yaxis": "y"
        },
        {
         "hovertemplate": "color=1996 Vintner's Reserve Cabernet Sauvignon (California)<br>index=%{x}<br>value=%{y}<extra></extra>",
         "legendgroup": "1996 Vintner's Reserve Cabernet Sauvignon (California)",
         "marker": {
          "color": "#00cc96",
          "symbol": "circle"
         },
         "mode": "markers",
         "name": "1996 Vintner's Reserve Cabernet Sauvignon (California)",
         "orientation": "v",
         "showlegend": true,
         "type": "scatter",
         "x": [
          84267
         ],
         "xaxis": "x",
         "y": [
          86
         ],
         "yaxis": "y"
        },
        {
         "hovertemplate": "color=2007 Highland Estates Boont Ridge Pinot Noir (Anderson Valley)<br>index=%{x}<br>value=%{y}<extra></extra>",
         "legendgroup": "2007 Highland Estates Boont Ridge Pinot Noir (Anderson Valley)",
         "marker": {
          "color": "#ab63fa",
          "symbol": "circle"
         },
         "mode": "markers",
         "name": "2007 Highland Estates Boont Ridge Pinot Noir (Anderson Valley)",
         "orientation": "v",
         "showlegend": true,
         "type": "scatter",
         "x": [
          84545
         ],
         "xaxis": "x",
         "y": [
          89
         ],
         "yaxis": "y"
        },
        {
         "hovertemplate": "color=1997 Vintner's Reserve Merlot (California)<br>index=%{x}<br>value=%{y}<extra></extra>",
         "legendgroup": "1997 Vintner's Reserve Merlot (California)",
         "marker": {
          "color": "#FFA15A",
          "symbol": "circle"
         },
         "mode": "markers",
         "name": "1997 Vintner's Reserve Merlot (California)",
         "orientation": "v",
         "showlegend": true,
         "type": "scatter",
         "x": [
          84882,
          272489
         ],
         "xaxis": "x",
         "y": [
          88,
          86
         ],
         "yaxis": "y"
        },
        {
         "hovertemplate": "color=1999 Camelot Vineyard Chardonnay (Santa Maria Valley)<br>index=%{x}<br>value=%{y}<extra></extra>",
         "legendgroup": "1999 Camelot Vineyard Chardonnay (Santa Maria Valley)",
         "marker": {
          "color": "#19d3f3",
          "symbol": "circle"
         },
         "mode": "markers",
         "name": "1999 Camelot Vineyard Chardonnay (Santa Maria Valley)",
         "orientation": "v",
         "showlegend": true,
         "type": "scatter",
         "x": [
          86316
         ],
         "xaxis": "x",
         "y": [
          85
         ],
         "yaxis": "y"
        },
        {
         "hovertemplate": "color=2019 Vintner's Reserve Sauvignon Blanc (California)<br>index=%{x}<br>value=%{y}<extra></extra>",
         "legendgroup": "2019 Vintner's Reserve Sauvignon Blanc (California)",
         "marker": {
          "color": "#FF6692",
          "symbol": "circle"
         },
         "mode": "markers",
         "name": "2019 Vintner's Reserve Sauvignon Blanc (California)",
         "orientation": "v",
         "showlegend": true,
         "type": "scatter",
         "x": [
          86838
         ],
         "xaxis": "x",
         "y": [
          90
         ],
         "yaxis": "y"
        },
        {
         "hovertemplate": "color=2002 Taylor Peak Estate Merlot (Bennett Valley)<br>index=%{x}<br>value=%{y}<extra></extra>",
         "legendgroup": "2002 Taylor Peak Estate Merlot (Bennett Valley)",
         "marker": {
          "color": "#B6E880",
          "symbol": "circle"
         },
         "mode": "markers",
         "name": "2002 Taylor Peak Estate Merlot (Bennett Valley)",
         "orientation": "v",
         "showlegend": true,
         "type": "scatter",
         "x": [
          87188
         ],
         "xaxis": "x",
         "y": [
          86
         ],
         "yaxis": "y"
        },
        {
         "hovertemplate": "color=2004 Seco Highlands Estate Pinot Noir (Arroyo Seco)<br>index=%{x}<br>value=%{y}<extra></extra>",
         "legendgroup": "2004 Seco Highlands Estate Pinot Noir (Arroyo Seco)",
         "marker": {
          "color": "#FF97FF",
          "symbol": "circle"
         },
         "mode": "markers",
         "name": "2004 Seco Highlands Estate Pinot Noir (Arroyo Seco)",
         "orientation": "v",
         "showlegend": true,
         "type": "scatter",
         "x": [
          87518
         ],
         "xaxis": "x",
         "y": [
          94
         ],
         "yaxis": "y"
        },
        {
         "hovertemplate": "color=2005 Vintner's Reserve Riesling (California)<br>index=%{x}<br>value=%{y}<extra></extra>",
         "legendgroup": "2005 Vintner's Reserve Riesling (California)",
         "marker": {
          "color": "#FECB52",
          "symbol": "circle"
         },
         "mode": "markers",
         "name": "2005 Vintner's Reserve Riesling (California)",
         "orientation": "v",
         "showlegend": true,
         "type": "scatter",
         "x": [
          88034
         ],
         "xaxis": "x",
         "y": [
          85
         ],
         "yaxis": "y"
        },
        {
         "hovertemplate": "color=2012 Avant Red (California)<br>index=%{x}<br>value=%{y}<extra></extra>",
         "legendgroup": "2012 Avant Red (California)",
         "marker": {
          "color": "#636efa",
          "symbol": "circle"
         },
         "mode": "markers",
         "name": "2012 Avant Red (California)",
         "orientation": "v",
         "showlegend": true,
         "type": "scatter",
         "x": [
          90340
         ],
         "xaxis": "x",
         "y": [
          89
         ],
         "yaxis": "y"
        },
        {
         "hovertemplate": "color=2009 Grand Reserve Sauvignon Blanc (Mendocino County)<br>index=%{x}<br>value=%{y}<extra></extra>",
         "legendgroup": "2009 Grand Reserve Sauvignon Blanc (Mendocino County)",
         "marker": {
          "color": "#EF553B",
          "symbol": "circle"
         },
         "mode": "markers",
         "name": "2009 Grand Reserve Sauvignon Blanc (Mendocino County)",
         "orientation": "v",
         "showlegend": true,
         "type": "scatter",
         "x": [
          90800
         ],
         "xaxis": "x",
         "y": [
          87
         ],
         "yaxis": "y"
        },
        {
         "hovertemplate": "color=2018 Grand Reserve Chardonnay (Santa Barbara County)<br>index=%{x}<br>value=%{y}<extra></extra>",
         "legendgroup": "2018 Grand Reserve Chardonnay (Santa Barbara County)",
         "marker": {
          "color": "#00cc96",
          "symbol": "circle"
         },
         "mode": "markers",
         "name": "2018 Grand Reserve Chardonnay (Santa Barbara County)",
         "orientation": "v",
         "showlegend": true,
         "type": "scatter",
         "x": [
          91008
         ],
         "xaxis": "x",
         "y": [
          88
         ],
         "yaxis": "y"
        },
        {
         "hovertemplate": "color=2017 Vintner's Reserve Red (California)<br>index=%{x}<br>value=%{y}<extra></extra>",
         "legendgroup": "2017 Vintner's Reserve Red (California)",
         "marker": {
          "color": "#ab63fa",
          "symbol": "circle"
         },
         "mode": "markers",
         "name": "2017 Vintner's Reserve Red (California)",
         "orientation": "v",
         "showlegend": true,
         "type": "scatter",
         "x": [
          91268
         ],
         "xaxis": "x",
         "y": [
          88
         ],
         "yaxis": "y"
        },
        {
         "hovertemplate": "color=2010 Vintner's Reserve Zinfandel (Mendocino County)<br>index=%{x}<br>value=%{y}<extra></extra>",
         "legendgroup": "2010 Vintner's Reserve Zinfandel (Mendocino County)",
         "marker": {
          "color": "#FFA15A",
          "symbol": "circle"
         },
         "mode": "markers",
         "name": "2010 Vintner's Reserve Zinfandel (Mendocino County)",
         "orientation": "v",
         "showlegend": true,
         "type": "scatter",
         "x": [
          93932
         ],
         "xaxis": "x",
         "y": [
          87
         ],
         "yaxis": "y"
        },
        {
         "hovertemplate": "color=2020 Vintner's Reserve Pinot Gris (California)<br>index=%{x}<br>value=%{y}<extra></extra>",
         "legendgroup": "2020 Vintner's Reserve Pinot Gris (California)",
         "marker": {
          "color": "#19d3f3",
          "symbol": "circle"
         },
         "mode": "markers",
         "name": "2020 Vintner's Reserve Pinot Gris (California)",
         "orientation": "v",
         "showlegend": true,
         "type": "scatter",
         "x": [
          94531
         ],
         "xaxis": "x",
         "y": [
          86
         ],
         "yaxis": "y"
        },
        {
         "hovertemplate": "color=2009 Grand Reserve Cabernet Sauvignon (Sonoma County)<br>index=%{x}<br>value=%{y}<extra></extra>",
         "legendgroup": "2009 Grand Reserve Cabernet Sauvignon (Sonoma County)",
         "marker": {
          "color": "#FF6692",
          "symbol": "circle"
         },
         "mode": "markers",
         "name": "2009 Grand Reserve Cabernet Sauvignon (Sonoma County)",
         "orientation": "v",
         "showlegend": true,
         "type": "scatter",
         "x": [
          94715
         ],
         "xaxis": "x",
         "y": [
          87
         ],
         "yaxis": "y"
        },
        {
         "hovertemplate": "color=1998 Vintner's Reserve Sauvignon Blanc (California)<br>index=%{x}<br>value=%{y}<extra></extra>",
         "legendgroup": "1998 Vintner's Reserve Sauvignon Blanc (California)",
         "marker": {
          "color": "#B6E880",
          "symbol": "circle"
         },
         "mode": "markers",
         "name": "1998 Vintner's Reserve Sauvignon Blanc (California)",
         "orientation": "v",
         "showlegend": true,
         "type": "scatter",
         "x": [
          95135
         ],
         "xaxis": "x",
         "y": [
          86
         ],
         "yaxis": "y"
        },
        {
         "hovertemplate": "color=2007 Highlands Estates Seco Highlands Pinot Noir (Arroyo Seco)<br>index=%{x}<br>value=%{y}<extra></extra>",
         "legendgroup": "2007 Highlands Estates Seco Highlands Pinot Noir (Arroyo Seco)",
         "marker": {
          "color": "#FF97FF",
          "symbol": "circle"
         },
         "mode": "markers",
         "name": "2007 Highlands Estates Seco Highlands Pinot Noir (Arroyo Seco)",
         "orientation": "v",
         "showlegend": true,
         "type": "scatter",
         "x": [
          95500
         ],
         "xaxis": "x",
         "y": [
          92
         ],
         "yaxis": "y"
        },
        {
         "hovertemplate": "color=2019 Cloud Landing Chardonnay (Petaluma Gap)<br>index=%{x}<br>value=%{y}<extra></extra>",
         "legendgroup": "2019 Cloud Landing Chardonnay (Petaluma Gap)",
         "marker": {
          "color": "#FECB52",
          "symbol": "circle"
         },
         "mode": "markers",
         "name": "2019 Cloud Landing Chardonnay (Petaluma Gap)",
         "orientation": "v",
         "showlegend": true,
         "type": "scatter",
         "x": [
          97577
         ],
         "xaxis": "x",
         "y": [
          90
         ],
         "yaxis": "y"
        },
        {
         "hovertemplate": "color=2009 Highland Estates Camelot Highlands Chardonnay (Santa Maria Valley)<br>index=%{x}<br>value=%{y}<extra></extra>",
         "legendgroup": "2009 Highland Estates Camelot Highlands Chardonnay (Santa Maria Valley)",
         "marker": {
          "color": "#636efa",
          "symbol": "circle"
         },
         "mode": "markers",
         "name": "2009 Highland Estates Camelot Highlands Chardonnay (Santa Maria Valley)",
         "orientation": "v",
         "showlegend": true,
         "type": "scatter",
         "x": [
          98951
         ],
         "xaxis": "x",
         "y": [
          92
         ],
         "yaxis": "y"
        },
        {
         "hovertemplate": "color=2003 Grand Reserve Merlot (Sonoma-Napa)<br>index=%{x}<br>value=%{y}<extra></extra>",
         "legendgroup": "2003 Grand Reserve Merlot (Sonoma-Napa)",
         "marker": {
          "color": "#EF553B",
          "symbol": "circle"
         },
         "mode": "markers",
         "name": "2003 Grand Reserve Merlot (Sonoma-Napa)",
         "orientation": "v",
         "showlegend": true,
         "type": "scatter",
         "x": [
          100760
         ],
         "xaxis": "x",
         "y": [
          91
         ],
         "yaxis": "y"
        },
        {
         "hovertemplate": "color=2004 Grand Reserve Chardonnay (Monterey-Santa Barbara)<br>index=%{x}<br>value=%{y}<extra></extra>",
         "legendgroup": "2004 Grand Reserve Chardonnay (Monterey-Santa Barbara)",
         "marker": {
          "color": "#00cc96",
          "symbol": "circle"
         },
         "mode": "markers",
         "name": "2004 Grand Reserve Chardonnay (Monterey-Santa Barbara)",
         "orientation": "v",
         "showlegend": true,
         "type": "scatter",
         "x": [
          101491
         ],
         "xaxis": "x",
         "y": [
          90
         ],
         "yaxis": "y"
        },
        {
         "hovertemplate": "color=2006 Highland Estates Seco Highlands Pinot Noir (Arroyo Seco)<br>index=%{x}<br>value=%{y}<extra></extra>",
         "legendgroup": "2006 Highland Estates Seco Highlands Pinot Noir (Arroyo Seco)",
         "marker": {
          "color": "#ab63fa",
          "symbol": "circle"
         },
         "mode": "markers",
         "name": "2006 Highland Estates Seco Highlands Pinot Noir (Arroyo Seco)",
         "orientation": "v",
         "showlegend": true,
         "type": "scatter",
         "x": [
          102275
         ],
         "xaxis": "x",
         "y": [
          87
         ],
         "yaxis": "y"
        },
        {
         "hovertemplate": "color=1998 Camelot Vineyard Chardonnay (Santa Maria Valley)<br>index=%{x}<br>value=%{y}<extra></extra>",
         "legendgroup": "1998 Camelot Vineyard Chardonnay (Santa Maria Valley)",
         "marker": {
          "color": "#FFA15A",
          "symbol": "circle"
         },
         "mode": "markers",
         "name": "1998 Camelot Vineyard Chardonnay (Santa Maria Valley)",
         "orientation": "v",
         "showlegend": true,
         "type": "scatter",
         "x": [
          102636
         ],
         "xaxis": "x",
         "y": [
          90
         ],
         "yaxis": "y"
        },
        {
         "hovertemplate": "color=2006 Highland Estates Seco Highlands Chardonnay (Arroyo Seco)<br>index=%{x}<br>value=%{y}<extra></extra>",
         "legendgroup": "2006 Highland Estates Seco Highlands Chardonnay (Arroyo Seco)",
         "marker": {
          "color": "#19d3f3",
          "symbol": "circle"
         },
         "mode": "markers",
         "name": "2006 Highland Estates Seco Highlands Chardonnay (Arroyo Seco)",
         "orientation": "v",
         "showlegend": true,
         "type": "scatter",
         "x": [
          102800
         ],
         "xaxis": "x",
         "y": [
          90
         ],
         "yaxis": "y"
        },
        {
         "hovertemplate": "color=2001 Vintner's Reserve Merlot (California)<br>index=%{x}<br>value=%{y}<extra></extra>",
         "legendgroup": "2001 Vintner's Reserve Merlot (California)",
         "marker": {
          "color": "#FF6692",
          "symbol": "circle"
         },
         "mode": "markers",
         "name": "2001 Vintner's Reserve Merlot (California)",
         "orientation": "v",
         "showlegend": true,
         "type": "scatter",
         "x": [
          103294,
          267568
         ],
         "xaxis": "x",
         "y": [
          87,
          86
         ],
         "yaxis": "y"
        },
        {
         "hovertemplate": "color=2004 Alisos Hills Estate Syrah (Santa Barbara County)<br>index=%{x}<br>value=%{y}<extra></extra>",
         "legendgroup": "2004 Alisos Hills Estate Syrah (Santa Barbara County)",
         "marker": {
          "color": "#B6E880",
          "symbol": "circle"
         },
         "mode": "markers",
         "name": "2004 Alisos Hills Estate Syrah (Santa Barbara County)",
         "orientation": "v",
         "showlegend": true,
         "type": "scatter",
         "x": [
          104158
         ],
         "xaxis": "x",
         "y": [
          86
         ],
         "yaxis": "y"
        },
        {
         "hovertemplate": "color=2009 Vintner's Reserve Cabernet Sauvignon (Sonoma County)<br>index=%{x}<br>value=%{y}<extra></extra>",
         "legendgroup": "2009 Vintner's Reserve Cabernet Sauvignon (Sonoma County)",
         "marker": {
          "color": "#FF97FF",
          "symbol": "circle"
         },
         "mode": "markers",
         "name": "2009 Vintner's Reserve Cabernet Sauvignon (Sonoma County)",
         "orientation": "v",
         "showlegend": true,
         "type": "scatter",
         "x": [
          109589
         ],
         "xaxis": "x",
         "y": [
          87
         ],
         "yaxis": "y"
        },
        {
         "hovertemplate": "color=2002 Vintner's Reserve Chardonnay (California)<br>index=%{x}<br>value=%{y}<extra></extra>",
         "legendgroup": "2002 Vintner's Reserve Chardonnay (California)",
         "marker": {
          "color": "#FECB52",
          "symbol": "circle"
         },
         "mode": "markers",
         "name": "2002 Vintner's Reserve Chardonnay (California)",
         "orientation": "v",
         "showlegend": true,
         "type": "scatter",
         "x": [
          109984
         ],
         "xaxis": "x",
         "y": [
          86
         ],
         "yaxis": "y"
        },
        {
         "hovertemplate": "color=2005 Grand Reserve Chardonnay (Santa Barbara-Monterey)<br>index=%{x}<br>value=%{y}<extra></extra>",
         "legendgroup": "2005 Grand Reserve Chardonnay (Santa Barbara-Monterey)",
         "marker": {
          "color": "#636efa",
          "symbol": "circle"
         },
         "mode": "markers",
         "name": "2005 Grand Reserve Chardonnay (Santa Barbara-Monterey)",
         "orientation": "v",
         "showlegend": true,
         "type": "scatter",
         "x": [
          110380,
          126064
         ],
         "xaxis": "x",
         "y": [
          88,
          89
         ],
         "yaxis": "y"
        },
        {
         "hovertemplate": "color=1999 Great Estates Merlot (Sonoma County)<br>index=%{x}<br>value=%{y}<extra></extra>",
         "legendgroup": "1999 Great Estates Merlot (Sonoma County)",
         "marker": {
          "color": "#EF553B",
          "symbol": "circle"
         },
         "mode": "markers",
         "name": "1999 Great Estates Merlot (Sonoma County)",
         "orientation": "v",
         "showlegend": true,
         "type": "scatter",
         "x": [
          111200
         ],
         "xaxis": "x",
         "y": [
          91
         ],
         "yaxis": "y"
        },
        {
         "hovertemplate": "color=1997 Paradise Vineyard Chardonnay (Arroyo Seco)<br>index=%{x}<br>value=%{y}<extra></extra>",
         "legendgroup": "1997 Paradise Vineyard Chardonnay (Arroyo Seco)",
         "marker": {
          "color": "#00cc96",
          "symbol": "circle"
         },
         "mode": "markers",
         "name": "1997 Paradise Vineyard Chardonnay (Arroyo Seco)",
         "orientation": "v",
         "showlegend": true,
         "type": "scatter",
         "x": [
          112274
         ],
         "xaxis": "x",
         "y": [
          87
         ],
         "yaxis": "y"
        },
        {
         "hovertemplate": "color=2010 Vintner's Reserve Summation White (California)<br>index=%{x}<br>value=%{y}<extra></extra>",
         "legendgroup": "2010 Vintner's Reserve Summation White (California)",
         "marker": {
          "color": "#ab63fa",
          "symbol": "circle"
         },
         "mode": "markers",
         "name": "2010 Vintner's Reserve Summation White (California)",
         "orientation": "v",
         "showlegend": true,
         "type": "scatter",
         "x": [
          112586
         ],
         "xaxis": "x",
         "y": [
          87
         ],
         "yaxis": "y"
        },
        {
         "hovertemplate": "color=2015 Jackson Estate Camelot Highlands Chardonnay (Santa Maria Valley)<br>index=%{x}<br>value=%{y}<extra></extra>",
         "legendgroup": "2015 Jackson Estate Camelot Highlands Chardonnay (Santa Maria Valley)",
         "marker": {
          "color": "#FFA15A",
          "symbol": "circle"
         },
         "mode": "markers",
         "name": "2015 Jackson Estate Camelot Highlands Chardonnay (Santa Maria Valley)",
         "orientation": "v",
         "showlegend": true,
         "type": "scatter",
         "x": [
          117536
         ],
         "xaxis": "x",
         "y": [
          88
         ],
         "yaxis": "y"
        },
        {
         "hovertemplate": "color=2014 Vintner's Reserve Pinot Noir (California)<br>index=%{x}<br>value=%{y}<extra></extra>",
         "legendgroup": "2014 Vintner's Reserve Pinot Noir (California)",
         "marker": {
          "color": "#19d3f3",
          "symbol": "circle"
         },
         "mode": "markers",
         "name": "2014 Vintner's Reserve Pinot Noir (California)",
         "orientation": "v",
         "showlegend": true,
         "type": "scatter",
         "x": [
          118459
         ],
         "xaxis": "x",
         "y": [
          92
         ],
         "yaxis": "y"
        },
        {
         "hovertemplate": "color=2006 Highland Estates Trace Ridge Red (Knights Valley)<br>index=%{x}<br>value=%{y}<extra></extra>",
         "legendgroup": "2006 Highland Estates Trace Ridge Red (Knights Valley)",
         "marker": {
          "color": "#FF6692",
          "symbol": "circle"
         },
         "mode": "markers",
         "name": "2006 Highland Estates Trace Ridge Red (Knights Valley)",
         "orientation": "v",
         "showlegend": true,
         "type": "scatter",
         "x": [
          120622
         ],
         "xaxis": "x",
         "y": [
          97
         ],
         "yaxis": "y"
        },
        {
         "hovertemplate": "color=2013 Avant Chardonnay (California)<br>index=%{x}<br>value=%{y}<extra></extra>",
         "legendgroup": "2013 Avant Chardonnay (California)",
         "marker": {
          "color": "#B6E880",
          "symbol": "circle"
         },
         "mode": "markers",
         "name": "2013 Avant Chardonnay (California)",
         "orientation": "v",
         "showlegend": true,
         "type": "scatter",
         "x": [
          121688
         ],
         "xaxis": "x",
         "y": [
          88
         ],
         "yaxis": "y"
        },
        {
         "hovertemplate": "color=2010 Vintner's Reserve Riesling (California)<br>index=%{x}<br>value=%{y}<extra></extra>",
         "legendgroup": "2010 Vintner's Reserve Riesling (California)",
         "marker": {
          "color": "#FF97FF",
          "symbol": "circle"
         },
         "mode": "markers",
         "name": "2010 Vintner's Reserve Riesling (California)",
         "orientation": "v",
         "showlegend": true,
         "type": "scatter",
         "x": [
          122192
         ],
         "xaxis": "x",
         "y": [
          85
         ],
         "yaxis": "y"
        },
        {
         "hovertemplate": "color=2005 Vintner's Reserve Merlot (California)<br>index=%{x}<br>value=%{y}<extra></extra>",
         "legendgroup": "2005 Vintner's Reserve Merlot (California)",
         "marker": {
          "color": "#FECB52",
          "symbol": "circle"
         },
         "mode": "markers",
         "name": "2005 Vintner's Reserve Merlot (California)",
         "orientation": "v",
         "showlegend": true,
         "type": "scatter",
         "x": [
          123232
         ],
         "xaxis": "x",
         "y": [
          84
         ],
         "yaxis": "y"
        },
        {
         "hovertemplate": "color=2002 Stature Meritage (Napa Valley)<br>index=%{x}<br>value=%{y}<extra></extra>",
         "legendgroup": "2002 Stature Meritage (Napa Valley)",
         "marker": {
          "color": "#636efa",
          "symbol": "circle"
         },
         "mode": "markers",
         "name": "2002 Stature Meritage (Napa Valley)",
         "orientation": "v",
         "showlegend": true,
         "type": "scatter",
         "x": [
          123886
         ],
         "xaxis": "x",
         "y": [
          93
         ],
         "yaxis": "y"
        },
        {
         "hovertemplate": "color=1999 Collage - Zinfandel/Shiraz Red (California)<br>index=%{x}<br>value=%{y}<extra></extra>",
         "legendgroup": "1999 Collage - Zinfandel/Shiraz Red (California)",
         "marker": {
          "color": "#EF553B",
          "symbol": "circle"
         },
         "mode": "markers",
         "name": "1999 Collage - Zinfandel/Shiraz Red (California)",
         "orientation": "v",
         "showlegend": true,
         "type": "scatter",
         "x": [
          124055
         ],
         "xaxis": "x",
         "y": [
          87
         ],
         "yaxis": "y"
        },
        {
         "hovertemplate": "color=2006 Vintner's Reserve Zinfandel (California)<br>index=%{x}<br>value=%{y}<extra></extra>",
         "legendgroup": "2006 Vintner's Reserve Zinfandel (California)",
         "marker": {
          "color": "#00cc96",
          "symbol": "circle"
         },
         "mode": "markers",
         "name": "2006 Vintner's Reserve Zinfandel (California)",
         "orientation": "v",
         "showlegend": true,
         "type": "scatter",
         "x": [
          124098
         ],
         "xaxis": "x",
         "y": [
          84
         ],
         "yaxis": "y"
        },
        {
         "hovertemplate": "color=2007 Grand Reserve Sauvignon Blanc (North Coast)<br>index=%{x}<br>value=%{y}<extra></extra>",
         "legendgroup": "2007 Grand Reserve Sauvignon Blanc (North Coast)",
         "marker": {
          "color": "#ab63fa",
          "symbol": "circle"
         },
         "mode": "markers",
         "name": "2007 Grand Reserve Sauvignon Blanc (North Coast)",
         "orientation": "v",
         "showlegend": true,
         "type": "scatter",
         "x": [
          125753
         ],
         "xaxis": "x",
         "y": [
          86
         ],
         "yaxis": "y"
        },
        {
         "hovertemplate": "color=2001 Grand Reserve Merlot (California)<br>index=%{x}<br>value=%{y}<extra></extra>",
         "legendgroup": "2001 Grand Reserve Merlot (California)",
         "marker": {
          "color": "#FFA15A",
          "symbol": "circle"
         },
         "mode": "markers",
         "name": "2001 Grand Reserve Merlot (California)",
         "orientation": "v",
         "showlegend": true,
         "type": "scatter",
         "x": [
          126592
         ],
         "xaxis": "x",
         "y": [
          89
         ],
         "yaxis": "y"
        },
        {
         "hovertemplate": "color=2003 Grand Reserve Chardonnay (California)<br>index=%{x}<br>value=%{y}<extra></extra>",
         "legendgroup": "2003 Grand Reserve Chardonnay (California)",
         "marker": {
          "color": "#19d3f3",
          "symbol": "circle"
         },
         "mode": "markers",
         "name": "2003 Grand Reserve Chardonnay (California)",
         "orientation": "v",
         "showlegend": true,
         "type": "scatter",
         "x": [
          127711
         ],
         "xaxis": "x",
         "y": [
          85
         ],
         "yaxis": "y"
        },
        {
         "hovertemplate": "color=2004 Vintner's Reserve Meritage Red (California)<br>index=%{x}<br>value=%{y}<extra></extra>",
         "legendgroup": "2004 Vintner's Reserve Meritage Red (California)",
         "marker": {
          "color": "#FF6692",
          "symbol": "circle"
         },
         "mode": "markers",
         "name": "2004 Vintner's Reserve Meritage Red (California)",
         "orientation": "v",
         "showlegend": true,
         "type": "scatter",
         "x": [
          128305
         ],
         "xaxis": "x",
         "y": [
          82
         ],
         "yaxis": "y"
        },
        {
         "hovertemplate": "color=2019 Vintner's Reserve Rosé (California)<br>index=%{x}<br>value=%{y}<extra></extra>",
         "legendgroup": "2019 Vintner's Reserve Rosé (California)",
         "marker": {
          "color": "#B6E880",
          "symbol": "circle"
         },
         "mode": "markers",
         "name": "2019 Vintner's Reserve Rosé (California)",
         "orientation": "v",
         "showlegend": true,
         "type": "scatter",
         "x": [
          128626
         ],
         "xaxis": "x",
         "y": [
          88
         ],
         "yaxis": "y"
        },
        {
         "hovertemplate": "color=2017 Vintner's Reserve Merlot (Sonoma County)<br>index=%{x}<br>value=%{y}<extra></extra>",
         "legendgroup": "2017 Vintner's Reserve Merlot (Sonoma County)",
         "marker": {
          "color": "#FF97FF",
          "symbol": "circle"
         },
         "mode": "markers",
         "name": "2017 Vintner's Reserve Merlot (Sonoma County)",
         "orientation": "v",
         "showlegend": true,
         "type": "scatter",
         "x": [
          129120
         ],
         "xaxis": "x",
         "y": [
          86
         ],
         "yaxis": "y"
        },
        {
         "hovertemplate": "color=2014 Grand Reserve Chardonnay (Central Coast)<br>index=%{x}<br>value=%{y}<extra></extra>",
         "legendgroup": "2014 Grand Reserve Chardonnay (Central Coast)",
         "marker": {
          "color": "#FECB52",
          "symbol": "circle"
         },
         "mode": "markers",
         "name": "2014 Grand Reserve Chardonnay (Central Coast)",
         "orientation": "v",
         "showlegend": true,
         "type": "scatter",
         "x": [
          129559
         ],
         "xaxis": "x",
         "y": [
          89
         ],
         "yaxis": "y"
        },
        {
         "hovertemplate": "color=2012 Outland Ridge Pinot Noir (Anderson Valley)<br>index=%{x}<br>value=%{y}<extra></extra>",
         "legendgroup": "2012 Outland Ridge Pinot Noir (Anderson Valley)",
         "marker": {
          "color": "#636efa",
          "symbol": "circle"
         },
         "mode": "markers",
         "name": "2012 Outland Ridge Pinot Noir (Anderson Valley)",
         "orientation": "v",
         "showlegend": true,
         "type": "scatter",
         "x": [
          130382
         ],
         "xaxis": "x",
         "y": [
          91
         ],
         "yaxis": "y"
        },
        {
         "hovertemplate": "color=2007 Highlands Estates Trace Ridge Cabernet Sauvignon (Knights Valley)<br>index=%{x}<br>value=%{y}<extra></extra>",
         "legendgroup": "2007 Highlands Estates Trace Ridge Cabernet Sauvignon (Knights Valley)",
         "marker": {
          "color": "#EF553B",
          "symbol": "circle"
         },
         "mode": "markers",
         "name": "2007 Highlands Estates Trace Ridge Cabernet Sauvignon (Knights Valley)",
         "orientation": "v",
         "showlegend": true,
         "type": "scatter",
         "x": [
          130659
         ],
         "xaxis": "x",
         "y": [
          96
         ],
         "yaxis": "y"
        },
        {
         "hovertemplate": "color=2017 Vintner's Reserve Rosé (California)<br>index=%{x}<br>value=%{y}<extra></extra>",
         "legendgroup": "2017 Vintner's Reserve Rosé (California)",
         "marker": {
          "color": "#00cc96",
          "symbol": "circle"
         },
         "mode": "markers",
         "name": "2017 Vintner's Reserve Rosé (California)",
         "orientation": "v",
         "showlegend": true,
         "type": "scatter",
         "x": [
          132627
         ],
         "xaxis": "x",
         "y": [
          88
         ],
         "yaxis": "y"
        },
        {
         "hovertemplate": "color=2002 Collage Zinfandel-Shiraz Red (California)<br>index=%{x}<br>value=%{y}<extra></extra>",
         "legendgroup": "2002 Collage Zinfandel-Shiraz Red (California)",
         "marker": {
          "color": "#ab63fa",
          "symbol": "circle"
         },
         "mode": "markers",
         "name": "2002 Collage Zinfandel-Shiraz Red (California)",
         "orientation": "v",
         "showlegend": true,
         "type": "scatter",
         "x": [
          132924
         ],
         "xaxis": "x",
         "y": [
          83
         ],
         "yaxis": "y"
        },
        {
         "hovertemplate": "color=2003 Vintner's Reserve Merlot (Sonoma-Napa-Mendocino)<br>index=%{x}<br>value=%{y}<extra></extra>",
         "legendgroup": "2003 Vintner's Reserve Merlot (Sonoma-Napa-Mendocino)",
         "marker": {
          "color": "#FFA15A",
          "symbol": "circle"
         },
         "mode": "markers",
         "name": "2003 Vintner's Reserve Merlot (Sonoma-Napa-Mendocino)",
         "orientation": "v",
         "showlegend": true,
         "type": "scatter",
         "x": [
          134035
         ],
         "xaxis": "x",
         "y": [
          85
         ],
         "yaxis": "y"
        },
        {
         "hovertemplate": "color=1999 Vintner's Reserve Pinot Noir (California)<br>index=%{x}<br>value=%{y}<extra></extra>",
         "legendgroup": "1999 Vintner's Reserve Pinot Noir (California)",
         "marker": {
          "color": "#19d3f3",
          "symbol": "circle"
         },
         "mode": "markers",
         "name": "1999 Vintner's Reserve Pinot Noir (California)",
         "orientation": "v",
         "showlegend": true,
         "type": "scatter",
         "x": [
          134875
         ],
         "xaxis": "x",
         "y": [
          86
         ],
         "yaxis": "y"
        },
        {
         "hovertemplate": "color=2013 Vintner's Reserve Pinot Noir (California)<br>index=%{x}<br>value=%{y}<extra></extra>",
         "legendgroup": "2013 Vintner's Reserve Pinot Noir (California)",
         "marker": {
          "color": "#FF6692",
          "symbol": "circle"
         },
         "mode": "markers",
         "name": "2013 Vintner's Reserve Pinot Noir (California)",
         "orientation": "v",
         "showlegend": true,
         "type": "scatter",
         "x": [
          135304
         ],
         "xaxis": "x",
         "y": [
          90
         ],
         "yaxis": "y"
        },
        {
         "hovertemplate": "color=2013 Vintner's Reserve Merlot (Sonoma County)<br>index=%{x}<br>value=%{y}<extra></extra>",
         "legendgroup": "2013 Vintner's Reserve Merlot (Sonoma County)",
         "marker": {
          "color": "#B6E880",
          "symbol": "circle"
         },
         "mode": "markers",
         "name": "2013 Vintner's Reserve Merlot (Sonoma County)",
         "orientation": "v",
         "showlegend": true,
         "type": "scatter",
         "x": [
          138339
         ],
         "xaxis": "x",
         "y": [
          90
         ],
         "yaxis": "y"
        },
        {
         "hovertemplate": "color=2002 Stature Red Wine Red (Napa Valley)<br>index=%{x}<br>value=%{y}<extra></extra>",
         "legendgroup": "2002 Stature Red Wine Red (Napa Valley)",
         "marker": {
          "color": "#FF97FF",
          "symbol": "circle"
         },
         "mode": "markers",
         "name": "2002 Stature Red Wine Red (Napa Valley)",
         "orientation": "v",
         "showlegend": true,
         "type": "scatter",
         "x": [
          139821
         ],
         "xaxis": "x",
         "y": [
          95
         ],
         "yaxis": "y"
        },
        {
         "hovertemplate": "color=2014 Vintner's Reserve Pinot Gris (California)<br>index=%{x}<br>value=%{y}<extra></extra>",
         "legendgroup": "2014 Vintner's Reserve Pinot Gris (California)",
         "marker": {
          "color": "#FECB52",
          "symbol": "circle"
         },
         "mode": "markers",
         "name": "2014 Vintner's Reserve Pinot Gris (California)",
         "orientation": "v",
         "showlegend": true,
         "type": "scatter",
         "x": [
          140542
         ],
         "xaxis": "x",
         "y": [
          90
         ],
         "yaxis": "y"
        },
        {
         "hovertemplate": "color=2008 Highlands Estates Los Robles Pinot Noir (Santa Barbara County)<br>index=%{x}<br>value=%{y}<extra></extra>",
         "legendgroup": "2008 Highlands Estates Los Robles Pinot Noir (Santa Barbara County)",
         "marker": {
          "color": "#636efa",
          "symbol": "circle"
         },
         "mode": "markers",
         "name": "2008 Highlands Estates Los Robles Pinot Noir (Santa Barbara County)",
         "orientation": "v",
         "showlegend": true,
         "type": "scatter",
         "x": [
          140843
         ],
         "xaxis": "x",
         "y": [
          91
         ],
         "yaxis": "y"
        },
        {
         "hovertemplate": "color=2015 Vintner's Reserve Summation Red (California)<br>index=%{x}<br>value=%{y}<extra></extra>",
         "legendgroup": "2015 Vintner's Reserve Summation Red (California)",
         "marker": {
          "color": "#EF553B",
          "symbol": "circle"
         },
         "mode": "markers",
         "name": "2015 Vintner's Reserve Summation Red (California)",
         "orientation": "v",
         "showlegend": true,
         "type": "scatter",
         "x": [
          141831
         ],
         "xaxis": "x",
         "y": [
          91
         ],
         "yaxis": "y"
        },
        {
         "hovertemplate": "color=2001 Vintner's Reserve Cabernet Sauvignon (California)<br>index=%{x}<br>value=%{y}<extra></extra>",
         "legendgroup": "2001 Vintner's Reserve Cabernet Sauvignon (California)",
         "marker": {
          "color": "#00cc96",
          "symbol": "circle"
         },
         "mode": "markers",
         "name": "2001 Vintner's Reserve Cabernet Sauvignon (California)",
         "orientation": "v",
         "showlegend": true,
         "type": "scatter",
         "x": [
          142519
         ],
         "xaxis": "x",
         "y": [
          84
         ],
         "yaxis": "y"
        },
        {
         "hovertemplate": "color=2004 Grand Reserve Meritage Red (Sonoma County)<br>index=%{x}<br>value=%{y}<extra></extra>",
         "legendgroup": "2004 Grand Reserve Meritage Red (Sonoma County)",
         "marker": {
          "color": "#ab63fa",
          "symbol": "circle"
         },
         "mode": "markers",
         "name": "2004 Grand Reserve Meritage Red (Sonoma County)",
         "orientation": "v",
         "showlegend": true,
         "type": "scatter",
         "x": [
          142973
         ],
         "xaxis": "x",
         "y": [
          91
         ],
         "yaxis": "y"
        },
        {
         "hovertemplate": "color=2009 Vintner's Reserve Sauvignon Blanc (California)<br>index=%{x}<br>value=%{y}<extra></extra>",
         "legendgroup": "2009 Vintner's Reserve Sauvignon Blanc (California)",
         "marker": {
          "color": "#FFA15A",
          "symbol": "circle"
         },
         "mode": "markers",
         "name": "2009 Vintner's Reserve Sauvignon Blanc (California)",
         "orientation": "v",
         "showlegend": true,
         "type": "scatter",
         "x": [
          143074
         ],
         "xaxis": "x",
         "y": [
          88
         ],
         "yaxis": "y"
        },
        {
         "hovertemplate": "color=2018 Winemaker's Block Chardonnay (Monterey County)<br>index=%{x}<br>value=%{y}<extra></extra>",
         "legendgroup": "2018 Winemaker's Block Chardonnay (Monterey County)",
         "marker": {
          "color": "#19d3f3",
          "symbol": "circle"
         },
         "mode": "markers",
         "name": "2018 Winemaker's Block Chardonnay (Monterey County)",
         "orientation": "v",
         "showlegend": true,
         "type": "scatter",
         "x": [
          143291
         ],
         "xaxis": "x",
         "y": [
          91
         ],
         "yaxis": "y"
        },
        {
         "hovertemplate": "color=1996 Buckeye Vineyard Merlot (Sonoma County)<br>index=%{x}<br>value=%{y}<extra></extra>",
         "legendgroup": "1996 Buckeye Vineyard Merlot (Sonoma County)",
         "marker": {
          "color": "#FF6692",
          "symbol": "circle"
         },
         "mode": "markers",
         "name": "1996 Buckeye Vineyard Merlot (Sonoma County)",
         "orientation": "v",
         "showlegend": true,
         "type": "scatter",
         "x": [
          143819
         ],
         "xaxis": "x",
         "y": [
          86
         ],
         "yaxis": "y"
        },
        {
         "hovertemplate": "color=2016 Vintner's Reserve Red (California)<br>index=%{x}<br>value=%{y}<extra></extra>",
         "legendgroup": "2016 Vintner's Reserve Red (California)",
         "marker": {
          "color": "#B6E880",
          "symbol": "circle"
         },
         "mode": "markers",
         "name": "2016 Vintner's Reserve Red (California)",
         "orientation": "v",
         "showlegend": true,
         "type": "scatter",
         "x": [
          144780
         ],
         "xaxis": "x",
         "y": [
          91
         ],
         "yaxis": "y"
        },
        {
         "hovertemplate": "color=2017 Jackson Estate Chardonnay (Santa Maria Valley)<br>index=%{x}<br>value=%{y}<extra></extra>",
         "legendgroup": "2017 Jackson Estate Chardonnay (Santa Maria Valley)",
         "marker": {
          "color": "#FF97FF",
          "symbol": "circle"
         },
         "mode": "markers",
         "name": "2017 Jackson Estate Chardonnay (Santa Maria Valley)",
         "orientation": "v",
         "showlegend": true,
         "type": "scatter",
         "x": [
          145460
         ],
         "xaxis": "x",
         "y": [
          89
         ],
         "yaxis": "y"
        },
        {
         "hovertemplate": "color=1998 Great Estates Cabernet Sauvignon (Alexander Valley)<br>index=%{x}<br>value=%{y}<extra></extra>",
         "legendgroup": "1998 Great Estates Cabernet Sauvignon (Alexander Valley)",
         "marker": {
          "color": "#FECB52",
          "symbol": "circle"
         },
         "mode": "markers",
         "name": "1998 Great Estates Cabernet Sauvignon (Alexander Valley)",
         "orientation": "v",
         "showlegend": true,
         "type": "scatter",
         "x": [
          145772
         ],
         "xaxis": "x",
         "y": [
          88
         ],
         "yaxis": "y"
        },
        {
         "hovertemplate": "color=2020 Vintner's Reserve Sauvignon Blanc (California)<br>index=%{x}<br>value=%{y}<extra></extra>",
         "legendgroup": "2020 Vintner's Reserve Sauvignon Blanc (California)",
         "marker": {
          "color": "#636efa",
          "symbol": "circle"
         },
         "mode": "markers",
         "name": "2020 Vintner's Reserve Sauvignon Blanc (California)",
         "orientation": "v",
         "showlegend": true,
         "type": "scatter",
         "x": [
          147109
         ],
         "xaxis": "x",
         "y": [
          87
         ],
         "yaxis": "y"
        },
        {
         "hovertemplate": "color=1996 Grand Reserve Cabernet Sauvignon (California)<br>index=%{x}<br>value=%{y}<extra></extra>",
         "legendgroup": "1996 Grand Reserve Cabernet Sauvignon (California)",
         "marker": {
          "color": "#EF553B",
          "symbol": "circle"
         },
         "mode": "markers",
         "name": "1996 Grand Reserve Cabernet Sauvignon (California)",
         "orientation": "v",
         "showlegend": true,
         "type": "scatter",
         "x": [
          147468
         ],
         "xaxis": "x",
         "y": [
          89
         ],
         "yaxis": "y"
        },
        {
         "hovertemplate": "color=2005 Vintner's Reserve Zinfandel (California)<br>index=%{x}<br>value=%{y}<extra></extra>",
         "legendgroup": "2005 Vintner's Reserve Zinfandel (California)",
         "marker": {
          "color": "#00cc96",
          "symbol": "circle"
         },
         "mode": "markers",
         "name": "2005 Vintner's Reserve Zinfandel (California)",
         "orientation": "v",
         "showlegend": true,
         "type": "scatter",
         "x": [
          147574
         ],
         "xaxis": "x",
         "y": [
          84
         ],
         "yaxis": "y"
        },
        {
         "hovertemplate": "color=2017 Estate Outland Ridge Pinot Noir (Anderson Valley)<br>index=%{x}<br>value=%{y}<extra></extra>",
         "legendgroup": "2017 Estate Outland Ridge Pinot Noir (Anderson Valley)",
         "marker": {
          "color": "#ab63fa",
          "symbol": "circle"
         },
         "mode": "markers",
         "name": "2017 Estate Outland Ridge Pinot Noir (Anderson Valley)",
         "orientation": "v",
         "showlegend": true,
         "type": "scatter",
         "x": [
          147762
         ],
         "xaxis": "x",
         "y": [
          93
         ],
         "yaxis": "y"
        },
        {
         "hovertemplate": "color=2016 Jackson Estate Hawkeye Mountain Cabernet Sauvignon (Alexander Valley)<br>index=%{x}<br>value=%{y}<extra></extra>",
         "legendgroup": "2016 Jackson Estate Hawkeye Mountain Cabernet Sauvignon (Alexander Valley)",
         "marker": {
          "color": "#FFA15A",
          "symbol": "circle"
         },
         "mode": "markers",
         "name": "2016 Jackson Estate Hawkeye Mountain Cabernet Sauvignon (Alexander Valley)",
         "orientation": "v",
         "showlegend": true,
         "type": "scatter",
         "x": [
          148722
         ],
         "xaxis": "x",
         "y": [
          94
         ],
         "yaxis": "y"
        },
        {
         "hovertemplate": "color=2016 Vintner's Reserve Pinot Noir (California)<br>index=%{x}<br>value=%{y}<extra></extra>",
         "legendgroup": "2016 Vintner's Reserve Pinot Noir (California)",
         "marker": {
          "color": "#19d3f3",
          "symbol": "circle"
         },
         "mode": "markers",
         "name": "2016 Vintner's Reserve Pinot Noir (California)",
         "orientation": "v",
         "showlegend": true,
         "type": "scatter",
         "x": [
          148861
         ],
         "xaxis": "x",
         "y": [
          90
         ],
         "yaxis": "y"
        },
        {
         "hovertemplate": "color=2006 Vintner's Reserve Cabernet Sauvignon (Sonoma-Napa-Mendocino)<br>index=%{x}<br>value=%{y}<extra></extra>",
         "legendgroup": "2006 Vintner's Reserve Cabernet Sauvignon (Sonoma-Napa-Mendocino)",
         "marker": {
          "color": "#FF6692",
          "symbol": "circle"
         },
         "mode": "markers",
         "name": "2006 Vintner's Reserve Cabernet Sauvignon (Sonoma-Napa-Mendocino)",
         "orientation": "v",
         "showlegend": true,
         "type": "scatter",
         "x": [
          149271
         ],
         "xaxis": "x",
         "y": [
          88
         ],
         "yaxis": "y"
        },
        {
         "hovertemplate": "color=2005 Camelot Highlands Estate Chardonnay (Santa Maria Valley)<br>index=%{x}<br>value=%{y}<extra></extra>",
         "legendgroup": "2005 Camelot Highlands Estate Chardonnay (Santa Maria Valley)",
         "marker": {
          "color": "#B6E880",
          "symbol": "circle"
         },
         "mode": "markers",
         "name": "2005 Camelot Highlands Estate Chardonnay (Santa Maria Valley)",
         "orientation": "v",
         "showlegend": true,
         "type": "scatter",
         "x": [
          151389
         ],
         "xaxis": "x",
         "y": [
          91
         ],
         "yaxis": "y"
        },
        {
         "hovertemplate": "color=2002 Vintner's Reserve Syrah (California)<br>index=%{x}<br>value=%{y}<extra></extra>",
         "legendgroup": "2002 Vintner's Reserve Syrah (California)",
         "marker": {
          "color": "#FF97FF",
          "symbol": "circle"
         },
         "mode": "markers",
         "name": "2002 Vintner's Reserve Syrah (California)",
         "orientation": "v",
         "showlegend": true,
         "type": "scatter",
         "x": [
          153335
         ],
         "xaxis": "x",
         "y": [
          87
         ],
         "yaxis": "y"
        },
        {
         "hovertemplate": "color=2016 Grand Reserve Pinot Noir (Monterey County-Santa Barbara County)<br>index=%{x}<br>value=%{y}<extra></extra>",
         "legendgroup": "2016 Grand Reserve Pinot Noir (Monterey County-Santa Barbara County)",
         "marker": {
          "color": "#FECB52",
          "symbol": "circle"
         },
         "mode": "markers",
         "name": "2016 Grand Reserve Pinot Noir (Monterey County-Santa Barbara County)",
         "orientation": "v",
         "showlegend": true,
         "type": "scatter",
         "x": [
          153450
         ],
         "xaxis": "x",
         "y": [
          88
         ],
         "yaxis": "y"
        },
        {
         "hovertemplate": "color=2001 Seco Bench Estate Pinot Noir (Monterey)<br>index=%{x}<br>value=%{y}<extra></extra>",
         "legendgroup": "2001 Seco Bench Estate Pinot Noir (Monterey)",
         "marker": {
          "color": "#636efa",
          "symbol": "circle"
         },
         "mode": "markers",
         "name": "2001 Seco Bench Estate Pinot Noir (Monterey)",
         "orientation": "v",
         "showlegend": true,
         "type": "scatter",
         "x": [
          153975
         ],
         "xaxis": "x",
         "y": [
          90
         ],
         "yaxis": "y"
        },
        {
         "hovertemplate": "color=1998 Vintner's Reserve Chardonnay (California)<br>index=%{x}<br>value=%{y}<extra></extra>",
         "legendgroup": "1998 Vintner's Reserve Chardonnay (California)",
         "marker": {
          "color": "#EF553B",
          "symbol": "circle"
         },
         "mode": "markers",
         "name": "1998 Vintner's Reserve Chardonnay (California)",
         "orientation": "v",
         "showlegend": true,
         "type": "scatter",
         "x": [
          156455
         ],
         "xaxis": "x",
         "y": [
          85
         ],
         "yaxis": "y"
        },
        {
         "hovertemplate": "color=2017 Vintner's Reserve Pinot Gris (California)<br>index=%{x}<br>value=%{y}<extra></extra>",
         "legendgroup": "2017 Vintner's Reserve Pinot Gris (California)",
         "marker": {
          "color": "#00cc96",
          "symbol": "circle"
         },
         "mode": "markers",
         "name": "2017 Vintner's Reserve Pinot Gris (California)",
         "orientation": "v",
         "showlegend": true,
         "type": "scatter",
         "x": [
          158646
         ],
         "xaxis": "x",
         "y": [
          90
         ],
         "yaxis": "y"
        },
        {
         "hovertemplate": "color=2003 Trace Ridge Cabernet Sauvignon (Knights Valley)<br>index=%{x}<br>value=%{y}<extra></extra>",
         "legendgroup": "2003 Trace Ridge Cabernet Sauvignon (Knights Valley)",
         "marker": {
          "color": "#ab63fa",
          "symbol": "circle"
         },
         "mode": "markers",
         "name": "2003 Trace Ridge Cabernet Sauvignon (Knights Valley)",
         "orientation": "v",
         "showlegend": true,
         "type": "scatter",
         "x": [
          158841
         ],
         "xaxis": "x",
         "y": [
          94
         ],
         "yaxis": "y"
        },
        {
         "hovertemplate": "color=2017 Vintner's Reserve Pinot Noir (California)<br>index=%{x}<br>value=%{y}<extra></extra>",
         "legendgroup": "2017 Vintner's Reserve Pinot Noir (California)",
         "marker": {
          "color": "#FFA15A",
          "symbol": "circle"
         },
         "mode": "markers",
         "name": "2017 Vintner's Reserve Pinot Noir (California)",
         "orientation": "v",
         "showlegend": true,
         "type": "scatter",
         "x": [
          162038
         ],
         "xaxis": "x",
         "y": [
          90
         ],
         "yaxis": "y"
        },
        {
         "hovertemplate": "color=2018 Vintner's Reserve Zinfandel (North Coast)<br>index=%{x}<br>value=%{y}<extra></extra>",
         "legendgroup": "2018 Vintner's Reserve Zinfandel (North Coast)",
         "marker": {
          "color": "#19d3f3",
          "symbol": "circle"
         },
         "mode": "markers",
         "name": "2018 Vintner's Reserve Zinfandel (North Coast)",
         "orientation": "v",
         "showlegend": true,
         "type": "scatter",
         "x": [
          162705
         ],
         "xaxis": "x",
         "y": [
          91
         ],
         "yaxis": "y"
        },
        {
         "hovertemplate": "color=2018 Vintner's Reserve Pinot Gris (California)<br>index=%{x}<br>value=%{y}<extra></extra>",
         "legendgroup": "2018 Vintner's Reserve Pinot Gris (California)",
         "marker": {
          "color": "#FF6692",
          "symbol": "circle"
         },
         "mode": "markers",
         "name": "2018 Vintner's Reserve Pinot Gris (California)",
         "orientation": "v",
         "showlegend": true,
         "type": "scatter",
         "x": [
          163170
         ],
         "xaxis": "x",
         "y": [
          88
         ],
         "yaxis": "y"
        },
        {
         "hovertemplate": "color=2002 Camelot Highlands Estate Chardonnay (Santa Barbara County)<br>index=%{x}<br>value=%{y}<extra></extra>",
         "legendgroup": "2002 Camelot Highlands Estate Chardonnay (Santa Barbara County)",
         "marker": {
          "color": "#B6E880",
          "symbol": "circle"
         },
         "mode": "markers",
         "name": "2002 Camelot Highlands Estate Chardonnay (Santa Barbara County)",
         "orientation": "v",
         "showlegend": true,
         "type": "scatter",
         "x": [
          163635,
          322672
         ],
         "xaxis": "x",
         "y": [
          90,
          91
         ],
         "yaxis": "y"
        },
        {
         "hovertemplate": "color=2010 Vintner's Reserve Pinot Noir (California)<br>index=%{x}<br>value=%{y}<extra></extra>",
         "legendgroup": "2010 Vintner's Reserve Pinot Noir (California)",
         "marker": {
          "color": "#FF97FF",
          "symbol": "circle"
         },
         "mode": "markers",
         "name": "2010 Vintner's Reserve Pinot Noir (California)",
         "orientation": "v",
         "showlegend": true,
         "type": "scatter",
         "x": [
          164091
         ],
         "xaxis": "x",
         "y": [
          87
         ],
         "yaxis": "y"
        },
        {
         "hovertemplate": "color=2007 Grand Reserve Syrah (Santa Barbara County)<br>index=%{x}<br>value=%{y}<extra></extra>",
         "legendgroup": "2007 Grand Reserve Syrah (Santa Barbara County)",
         "marker": {
          "color": "#FECB52",
          "symbol": "circle"
         },
         "mode": "markers",
         "name": "2007 Grand Reserve Syrah (Santa Barbara County)",
         "orientation": "v",
         "showlegend": true,
         "type": "scatter",
         "x": [
          164341
         ],
         "xaxis": "x",
         "y": [
          90
         ],
         "yaxis": "y"
        },
        {
         "hovertemplate": "color=2018 Vintner's Reserve Pinot Noir (California)<br>index=%{x}<br>value=%{y}<extra></extra>",
         "legendgroup": "2018 Vintner's Reserve Pinot Noir (California)",
         "marker": {
          "color": "#636efa",
          "symbol": "circle"
         },
         "mode": "markers",
         "name": "2018 Vintner's Reserve Pinot Noir (California)",
         "orientation": "v",
         "showlegend": true,
         "type": "scatter",
         "x": [
          164582
         ],
         "xaxis": "x",
         "y": [
          91
         ],
         "yaxis": "y"
        },
        {
         "hovertemplate": "color=2009 Vintner's Reserve Merlot (Sonoma County)<br>index=%{x}<br>value=%{y}<extra></extra>",
         "legendgroup": "2009 Vintner's Reserve Merlot (Sonoma County)",
         "marker": {
          "color": "#EF553B",
          "symbol": "circle"
         },
         "mode": "markers",
         "name": "2009 Vintner's Reserve Merlot (Sonoma County)",
         "orientation": "v",
         "showlegend": true,
         "type": "scatter",
         "x": [
          165299
         ],
         "xaxis": "x",
         "y": [
          86
         ],
         "yaxis": "y"
        },
        {
         "hovertemplate": "color=2004 Vintner's Reserve Sauvignon Blanc (California)<br>index=%{x}<br>value=%{y}<extra></extra>",
         "legendgroup": "2004 Vintner's Reserve Sauvignon Blanc (California)",
         "marker": {
          "color": "#00cc96",
          "symbol": "circle"
         },
         "mode": "markers",
         "name": "2004 Vintner's Reserve Sauvignon Blanc (California)",
         "orientation": "v",
         "showlegend": true,
         "type": "scatter",
         "x": [
          166372
         ],
         "xaxis": "x",
         "y": [
          85
         ],
         "yaxis": "y"
        },
        {
         "hovertemplate": "color=1999 Stature Cabernet Sauvignon (Napa Valley)<br>index=%{x}<br>value=%{y}<extra></extra>",
         "legendgroup": "1999 Stature Cabernet Sauvignon (Napa Valley)",
         "marker": {
          "color": "#ab63fa",
          "symbol": "circle"
         },
         "mode": "markers",
         "name": "1999 Stature Cabernet Sauvignon (Napa Valley)",
         "orientation": "v",
         "showlegend": true,
         "type": "scatter",
         "x": [
          166576
         ],
         "xaxis": "x",
         "y": [
          88
         ],
         "yaxis": "y"
        },
        {
         "hovertemplate": "color=2018 Camelot Highlands Estate Collection Chardonnay (Santa Maria Valley)<br>index=%{x}<br>value=%{y}<extra></extra>",
         "legendgroup": "2018 Camelot Highlands Estate Collection Chardonnay (Santa Maria Valley)",
         "marker": {
          "color": "#FFA15A",
          "symbol": "circle"
         },
         "mode": "markers",
         "name": "2018 Camelot Highlands Estate Collection Chardonnay (Santa Maria Valley)",
         "orientation": "v",
         "showlegend": true,
         "type": "scatter",
         "x": [
          167334
         ],
         "xaxis": "x",
         "y": [
          93
         ],
         "yaxis": "y"
        },
        {
         "hovertemplate": "color=2009 Vintner's Reserve Riesling (Monterey County)<br>index=%{x}<br>value=%{y}<extra></extra>",
         "legendgroup": "2009 Vintner's Reserve Riesling (Monterey County)",
         "marker": {
          "color": "#19d3f3",
          "symbol": "circle"
         },
         "mode": "markers",
         "name": "2009 Vintner's Reserve Riesling (Monterey County)",
         "orientation": "v",
         "showlegend": true,
         "type": "scatter",
         "x": [
          167381
         ],
         "xaxis": "x",
         "y": [
          84
         ],
         "yaxis": "y"
        },
        {
         "hovertemplate": "color=2008 Grand Reserve Chardonnay (Monterey-Santa Barbara)<br>index=%{x}<br>value=%{y}<extra></extra>",
         "legendgroup": "2008 Grand Reserve Chardonnay (Monterey-Santa Barbara)",
         "marker": {
          "color": "#FF6692",
          "symbol": "circle"
         },
         "mode": "markers",
         "name": "2008 Grand Reserve Chardonnay (Monterey-Santa Barbara)",
         "orientation": "v",
         "showlegend": true,
         "type": "scatter",
         "x": [
          167396
         ],
         "xaxis": "x",
         "y": [
          90
         ],
         "yaxis": "y"
        },
        {
         "hovertemplate": "color=2008 Vintner's Reserve Pinot Noir (California)<br>index=%{x}<br>value=%{y}<extra></extra>",
         "legendgroup": "2008 Vintner's Reserve Pinot Noir (California)",
         "marker": {
          "color": "#B6E880",
          "symbol": "circle"
         },
         "mode": "markers",
         "name": "2008 Vintner's Reserve Pinot Noir (California)",
         "orientation": "v",
         "showlegend": true,
         "type": "scatter",
         "x": [
          168396
         ],
         "xaxis": "x",
         "y": [
          87
         ],
         "yaxis": "y"
        },
        {
         "hovertemplate": "color=2013 Jackson Estate Chardonnay (Santa Maria Valley)<br>index=%{x}<br>value=%{y}<extra></extra>",
         "legendgroup": "2013 Jackson Estate Chardonnay (Santa Maria Valley)",
         "marker": {
          "color": "#FF97FF",
          "symbol": "circle"
         },
         "mode": "markers",
         "name": "2013 Jackson Estate Chardonnay (Santa Maria Valley)",
         "orientation": "v",
         "showlegend": true,
         "type": "scatter",
         "x": [
          168514
         ],
         "xaxis": "x",
         "y": [
          92
         ],
         "yaxis": "y"
        },
        {
         "hovertemplate": "color=1998 Collage Red (California)<br>index=%{x}<br>value=%{y}<extra></extra>",
         "legendgroup": "1998 Collage Red (California)",
         "marker": {
          "color": "#FECB52",
          "symbol": "circle"
         },
         "mode": "markers",
         "name": "1998 Collage Red (California)",
         "orientation": "v",
         "showlegend": true,
         "type": "scatter",
         "x": [
          169037
         ],
         "xaxis": "x",
         "y": [
          84
         ],
         "yaxis": "y"
        },
        {
         "hovertemplate": "color=2017 Trace Ridge Estate Cabernet Sauvignon (Knights Valley)<br>index=%{x}<br>value=%{y}<extra></extra>",
         "legendgroup": "2017 Trace Ridge Estate Cabernet Sauvignon (Knights Valley)",
         "marker": {
          "color": "#636efa",
          "symbol": "circle"
         },
         "mode": "markers",
         "name": "2017 Trace Ridge Estate Cabernet Sauvignon (Knights Valley)",
         "orientation": "v",
         "showlegend": true,
         "type": "scatter",
         "x": [
          169192
         ],
         "xaxis": "x",
         "y": [
          92
         ],
         "yaxis": "y"
        },
        {
         "hovertemplate": "color=2015 Avant Chardonnay (California)<br>index=%{x}<br>value=%{y}<extra></extra>",
         "legendgroup": "2015 Avant Chardonnay (California)",
         "marker": {
          "color": "#EF553B",
          "symbol": "circle"
         },
         "mode": "markers",
         "name": "2015 Avant Chardonnay (California)",
         "orientation": "v",
         "showlegend": true,
         "type": "scatter",
         "x": [
          169402
         ],
         "xaxis": "x",
         "y": [
          88
         ],
         "yaxis": "y"
        },
        {
         "hovertemplate": "color=2007 Jackson Estates Grown Vintner's Reserve Syrah (California)<br>index=%{x}<br>value=%{y}<extra></extra>",
         "legendgroup": "2007 Jackson Estates Grown Vintner's Reserve Syrah (California)",
         "marker": {
          "color": "#00cc96",
          "symbol": "circle"
         },
         "mode": "markers",
         "name": "2007 Jackson Estates Grown Vintner's Reserve Syrah (California)",
         "orientation": "v",
         "showlegend": true,
         "type": "scatter",
         "x": [
          169599
         ],
         "xaxis": "x",
         "y": [
          86
         ],
         "yaxis": "y"
        },
        {
         "hovertemplate": "color=2016 Jackson Estate Pinot Noir (Anderson Valley)<br>index=%{x}<br>value=%{y}<extra></extra>",
         "legendgroup": "2016 Jackson Estate Pinot Noir (Anderson Valley)",
         "marker": {
          "color": "#ab63fa",
          "symbol": "circle"
         },
         "mode": "markers",
         "name": "2016 Jackson Estate Pinot Noir (Anderson Valley)",
         "orientation": "v",
         "showlegend": true,
         "type": "scatter",
         "x": [
          169955
         ],
         "xaxis": "x",
         "y": [
          92
         ],
         "yaxis": "y"
        },
        {
         "hovertemplate": "color=2001 Vintner's Reserve Pinot Noir (California)<br>index=%{x}<br>value=%{y}<extra></extra>",
         "legendgroup": "2001 Vintner's Reserve Pinot Noir (California)",
         "marker": {
          "color": "#FFA15A",
          "symbol": "circle"
         },
         "mode": "markers",
         "name": "2001 Vintner's Reserve Pinot Noir (California)",
         "orientation": "v",
         "showlegend": true,
         "type": "scatter",
         "x": [
          170467
         ],
         "xaxis": "x",
         "y": [
          85
         ],
         "yaxis": "y"
        },
        {
         "hovertemplate": "color=1998 Great Estates Cabernet Sauvignon (Napa Valley)<br>index=%{x}<br>value=%{y}<extra></extra>",
         "legendgroup": "1998 Great Estates Cabernet Sauvignon (Napa Valley)",
         "marker": {
          "color": "#19d3f3",
          "symbol": "circle"
         },
         "mode": "markers",
         "name": "1998 Great Estates Cabernet Sauvignon (Napa Valley)",
         "orientation": "v",
         "showlegend": true,
         "type": "scatter",
         "x": [
          172711
         ],
         "xaxis": "x",
         "y": [
          90
         ],
         "yaxis": "y"
        },
        {
         "hovertemplate": "color=2007 Vintner's Reserve Chardonnay (California)<br>index=%{x}<br>value=%{y}<extra></extra>",
         "legendgroup": "2007 Vintner's Reserve Chardonnay (California)",
         "marker": {
          "color": "#FF6692",
          "symbol": "circle"
         },
         "mode": "markers",
         "name": "2007 Vintner's Reserve Chardonnay (California)",
         "orientation": "v",
         "showlegend": true,
         "type": "scatter",
         "x": [
          173024
         ],
         "xaxis": "x",
         "y": [
          87
         ],
         "yaxis": "y"
        },
        {
         "hovertemplate": "color=1999 Great Estates Cabernet Sauvignon (Napa Valley)<br>index=%{x}<br>value=%{y}<extra></extra>",
         "legendgroup": "1999 Great Estates Cabernet Sauvignon (Napa Valley)",
         "marker": {
          "color": "#B6E880",
          "symbol": "circle"
         },
         "mode": "markers",
         "name": "1999 Great Estates Cabernet Sauvignon (Napa Valley)",
         "orientation": "v",
         "showlegend": true,
         "type": "scatter",
         "x": [
          173264
         ],
         "xaxis": "x",
         "y": [
          92
         ],
         "yaxis": "y"
        },
        {
         "hovertemplate": "color=2018 Vintner's Reserve Rosé (California)<br>index=%{x}<br>value=%{y}<extra></extra>",
         "legendgroup": "2018 Vintner's Reserve Rosé (California)",
         "marker": {
          "color": "#FF97FF",
          "symbol": "circle"
         },
         "mode": "markers",
         "name": "2018 Vintner's Reserve Rosé (California)",
         "orientation": "v",
         "showlegend": true,
         "type": "scatter",
         "x": [
          173300
         ],
         "xaxis": "x",
         "y": [
          87
         ],
         "yaxis": "y"
        },
        {
         "hovertemplate": "color=2010 Grand Reserve Chardonnay (Santa Barbara-Monterey)<br>index=%{x}<br>value=%{y}<extra></extra>",
         "legendgroup": "2010 Grand Reserve Chardonnay (Santa Barbara-Monterey)",
         "marker": {
          "color": "#FECB52",
          "symbol": "circle"
         },
         "mode": "markers",
         "name": "2010 Grand Reserve Chardonnay (Santa Barbara-Monterey)",
         "orientation": "v",
         "showlegend": true,
         "type": "scatter",
         "x": [
          175126
         ],
         "xaxis": "x",
         "y": [
          92
         ],
         "yaxis": "y"
        },
        {
         "hovertemplate": "color=2007 Highlands Estates Los Robles Pinot Noir (Santa Barbara County)<br>index=%{x}<br>value=%{y}<extra></extra>",
         "legendgroup": "2007 Highlands Estates Los Robles Pinot Noir (Santa Barbara County)",
         "marker": {
          "color": "#636efa",
          "symbol": "circle"
         },
         "mode": "markers",
         "name": "2007 Highlands Estates Los Robles Pinot Noir (Santa Barbara County)",
         "orientation": "v",
         "showlegend": true,
         "type": "scatter",
         "x": [
          177019
         ],
         "xaxis": "x",
         "y": [
          87
         ],
         "yaxis": "y"
        },
        {
         "hovertemplate": "color=2016 Vintner's Reserve Rosé (California)<br>index=%{x}<br>value=%{y}<extra></extra>",
         "legendgroup": "2016 Vintner's Reserve Rosé (California)",
         "marker": {
          "color": "#EF553B",
          "symbol": "circle"
         },
         "mode": "markers",
         "name": "2016 Vintner's Reserve Rosé (California)",
         "orientation": "v",
         "showlegend": true,
         "type": "scatter",
         "x": [
          177687
         ],
         "xaxis": "x",
         "y": [
          86
         ],
         "yaxis": "y"
        },
        {
         "hovertemplate": "color=2005 Vintner's Reserve Chardonnay (California)<br>index=%{x}<br>value=%{y}<extra></extra>",
         "legendgroup": "2005 Vintner's Reserve Chardonnay (California)",
         "marker": {
          "color": "#00cc96",
          "symbol": "circle"
         },
         "mode": "markers",
         "name": "2005 Vintner's Reserve Chardonnay (California)",
         "orientation": "v",
         "showlegend": true,
         "type": "scatter",
         "x": [
          177758
         ],
         "xaxis": "x",
         "y": [
          85
         ],
         "yaxis": "y"
        },
        {
         "hovertemplate": "color=2008 Vintner's Reserve Summation Red (California)<br>index=%{x}<br>value=%{y}<extra></extra>",
         "legendgroup": "2008 Vintner's Reserve Summation Red (California)",
         "marker": {
          "color": "#ab63fa",
          "symbol": "circle"
         },
         "mode": "markers",
         "name": "2008 Vintner's Reserve Summation Red (California)",
         "orientation": "v",
         "showlegend": true,
         "type": "scatter",
         "x": [
          179364
         ],
         "xaxis": "x",
         "y": [
          85
         ],
         "yaxis": "y"
        },
        {
         "hovertemplate": "color=2008 Grand Reserve Cabernet Sauvignon (Sonoma County)<br>index=%{x}<br>value=%{y}<extra></extra>",
         "legendgroup": "2008 Grand Reserve Cabernet Sauvignon (Sonoma County)",
         "marker": {
          "color": "#FFA15A",
          "symbol": "circle"
         },
         "mode": "markers",
         "name": "2008 Grand Reserve Cabernet Sauvignon (Sonoma County)",
         "orientation": "v",
         "showlegend": true,
         "type": "scatter",
         "x": [
          179693
         ],
         "xaxis": "x",
         "y": [
          91
         ],
         "yaxis": "y"
        },
        {
         "hovertemplate": "color=1999 Collage Cabernet Sauvignon-Shiraz (California)<br>index=%{x}<br>value=%{y}<extra></extra>",
         "legendgroup": "1999 Collage Cabernet Sauvignon-Shiraz (California)",
         "marker": {
          "color": "#19d3f3",
          "symbol": "circle"
         },
         "mode": "markers",
         "name": "1999 Collage Cabernet Sauvignon-Shiraz (California)",
         "orientation": "v",
         "showlegend": true,
         "type": "scatter",
         "x": [
          179963
         ],
         "xaxis": "x",
         "y": [
          86
         ],
         "yaxis": "y"
        },
        {
         "hovertemplate": "color=2011 Grand Reserve Cabernet Sauvignon (Sonoma County)<br>index=%{x}<br>value=%{y}<extra></extra>",
         "legendgroup": "2011 Grand Reserve Cabernet Sauvignon (Sonoma County)",
         "marker": {
          "color": "#FF6692",
          "symbol": "circle"
         },
         "mode": "markers",
         "name": "2011 Grand Reserve Cabernet Sauvignon (Sonoma County)",
         "orientation": "v",
         "showlegend": true,
         "type": "scatter",
         "x": [
          180542
         ],
         "xaxis": "x",
         "y": [
          88
         ],
         "yaxis": "y"
        },
        {
         "hovertemplate": "color=2008 Vintner's Reserve Riesling (Monterey County)<br>index=%{x}<br>value=%{y}<extra></extra>",
         "legendgroup": "2008 Vintner's Reserve Riesling (Monterey County)",
         "marker": {
          "color": "#B6E880",
          "symbol": "circle"
         },
         "mode": "markers",
         "name": "2008 Vintner's Reserve Riesling (Monterey County)",
         "orientation": "v",
         "showlegend": true,
         "type": "scatter",
         "x": [
          181020
         ],
         "xaxis": "x",
         "y": [
          86
         ],
         "yaxis": "y"
        },
        {
         "hovertemplate": "color=2006 Vintner's Reserve Meritage (California)<br>index=%{x}<br>value=%{y}<extra></extra>",
         "legendgroup": "2006 Vintner's Reserve Meritage (California)",
         "marker": {
          "color": "#FF97FF",
          "symbol": "circle"
         },
         "mode": "markers",
         "name": "2006 Vintner's Reserve Meritage (California)",
         "orientation": "v",
         "showlegend": true,
         "type": "scatter",
         "x": [
          181089
         ],
         "xaxis": "x",
         "y": [
          86
         ],
         "yaxis": "y"
        },
        {
         "hovertemplate": "color=2007 Vintner's Reserve Cabernet Sauvignon (Sonoma-Napa-Mendocino)<br>index=%{x}<br>value=%{y}<extra></extra>",
         "legendgroup": "2007 Vintner's Reserve Cabernet Sauvignon (Sonoma-Napa-Mendocino)",
         "marker": {
          "color": "#FECB52",
          "symbol": "circle"
         },
         "mode": "markers",
         "name": "2007 Vintner's Reserve Cabernet Sauvignon (Sonoma-Napa-Mendocino)",
         "orientation": "v",
         "showlegend": true,
         "type": "scatter",
         "x": [
          181297
         ],
         "xaxis": "x",
         "y": [
          87
         ],
         "yaxis": "y"
        },
        {
         "hovertemplate": "color=2003 Vintner's Reserve Pinot Noir (California)<br>index=%{x}<br>value=%{y}<extra></extra>",
         "legendgroup": "2003 Vintner's Reserve Pinot Noir (California)",
         "marker": {
          "color": "#636efa",
          "symbol": "circle"
         },
         "mode": "markers",
         "name": "2003 Vintner's Reserve Pinot Noir (California)",
         "orientation": "v",
         "showlegend": true,
         "type": "scatter",
         "x": [
          182832
         ],
         "xaxis": "x",
         "y": [
          84
         ],
         "yaxis": "y"
        },
        {
         "hovertemplate": "color=2007 Rosé of Malbec (Napa County)<br>index=%{x}<br>value=%{y}<extra></extra>",
         "legendgroup": "2007 Rosé of Malbec (Napa County)",
         "marker": {
          "color": "#EF553B",
          "symbol": "circle"
         },
         "mode": "markers",
         "name": "2007 Rosé of Malbec (Napa County)",
         "orientation": "v",
         "showlegend": true,
         "type": "scatter",
         "x": [
          183128
         ],
         "xaxis": "x",
         "y": [
          84
         ],
         "yaxis": "y"
        },
        {
         "hovertemplate": "color=2008 Jackson Hills Chardonnay (Santa Barbara County)<br>index=%{x}<br>value=%{y}<extra></extra>",
         "legendgroup": "2008 Jackson Hills Chardonnay (Santa Barbara County)",
         "marker": {
          "color": "#00cc96",
          "symbol": "circle"
         },
         "mode": "markers",
         "name": "2008 Jackson Hills Chardonnay (Santa Barbara County)",
         "orientation": "v",
         "showlegend": true,
         "type": "scatter",
         "x": [
          184683
         ],
         "xaxis": "x",
         "y": [
          91
         ],
         "yaxis": "y"
        },
        {
         "hovertemplate": "color=2009 Grand Reserve Chardonnay (Santa Barbara-Monterey)<br>index=%{x}<br>value=%{y}<extra></extra>",
         "legendgroup": "2009 Grand Reserve Chardonnay (Santa Barbara-Monterey)",
         "marker": {
          "color": "#ab63fa",
          "symbol": "circle"
         },
         "mode": "markers",
         "name": "2009 Grand Reserve Chardonnay (Santa Barbara-Monterey)",
         "orientation": "v",
         "showlegend": true,
         "type": "scatter",
         "x": [
          185946
         ],
         "xaxis": "x",
         "y": [
          88
         ],
         "yaxis": "y"
        },
        {
         "hovertemplate": "color=2002 Vintner's Reserve Sauvignon Blanc (California)<br>index=%{x}<br>value=%{y}<extra></extra>",
         "legendgroup": "2002 Vintner's Reserve Sauvignon Blanc (California)",
         "marker": {
          "color": "#FFA15A",
          "symbol": "circle"
         },
         "mode": "markers",
         "name": "2002 Vintner's Reserve Sauvignon Blanc (California)",
         "orientation": "v",
         "showlegend": true,
         "type": "scatter",
         "x": [
          185987
         ],
         "xaxis": "x",
         "y": [
          84
         ],
         "yaxis": "y"
        },
        {
         "hovertemplate": "color=2011 Vintner's Reserve Merlot (Sonoma County)<br>index=%{x}<br>value=%{y}<extra></extra>",
         "legendgroup": "2011 Vintner's Reserve Merlot (Sonoma County)",
         "marker": {
          "color": "#19d3f3",
          "symbol": "circle"
         },
         "mode": "markers",
         "name": "2011 Vintner's Reserve Merlot (Sonoma County)",
         "orientation": "v",
         "showlegend": true,
         "type": "scatter",
         "x": [
          187123
         ],
         "xaxis": "x",
         "y": [
          87
         ],
         "yaxis": "y"
        },
        {
         "hovertemplate": "color=2018 Vintner's Reserve Cabernet Sauvignon (Sonoma County)<br>index=%{x}<br>value=%{y}<extra></extra>",
         "legendgroup": "2018 Vintner's Reserve Cabernet Sauvignon (Sonoma County)",
         "marker": {
          "color": "#FF6692",
          "symbol": "circle"
         },
         "mode": "markers",
         "name": "2018 Vintner's Reserve Cabernet Sauvignon (Sonoma County)",
         "orientation": "v",
         "showlegend": true,
         "type": "scatter",
         "x": [
          188152
         ],
         "xaxis": "x",
         "y": [
          90
         ],
         "yaxis": "y"
        },
        {
         "hovertemplate": "color=2006 Highland Estates Trace Ridge Cabernet Sauvignon (Knights Valley)<br>index=%{x}<br>value=%{y}<extra></extra>",
         "legendgroup": "2006 Highland Estates Trace Ridge Cabernet Sauvignon (Knights Valley)",
         "marker": {
          "color": "#B6E880",
          "symbol": "circle"
         },
         "mode": "markers",
         "name": "2006 Highland Estates Trace Ridge Cabernet Sauvignon (Knights Valley)",
         "orientation": "v",
         "showlegend": true,
         "type": "scatter",
         "x": [
          188519
         ],
         "xaxis": "x",
         "y": [
          94
         ],
         "yaxis": "y"
        },
        {
         "hovertemplate": "color=2006 Highland Estates Camelot Highlands Chardonnay (Santa Maria Valley)<br>index=%{x}<br>value=%{y}<extra></extra>",
         "legendgroup": "2006 Highland Estates Camelot Highlands Chardonnay (Santa Maria Valley)",
         "marker": {
          "color": "#FF97FF",
          "symbol": "circle"
         },
         "mode": "markers",
         "name": "2006 Highland Estates Camelot Highlands Chardonnay (Santa Maria Valley)",
         "orientation": "v",
         "showlegend": true,
         "type": "scatter",
         "x": [
          189227
         ],
         "xaxis": "x",
         "y": [
          93
         ],
         "yaxis": "y"
        },
        {
         "hovertemplate": "color=2013 Grand Reserve Merlot (Sonoma County)<br>index=%{x}<br>value=%{y}<extra></extra>",
         "legendgroup": "2013 Grand Reserve Merlot (Sonoma County)",
         "marker": {
          "color": "#FECB52",
          "symbol": "circle"
         },
         "mode": "markers",
         "name": "2013 Grand Reserve Merlot (Sonoma County)",
         "orientation": "v",
         "showlegend": true,
         "type": "scatter",
         "x": [
          189679
         ],
         "xaxis": "x",
         "y": [
          91
         ],
         "yaxis": "y"
        },
        {
         "hovertemplate": "color=2013 Trace Ridge Cabernet Sauvignon (Knights Valley)<br>index=%{x}<br>value=%{y}<extra></extra>",
         "legendgroup": "2013 Trace Ridge Cabernet Sauvignon (Knights Valley)",
         "marker": {
          "color": "#636efa",
          "symbol": "circle"
         },
         "mode": "markers",
         "name": "2013 Trace Ridge Cabernet Sauvignon (Knights Valley)",
         "orientation": "v",
         "showlegend": true,
         "type": "scatter",
         "x": [
          189725
         ],
         "xaxis": "x",
         "y": [
          91
         ],
         "yaxis": "y"
        },
        {
         "hovertemplate": "color=2017 Estates Collection Cabernet Sauvignon (Alexander Valley)<br>index=%{x}<br>value=%{y}<extra></extra>",
         "legendgroup": "2017 Estates Collection Cabernet Sauvignon (Alexander Valley)",
         "marker": {
          "color": "#EF553B",
          "symbol": "circle"
         },
         "mode": "markers",
         "name": "2017 Estates Collection Cabernet Sauvignon (Alexander Valley)",
         "orientation": "v",
         "showlegend": true,
         "type": "scatter",
         "x": [
          190489
         ],
         "xaxis": "x",
         "y": [
          90
         ],
         "yaxis": "y"
        },
        {
         "hovertemplate": "color=2017 Grand Reserve Chardonnay (Santa Barbara County)<br>index=%{x}<br>value=%{y}<extra></extra>",
         "legendgroup": "2017 Grand Reserve Chardonnay (Santa Barbara County)",
         "marker": {
          "color": "#00cc96",
          "symbol": "circle"
         },
         "mode": "markers",
         "name": "2017 Grand Reserve Chardonnay (Santa Barbara County)",
         "orientation": "v",
         "showlegend": true,
         "type": "scatter",
         "x": [
          193281
         ],
         "xaxis": "x",
         "y": [
          88
         ],
         "yaxis": "y"
        },
        {
         "hovertemplate": "color=2007 Vintner's Reserve Summation Red (California)<br>index=%{x}<br>value=%{y}<extra></extra>",
         "legendgroup": "2007 Vintner's Reserve Summation Red (California)",
         "marker": {
          "color": "#ab63fa",
          "symbol": "circle"
         },
         "mode": "markers",
         "name": "2007 Vintner's Reserve Summation Red (California)",
         "orientation": "v",
         "showlegend": true,
         "type": "scatter",
         "x": [
          194092
         ],
         "xaxis": "x",
         "y": [
          90
         ],
         "yaxis": "y"
        },
        {
         "hovertemplate": "color=2002 Seco Highlands Estate Pinot Noir (Monterey County)<br>index=%{x}<br>value=%{y}<extra></extra>",
         "legendgroup": "2002 Seco Highlands Estate Pinot Noir (Monterey County)",
         "marker": {
          "color": "#FFA15A",
          "symbol": "circle"
         },
         "mode": "markers",
         "name": "2002 Seco Highlands Estate Pinot Noir (Monterey County)",
         "orientation": "v",
         "showlegend": true,
         "type": "scatter",
         "x": [
          194224
         ],
         "xaxis": "x",
         "y": [
          88
         ],
         "yaxis": "y"
        },
        {
         "hovertemplate": "color=2008 Highlands Estates Seco Highlands Chardonnay (Arroyo Seco)<br>index=%{x}<br>value=%{y}<extra></extra>",
         "legendgroup": "2008 Highlands Estates Seco Highlands Chardonnay (Arroyo Seco)",
         "marker": {
          "color": "#19d3f3",
          "symbol": "circle"
         },
         "mode": "markers",
         "name": "2008 Highlands Estates Seco Highlands Chardonnay (Arroyo Seco)",
         "orientation": "v",
         "showlegend": true,
         "type": "scatter",
         "x": [
          196638
         ],
         "xaxis": "x",
         "y": [
          92
         ],
         "yaxis": "y"
        },
        {
         "hovertemplate": "color=2012 Vintner's Reserve Merlot (Sonoma County)<br>index=%{x}<br>value=%{y}<extra></extra>",
         "legendgroup": "2012 Vintner's Reserve Merlot (Sonoma County)",
         "marker": {
          "color": "#FF6692",
          "symbol": "circle"
         },
         "mode": "markers",
         "name": "2012 Vintner's Reserve Merlot (Sonoma County)",
         "orientation": "v",
         "showlegend": true,
         "type": "scatter",
         "x": [
          197941
         ],
         "xaxis": "x",
         "y": [
          90
         ],
         "yaxis": "y"
        },
        {
         "hovertemplate": "color=2010 Vintner's Reserve Summation Red (Sonoma County)<br>index=%{x}<br>value=%{y}<extra></extra>",
         "legendgroup": "2010 Vintner's Reserve Summation Red (Sonoma County)",
         "marker": {
          "color": "#B6E880",
          "symbol": "circle"
         },
         "mode": "markers",
         "name": "2010 Vintner's Reserve Summation Red (Sonoma County)",
         "orientation": "v",
         "showlegend": true,
         "type": "scatter",
         "x": [
          199232
         ],
         "xaxis": "x",
         "y": [
          86
         ],
         "yaxis": "y"
        },
        {
         "hovertemplate": "color=2005 Highlands Estates Trace Ridge Cabernet Sauvignon (Knights Valley)<br>index=%{x}<br>value=%{y}<extra></extra>",
         "legendgroup": "2005 Highlands Estates Trace Ridge Cabernet Sauvignon (Knights Valley)",
         "marker": {
          "color": "#FF97FF",
          "symbol": "circle"
         },
         "mode": "markers",
         "name": "2005 Highlands Estates Trace Ridge Cabernet Sauvignon (Knights Valley)",
         "orientation": "v",
         "showlegend": true,
         "type": "scatter",
         "x": [
          199343
         ],
         "xaxis": "x",
         "y": [
          94
         ],
         "yaxis": "y"
        },
        {
         "hovertemplate": "color=2014 Vintner's Reserve Sauvignon Blanc (California)<br>index=%{x}<br>value=%{y}<extra></extra>",
         "legendgroup": "2014 Vintner's Reserve Sauvignon Blanc (California)",
         "marker": {
          "color": "#FECB52",
          "symbol": "circle"
         },
         "mode": "markers",
         "name": "2014 Vintner's Reserve Sauvignon Blanc (California)",
         "orientation": "v",
         "showlegend": true,
         "type": "scatter",
         "x": [
          200861
         ],
         "xaxis": "x",
         "y": [
          86
         ],
         "yaxis": "y"
        },
        {
         "hovertemplate": "color=2005 Seco Highlands Estate Chardonnay (Arroyo Seco)<br>index=%{x}<br>value=%{y}<extra></extra>",
         "legendgroup": "2005 Seco Highlands Estate Chardonnay (Arroyo Seco)",
         "marker": {
          "color": "#636efa",
          "symbol": "circle"
         },
         "mode": "markers",
         "name": "2005 Seco Highlands Estate Chardonnay (Arroyo Seco)",
         "orientation": "v",
         "showlegend": true,
         "type": "scatter",
         "x": [
          201836
         ],
         "xaxis": "x",
         "y": [
          92
         ],
         "yaxis": "y"
        },
        {
         "hovertemplate": "color=2019 Jackson Estate Outland Ridge Pinot Noir (Anderson Valley)<br>index=%{x}<br>value=%{y}<extra></extra>",
         "legendgroup": "2019 Jackson Estate Outland Ridge Pinot Noir (Anderson Valley)",
         "marker": {
          "color": "#EF553B",
          "symbol": "circle"
         },
         "mode": "markers",
         "name": "2019 Jackson Estate Outland Ridge Pinot Noir (Anderson Valley)",
         "orientation": "v",
         "showlegend": true,
         "type": "scatter",
         "x": [
          201837
         ],
         "xaxis": "x",
         "y": [
          91
         ],
         "yaxis": "y"
        },
        {
         "hovertemplate": "color=2015 Vintner's Reserve Pinot Gris (California)<br>index=%{x}<br>value=%{y}<extra></extra>",
         "legendgroup": "2015 Vintner's Reserve Pinot Gris (California)",
         "marker": {
          "color": "#00cc96",
          "symbol": "circle"
         },
         "mode": "markers",
         "name": "2015 Vintner's Reserve Pinot Gris (California)",
         "orientation": "v",
         "showlegend": true,
         "type": "scatter",
         "x": [
          205520
         ],
         "xaxis": "x",
         "y": [
          87
         ],
         "yaxis": "y"
        },
        {
         "hovertemplate": "color=2019 Sable Mountain Vineyard Chardonnay (Anderson Valley)<br>index=%{x}<br>value=%{y}<extra></extra>",
         "legendgroup": "2019 Sable Mountain Vineyard Chardonnay (Anderson Valley)",
         "marker": {
          "color": "#ab63fa",
          "symbol": "circle"
         },
         "mode": "markers",
         "name": "2019 Sable Mountain Vineyard Chardonnay (Anderson Valley)",
         "orientation": "v",
         "showlegend": true,
         "type": "scatter",
         "x": [
          205552
         ],
         "xaxis": "x",
         "y": [
          88
         ],
         "yaxis": "y"
        },
        {
         "hovertemplate": "color=2013 Vintner's Reserve Syrah (Santa Barbara)<br>index=%{x}<br>value=%{y}<extra></extra>",
         "legendgroup": "2013 Vintner's Reserve Syrah (Santa Barbara)",
         "marker": {
          "color": "#FFA15A",
          "symbol": "circle"
         },
         "mode": "markers",
         "name": "2013 Vintner's Reserve Syrah (Santa Barbara)",
         "orientation": "v",
         "showlegend": true,
         "type": "scatter",
         "x": [
          205747
         ],
         "xaxis": "x",
         "y": [
          89
         ],
         "yaxis": "y"
        },
        {
         "hovertemplate": "color=2006 Vintner's Reserve Riesling (California)<br>index=%{x}<br>value=%{y}<extra></extra>",
         "legendgroup": "2006 Vintner's Reserve Riesling (California)",
         "marker": {
          "color": "#19d3f3",
          "symbol": "circle"
         },
         "mode": "markers",
         "name": "2006 Vintner's Reserve Riesling (California)",
         "orientation": "v",
         "showlegend": true,
         "type": "scatter",
         "x": [
          205866
         ],
         "xaxis": "x",
         "y": [
          83
         ],
         "yaxis": "y"
        },
        {
         "hovertemplate": "color=2008 Vintner's Reserve Sauvignon Blanc (California)<br>index=%{x}<br>value=%{y}<extra></extra>",
         "legendgroup": "2008 Vintner's Reserve Sauvignon Blanc (California)",
         "marker": {
          "color": "#FF6692",
          "symbol": "circle"
         },
         "mode": "markers",
         "name": "2008 Vintner's Reserve Sauvignon Blanc (California)",
         "orientation": "v",
         "showlegend": true,
         "type": "scatter",
         "x": [
          205934
         ],
         "xaxis": "x",
         "y": [
          88
         ],
         "yaxis": "y"
        },
        {
         "hovertemplate": "color=2006 Vintner's Reserve Chardonnay (California)<br>index=%{x}<br>value=%{y}<extra></extra>",
         "legendgroup": "2006 Vintner's Reserve Chardonnay (California)",
         "marker": {
          "color": "#B6E880",
          "symbol": "circle"
         },
         "mode": "markers",
         "name": "2006 Vintner's Reserve Chardonnay (California)",
         "orientation": "v",
         "showlegend": true,
         "type": "scatter",
         "x": [
          206068
         ],
         "xaxis": "x",
         "y": [
          85
         ],
         "yaxis": "y"
        },
        {
         "hovertemplate": "color=2002 Piner Hills Estate Merlot (Sonoma County)<br>index=%{x}<br>value=%{y}<extra></extra>",
         "legendgroup": "2002 Piner Hills Estate Merlot (Sonoma County)",
         "marker": {
          "color": "#FF97FF",
          "symbol": "circle"
         },
         "mode": "markers",
         "name": "2002 Piner Hills Estate Merlot (Sonoma County)",
         "orientation": "v",
         "showlegend": true,
         "type": "scatter",
         "x": [
          206362
         ],
         "xaxis": "x",
         "y": [
          90
         ],
         "yaxis": "y"
        },
        {
         "hovertemplate": "color=2005 Grand Reserve Cabernet Sauvignon (Sonoma County)<br>index=%{x}<br>value=%{y}<extra></extra>",
         "legendgroup": "2005 Grand Reserve Cabernet Sauvignon (Sonoma County)",
         "marker": {
          "color": "#FECB52",
          "symbol": "circle"
         },
         "mode": "markers",
         "name": "2005 Grand Reserve Cabernet Sauvignon (Sonoma County)",
         "orientation": "v",
         "showlegend": true,
         "type": "scatter",
         "x": [
          206560
         ],
         "xaxis": "x",
         "y": [
          87
         ],
         "yaxis": "y"
        },
        {
         "hovertemplate": "color=2007 Highands Estates Taylor Peak Merlot (Bennett Valley)<br>index=%{x}<br>value=%{y}<extra></extra>",
         "legendgroup": "2007 Highands Estates Taylor Peak Merlot (Bennett Valley)",
         "marker": {
          "color": "#636efa",
          "symbol": "circle"
         },
         "mode": "markers",
         "name": "2007 Highands Estates Taylor Peak Merlot (Bennett Valley)",
         "orientation": "v",
         "showlegend": true,
         "type": "scatter",
         "x": [
          207108
         ],
         "xaxis": "x",
         "y": [
          90
         ],
         "yaxis": "y"
        },
        {
         "hovertemplate": "color=2016 Vintner's Reserve Cabernet Sauvignon (Sonoma County)<br>index=%{x}<br>value=%{y}<extra></extra>",
         "legendgroup": "2016 Vintner's Reserve Cabernet Sauvignon (Sonoma County)",
         "marker": {
          "color": "#EF553B",
          "symbol": "circle"
         },
         "mode": "markers",
         "name": "2016 Vintner's Reserve Cabernet Sauvignon (Sonoma County)",
         "orientation": "v",
         "showlegend": true,
         "type": "scatter",
         "x": [
          207529
         ],
         "xaxis": "x",
         "y": [
          88
         ],
         "yaxis": "y"
        },
        {
         "hovertemplate": "color=2019 Jackson Estate Alisos Hills Syrah (Santa Barbara County)<br>index=%{x}<br>value=%{y}<extra></extra>",
         "legendgroup": "2019 Jackson Estate Alisos Hills Syrah (Santa Barbara County)",
         "marker": {
          "color": "#00cc96",
          "symbol": "circle"
         },
         "mode": "markers",
         "name": "2019 Jackson Estate Alisos Hills Syrah (Santa Barbara County)",
         "orientation": "v",
         "showlegend": true,
         "type": "scatter",
         "x": [
          207987
         ],
         "xaxis": "x",
         "y": [
          91
         ],
         "yaxis": "y"
        },
        {
         "hovertemplate": "color=2006 Vintner's Reserve Syrah (California)<br>index=%{x}<br>value=%{y}<extra></extra>",
         "legendgroup": "2006 Vintner's Reserve Syrah (California)",
         "marker": {
          "color": "#ab63fa",
          "symbol": "circle"
         },
         "mode": "markers",
         "name": "2006 Vintner's Reserve Syrah (California)",
         "orientation": "v",
         "showlegend": true,
         "type": "scatter",
         "x": [
          208084
         ],
         "xaxis": "x",
         "y": [
          86
         ],
         "yaxis": "y"
        },
        {
         "hovertemplate": "color=2000 Collage Cabernet Sauvignon-Shiraz (California)<br>index=%{x}<br>value=%{y}<extra></extra>",
         "legendgroup": "2000 Collage Cabernet Sauvignon-Shiraz (California)",
         "marker": {
          "color": "#FFA15A",
          "symbol": "circle"
         },
         "mode": "markers",
         "name": "2000 Collage Cabernet Sauvignon-Shiraz (California)",
         "orientation": "v",
         "showlegend": true,
         "type": "scatter",
         "x": [
          208329
         ],
         "xaxis": "x",
         "y": [
          83
         ],
         "yaxis": "y"
        },
        {
         "hovertemplate": "color=2000 Collage Cabernet Sauvignon-Merlot (California)<br>index=%{x}<br>value=%{y}<extra></extra>",
         "legendgroup": "2000 Collage Cabernet Sauvignon-Merlot (California)",
         "marker": {
          "color": "#19d3f3",
          "symbol": "circle"
         },
         "mode": "markers",
         "name": "2000 Collage Cabernet Sauvignon-Merlot (California)",
         "orientation": "v",
         "showlegend": true,
         "type": "scatter",
         "x": [
          209609
         ],
         "xaxis": "x",
         "y": [
          84
         ],
         "yaxis": "y"
        },
        {
         "hovertemplate": "color=2003 Vintner's Reserve Meritage Red (California)<br>index=%{x}<br>value=%{y}<extra></extra>",
         "legendgroup": "2003 Vintner's Reserve Meritage Red (California)",
         "marker": {
          "color": "#FF6692",
          "symbol": "circle"
         },
         "mode": "markers",
         "name": "2003 Vintner's Reserve Meritage Red (California)",
         "orientation": "v",
         "showlegend": true,
         "type": "scatter",
         "x": [
          209713
         ],
         "xaxis": "x",
         "y": [
          83
         ],
         "yaxis": "y"
        },
        {
         "hovertemplate": "color=2002 Grand Reserve Sonoma-Napa-Mendocino Counties Cabernet Sauvignon (California)<br>index=%{x}<br>value=%{y}<extra></extra>",
         "legendgroup": "2002 Grand Reserve Sonoma-Napa-Mendocino Counties Cabernet Sauvignon (California)",
         "marker": {
          "color": "#B6E880",
          "symbol": "circle"
         },
         "mode": "markers",
         "name": "2002 Grand Reserve Sonoma-Napa-Mendocino Counties Cabernet Sauvignon (California)",
         "orientation": "v",
         "showlegend": true,
         "type": "scatter",
         "x": [
          209965
         ],
         "xaxis": "x",
         "y": [
          85
         ],
         "yaxis": "y"
        },
        {
         "hovertemplate": "color=2005 Highlands Estate Alisos Hills Syrah (Santa Barbara County)<br>index=%{x}<br>value=%{y}<extra></extra>",
         "legendgroup": "2005 Highlands Estate Alisos Hills Syrah (Santa Barbara County)",
         "marker": {
          "color": "#FF97FF",
          "symbol": "circle"
         },
         "mode": "markers",
         "name": "2005 Highlands Estate Alisos Hills Syrah (Santa Barbara County)",
         "orientation": "v",
         "showlegend": true,
         "type": "scatter",
         "x": [
          211407
         ],
         "xaxis": "x",
         "y": [
          94
         ],
         "yaxis": "y"
        },
        {
         "hovertemplate": "color=2005 Highland Estates Taylor Peak Merlot (Bennett Valley)<br>index=%{x}<br>value=%{y}<extra></extra>",
         "legendgroup": "2005 Highland Estates Taylor Peak Merlot (Bennett Valley)",
         "marker": {
          "color": "#FECB52",
          "symbol": "circle"
         },
         "mode": "markers",
         "name": "2005 Highland Estates Taylor Peak Merlot (Bennett Valley)",
         "orientation": "v",
         "showlegend": true,
         "type": "scatter",
         "x": [
          212159
         ],
         "xaxis": "x",
         "y": [
          92
         ],
         "yaxis": "y"
        },
        {
         "hovertemplate": "color=2016 Grand Reserve Cabernet Sauvignon (Sonoma County)<br>index=%{x}<br>value=%{y}<extra></extra>",
         "legendgroup": "2016 Grand Reserve Cabernet Sauvignon (Sonoma County)",
         "marker": {
          "color": "#636efa",
          "symbol": "circle"
         },
         "mode": "markers",
         "name": "2016 Grand Reserve Cabernet Sauvignon (Sonoma County)",
         "orientation": "v",
         "showlegend": true,
         "type": "scatter",
         "x": [
          212858
         ],
         "xaxis": "x",
         "y": [
          90
         ],
         "yaxis": "y"
        },
        {
         "hovertemplate": "color=2001 Stature Chardonnay (Santa Maria Valley)<br>index=%{x}<br>value=%{y}<extra></extra>",
         "legendgroup": "2001 Stature Chardonnay (Santa Maria Valley)",
         "marker": {
          "color": "#EF553B",
          "symbol": "circle"
         },
         "mode": "markers",
         "name": "2001 Stature Chardonnay (Santa Maria Valley)",
         "orientation": "v",
         "showlegend": true,
         "type": "scatter",
         "x": [
          212988
         ],
         "xaxis": "x",
         "y": [
          94
         ],
         "yaxis": "y"
        },
        {
         "hovertemplate": "color=2004 Vintner's Reserve Cabernet Sauvignon (California)<br>index=%{x}<br>value=%{y}<extra></extra>",
         "legendgroup": "2004 Vintner's Reserve Cabernet Sauvignon (California)",
         "marker": {
          "color": "#00cc96",
          "symbol": "circle"
         },
         "mode": "markers",
         "name": "2004 Vintner's Reserve Cabernet Sauvignon (California)",
         "orientation": "v",
         "showlegend": true,
         "type": "scatter",
         "x": [
          213251,
          266291
         ],
         "xaxis": "x",
         "y": [
          87,
          83
         ],
         "yaxis": "y"
        },
        {
         "hovertemplate": "color=2019 Grand Reserve Pinot Noir (Anderson Valley)<br>index=%{x}<br>value=%{y}<extra></extra>",
         "legendgroup": "2019 Grand Reserve Pinot Noir (Anderson Valley)",
         "marker": {
          "color": "#ab63fa",
          "symbol": "circle"
         },
         "mode": "markers",
         "name": "2019 Grand Reserve Pinot Noir (Anderson Valley)",
         "orientation": "v",
         "showlegend": true,
         "type": "scatter",
         "x": [
          214636
         ],
         "xaxis": "x",
         "y": [
          91
         ],
         "yaxis": "y"
        },
        {
         "hovertemplate": "color=2006 Grand Reserve Merlot (Sonoma County)<br>index=%{x}<br>value=%{y}<extra></extra>",
         "legendgroup": "2006 Grand Reserve Merlot (Sonoma County)",
         "marker": {
          "color": "#FFA15A",
          "symbol": "circle"
         },
         "mode": "markers",
         "name": "2006 Grand Reserve Merlot (Sonoma County)",
         "orientation": "v",
         "showlegend": true,
         "type": "scatter",
         "x": [
          217630
         ],
         "xaxis": "x",
         "y": [
          90
         ],
         "yaxis": "y"
        },
        {
         "hovertemplate": "color=1997 Vintner's Reserve Zinfandel (California)<br>index=%{x}<br>value=%{y}<extra></extra>",
         "legendgroup": "1997 Vintner's Reserve Zinfandel (California)",
         "marker": {
          "color": "#19d3f3",
          "symbol": "circle"
         },
         "mode": "markers",
         "name": "1997 Vintner's Reserve Zinfandel (California)",
         "orientation": "v",
         "showlegend": true,
         "type": "scatter",
         "x": [
          218452
         ],
         "xaxis": "x",
         "y": [
          83
         ],
         "yaxis": "y"
        },
        {
         "hovertemplate": "color=2017 Vintner's Reserve Chardonnay (California)<br>index=%{x}<br>value=%{y}<extra></extra>",
         "legendgroup": "2017 Vintner's Reserve Chardonnay (California)",
         "marker": {
          "color": "#FF6692",
          "symbol": "circle"
         },
         "mode": "markers",
         "name": "2017 Vintner's Reserve Chardonnay (California)",
         "orientation": "v",
         "showlegend": true,
         "type": "scatter",
         "x": [
          218573
         ],
         "xaxis": "x",
         "y": [
          90
         ],
         "yaxis": "y"
        },
        {
         "hovertemplate": "color=2006 Highland Estates Napa Mountain Cabernet Sauvignon (Mount Veeder)<br>index=%{x}<br>value=%{y}<extra></extra>",
         "legendgroup": "2006 Highland Estates Napa Mountain Cabernet Sauvignon (Mount Veeder)",
         "marker": {
          "color": "#B6E880",
          "symbol": "circle"
         },
         "mode": "markers",
         "name": "2006 Highland Estates Napa Mountain Cabernet Sauvignon (Mount Veeder)",
         "orientation": "v",
         "showlegend": true,
         "type": "scatter",
         "x": [
          218587
         ],
         "xaxis": "x",
         "y": [
          95
         ],
         "yaxis": "y"
        },
        {
         "hovertemplate": "color=2019 Camelot Highlands Estate Collection Chardonnay (Santa Maria Valley)<br>index=%{x}<br>value=%{y}<extra></extra>",
         "legendgroup": "2019 Camelot Highlands Estate Collection Chardonnay (Santa Maria Valley)",
         "marker": {
          "color": "#FF97FF",
          "symbol": "circle"
         },
         "mode": "markers",
         "name": "2019 Camelot Highlands Estate Collection Chardonnay (Santa Maria Valley)",
         "orientation": "v",
         "showlegend": true,
         "type": "scatter",
         "x": [
          219169
         ],
         "xaxis": "x",
         "y": [
          91
         ],
         "yaxis": "y"
        },
        {
         "hovertemplate": "color=1999 Grand Reserve Chardonnay (California)<br>index=%{x}<br>value=%{y}<extra></extra>",
         "legendgroup": "1999 Grand Reserve Chardonnay (California)",
         "marker": {
          "color": "#FECB52",
          "symbol": "circle"
         },
         "mode": "markers",
         "name": "1999 Grand Reserve Chardonnay (California)",
         "orientation": "v",
         "showlegend": true,
         "type": "scatter",
         "x": [
          228299
         ],
         "xaxis": "x",
         "y": [
          85
         ],
         "yaxis": "y"
        },
        {
         "hovertemplate": "color=2012 Grand Reserve Cabernet Sauvignon (Sonoma County)<br>index=%{x}<br>value=%{y}<extra></extra>",
         "legendgroup": "2012 Grand Reserve Cabernet Sauvignon (Sonoma County)",
         "marker": {
          "color": "#636efa",
          "symbol": "circle"
         },
         "mode": "markers",
         "name": "2012 Grand Reserve Cabernet Sauvignon (Sonoma County)",
         "orientation": "v",
         "showlegend": true,
         "type": "scatter",
         "x": [
          229071
         ],
         "xaxis": "x",
         "y": [
          91
         ],
         "yaxis": "y"
        },
        {
         "hovertemplate": "color=2008 Jackson Estates Grown Vintner's Reserve Zinfandel (Mendocino County)<br>index=%{x}<br>value=%{y}<extra></extra>",
         "legendgroup": "2008 Jackson Estates Grown Vintner's Reserve Zinfandel (Mendocino County)",
         "marker": {
          "color": "#EF553B",
          "symbol": "circle"
         },
         "mode": "markers",
         "name": "2008 Jackson Estates Grown Vintner's Reserve Zinfandel (Mendocino County)",
         "orientation": "v",
         "showlegend": true,
         "type": "scatter",
         "x": [
          229937
         ],
         "xaxis": "x",
         "y": [
          84
         ],
         "yaxis": "y"
        },
        {
         "hovertemplate": "color=2006 Grand Reserve Zinfandel (Mendocino-Solano)<br>index=%{x}<br>value=%{y}<extra></extra>",
         "legendgroup": "2006 Grand Reserve Zinfandel (Mendocino-Solano)",
         "marker": {
          "color": "#00cc96",
          "symbol": "circle"
         },
         "mode": "markers",
         "name": "2006 Grand Reserve Zinfandel (Mendocino-Solano)",
         "orientation": "v",
         "showlegend": true,
         "type": "scatter",
         "x": [
          229991
         ],
         "xaxis": "x",
         "y": [
          89
         ],
         "yaxis": "y"
        },
        {
         "hovertemplate": "color=1999 Great Estates Chardonnay (Arroyo Seco)<br>index=%{x}<br>value=%{y}<extra></extra>",
         "legendgroup": "1999 Great Estates Chardonnay (Arroyo Seco)",
         "marker": {
          "color": "#ab63fa",
          "symbol": "circle"
         },
         "mode": "markers",
         "name": "1999 Great Estates Chardonnay (Arroyo Seco)",
         "orientation": "v",
         "showlegend": true,
         "type": "scatter",
         "x": [
          231185
         ],
         "xaxis": "x",
         "y": [
          91
         ],
         "yaxis": "y"
        },
        {
         "hovertemplate": "color=2004 Vintner's Reserve Zinfandel (California)<br>index=%{x}<br>value=%{y}<extra></extra>",
         "legendgroup": "2004 Vintner's Reserve Zinfandel (California)",
         "marker": {
          "color": "#FFA15A",
          "symbol": "circle"
         },
         "mode": "markers",
         "name": "2004 Vintner's Reserve Zinfandel (California)",
         "orientation": "v",
         "showlegend": true,
         "type": "scatter",
         "x": [
          232499
         ],
         "xaxis": "x",
         "y": [
          84
         ],
         "yaxis": "y"
        },
        {
         "hovertemplate": "color=2003 Vintner's Reserve Sauvignon Blanc (California)<br>index=%{x}<br>value=%{y}<extra></extra>",
         "legendgroup": "2003 Vintner's Reserve Sauvignon Blanc (California)",
         "marker": {
          "color": "#19d3f3",
          "symbol": "circle"
         },
         "mode": "markers",
         "name": "2003 Vintner's Reserve Sauvignon Blanc (California)",
         "orientation": "v",
         "showlegend": true,
         "type": "scatter",
         "x": [
          232537
         ],
         "xaxis": "x",
         "y": [
          84
         ],
         "yaxis": "y"
        },
        {
         "hovertemplate": "color=2004 Vintner's Reserve Riesling (California)<br>index=%{x}<br>value=%{y}<extra></extra>",
         "legendgroup": "2004 Vintner's Reserve Riesling (California)",
         "marker": {
          "color": "#FF6692",
          "symbol": "circle"
         },
         "mode": "markers",
         "name": "2004 Vintner's Reserve Riesling (California)",
         "orientation": "v",
         "showlegend": true,
         "type": "scatter",
         "x": [
          234241
         ],
         "xaxis": "x",
         "y": [
          83
         ],
         "yaxis": "y"
        },
        {
         "hovertemplate": "color=2012 Jackson Estate Camelot Highlands Chardonnay (Santa Maria Valley)<br>index=%{x}<br>value=%{y}<extra></extra>",
         "legendgroup": "2012 Jackson Estate Camelot Highlands Chardonnay (Santa Maria Valley)",
         "marker": {
          "color": "#B6E880",
          "symbol": "circle"
         },
         "mode": "markers",
         "name": "2012 Jackson Estate Camelot Highlands Chardonnay (Santa Maria Valley)",
         "orientation": "v",
         "showlegend": true,
         "type": "scatter",
         "x": [
          234651
         ],
         "xaxis": "x",
         "y": [
          91
         ],
         "yaxis": "y"
        },
        {
         "hovertemplate": "color=2009 Grand Reserve Merlot (Sonoma County)<br>index=%{x}<br>value=%{y}<extra></extra>",
         "legendgroup": "2009 Grand Reserve Merlot (Sonoma County)",
         "marker": {
          "color": "#FF97FF",
          "symbol": "circle"
         },
         "mode": "markers",
         "name": "2009 Grand Reserve Merlot (Sonoma County)",
         "orientation": "v",
         "showlegend": true,
         "type": "scatter",
         "x": [
          235883
         ],
         "xaxis": "x",
         "y": [
          92
         ],
         "yaxis": "y"
        },
        {
         "hovertemplate": "color=2007 Highlands Estates Piner Hills Chardonnay (Russian River Valley)<br>index=%{x}<br>value=%{y}<extra></extra>",
         "legendgroup": "2007 Highlands Estates Piner Hills Chardonnay (Russian River Valley)",
         "marker": {
          "color": "#FECB52",
          "symbol": "circle"
         },
         "mode": "markers",
         "name": "2007 Highlands Estates Piner Hills Chardonnay (Russian River Valley)",
         "orientation": "v",
         "showlegend": true,
         "type": "scatter",
         "x": [
          238623
         ],
         "xaxis": "x",
         "y": [
          91
         ],
         "yaxis": "y"
        },
        {
         "hovertemplate": "color=2014 Vintner's Reserve Chardonnay (California)<br>index=%{x}<br>value=%{y}<extra></extra>",
         "legendgroup": "2014 Vintner's Reserve Chardonnay (California)",
         "marker": {
          "color": "#636efa",
          "symbol": "circle"
         },
         "mode": "markers",
         "name": "2014 Vintner's Reserve Chardonnay (California)",
         "orientation": "v",
         "showlegend": true,
         "type": "scatter",
         "x": [
          239336
         ],
         "xaxis": "x",
         "y": [
          89
         ],
         "yaxis": "y"
        },
        {
         "hovertemplate": "color=2014 Grand Reserve Cabernet Sauvignon (Sonoma County)<br>index=%{x}<br>value=%{y}<extra></extra>",
         "legendgroup": "2014 Grand Reserve Cabernet Sauvignon (Sonoma County)",
         "marker": {
          "color": "#EF553B",
          "symbol": "circle"
         },
         "mode": "markers",
         "name": "2014 Grand Reserve Cabernet Sauvignon (Sonoma County)",
         "orientation": "v",
         "showlegend": true,
         "type": "scatter",
         "x": [
          239441
         ],
         "xaxis": "x",
         "y": [
          90
         ],
         "yaxis": "y"
        },
        {
         "hovertemplate": "color=2000 Vintner's Reserve Merlot (California)<br>index=%{x}<br>value=%{y}<extra></extra>",
         "legendgroup": "2000 Vintner's Reserve Merlot (California)",
         "marker": {
          "color": "#00cc96",
          "symbol": "circle"
         },
         "mode": "markers",
         "name": "2000 Vintner's Reserve Merlot (California)",
         "orientation": "v",
         "showlegend": true,
         "type": "scatter",
         "x": [
          240202
         ],
         "xaxis": "x",
         "y": [
          86
         ],
         "yaxis": "y"
        },
        {
         "hovertemplate": "color=2018 Estates Collection Chardonnay (Santa Maria Valley)<br>index=%{x}<br>value=%{y}<extra></extra>",
         "legendgroup": "2018 Estates Collection Chardonnay (Santa Maria Valley)",
         "marker": {
          "color": "#ab63fa",
          "symbol": "circle"
         },
         "mode": "markers",
         "name": "2018 Estates Collection Chardonnay (Santa Maria Valley)",
         "orientation": "v",
         "showlegend": true,
         "type": "scatter",
         "x": [
          242291
         ],
         "xaxis": "x",
         "y": [
          91
         ],
         "yaxis": "y"
        },
        {
         "hovertemplate": "color=2007 Highland Estates Napa Mountain Cabernet Sauvignon (Mount Veeder)<br>index=%{x}<br>value=%{y}<extra></extra>",
         "legendgroup": "2007 Highland Estates Napa Mountain Cabernet Sauvignon (Mount Veeder)",
         "marker": {
          "color": "#FFA15A",
          "symbol": "circle"
         },
         "mode": "markers",
         "name": "2007 Highland Estates Napa Mountain Cabernet Sauvignon (Mount Veeder)",
         "orientation": "v",
         "showlegend": true,
         "type": "scatter",
         "x": [
          242305
         ],
         "xaxis": "x",
         "y": [
          90
         ],
         "yaxis": "y"
        },
        {
         "hovertemplate": "color=2017 Jackson Estate Camelot Highlands Chardonnay (Santa Maria Valley)<br>index=%{x}<br>value=%{y}<extra></extra>",
         "legendgroup": "2017 Jackson Estate Camelot Highlands Chardonnay (Santa Maria Valley)",
         "marker": {
          "color": "#19d3f3",
          "symbol": "circle"
         },
         "mode": "markers",
         "name": "2017 Jackson Estate Camelot Highlands Chardonnay (Santa Maria Valley)",
         "orientation": "v",
         "showlegend": true,
         "type": "scatter",
         "x": [
          242579
         ],
         "xaxis": "x",
         "y": [
          89
         ],
         "yaxis": "y"
        },
        {
         "hovertemplate": "color=2006 Highland Estates Napa Mountain Merlot (Howell Mountain)<br>index=%{x}<br>value=%{y}<extra></extra>",
         "legendgroup": "2006 Highland Estates Napa Mountain Merlot (Howell Mountain)",
         "marker": {
          "color": "#FF6692",
          "symbol": "circle"
         },
         "mode": "markers",
         "name": "2006 Highland Estates Napa Mountain Merlot (Howell Mountain)",
         "orientation": "v",
         "showlegend": true,
         "type": "scatter",
         "x": [
          242642
         ],
         "xaxis": "x",
         "y": [
          94
         ],
         "yaxis": "y"
        },
        {
         "hovertemplate": "color=2017 Vintner's Reserve Cabernet Sauvignon (Sonoma County)<br>index=%{x}<br>value=%{y}<extra></extra>",
         "legendgroup": "2017 Vintner's Reserve Cabernet Sauvignon (Sonoma County)",
         "marker": {
          "color": "#B6E880",
          "symbol": "circle"
         },
         "mode": "markers",
         "name": "2017 Vintner's Reserve Cabernet Sauvignon (Sonoma County)",
         "orientation": "v",
         "showlegend": true,
         "type": "scatter",
         "x": [
          242686
         ],
         "xaxis": "x",
         "y": [
          86
         ],
         "yaxis": "y"
        },
        {
         "hovertemplate": "color=2006 Grand Reserve Rosé (Sonoma-Napa)<br>index=%{x}<br>value=%{y}<extra></extra>",
         "legendgroup": "2006 Grand Reserve Rosé (Sonoma-Napa)",
         "marker": {
          "color": "#FF97FF",
          "symbol": "circle"
         },
         "mode": "markers",
         "name": "2006 Grand Reserve Rosé (Sonoma-Napa)",
         "orientation": "v",
         "showlegend": true,
         "type": "scatter",
         "x": [
          243707
         ],
         "xaxis": "x",
         "y": [
          83
         ],
         "yaxis": "y"
        },
        {
         "hovertemplate": "color=2005 Seco Highlands Estate Pinot Noir (Arroyo Seco)<br>index=%{x}<br>value=%{y}<extra></extra>",
         "legendgroup": "2005 Seco Highlands Estate Pinot Noir (Arroyo Seco)",
         "marker": {
          "color": "#FECB52",
          "symbol": "circle"
         },
         "mode": "markers",
         "name": "2005 Seco Highlands Estate Pinot Noir (Arroyo Seco)",
         "orientation": "v",
         "showlegend": true,
         "type": "scatter",
         "x": [
          243774
         ],
         "xaxis": "x",
         "y": [
          90
         ],
         "yaxis": "y"
        },
        {
         "hovertemplate": "color=2019 Jackson Estate Seco Highlands Pinot Noir (Arroyo Seco)<br>index=%{x}<br>value=%{y}<extra></extra>",
         "legendgroup": "2019 Jackson Estate Seco Highlands Pinot Noir (Arroyo Seco)",
         "marker": {
          "color": "#636efa",
          "symbol": "circle"
         },
         "mode": "markers",
         "name": "2019 Jackson Estate Seco Highlands Pinot Noir (Arroyo Seco)",
         "orientation": "v",
         "showlegend": true,
         "type": "scatter",
         "x": [
          244183
         ],
         "xaxis": "x",
         "y": [
          93
         ],
         "yaxis": "y"
        },
        {
         "hovertemplate": "color=1995 Grand Reserve Merlot (California)<br>index=%{x}<br>value=%{y}<extra></extra>",
         "legendgroup": "1995 Grand Reserve Merlot (California)",
         "marker": {
          "color": "#EF553B",
          "symbol": "circle"
         },
         "mode": "markers",
         "name": "1995 Grand Reserve Merlot (California)",
         "orientation": "v",
         "showlegend": true,
         "type": "scatter",
         "x": [
          244229
         ],
         "xaxis": "x",
         "y": [
          89
         ],
         "yaxis": "y"
        },
        {
         "hovertemplate": "color=2000 Vintner's Reserve Riesling (California)<br>index=%{x}<br>value=%{y}<extra></extra>",
         "legendgroup": "2000 Vintner's Reserve Riesling (California)",
         "marker": {
          "color": "#00cc96",
          "symbol": "circle"
         },
         "mode": "markers",
         "name": "2000 Vintner's Reserve Riesling (California)",
         "orientation": "v",
         "showlegend": true,
         "type": "scatter",
         "x": [
          245319
         ],
         "xaxis": "x",
         "y": [
          86
         ],
         "yaxis": "y"
        },
        {
         "hovertemplate": "color=2008 Highlands Estates Camelot Highlands Chardonnay (Santa Maria Valley)<br>index=%{x}<br>value=%{y}<extra></extra>",
         "legendgroup": "2008 Highlands Estates Camelot Highlands Chardonnay (Santa Maria Valley)",
         "marker": {
          "color": "#ab63fa",
          "symbol": "circle"
         },
         "mode": "markers",
         "name": "2008 Highlands Estates Camelot Highlands Chardonnay (Santa Maria Valley)",
         "orientation": "v",
         "showlegend": true,
         "type": "scatter",
         "x": [
          246933
         ],
         "xaxis": "x",
         "y": [
          94
         ],
         "yaxis": "y"
        },
        {
         "hovertemplate": "color=2018 Avant Unoaked Chardonnay (California)<br>index=%{x}<br>value=%{y}<extra></extra>",
         "legendgroup": "2018 Avant Unoaked Chardonnay (California)",
         "marker": {
          "color": "#FFA15A",
          "symbol": "circle"
         },
         "mode": "markers",
         "name": "2018 Avant Unoaked Chardonnay (California)",
         "orientation": "v",
         "showlegend": true,
         "type": "scatter",
         "x": [
          247457
         ],
         "xaxis": "x",
         "y": [
          87
         ],
         "yaxis": "y"
        },
        {
         "hovertemplate": "color=1999 Sauvignon Blanc (California)<br>index=%{x}<br>value=%{y}<extra></extra>",
         "legendgroup": "1999 Sauvignon Blanc (California)",
         "marker": {
          "color": "#19d3f3",
          "symbol": "circle"
         },
         "mode": "markers",
         "name": "1999 Sauvignon Blanc (California)",
         "orientation": "v",
         "showlegend": true,
         "type": "scatter",
         "x": [
          247787
         ],
         "xaxis": "x",
         "y": [
          84
         ],
         "yaxis": "y"
        },
        {
         "hovertemplate": "color=2000 Late Harvest Riesling (California)<br>index=%{x}<br>value=%{y}<extra></extra>",
         "legendgroup": "2000 Late Harvest Riesling (California)",
         "marker": {
          "color": "#FF6692",
          "symbol": "circle"
         },
         "mode": "markers",
         "name": "2000 Late Harvest Riesling (California)",
         "orientation": "v",
         "showlegend": true,
         "type": "scatter",
         "x": [
          248066
         ],
         "xaxis": "x",
         "y": [
          84
         ],
         "yaxis": "y"
        },
        {
         "hovertemplate": "color=2011 Vintner's Reserve Chardonnay (California)<br>index=%{x}<br>value=%{y}<extra></extra>",
         "legendgroup": "2011 Vintner's Reserve Chardonnay (California)",
         "marker": {
          "color": "#B6E880",
          "symbol": "circle"
         },
         "mode": "markers",
         "name": "2011 Vintner's Reserve Chardonnay (California)",
         "orientation": "v",
         "showlegend": true,
         "type": "scatter",
         "x": [
          249261
         ],
         "xaxis": "x",
         "y": [
          88
         ],
         "yaxis": "y"
        },
        {
         "hovertemplate": "color=1999 Great Estates Pinot Noir (Monterey County)<br>index=%{x}<br>value=%{y}<extra></extra>",
         "legendgroup": "1999 Great Estates Pinot Noir (Monterey County)",
         "marker": {
          "color": "#FF97FF",
          "symbol": "circle"
         },
         "mode": "markers",
         "name": "1999 Great Estates Pinot Noir (Monterey County)",
         "orientation": "v",
         "showlegend": true,
         "type": "scatter",
         "x": [
          249334
         ],
         "xaxis": "x",
         "y": [
          89
         ],
         "yaxis": "y"
        },
        {
         "hovertemplate": "color=2013 Grand Reserve Chardonnay (Central Coast)<br>index=%{x}<br>value=%{y}<extra></extra>",
         "legendgroup": "2013 Grand Reserve Chardonnay (Central Coast)",
         "marker": {
          "color": "#FECB52",
          "symbol": "circle"
         },
         "mode": "markers",
         "name": "2013 Grand Reserve Chardonnay (Central Coast)",
         "orientation": "v",
         "showlegend": true,
         "type": "scatter",
         "x": [
          249451
         ],
         "xaxis": "x",
         "y": [
          88
         ],
         "yaxis": "y"
        },
        {
         "hovertemplate": "color=2011 Vintner's Reserve Pinot Noir (California)<br>index=%{x}<br>value=%{y}<extra></extra>",
         "legendgroup": "2011 Vintner's Reserve Pinot Noir (California)",
         "marker": {
          "color": "#636efa",
          "symbol": "circle"
         },
         "mode": "markers",
         "name": "2011 Vintner's Reserve Pinot Noir (California)",
         "orientation": "v",
         "showlegend": true,
         "type": "scatter",
         "x": [
          249845
         ],
         "xaxis": "x",
         "y": [
          85
         ],
         "yaxis": "y"
        },
        {
         "hovertemplate": "color=2011 Vintner's Reserve Cabernet Sauvignon (Sonoma County)<br>index=%{x}<br>value=%{y}<extra></extra>",
         "legendgroup": "2011 Vintner's Reserve Cabernet Sauvignon (Sonoma County)",
         "marker": {
          "color": "#EF553B",
          "symbol": "circle"
         },
         "mode": "markers",
         "name": "2011 Vintner's Reserve Cabernet Sauvignon (Sonoma County)",
         "orientation": "v",
         "showlegend": true,
         "type": "scatter",
         "x": [
          251074
         ],
         "xaxis": "x",
         "y": [
          88
         ],
         "yaxis": "y"
        },
        {
         "hovertemplate": "color=2014 Vintner's Reserve Syrah (Santa Barbara County)<br>index=%{x}<br>value=%{y}<extra></extra>",
         "legendgroup": "2014 Vintner's Reserve Syrah (Santa Barbara County)",
         "marker": {
          "color": "#00cc96",
          "symbol": "circle"
         },
         "mode": "markers",
         "name": "2014 Vintner's Reserve Syrah (Santa Barbara County)",
         "orientation": "v",
         "showlegend": true,
         "type": "scatter",
         "x": [
          251253
         ],
         "xaxis": "x",
         "y": [
          87
         ],
         "yaxis": "y"
        },
        {
         "hovertemplate": "color=2000 Great Estates Chardonnay (Monterey County)<br>index=%{x}<br>value=%{y}<extra></extra>",
         "legendgroup": "2000 Great Estates Chardonnay (Monterey County)",
         "marker": {
          "color": "#ab63fa",
          "symbol": "circle"
         },
         "mode": "markers",
         "name": "2000 Great Estates Chardonnay (Monterey County)",
         "orientation": "v",
         "showlegend": true,
         "type": "scatter",
         "x": [
          251530
         ],
         "xaxis": "x",
         "y": [
          89
         ],
         "yaxis": "y"
        },
        {
         "hovertemplate": "color=2007 Highlands Estates Seco Highlands Chardonnay (Arroyo Seco)<br>index=%{x}<br>value=%{y}<extra></extra>",
         "legendgroup": "2007 Highlands Estates Seco Highlands Chardonnay (Arroyo Seco)",
         "marker": {
          "color": "#FFA15A",
          "symbol": "circle"
         },
         "mode": "markers",
         "name": "2007 Highlands Estates Seco Highlands Chardonnay (Arroyo Seco)",
         "orientation": "v",
         "showlegend": true,
         "type": "scatter",
         "x": [
          251738
         ],
         "xaxis": "x",
         "y": [
          92
         ],
         "yaxis": "y"
        },
        {
         "hovertemplate": "color=1999 Great Estates Zinfandel (Dry Creek Valley)<br>index=%{x}<br>value=%{y}<extra></extra>",
         "legendgroup": "1999 Great Estates Zinfandel (Dry Creek Valley)",
         "marker": {
          "color": "#19d3f3",
          "symbol": "circle"
         },
         "mode": "markers",
         "name": "1999 Great Estates Zinfandel (Dry Creek Valley)",
         "orientation": "v",
         "showlegend": true,
         "type": "scatter",
         "x": [
          253401
         ],
         "xaxis": "x",
         "y": [
          84
         ],
         "yaxis": "y"
        },
        {
         "hovertemplate": "color=2011 Grand Reserve Merlot (Sonoma County)<br>index=%{x}<br>value=%{y}<extra></extra>",
         "legendgroup": "2011 Grand Reserve Merlot (Sonoma County)",
         "marker": {
          "color": "#FF6692",
          "symbol": "circle"
         },
         "mode": "markers",
         "name": "2011 Grand Reserve Merlot (Sonoma County)",
         "orientation": "v",
         "showlegend": true,
         "type": "scatter",
         "x": [
          254998
         ],
         "xaxis": "x",
         "y": [
          90
         ],
         "yaxis": "y"
        },
        {
         "hovertemplate": "color=2005 Vintner's Reserve Meritage (California)<br>index=%{x}<br>value=%{y}<extra></extra>",
         "legendgroup": "2005 Vintner's Reserve Meritage (California)",
         "marker": {
          "color": "#B6E880",
          "symbol": "circle"
         },
         "mode": "markers",
         "name": "2005 Vintner's Reserve Meritage (California)",
         "orientation": "v",
         "showlegend": true,
         "type": "scatter",
         "x": [
          255196
         ],
         "xaxis": "x",
         "y": [
          86
         ],
         "yaxis": "y"
        },
        {
         "hovertemplate": "color=2020 Jackson Estate Kelsey Hills Vineyard Sauvignon Blanc (Red Hills)<br>index=%{x}<br>value=%{y}<extra></extra>",
         "legendgroup": "2020 Jackson Estate Kelsey Hills Vineyard Sauvignon Blanc (Red Hills)",
         "marker": {
          "color": "#FF97FF",
          "symbol": "circle"
         },
         "mode": "markers",
         "name": "2020 Jackson Estate Kelsey Hills Vineyard Sauvignon Blanc (Red Hills)",
         "orientation": "v",
         "showlegend": true,
         "type": "scatter",
         "x": [
          257976
         ],
         "xaxis": "x",
         "y": [
          90
         ],
         "yaxis": "y"
        },
        {
         "hovertemplate": "color=2004 Vintner's Reserve Merlot (California)<br>index=%{x}<br>value=%{y}<extra></extra>",
         "legendgroup": "2004 Vintner's Reserve Merlot (California)",
         "marker": {
          "color": "#FECB52",
          "symbol": "circle"
         },
         "mode": "markers",
         "name": "2004 Vintner's Reserve Merlot (California)",
         "orientation": "v",
         "showlegend": true,
         "type": "scatter",
         "x": [
          258201
         ],
         "xaxis": "x",
         "y": [
          88
         ],
         "yaxis": "y"
        },
        {
         "hovertemplate": "color=2013 Vintner's Reserve Riesling (Monterey County)<br>index=%{x}<br>value=%{y}<extra></extra>",
         "legendgroup": "2013 Vintner's Reserve Riesling (Monterey County)",
         "marker": {
          "color": "#636efa",
          "symbol": "circle"
         },
         "mode": "markers",
         "name": "2013 Vintner's Reserve Riesling (Monterey County)",
         "orientation": "v",
         "showlegend": true,
         "type": "scatter",
         "x": [
          258453,
          298520
         ],
         "xaxis": "x",
         "y": [
          87,
          87
         ],
         "yaxis": "y"
        },
        {
         "hovertemplate": "color=2008 Summation Vintner's Reserve White (California)<br>index=%{x}<br>value=%{y}<extra></extra>",
         "legendgroup": "2008 Summation Vintner's Reserve White (California)",
         "marker": {
          "color": "#EF553B",
          "symbol": "circle"
         },
         "mode": "markers",
         "name": "2008 Summation Vintner's Reserve White (California)",
         "orientation": "v",
         "showlegend": true,
         "type": "scatter",
         "x": [
          258511
         ],
         "xaxis": "x",
         "y": [
          85
         ],
         "yaxis": "y"
        },
        {
         "hovertemplate": "color=2010 Vintner's Reserve Syrah (California)<br>index=%{x}<br>value=%{y}<extra></extra>",
         "legendgroup": "2010 Vintner's Reserve Syrah (California)",
         "marker": {
          "color": "#00cc96",
          "symbol": "circle"
         },
         "mode": "markers",
         "name": "2010 Vintner's Reserve Syrah (California)",
         "orientation": "v",
         "showlegend": true,
         "type": "scatter",
         "x": [
          259802
         ],
         "xaxis": "x",
         "y": [
          82
         ],
         "yaxis": "y"
        },
        {
         "hovertemplate": "color=2003 Highlands Estate Alisos Hills Syrah (Santa Barbara County)<br>index=%{x}<br>value=%{y}<extra></extra>",
         "legendgroup": "2003 Highlands Estate Alisos Hills Syrah (Santa Barbara County)",
         "marker": {
          "color": "#ab63fa",
          "symbol": "circle"
         },
         "mode": "markers",
         "name": "2003 Highlands Estate Alisos Hills Syrah (Santa Barbara County)",
         "orientation": "v",
         "showlegend": true,
         "type": "scatter",
         "x": [
          260372
         ],
         "xaxis": "x",
         "y": [
          93
         ],
         "yaxis": "y"
        },
        {
         "hovertemplate": "color=1997 Vintner's Reserve Syrah (California)<br>index=%{x}<br>value=%{y}<extra></extra>",
         "legendgroup": "1997 Vintner's Reserve Syrah (California)",
         "marker": {
          "color": "#FFA15A",
          "symbol": "circle"
         },
         "mode": "markers",
         "name": "1997 Vintner's Reserve Syrah (California)",
         "orientation": "v",
         "showlegend": true,
         "type": "scatter",
         "x": [
          260462
         ],
         "xaxis": "x",
         "y": [
          88
         ],
         "yaxis": "y"
        },
        {
         "hovertemplate": "color=2017 Grand Reserve Pinot Noir (Anderson Valley)<br>index=%{x}<br>value=%{y}<extra></extra>",
         "legendgroup": "2017 Grand Reserve Pinot Noir (Anderson Valley)",
         "marker": {
          "color": "#19d3f3",
          "symbol": "circle"
         },
         "mode": "markers",
         "name": "2017 Grand Reserve Pinot Noir (Anderson Valley)",
         "orientation": "v",
         "showlegend": true,
         "type": "scatter",
         "x": [
          260925
         ],
         "xaxis": "x",
         "y": [
          92
         ],
         "yaxis": "y"
        },
        {
         "hovertemplate": "color=2011 Vintner's Reserve Riesling (Monterey County)<br>index=%{x}<br>value=%{y}<extra></extra>",
         "legendgroup": "2011 Vintner's Reserve Riesling (Monterey County)",
         "marker": {
          "color": "#FF6692",
          "symbol": "circle"
         },
         "mode": "markers",
         "name": "2011 Vintner's Reserve Riesling (Monterey County)",
         "orientation": "v",
         "showlegend": true,
         "type": "scatter",
         "x": [
          261664
         ],
         "xaxis": "x",
         "y": [
          85
         ],
         "yaxis": "y"
        },
        {
         "hovertemplate": "color=2013 Vintner's Reserve Cabernet Sauvignon (Sonoma County)<br>index=%{x}<br>value=%{y}<extra></extra>",
         "legendgroup": "2013 Vintner's Reserve Cabernet Sauvignon (Sonoma County)",
         "marker": {
          "color": "#B6E880",
          "symbol": "circle"
         },
         "mode": "markers",
         "name": "2013 Vintner's Reserve Cabernet Sauvignon (Sonoma County)",
         "orientation": "v",
         "showlegend": true,
         "type": "scatter",
         "x": [
          262114
         ],
         "xaxis": "x",
         "y": [
          91
         ],
         "yaxis": "y"
        },
        {
         "hovertemplate": "color=2015 Vintner's Reserve Chardonnay (California)<br>index=%{x}<br>value=%{y}<extra></extra>",
         "legendgroup": "2015 Vintner's Reserve Chardonnay (California)",
         "marker": {
          "color": "#FF97FF",
          "symbol": "circle"
         },
         "mode": "markers",
         "name": "2015 Vintner's Reserve Chardonnay (California)",
         "orientation": "v",
         "showlegend": true,
         "type": "scatter",
         "x": [
          262575
         ],
         "xaxis": "x",
         "y": [
          91
         ],
         "yaxis": "y"
        },
        {
         "hovertemplate": "color=2019 avant unoaked Chardonnay (California)<br>index=%{x}<br>value=%{y}<extra></extra>",
         "legendgroup": "2019 avant unoaked Chardonnay (California)",
         "marker": {
          "color": "#FECB52",
          "symbol": "circle"
         },
         "mode": "markers",
         "name": "2019 avant unoaked Chardonnay (California)",
         "orientation": "v",
         "showlegend": true,
         "type": "scatter",
         "x": [
          262730
         ],
         "xaxis": "x",
         "y": [
          88
         ],
         "yaxis": "y"
        },
        {
         "hovertemplate": "color=2005 Highlands Estates Hawkeye Mountain Cabernet Sauvignon (Alexander Valley)<br>index=%{x}<br>value=%{y}<extra></extra>",
         "legendgroup": "2005 Highlands Estates Hawkeye Mountain Cabernet Sauvignon (Alexander Valley)",
         "marker": {
          "color": "#636efa",
          "symbol": "circle"
         },
         "mode": "markers",
         "name": "2005 Highlands Estates Hawkeye Mountain Cabernet Sauvignon (Alexander Valley)",
         "orientation": "v",
         "showlegend": true,
         "type": "scatter",
         "x": [
          263132
         ],
         "xaxis": "x",
         "y": [
          93
         ],
         "yaxis": "y"
        },
        {
         "hovertemplate": "color=2007 Grand Reserve Merlot (Sonoma County)<br>index=%{x}<br>value=%{y}<extra></extra>",
         "legendgroup": "2007 Grand Reserve Merlot (Sonoma County)",
         "marker": {
          "color": "#EF553B",
          "symbol": "circle"
         },
         "mode": "markers",
         "name": "2007 Grand Reserve Merlot (Sonoma County)",
         "orientation": "v",
         "showlegend": true,
         "type": "scatter",
         "x": [
          264106
         ],
         "xaxis": "x",
         "y": [
          90
         ],
         "yaxis": "y"
        },
        {
         "hovertemplate": "color=2018 Stature Chardonnay (Santa Barbara County)<br>index=%{x}<br>value=%{y}<extra></extra>",
         "legendgroup": "2018 Stature Chardonnay (Santa Barbara County)",
         "marker": {
          "color": "#00cc96",
          "symbol": "circle"
         },
         "mode": "markers",
         "name": "2018 Stature Chardonnay (Santa Barbara County)",
         "orientation": "v",
         "showlegend": true,
         "type": "scatter",
         "x": [
          264623
         ],
         "xaxis": "x",
         "y": [
          89
         ],
         "yaxis": "y"
        },
        {
         "hovertemplate": "color=2013 Vintner's Reserve Summation Red (California)<br>index=%{x}<br>value=%{y}<extra></extra>",
         "legendgroup": "2013 Vintner's Reserve Summation Red (California)",
         "marker": {
          "color": "#ab63fa",
          "symbol": "circle"
         },
         "mode": "markers",
         "name": "2013 Vintner's Reserve Summation Red (California)",
         "orientation": "v",
         "showlegend": true,
         "type": "scatter",
         "x": [
          265727
         ],
         "xaxis": "x",
         "y": [
          91
         ],
         "yaxis": "y"
        },
        {
         "hovertemplate": "color=2001 Vintner's Reserve Zinfandel (California)<br>index=%{x}<br>value=%{y}<extra></extra>",
         "legendgroup": "2001 Vintner's Reserve Zinfandel (California)",
         "marker": {
          "color": "#FFA15A",
          "symbol": "circle"
         },
         "mode": "markers",
         "name": "2001 Vintner's Reserve Zinfandel (California)",
         "orientation": "v",
         "showlegend": true,
         "type": "scatter",
         "x": [
          266983
         ],
         "xaxis": "x",
         "y": [
          86
         ],
         "yaxis": "y"
        },
        {
         "hovertemplate": "color=2002 Alisos Hills Estate Syrah (Santa Barbara County)<br>index=%{x}<br>value=%{y}<extra></extra>",
         "legendgroup": "2002 Alisos Hills Estate Syrah (Santa Barbara County)",
         "marker": {
          "color": "#19d3f3",
          "symbol": "circle"
         },
         "mode": "markers",
         "name": "2002 Alisos Hills Estate Syrah (Santa Barbara County)",
         "orientation": "v",
         "showlegend": true,
         "type": "scatter",
         "x": [
          267861
         ],
         "xaxis": "x",
         "y": [
          92
         ],
         "yaxis": "y"
        },
        {
         "hovertemplate": "color=2012 Grand Reserve Merlot (Sonoma County)<br>index=%{x}<br>value=%{y}<extra></extra>",
         "legendgroup": "2012 Grand Reserve Merlot (Sonoma County)",
         "marker": {
          "color": "#FF6692",
          "symbol": "circle"
         },
         "mode": "markers",
         "name": "2012 Grand Reserve Merlot (Sonoma County)",
         "orientation": "v",
         "showlegend": true,
         "type": "scatter",
         "x": [
          268300
         ],
         "xaxis": "x",
         "y": [
          90
         ],
         "yaxis": "y"
        },
        {
         "hovertemplate": "color=1999 Vintner's Reserve Chardonnay (California)<br>index=%{x}<br>value=%{y}<extra></extra>",
         "legendgroup": "1999 Vintner's Reserve Chardonnay (California)",
         "marker": {
          "color": "#B6E880",
          "symbol": "circle"
         },
         "mode": "markers",
         "name": "1999 Vintner's Reserve Chardonnay (California)",
         "orientation": "v",
         "showlegend": true,
         "type": "scatter",
         "x": [
          268920
         ],
         "xaxis": "x",
         "y": [
          84
         ],
         "yaxis": "y"
        },
        {
         "hovertemplate": "color=1998 Stature Chardonnay (Santa Maria Valley)<br>index=%{x}<br>value=%{y}<extra></extra>",
         "legendgroup": "1998 Stature Chardonnay (Santa Maria Valley)",
         "marker": {
          "color": "#FF97FF",
          "symbol": "circle"
         },
         "mode": "markers",
         "name": "1998 Stature Chardonnay (Santa Maria Valley)",
         "orientation": "v",
         "showlegend": true,
         "type": "scatter",
         "x": [
          269189
         ],
         "xaxis": "x",
         "y": [
          90
         ],
         "yaxis": "y"
        },
        {
         "hovertemplate": "color=2009 Summation Red (California)<br>index=%{x}<br>value=%{y}<extra></extra>",
         "legendgroup": "2009 Summation Red (California)",
         "marker": {
          "color": "#FECB52",
          "symbol": "circle"
         },
         "mode": "markers",
         "name": "2009 Summation Red (California)",
         "orientation": "v",
         "showlegend": true,
         "type": "scatter",
         "x": [
          269569
         ],
         "xaxis": "x",
         "y": [
          85
         ],
         "yaxis": "y"
        },
        {
         "hovertemplate": "color=2004 Seco Highlands Estate Chardonnay (Arroyo Seco)<br>index=%{x}<br>value=%{y}<extra></extra>",
         "legendgroup": "2004 Seco Highlands Estate Chardonnay (Arroyo Seco)",
         "marker": {
          "color": "#636efa",
          "symbol": "circle"
         },
         "mode": "markers",
         "name": "2004 Seco Highlands Estate Chardonnay (Arroyo Seco)",
         "orientation": "v",
         "showlegend": true,
         "type": "scatter",
         "x": [
          270349
         ],
         "xaxis": "x",
         "y": [
          92
         ],
         "yaxis": "y"
        },
        {
         "hovertemplate": "color=2002 Vintner's Reserve Pinot Noir (California)<br>index=%{x}<br>value=%{y}<extra></extra>",
         "legendgroup": "2002 Vintner's Reserve Pinot Noir (California)",
         "marker": {
          "color": "#EF553B",
          "symbol": "circle"
         },
         "mode": "markers",
         "name": "2002 Vintner's Reserve Pinot Noir (California)",
         "orientation": "v",
         "showlegend": true,
         "type": "scatter",
         "x": [
          271659
         ],
         "xaxis": "x",
         "y": [
          84
         ],
         "yaxis": "y"
        },
        {
         "hovertemplate": "color=2005 Vintner's Reserve Pinot Noir (California)<br>index=%{x}<br>value=%{y}<extra></extra>",
         "legendgroup": "2005 Vintner's Reserve Pinot Noir (California)",
         "marker": {
          "color": "#00cc96",
          "symbol": "circle"
         },
         "mode": "markers",
         "name": "2005 Vintner's Reserve Pinot Noir (California)",
         "orientation": "v",
         "showlegend": true,
         "type": "scatter",
         "x": [
          271772
         ],
         "xaxis": "x",
         "y": [
          84
         ],
         "yaxis": "y"
        },
        {
         "hovertemplate": "color=2010 Jackson Estate Hawkeye Mountain Cabernet Sauvignon (Alexander Valley)<br>index=%{x}<br>value=%{y}<extra></extra>",
         "legendgroup": "2010 Jackson Estate Hawkeye Mountain Cabernet Sauvignon (Alexander Valley)",
         "marker": {
          "color": "#ab63fa",
          "symbol": "circle"
         },
         "mode": "markers",
         "name": "2010 Jackson Estate Hawkeye Mountain Cabernet Sauvignon (Alexander Valley)",
         "orientation": "v",
         "showlegend": true,
         "type": "scatter",
         "x": [
          271840
         ],
         "xaxis": "x",
         "y": [
          90
         ],
         "yaxis": "y"
        },
        {
         "hovertemplate": "color=2008 Grand Reserve Sauvignon Blanc (Mendocino County)<br>index=%{x}<br>value=%{y}<extra></extra>",
         "legendgroup": "2008 Grand Reserve Sauvignon Blanc (Mendocino County)",
         "marker": {
          "color": "#FFA15A",
          "symbol": "circle"
         },
         "mode": "markers",
         "name": "2008 Grand Reserve Sauvignon Blanc (Mendocino County)",
         "orientation": "v",
         "showlegend": true,
         "type": "scatter",
         "x": [
          273396
         ],
         "xaxis": "x",
         "y": [
          84
         ],
         "yaxis": "y"
        },
        {
         "hovertemplate": "color=2000 Vintner's Reserve Cabernet Sauvignon (California)<br>index=%{x}<br>value=%{y}<extra></extra>",
         "legendgroup": "2000 Vintner's Reserve Cabernet Sauvignon (California)",
         "marker": {
          "color": "#19d3f3",
          "symbol": "circle"
         },
         "mode": "markers",
         "name": "2000 Vintner's Reserve Cabernet Sauvignon (California)",
         "orientation": "v",
         "showlegend": true,
         "type": "scatter",
         "x": [
          273452
         ],
         "xaxis": "x",
         "y": [
          86
         ],
         "yaxis": "y"
        },
        {
         "hovertemplate": "color=2019 Vintner's Reserve Zinfandel (North Coast)<br>index=%{x}<br>value=%{y}<extra></extra>",
         "legendgroup": "2019 Vintner's Reserve Zinfandel (North Coast)",
         "marker": {
          "color": "#FF6692",
          "symbol": "circle"
         },
         "mode": "markers",
         "name": "2019 Vintner's Reserve Zinfandel (North Coast)",
         "orientation": "v",
         "showlegend": true,
         "type": "scatter",
         "x": [
          273540
         ],
         "xaxis": "x",
         "y": [
          92
         ],
         "yaxis": "y"
        },
        {
         "hovertemplate": "color=2007 Vintner's Reserve Alisium Red (California)<br>index=%{x}<br>value=%{y}<extra></extra>",
         "legendgroup": "2007 Vintner's Reserve Alisium Red (California)",
         "marker": {
          "color": "#B6E880",
          "symbol": "circle"
         },
         "mode": "markers",
         "name": "2007 Vintner's Reserve Alisium Red (California)",
         "orientation": "v",
         "showlegend": true,
         "type": "scatter",
         "x": [
          273777
         ],
         "xaxis": "x",
         "y": [
          86
         ],
         "yaxis": "y"
        },
        {
         "hovertemplate": "color=2004 Grand Reserve Merlot (Napa-Sonoma)<br>index=%{x}<br>value=%{y}<extra></extra>",
         "legendgroup": "2004 Grand Reserve Merlot (Napa-Sonoma)",
         "marker": {
          "color": "#FF97FF",
          "symbol": "circle"
         },
         "mode": "markers",
         "name": "2004 Grand Reserve Merlot (Napa-Sonoma)",
         "orientation": "v",
         "showlegend": true,
         "type": "scatter",
         "x": [
          274282
         ],
         "xaxis": "x",
         "y": [
          91
         ],
         "yaxis": "y"
        },
        {
         "hovertemplate": "color=2008 Highland Estates Trace Ridge Red (Knights Valley)<br>index=%{x}<br>value=%{y}<extra></extra>",
         "legendgroup": "2008 Highland Estates Trace Ridge Red (Knights Valley)",
         "marker": {
          "color": "#FECB52",
          "symbol": "circle"
         },
         "mode": "markers",
         "name": "2008 Highland Estates Trace Ridge Red (Knights Valley)",
         "orientation": "v",
         "showlegend": true,
         "type": "scatter",
         "x": [
          275004
         ],
         "xaxis": "x",
         "y": [
          90
         ],
         "yaxis": "y"
        },
        {
         "hovertemplate": "color=2015 Vintner's Reserve Pinot Noir (California)<br>index=%{x}<br>value=%{y}<extra></extra>",
         "legendgroup": "2015 Vintner's Reserve Pinot Noir (California)",
         "marker": {
          "color": "#636efa",
          "symbol": "circle"
         },
         "mode": "markers",
         "name": "2015 Vintner's Reserve Pinot Noir (California)",
         "orientation": "v",
         "showlegend": true,
         "type": "scatter",
         "x": [
          276679
         ],
         "xaxis": "x",
         "y": [
          88
         ],
         "yaxis": "y"
        },
        {
         "hovertemplate": "color=2008 Vintner's Reserve Chardonnay (California)<br>index=%{x}<br>value=%{y}<extra></extra>",
         "legendgroup": "2008 Vintner's Reserve Chardonnay (California)",
         "marker": {
          "color": "#EF553B",
          "symbol": "circle"
         },
         "mode": "markers",
         "name": "2008 Vintner's Reserve Chardonnay (California)",
         "orientation": "v",
         "showlegend": true,
         "type": "scatter",
         "x": [
          280067
         ],
         "xaxis": "x",
         "y": [
          86
         ],
         "yaxis": "y"
        },
        {
         "hovertemplate": "color=2010 Avant Chardonnay (California)<br>index=%{x}<br>value=%{y}<extra></extra>",
         "legendgroup": "2010 Avant Chardonnay (California)",
         "marker": {
          "color": "#00cc96",
          "symbol": "circle"
         },
         "mode": "markers",
         "name": "2010 Avant Chardonnay (California)",
         "orientation": "v",
         "showlegend": true,
         "type": "scatter",
         "x": [
          280372
         ],
         "xaxis": "x",
         "y": [
          90
         ],
         "yaxis": "y"
        },
        {
         "hovertemplate": "color=2009 Summation White (California)<br>index=%{x}<br>value=%{y}<extra></extra>",
         "legendgroup": "2009 Summation White (California)",
         "marker": {
          "color": "#ab63fa",
          "symbol": "circle"
         },
         "mode": "markers",
         "name": "2009 Summation White (California)",
         "orientation": "v",
         "showlegend": true,
         "type": "scatter",
         "x": [
          281174
         ],
         "xaxis": "x",
         "y": [
          85
         ],
         "yaxis": "y"
        },
        {
         "hovertemplate": "color=2013 Grand Reserve Pinot Noir (Central Coast)<br>index=%{x}<br>value=%{y}<extra></extra>",
         "legendgroup": "2013 Grand Reserve Pinot Noir (Central Coast)",
         "marker": {
          "color": "#FFA15A",
          "symbol": "circle"
         },
         "mode": "markers",
         "name": "2013 Grand Reserve Pinot Noir (Central Coast)",
         "orientation": "v",
         "showlegend": true,
         "type": "scatter",
         "x": [
          281673
         ],
         "xaxis": "x",
         "y": [
          85
         ],
         "yaxis": "y"
        },
        {
         "hovertemplate": "color=2013 Grand Reserve Cabernet Sauvignon (Sonoma County)<br>index=%{x}<br>value=%{y}<extra></extra>",
         "legendgroup": "2013 Grand Reserve Cabernet Sauvignon (Sonoma County)",
         "marker": {
          "color": "#19d3f3",
          "symbol": "circle"
         },
         "mode": "markers",
         "name": "2013 Grand Reserve Cabernet Sauvignon (Sonoma County)",
         "orientation": "v",
         "showlegend": true,
         "type": "scatter",
         "x": [
          281882
         ],
         "xaxis": "x",
         "y": [
          90
         ],
         "yaxis": "y"
        },
        {
         "hovertemplate": "color=2004 Stature Red (Napa Valley)<br>index=%{x}<br>value=%{y}<extra></extra>",
         "legendgroup": "2004 Stature Red (Napa Valley)",
         "marker": {
          "color": "#FF6692",
          "symbol": "circle"
         },
         "mode": "markers",
         "name": "2004 Stature Red (Napa Valley)",
         "orientation": "v",
         "showlegend": true,
         "type": "scatter",
         "x": [
          282267
         ],
         "xaxis": "x",
         "y": [
          96
         ],
         "yaxis": "y"
        },
        {
         "hovertemplate": "color=2015 Stature Cabernet Sauvignon (Sonoma County)<br>index=%{x}<br>value=%{y}<extra></extra>",
         "legendgroup": "2015 Stature Cabernet Sauvignon (Sonoma County)",
         "marker": {
          "color": "#B6E880",
          "symbol": "circle"
         },
         "mode": "markers",
         "name": "2015 Stature Cabernet Sauvignon (Sonoma County)",
         "orientation": "v",
         "showlegend": true,
         "type": "scatter",
         "x": [
          284275
         ],
         "xaxis": "x",
         "y": [
          93
         ],
         "yaxis": "y"
        },
        {
         "hovertemplate": "color=2001 Grand Reserve Chardonnay (California)<br>index=%{x}<br>value=%{y}<extra></extra>",
         "legendgroup": "2001 Grand Reserve Chardonnay (California)",
         "marker": {
          "color": "#FF97FF",
          "symbol": "circle"
         },
         "mode": "markers",
         "name": "2001 Grand Reserve Chardonnay (California)",
         "orientation": "v",
         "showlegend": true,
         "type": "scatter",
         "x": [
          285688
         ],
         "xaxis": "x",
         "y": [
          91
         ],
         "yaxis": "y"
        },
        {
         "hovertemplate": "color=2009 Vintner's Reserve Pinot Noir (California)<br>index=%{x}<br>value=%{y}<extra></extra>",
         "legendgroup": "2009 Vintner's Reserve Pinot Noir (California)",
         "marker": {
          "color": "#FECB52",
          "symbol": "circle"
         },
         "mode": "markers",
         "name": "2009 Vintner's Reserve Pinot Noir (California)",
         "orientation": "v",
         "showlegend": true,
         "type": "scatter",
         "x": [
          286882
         ],
         "xaxis": "x",
         "y": [
          85
         ],
         "yaxis": "y"
        },
        {
         "hovertemplate": "color=2019 Pinot Gris (California)<br>index=%{x}<br>value=%{y}<extra></extra>",
         "legendgroup": "2019 Pinot Gris (California)",
         "marker": {
          "color": "#636efa",
          "symbol": "circle"
         },
         "mode": "markers",
         "name": "2019 Pinot Gris (California)",
         "orientation": "v",
         "showlegend": true,
         "type": "scatter",
         "x": [
          287207
         ],
         "xaxis": "x",
         "y": [
          88
         ],
         "yaxis": "y"
        },
        {
         "hovertemplate": "color=2013 Vintner's Reserve Zinfandel (Mendocino)<br>index=%{x}<br>value=%{y}<extra></extra>",
         "legendgroup": "2013 Vintner's Reserve Zinfandel (Mendocino)",
         "marker": {
          "color": "#EF553B",
          "symbol": "circle"
         },
         "mode": "markers",
         "name": "2013 Vintner's Reserve Zinfandel (Mendocino)",
         "orientation": "v",
         "showlegend": true,
         "type": "scatter",
         "x": [
          288393
         ],
         "xaxis": "x",
         "y": [
          89
         ],
         "yaxis": "y"
        },
        {
         "hovertemplate": "color=2016 Jackson Estate Cabernet Sauvignon (Alexander Valley)<br>index=%{x}<br>value=%{y}<extra></extra>",
         "legendgroup": "2016 Jackson Estate Cabernet Sauvignon (Alexander Valley)",
         "marker": {
          "color": "#00cc96",
          "symbol": "circle"
         },
         "mode": "markers",
         "name": "2016 Jackson Estate Cabernet Sauvignon (Alexander Valley)",
         "orientation": "v",
         "showlegend": true,
         "type": "scatter",
         "x": [
          288744
         ],
         "xaxis": "x",
         "y": [
          87
         ],
         "yaxis": "y"
        },
        {
         "hovertemplate": "color=2000 Great Estates Chardonnay (Arroyo Seco)<br>index=%{x}<br>value=%{y}<extra></extra>",
         "legendgroup": "2000 Great Estates Chardonnay (Arroyo Seco)",
         "marker": {
          "color": "#ab63fa",
          "symbol": "circle"
         },
         "mode": "markers",
         "name": "2000 Great Estates Chardonnay (Arroyo Seco)",
         "orientation": "v",
         "showlegend": true,
         "type": "scatter",
         "x": [
          288765
         ],
         "xaxis": "x",
         "y": [
          88
         ],
         "yaxis": "y"
        },
        {
         "hovertemplate": "color=2007 Highlands Estates Camelot Highlands Chardonnay (Santa Maria Valley)<br>index=%{x}<br>value=%{y}<extra></extra>",
         "legendgroup": "2007 Highlands Estates Camelot Highlands Chardonnay (Santa Maria Valley)",
         "marker": {
          "color": "#FFA15A",
          "symbol": "circle"
         },
         "mode": "markers",
         "name": "2007 Highlands Estates Camelot Highlands Chardonnay (Santa Maria Valley)",
         "orientation": "v",
         "showlegend": true,
         "type": "scatter",
         "x": [
          288816
         ],
         "xaxis": "x",
         "y": [
          93
         ],
         "yaxis": "y"
        },
        {
         "hovertemplate": "color=2007 Vintner's Reserve Merlot (Sonoma County)<br>index=%{x}<br>value=%{y}<extra></extra>",
         "legendgroup": "2007 Vintner's Reserve Merlot (Sonoma County)",
         "marker": {
          "color": "#19d3f3",
          "symbol": "circle"
         },
         "mode": "markers",
         "name": "2007 Vintner's Reserve Merlot (Sonoma County)",
         "orientation": "v",
         "showlegend": true,
         "type": "scatter",
         "x": [
          289980
         ],
         "xaxis": "x",
         "y": [
          88
         ],
         "yaxis": "y"
        },
        {
         "hovertemplate": "color=2015 Grand Reserve Chardonnay (Monterey-Santa Barbara)<br>index=%{x}<br>value=%{y}<extra></extra>",
         "legendgroup": "2015 Grand Reserve Chardonnay (Monterey-Santa Barbara)",
         "marker": {
          "color": "#FF6692",
          "symbol": "circle"
         },
         "mode": "markers",
         "name": "2015 Grand Reserve Chardonnay (Monterey-Santa Barbara)",
         "orientation": "v",
         "showlegend": true,
         "type": "scatter",
         "x": [
          289990
         ],
         "xaxis": "x",
         "y": [
          90
         ],
         "yaxis": "y"
        },
        {
         "hovertemplate": "color=2002 Vintner's Reserve Merlot (California)<br>index=%{x}<br>value=%{y}<extra></extra>",
         "legendgroup": "2002 Vintner's Reserve Merlot (California)",
         "marker": {
          "color": "#B6E880",
          "symbol": "circle"
         },
         "mode": "markers",
         "name": "2002 Vintner's Reserve Merlot (California)",
         "orientation": "v",
         "showlegend": true,
         "type": "scatter",
         "x": [
          290322
         ],
         "xaxis": "x",
         "y": [
          85
         ],
         "yaxis": "y"
        },
        {
         "hovertemplate": "color=2008 Vintner's Reserve Cabernet Sauvignon (Sonoma-Napa)<br>index=%{x}<br>value=%{y}<extra></extra>",
         "legendgroup": "2008 Vintner's Reserve Cabernet Sauvignon (Sonoma-Napa)",
         "marker": {
          "color": "#FF97FF",
          "symbol": "circle"
         },
         "mode": "markers",
         "name": "2008 Vintner's Reserve Cabernet Sauvignon (Sonoma-Napa)",
         "orientation": "v",
         "showlegend": true,
         "type": "scatter",
         "x": [
          292111
         ],
         "xaxis": "x",
         "y": [
          92
         ],
         "yaxis": "y"
        },
        {
         "hovertemplate": "color=2001 Vintner's Reserve Syrah (California)<br>index=%{x}<br>value=%{y}<extra></extra>",
         "legendgroup": "2001 Vintner's Reserve Syrah (California)",
         "marker": {
          "color": "#FECB52",
          "symbol": "circle"
         },
         "mode": "markers",
         "name": "2001 Vintner's Reserve Syrah (California)",
         "orientation": "v",
         "showlegend": true,
         "type": "scatter",
         "x": [
          292169
         ],
         "xaxis": "x",
         "y": [
          84
         ],
         "yaxis": "y"
        },
        {
         "hovertemplate": "color=2003 Hawkeye Mountain Cabernet Sauvignon (Alexander Valley)<br>index=%{x}<br>value=%{y}<extra></extra>",
         "legendgroup": "2003 Hawkeye Mountain Cabernet Sauvignon (Alexander Valley)",
         "marker": {
          "color": "#636efa",
          "symbol": "circle"
         },
         "mode": "markers",
         "name": "2003 Hawkeye Mountain Cabernet Sauvignon (Alexander Valley)",
         "orientation": "v",
         "showlegend": true,
         "type": "scatter",
         "x": [
          293806
         ],
         "xaxis": "x",
         "y": [
          93
         ],
         "yaxis": "y"
        },
        {
         "hovertemplate": "color=2006 Vintner's Reserve Sauvignon Blanc (California)<br>index=%{x}<br>value=%{y}<extra></extra>",
         "legendgroup": "2006 Vintner's Reserve Sauvignon Blanc (California)",
         "marker": {
          "color": "#EF553B",
          "symbol": "circle"
         },
         "mode": "markers",
         "name": "2006 Vintner's Reserve Sauvignon Blanc (California)",
         "orientation": "v",
         "showlegend": true,
         "type": "scatter",
         "x": [
          295223
         ],
         "xaxis": "x",
         "y": [
          86
         ],
         "yaxis": "y"
        },
        {
         "hovertemplate": "color=2012 Vintner's Reserve Sauvignon Blanc (California)<br>index=%{x}<br>value=%{y}<extra></extra>",
         "legendgroup": "2012 Vintner's Reserve Sauvignon Blanc (California)",
         "marker": {
          "color": "#00cc96",
          "symbol": "circle"
         },
         "mode": "markers",
         "name": "2012 Vintner's Reserve Sauvignon Blanc (California)",
         "orientation": "v",
         "showlegend": true,
         "type": "scatter",
         "x": [
          296501
         ],
         "xaxis": "x",
         "y": [
          84
         ],
         "yaxis": "y"
        },
        {
         "hovertemplate": "color=2013 Vintner's Reserve Chardonnay (California)<br>index=%{x}<br>value=%{y}<extra></extra>",
         "legendgroup": "2013 Vintner's Reserve Chardonnay (California)",
         "marker": {
          "color": "#ab63fa",
          "symbol": "circle"
         },
         "mode": "markers",
         "name": "2013 Vintner's Reserve Chardonnay (California)",
         "orientation": "v",
         "showlegend": true,
         "type": "scatter",
         "x": [
          297275
         ],
         "xaxis": "x",
         "y": [
          91
         ],
         "yaxis": "y"
        },
        {
         "hovertemplate": "color=2015 Vintner's Reserve Syrah (Santa Barbara County)<br>index=%{x}<br>value=%{y}<extra></extra>",
         "legendgroup": "2015 Vintner's Reserve Syrah (Santa Barbara County)",
         "marker": {
          "color": "#FFA15A",
          "symbol": "circle"
         },
         "mode": "markers",
         "name": "2015 Vintner's Reserve Syrah (Santa Barbara County)",
         "orientation": "v",
         "showlegend": true,
         "type": "scatter",
         "x": [
          298250
         ],
         "xaxis": "x",
         "y": [
          89
         ],
         "yaxis": "y"
        },
        {
         "hovertemplate": "color=2010 Vintner's Reserve Merlot (Sonoma County)<br>index=%{x}<br>value=%{y}<extra></extra>",
         "legendgroup": "2010 Vintner's Reserve Merlot (Sonoma County)",
         "marker": {
          "color": "#19d3f3",
          "symbol": "circle"
         },
         "mode": "markers",
         "name": "2010 Vintner's Reserve Merlot (Sonoma County)",
         "orientation": "v",
         "showlegend": true,
         "type": "scatter",
         "x": [
          298658
         ],
         "xaxis": "x",
         "y": [
          86
         ],
         "yaxis": "y"
        },
        {
         "hovertemplate": "color=2019 Jackson Estate Seco Highlands Chardonnay (Arroyo Seco)<br>index=%{x}<br>value=%{y}<extra></extra>",
         "legendgroup": "2019 Jackson Estate Seco Highlands Chardonnay (Arroyo Seco)",
         "marker": {
          "color": "#FF6692",
          "symbol": "circle"
         },
         "mode": "markers",
         "name": "2019 Jackson Estate Seco Highlands Chardonnay (Arroyo Seco)",
         "orientation": "v",
         "showlegend": true,
         "type": "scatter",
         "x": [
          299871
         ],
         "xaxis": "x",
         "y": [
          91
         ],
         "yaxis": "y"
        },
        {
         "hovertemplate": "color=2004 Napa Mountain Estate Cabernet Sauvignon (Mount Veeder)<br>index=%{x}<br>value=%{y}<extra></extra>",
         "legendgroup": "2004 Napa Mountain Estate Cabernet Sauvignon (Mount Veeder)",
         "marker": {
          "color": "#B6E880",
          "symbol": "circle"
         },
         "mode": "markers",
         "name": "2004 Napa Mountain Estate Cabernet Sauvignon (Mount Veeder)",
         "orientation": "v",
         "showlegend": true,
         "type": "scatter",
         "x": [
          300114
         ],
         "xaxis": "x",
         "y": [
          93
         ],
         "yaxis": "y"
        },
        {
         "hovertemplate": "color=2002 Hawkeye Mountain Estate Cabernet Sauvignon (Sonoma County)<br>index=%{x}<br>value=%{y}<extra></extra>",
         "legendgroup": "2002 Hawkeye Mountain Estate Cabernet Sauvignon (Sonoma County)",
         "marker": {
          "color": "#FF97FF",
          "symbol": "circle"
         },
         "mode": "markers",
         "name": "2002 Hawkeye Mountain Estate Cabernet Sauvignon (Sonoma County)",
         "orientation": "v",
         "showlegend": true,
         "type": "scatter",
         "x": [
          300446
         ],
         "xaxis": "x",
         "y": [
          91
         ],
         "yaxis": "y"
        },
        {
         "hovertemplate": "color=2008 Grand Reserve Merlot (Sonoma County)<br>index=%{x}<br>value=%{y}<extra></extra>",
         "legendgroup": "2008 Grand Reserve Merlot (Sonoma County)",
         "marker": {
          "color": "#FECB52",
          "symbol": "circle"
         },
         "mode": "markers",
         "name": "2008 Grand Reserve Merlot (Sonoma County)",
         "orientation": "v",
         "showlegend": true,
         "type": "scatter",
         "x": [
          301041
         ],
         "xaxis": "x",
         "y": [
          90
         ],
         "yaxis": "y"
        },
        {
         "hovertemplate": "color=2010 Grand Reserve Cabernet Sauvignon (Sonoma County)<br>index=%{x}<br>value=%{y}<extra></extra>",
         "legendgroup": "2010 Grand Reserve Cabernet Sauvignon (Sonoma County)",
         "marker": {
          "color": "#636efa",
          "symbol": "circle"
         },
         "mode": "markers",
         "name": "2010 Grand Reserve Cabernet Sauvignon (Sonoma County)",
         "orientation": "v",
         "showlegend": true,
         "type": "scatter",
         "x": [
          301413
         ],
         "xaxis": "x",
         "y": [
          92
         ],
         "yaxis": "y"
        },
        {
         "hovertemplate": "color=1997 Vintner's Reserve Sauvignon Blanc (California)<br>index=%{x}<br>value=%{y}<extra></extra>",
         "legendgroup": "1997 Vintner's Reserve Sauvignon Blanc (California)",
         "marker": {
          "color": "#EF553B",
          "symbol": "circle"
         },
         "mode": "markers",
         "name": "1997 Vintner's Reserve Sauvignon Blanc (California)",
         "orientation": "v",
         "showlegend": true,
         "type": "scatter",
         "x": [
          301927
         ],
         "xaxis": "x",
         "y": [
          86
         ],
         "yaxis": "y"
        },
        {
         "hovertemplate": "color=2010 Vintner's Reserve Sauvignon Blanc (California)<br>index=%{x}<br>value=%{y}<extra></extra>",
         "legendgroup": "2010 Vintner's Reserve Sauvignon Blanc (California)",
         "marker": {
          "color": "#00cc96",
          "symbol": "circle"
         },
         "mode": "markers",
         "name": "2010 Vintner's Reserve Sauvignon Blanc (California)",
         "orientation": "v",
         "showlegend": true,
         "type": "scatter",
         "x": [
          301953
         ],
         "xaxis": "x",
         "y": [
          89
         ],
         "yaxis": "y"
        },
        {
         "hovertemplate": "color=2016 Grand Reserve Chardonnay (Santa Barbara-Monterey)<br>index=%{x}<br>value=%{y}<extra></extra>",
         "legendgroup": "2016 Grand Reserve Chardonnay (Santa Barbara-Monterey)",
         "marker": {
          "color": "#ab63fa",
          "symbol": "circle"
         },
         "mode": "markers",
         "name": "2016 Grand Reserve Chardonnay (Santa Barbara-Monterey)",
         "orientation": "v",
         "showlegend": true,
         "type": "scatter",
         "x": [
          302890
         ],
         "xaxis": "x",
         "y": [
          88
         ],
         "yaxis": "y"
        },
        {
         "hovertemplate": "color=2009 Vintner's Reserve Chardonnay (California)<br>index=%{x}<br>value=%{y}<extra></extra>",
         "legendgroup": "2009 Vintner's Reserve Chardonnay (California)",
         "marker": {
          "color": "#FFA15A",
          "symbol": "circle"
         },
         "mode": "markers",
         "name": "2009 Vintner's Reserve Chardonnay (California)",
         "orientation": "v",
         "showlegend": true,
         "type": "scatter",
         "x": [
          302983
         ],
         "xaxis": "x",
         "y": [
          87
         ],
         "yaxis": "y"
        },
        {
         "hovertemplate": "color=2015 Vintner's Reserve Sauvignon Blanc (California)<br>index=%{x}<br>value=%{y}<extra></extra>",
         "legendgroup": "2015 Vintner's Reserve Sauvignon Blanc (California)",
         "marker": {
          "color": "#19d3f3",
          "symbol": "circle"
         },
         "mode": "markers",
         "name": "2015 Vintner's Reserve Sauvignon Blanc (California)",
         "orientation": "v",
         "showlegend": true,
         "type": "scatter",
         "x": [
          303780
         ],
         "xaxis": "x",
         "y": [
          89
         ],
         "yaxis": "y"
        },
        {
         "hovertemplate": "color=2013 Vintner's Reserve Sauvignon Blanc (California)<br>index=%{x}<br>value=%{y}<extra></extra>",
         "legendgroup": "2013 Vintner's Reserve Sauvignon Blanc (California)",
         "marker": {
          "color": "#FF6692",
          "symbol": "circle"
         },
         "mode": "markers",
         "name": "2013 Vintner's Reserve Sauvignon Blanc (California)",
         "orientation": "v",
         "showlegend": true,
         "type": "scatter",
         "x": [
          304644
         ],
         "xaxis": "x",
         "y": [
          86
         ],
         "yaxis": "y"
        },
        {
         "hovertemplate": "color=2006 Stature Red (Napa Valley)<br>index=%{x}<br>value=%{y}<extra></extra>",
         "legendgroup": "2006 Stature Red (Napa Valley)",
         "marker": {
          "color": "#B6E880",
          "symbol": "circle"
         },
         "mode": "markers",
         "name": "2006 Stature Red (Napa Valley)",
         "orientation": "v",
         "showlegend": true,
         "type": "scatter",
         "x": [
          305212
         ],
         "xaxis": "x",
         "y": [
          94
         ],
         "yaxis": "y"
        },
        {
         "hovertemplate": "color=2020 Vintner's Reserve Rosé (California)<br>index=%{x}<br>value=%{y}<extra></extra>",
         "legendgroup": "2020 Vintner's Reserve Rosé (California)",
         "marker": {
          "color": "#FF97FF",
          "symbol": "circle"
         },
         "mode": "markers",
         "name": "2020 Vintner's Reserve Rosé (California)",
         "orientation": "v",
         "showlegend": true,
         "type": "scatter",
         "x": [
          306171
         ],
         "xaxis": "x",
         "y": [
          88
         ],
         "yaxis": "y"
        },
        {
         "hovertemplate": "color=1997 Great Estates Cabernet Sauvignon (Alexander Valley)<br>index=%{x}<br>value=%{y}<extra></extra>",
         "legendgroup": "1997 Great Estates Cabernet Sauvignon (Alexander Valley)",
         "marker": {
          "color": "#FECB52",
          "symbol": "circle"
         },
         "mode": "markers",
         "name": "1997 Great Estates Cabernet Sauvignon (Alexander Valley)",
         "orientation": "v",
         "showlegend": true,
         "type": "scatter",
         "x": [
          306190
         ],
         "xaxis": "x",
         "y": [
          92
         ],
         "yaxis": "y"
        },
        {
         "hovertemplate": "color=2016 Vintner's Reserve Merlot (Sonoma County)<br>index=%{x}<br>value=%{y}<extra></extra>",
         "legendgroup": "2016 Vintner's Reserve Merlot (Sonoma County)",
         "marker": {
          "color": "#636efa",
          "symbol": "circle"
         },
         "mode": "markers",
         "name": "2016 Vintner's Reserve Merlot (Sonoma County)",
         "orientation": "v",
         "showlegend": true,
         "type": "scatter",
         "x": [
          306279
         ],
         "xaxis": "x",
         "y": [
          90
         ],
         "yaxis": "y"
        },
        {
         "hovertemplate": "color=2007 Vintner's Reserve Sauvignon Blanc (California)<br>index=%{x}<br>value=%{y}<extra></extra>",
         "legendgroup": "2007 Vintner's Reserve Sauvignon Blanc (California)",
         "marker": {
          "color": "#EF553B",
          "symbol": "circle"
         },
         "mode": "markers",
         "name": "2007 Vintner's Reserve Sauvignon Blanc (California)",
         "orientation": "v",
         "showlegend": true,
         "type": "scatter",
         "x": [
          307276
         ],
         "xaxis": "x",
         "y": [
          87
         ],
         "yaxis": "y"
        },
        {
         "hovertemplate": "color=2011 Avant Chardonnay (California)<br>index=%{x}<br>value=%{y}<extra></extra>",
         "legendgroup": "2011 Avant Chardonnay (California)",
         "marker": {
          "color": "#00cc96",
          "symbol": "circle"
         },
         "mode": "markers",
         "name": "2011 Avant Chardonnay (California)",
         "orientation": "v",
         "showlegend": true,
         "type": "scatter",
         "x": [
          307583
         ],
         "xaxis": "x",
         "y": [
          90
         ],
         "yaxis": "y"
        },
        {
         "hovertemplate": "color=2014 Vintner's Reserve Cabernet Sauvignon (Sonoma County)<br>index=%{x}<br>value=%{y}<extra></extra>",
         "legendgroup": "2014 Vintner's Reserve Cabernet Sauvignon (Sonoma County)",
         "marker": {
          "color": "#ab63fa",
          "symbol": "circle"
         },
         "mode": "markers",
         "name": "2014 Vintner's Reserve Cabernet Sauvignon (Sonoma County)",
         "orientation": "v",
         "showlegend": true,
         "type": "scatter",
         "x": [
          310413
         ],
         "xaxis": "x",
         "y": [
          86
         ],
         "yaxis": "y"
        },
        {
         "hovertemplate": "color=2001 20th Harvest Release Chardonnay (California)<br>index=%{x}<br>value=%{y}<extra></extra>",
         "legendgroup": "2001 20th Harvest Release Chardonnay (California)",
         "marker": {
          "color": "#FFA15A",
          "symbol": "circle"
         },
         "mode": "markers",
         "name": "2001 20th Harvest Release Chardonnay (California)",
         "orientation": "v",
         "showlegend": true,
         "type": "scatter",
         "x": [
          310533
         ],
         "xaxis": "x",
         "y": [
          87
         ],
         "yaxis": "y"
        },
        {
         "hovertemplate": "color=2019 Vintner's Reserve Pinot Noir (California)<br>index=%{x}<br>value=%{y}<extra></extra>",
         "legendgroup": "2019 Vintner's Reserve Pinot Noir (California)",
         "marker": {
          "color": "#19d3f3",
          "symbol": "circle"
         },
         "mode": "markers",
         "name": "2019 Vintner's Reserve Pinot Noir (California)",
         "orientation": "v",
         "showlegend": true,
         "type": "scatter",
         "x": [
          310757
         ],
         "xaxis": "x",
         "y": [
          92
         ],
         "yaxis": "y"
        },
        {
         "hovertemplate": "color=2007 Grand Reserve Chardonnay (Santa Barbara-Monterey)<br>index=%{x}<br>value=%{y}<extra></extra>",
         "legendgroup": "2007 Grand Reserve Chardonnay (Santa Barbara-Monterey)",
         "marker": {
          "color": "#FF6692",
          "symbol": "circle"
         },
         "mode": "markers",
         "name": "2007 Grand Reserve Chardonnay (Santa Barbara-Monterey)",
         "orientation": "v",
         "showlegend": true,
         "type": "scatter",
         "x": [
          310903
         ],
         "xaxis": "x",
         "y": [
          91
         ],
         "yaxis": "y"
        },
        {
         "hovertemplate": "color=2014 Grand Reserve Merlot (Sonoma County)<br>index=%{x}<br>value=%{y}<extra></extra>",
         "legendgroup": "2014 Grand Reserve Merlot (Sonoma County)",
         "marker": {
          "color": "#B6E880",
          "symbol": "circle"
         },
         "mode": "markers",
         "name": "2014 Grand Reserve Merlot (Sonoma County)",
         "orientation": "v",
         "showlegend": true,
         "type": "scatter",
         "x": [
          312263
         ],
         "xaxis": "x",
         "y": [
          84
         ],
         "yaxis": "y"
        },
        {
         "hovertemplate": "color=1997 Vintner's Reserve Viognier (California)<br>index=%{x}<br>value=%{y}<extra></extra>",
         "legendgroup": "1997 Vintner's Reserve Viognier (California)",
         "marker": {
          "color": "#FF97FF",
          "symbol": "circle"
         },
         "mode": "markers",
         "name": "1997 Vintner's Reserve Viognier (California)",
         "orientation": "v",
         "showlegend": true,
         "type": "scatter",
         "x": [
          314534
         ],
         "xaxis": "x",
         "y": [
          85
         ],
         "yaxis": "y"
        },
        {
         "hovertemplate": "color=2007 Vintner's Reserve Pinot Noir (California)<br>index=%{x}<br>value=%{y}<extra></extra>",
         "legendgroup": "2007 Vintner's Reserve Pinot Noir (California)",
         "marker": {
          "color": "#FECB52",
          "symbol": "circle"
         },
         "mode": "markers",
         "name": "2007 Vintner's Reserve Pinot Noir (California)",
         "orientation": "v",
         "showlegend": true,
         "type": "scatter",
         "x": [
          315677
         ],
         "xaxis": "x",
         "y": [
          87
         ],
         "yaxis": "y"
        },
        {
         "hovertemplate": "color=2001 Grand Reserve Cabernet Sauvignon (California)<br>index=%{x}<br>value=%{y}<extra></extra>",
         "legendgroup": "2001 Grand Reserve Cabernet Sauvignon (California)",
         "marker": {
          "color": "#636efa",
          "symbol": "circle"
         },
         "mode": "markers",
         "name": "2001 Grand Reserve Cabernet Sauvignon (California)",
         "orientation": "v",
         "showlegend": true,
         "type": "scatter",
         "x": [
          316466
         ],
         "xaxis": "x",
         "y": [
          90
         ],
         "yaxis": "y"
        },
        {
         "hovertemplate": "color=1997 Grand Reserve Chardonnay (California)<br>index=%{x}<br>value=%{y}<extra></extra>",
         "legendgroup": "1997 Grand Reserve Chardonnay (California)",
         "marker": {
          "color": "#EF553B",
          "symbol": "circle"
         },
         "mode": "markers",
         "name": "1997 Grand Reserve Chardonnay (California)",
         "orientation": "v",
         "showlegend": true,
         "type": "scatter",
         "x": [
          317064
         ],
         "xaxis": "x",
         "y": [
          86
         ],
         "yaxis": "y"
        },
        {
         "hovertemplate": "color=2004 Vintner's Reserve Pinot Noir (California)<br>index=%{x}<br>value=%{y}<extra></extra>",
         "legendgroup": "2004 Vintner's Reserve Pinot Noir (California)",
         "marker": {
          "color": "#00cc96",
          "symbol": "circle"
         },
         "mode": "markers",
         "name": "2004 Vintner's Reserve Pinot Noir (California)",
         "orientation": "v",
         "showlegend": true,
         "type": "scatter",
         "x": [
          319213
         ],
         "xaxis": "x",
         "y": [
          83
         ],
         "yaxis": "y"
        },
        {
         "hovertemplate": "color=2003 Vintner's Reserve Syrah (California)<br>index=%{x}<br>value=%{y}<extra></extra>",
         "legendgroup": "2003 Vintner's Reserve Syrah (California)",
         "marker": {
          "color": "#ab63fa",
          "symbol": "circle"
         },
         "mode": "markers",
         "name": "2003 Vintner's Reserve Syrah (California)",
         "orientation": "v",
         "showlegend": true,
         "type": "scatter",
         "x": [
          320648
         ],
         "xaxis": "x",
         "y": [
          86
         ],
         "yaxis": "y"
        },
        {
         "hovertemplate": "color=2003 Highlands Estate Taylor Peak Merlot (Bennett Valley)<br>index=%{x}<br>value=%{y}<extra></extra>",
         "legendgroup": "2003 Highlands Estate Taylor Peak Merlot (Bennett Valley)",
         "marker": {
          "color": "#FFA15A",
          "symbol": "circle"
         },
         "mode": "markers",
         "name": "2003 Highlands Estate Taylor Peak Merlot (Bennett Valley)",
         "orientation": "v",
         "showlegend": true,
         "type": "scatter",
         "x": [
          320744
         ],
         "xaxis": "x",
         "y": [
          92
         ],
         "yaxis": "y"
        }
       ],
       "layout": {
        "legend": {
         "title": {
          "text": "color"
         },
         "tracegroupgap": 0
        },
        "template": {
         "data": {
          "bar": [
           {
            "error_x": {
             "color": "#2a3f5f"
            },
            "error_y": {
             "color": "#2a3f5f"
            },
            "marker": {
             "line": {
              "color": "#E5ECF6",
              "width": 0.5
             }
            },
            "type": "bar"
           }
          ],
          "barpolar": [
           {
            "marker": {
             "line": {
              "color": "#E5ECF6",
              "width": 0.5
             }
            },
            "type": "barpolar"
           }
          ],
          "carpet": [
           {
            "aaxis": {
             "endlinecolor": "#2a3f5f",
             "gridcolor": "white",
             "linecolor": "white",
             "minorgridcolor": "white",
             "startlinecolor": "#2a3f5f"
            },
            "baxis": {
             "endlinecolor": "#2a3f5f",
             "gridcolor": "white",
             "linecolor": "white",
             "minorgridcolor": "white",
             "startlinecolor": "#2a3f5f"
            },
            "type": "carpet"
           }
          ],
          "choropleth": [
           {
            "colorbar": {
             "outlinewidth": 0,
             "ticks": ""
            },
            "type": "choropleth"
           }
          ],
          "contour": [
           {
            "colorbar": {
             "outlinewidth": 0,
             "ticks": ""
            },
            "colorscale": [
             [
              0,
              "#0d0887"
             ],
             [
              0.1111111111111111,
              "#46039f"
             ],
             [
              0.2222222222222222,
              "#7201a8"
             ],
             [
              0.3333333333333333,
              "#9c179e"
             ],
             [
              0.4444444444444444,
              "#bd3786"
             ],
             [
              0.5555555555555556,
              "#d8576b"
             ],
             [
              0.6666666666666666,
              "#ed7953"
             ],
             [
              0.7777777777777778,
              "#fb9f3a"
             ],
             [
              0.8888888888888888,
              "#fdca26"
             ],
             [
              1,
              "#f0f921"
             ]
            ],
            "type": "contour"
           }
          ],
          "contourcarpet": [
           {
            "colorbar": {
             "outlinewidth": 0,
             "ticks": ""
            },
            "type": "contourcarpet"
           }
          ],
          "heatmap": [
           {
            "colorbar": {
             "outlinewidth": 0,
             "ticks": ""
            },
            "colorscale": [
             [
              0,
              "#0d0887"
             ],
             [
              0.1111111111111111,
              "#46039f"
             ],
             [
              0.2222222222222222,
              "#7201a8"
             ],
             [
              0.3333333333333333,
              "#9c179e"
             ],
             [
              0.4444444444444444,
              "#bd3786"
             ],
             [
              0.5555555555555556,
              "#d8576b"
             ],
             [
              0.6666666666666666,
              "#ed7953"
             ],
             [
              0.7777777777777778,
              "#fb9f3a"
             ],
             [
              0.8888888888888888,
              "#fdca26"
             ],
             [
              1,
              "#f0f921"
             ]
            ],
            "type": "heatmap"
           }
          ],
          "heatmapgl": [
           {
            "colorbar": {
             "outlinewidth": 0,
             "ticks": ""
            },
            "colorscale": [
             [
              0,
              "#0d0887"
             ],
             [
              0.1111111111111111,
              "#46039f"
             ],
             [
              0.2222222222222222,
              "#7201a8"
             ],
             [
              0.3333333333333333,
              "#9c179e"
             ],
             [
              0.4444444444444444,
              "#bd3786"
             ],
             [
              0.5555555555555556,
              "#d8576b"
             ],
             [
              0.6666666666666666,
              "#ed7953"
             ],
             [
              0.7777777777777778,
              "#fb9f3a"
             ],
             [
              0.8888888888888888,
              "#fdca26"
             ],
             [
              1,
              "#f0f921"
             ]
            ],
            "type": "heatmapgl"
           }
          ],
          "histogram": [
           {
            "marker": {
             "colorbar": {
              "outlinewidth": 0,
              "ticks": ""
             }
            },
            "type": "histogram"
           }
          ],
          "histogram2d": [
           {
            "colorbar": {
             "outlinewidth": 0,
             "ticks": ""
            },
            "colorscale": [
             [
              0,
              "#0d0887"
             ],
             [
              0.1111111111111111,
              "#46039f"
             ],
             [
              0.2222222222222222,
              "#7201a8"
             ],
             [
              0.3333333333333333,
              "#9c179e"
             ],
             [
              0.4444444444444444,
              "#bd3786"
             ],
             [
              0.5555555555555556,
              "#d8576b"
             ],
             [
              0.6666666666666666,
              "#ed7953"
             ],
             [
              0.7777777777777778,
              "#fb9f3a"
             ],
             [
              0.8888888888888888,
              "#fdca26"
             ],
             [
              1,
              "#f0f921"
             ]
            ],
            "type": "histogram2d"
           }
          ],
          "histogram2dcontour": [
           {
            "colorbar": {
             "outlinewidth": 0,
             "ticks": ""
            },
            "colorscale": [
             [
              0,
              "#0d0887"
             ],
             [
              0.1111111111111111,
              "#46039f"
             ],
             [
              0.2222222222222222,
              "#7201a8"
             ],
             [
              0.3333333333333333,
              "#9c179e"
             ],
             [
              0.4444444444444444,
              "#bd3786"
             ],
             [
              0.5555555555555556,
              "#d8576b"
             ],
             [
              0.6666666666666666,
              "#ed7953"
             ],
             [
              0.7777777777777778,
              "#fb9f3a"
             ],
             [
              0.8888888888888888,
              "#fdca26"
             ],
             [
              1,
              "#f0f921"
             ]
            ],
            "type": "histogram2dcontour"
           }
          ],
          "mesh3d": [
           {
            "colorbar": {
             "outlinewidth": 0,
             "ticks": ""
            },
            "type": "mesh3d"
           }
          ],
          "parcoords": [
           {
            "line": {
             "colorbar": {
              "outlinewidth": 0,
              "ticks": ""
             }
            },
            "type": "parcoords"
           }
          ],
          "pie": [
           {
            "automargin": true,
            "type": "pie"
           }
          ],
          "scatter": [
           {
            "marker": {
             "colorbar": {
              "outlinewidth": 0,
              "ticks": ""
             }
            },
            "type": "scatter"
           }
          ],
          "scatter3d": [
           {
            "line": {
             "colorbar": {
              "outlinewidth": 0,
              "ticks": ""
             }
            },
            "marker": {
             "colorbar": {
              "outlinewidth": 0,
              "ticks": ""
             }
            },
            "type": "scatter3d"
           }
          ],
          "scattercarpet": [
           {
            "marker": {
             "colorbar": {
              "outlinewidth": 0,
              "ticks": ""
             }
            },
            "type": "scattercarpet"
           }
          ],
          "scattergeo": [
           {
            "marker": {
             "colorbar": {
              "outlinewidth": 0,
              "ticks": ""
             }
            },
            "type": "scattergeo"
           }
          ],
          "scattergl": [
           {
            "marker": {
             "colorbar": {
              "outlinewidth": 0,
              "ticks": ""
             }
            },
            "type": "scattergl"
           }
          ],
          "scattermapbox": [
           {
            "marker": {
             "colorbar": {
              "outlinewidth": 0,
              "ticks": ""
             }
            },
            "type": "scattermapbox"
           }
          ],
          "scatterpolar": [
           {
            "marker": {
             "colorbar": {
              "outlinewidth": 0,
              "ticks": ""
             }
            },
            "type": "scatterpolar"
           }
          ],
          "scatterpolargl": [
           {
            "marker": {
             "colorbar": {
              "outlinewidth": 0,
              "ticks": ""
             }
            },
            "type": "scatterpolargl"
           }
          ],
          "scatterternary": [
           {
            "marker": {
             "colorbar": {
              "outlinewidth": 0,
              "ticks": ""
             }
            },
            "type": "scatterternary"
           }
          ],
          "surface": [
           {
            "colorbar": {
             "outlinewidth": 0,
             "ticks": ""
            },
            "colorscale": [
             [
              0,
              "#0d0887"
             ],
             [
              0.1111111111111111,
              "#46039f"
             ],
             [
              0.2222222222222222,
              "#7201a8"
             ],
             [
              0.3333333333333333,
              "#9c179e"
             ],
             [
              0.4444444444444444,
              "#bd3786"
             ],
             [
              0.5555555555555556,
              "#d8576b"
             ],
             [
              0.6666666666666666,
              "#ed7953"
             ],
             [
              0.7777777777777778,
              "#fb9f3a"
             ],
             [
              0.8888888888888888,
              "#fdca26"
             ],
             [
              1,
              "#f0f921"
             ]
            ],
            "type": "surface"
           }
          ],
          "table": [
           {
            "cells": {
             "fill": {
              "color": "#EBF0F8"
             },
             "line": {
              "color": "white"
             }
            },
            "header": {
             "fill": {
              "color": "#C8D4E3"
             },
             "line": {
              "color": "white"
             }
            },
            "type": "table"
           }
          ]
         },
         "layout": {
          "annotationdefaults": {
           "arrowcolor": "#2a3f5f",
           "arrowhead": 0,
           "arrowwidth": 1
          },
          "autotypenumbers": "strict",
          "coloraxis": {
           "colorbar": {
            "outlinewidth": 0,
            "ticks": ""
           }
          },
          "colorscale": {
           "diverging": [
            [
             0,
             "#8e0152"
            ],
            [
             0.1,
             "#c51b7d"
            ],
            [
             0.2,
             "#de77ae"
            ],
            [
             0.3,
             "#f1b6da"
            ],
            [
             0.4,
             "#fde0ef"
            ],
            [
             0.5,
             "#f7f7f7"
            ],
            [
             0.6,
             "#e6f5d0"
            ],
            [
             0.7,
             "#b8e186"
            ],
            [
             0.8,
             "#7fbc41"
            ],
            [
             0.9,
             "#4d9221"
            ],
            [
             1,
             "#276419"
            ]
           ],
           "sequential": [
            [
             0,
             "#0d0887"
            ],
            [
             0.1111111111111111,
             "#46039f"
            ],
            [
             0.2222222222222222,
             "#7201a8"
            ],
            [
             0.3333333333333333,
             "#9c179e"
            ],
            [
             0.4444444444444444,
             "#bd3786"
            ],
            [
             0.5555555555555556,
             "#d8576b"
            ],
            [
             0.6666666666666666,
             "#ed7953"
            ],
            [
             0.7777777777777778,
             "#fb9f3a"
            ],
            [
             0.8888888888888888,
             "#fdca26"
            ],
            [
             1,
             "#f0f921"
            ]
           ],
           "sequentialminus": [
            [
             0,
             "#0d0887"
            ],
            [
             0.1111111111111111,
             "#46039f"
            ],
            [
             0.2222222222222222,
             "#7201a8"
            ],
            [
             0.3333333333333333,
             "#9c179e"
            ],
            [
             0.4444444444444444,
             "#bd3786"
            ],
            [
             0.5555555555555556,
             "#d8576b"
            ],
            [
             0.6666666666666666,
             "#ed7953"
            ],
            [
             0.7777777777777778,
             "#fb9f3a"
            ],
            [
             0.8888888888888888,
             "#fdca26"
            ],
            [
             1,
             "#f0f921"
            ]
           ]
          },
          "colorway": [
           "#636efa",
           "#EF553B",
           "#00cc96",
           "#ab63fa",
           "#FFA15A",
           "#19d3f3",
           "#FF6692",
           "#B6E880",
           "#FF97FF",
           "#FECB52"
          ],
          "font": {
           "color": "#2a3f5f"
          },
          "geo": {
           "bgcolor": "white",
           "lakecolor": "white",
           "landcolor": "#E5ECF6",
           "showlakes": true,
           "showland": true,
           "subunitcolor": "white"
          },
          "hoverlabel": {
           "align": "left"
          },
          "hovermode": "closest",
          "mapbox": {
           "style": "light"
          },
          "paper_bgcolor": "white",
          "plot_bgcolor": "#E5ECF6",
          "polar": {
           "angularaxis": {
            "gridcolor": "white",
            "linecolor": "white",
            "ticks": ""
           },
           "bgcolor": "#E5ECF6",
           "radialaxis": {
            "gridcolor": "white",
            "linecolor": "white",
            "ticks": ""
           }
          },
          "scene": {
           "xaxis": {
            "backgroundcolor": "#E5ECF6",
            "gridcolor": "white",
            "gridwidth": 2,
            "linecolor": "white",
            "showbackground": true,
            "ticks": "",
            "zerolinecolor": "white"
           },
           "yaxis": {
            "backgroundcolor": "#E5ECF6",
            "gridcolor": "white",
            "gridwidth": 2,
            "linecolor": "white",
            "showbackground": true,
            "ticks": "",
            "zerolinecolor": "white"
           },
           "zaxis": {
            "backgroundcolor": "#E5ECF6",
            "gridcolor": "white",
            "gridwidth": 2,
            "linecolor": "white",
            "showbackground": true,
            "ticks": "",
            "zerolinecolor": "white"
           }
          },
          "shapedefaults": {
           "line": {
            "color": "#2a3f5f"
           }
          },
          "ternary": {
           "aaxis": {
            "gridcolor": "white",
            "linecolor": "white",
            "ticks": ""
           },
           "baxis": {
            "gridcolor": "white",
            "linecolor": "white",
            "ticks": ""
           },
           "bgcolor": "#E5ECF6",
           "caxis": {
            "gridcolor": "white",
            "linecolor": "white",
            "ticks": ""
           }
          },
          "title": {
           "x": 0.05
          },
          "xaxis": {
           "automargin": true,
           "gridcolor": "white",
           "linecolor": "white",
           "ticks": "",
           "title": {
            "standoff": 15
           },
           "zerolinecolor": "white",
           "zerolinewidth": 2
          },
          "yaxis": {
           "automargin": true,
           "gridcolor": "white",
           "linecolor": "white",
           "ticks": "",
           "title": {
            "standoff": 15
           },
           "zerolinecolor": "white",
           "zerolinewidth": 2
          }
         }
        },
        "title": {
         "text": "Plot for winery : Kendall-Jackson"
        },
        "xaxis": {
         "anchor": "y",
         "domain": [
          0,
          1
         ],
         "title": {
          "text": "index"
         }
        },
        "yaxis": {
         "anchor": "x",
         "domain": [
          0,
          1
         ],
         "title": {
          "text": "value"
         }
        }
       }
      }
     },
     "metadata": {},
     "output_type": "display_data"
    }
   ],
   "source": [
    "winery = input()\n",
    "tt = df[df.winery == winery]\n",
    "px.scatter(tt.rating, color=tt.wine, title=f'Plot for winery : {winery}')"
   ]
  },
  {
   "cell_type": "code",
   "execution_count": 25,
   "metadata": {},
   "outputs": [
    {
     "data": {
      "application/vnd.plotly.v1+json": {
       "config": {
        "plotlyServerURL": "https://plot.ly"
       },
       "data": [
        {
         "alignmentgroup": "True",
         "hovertemplate": "category=Red<br>wine=%{x}<br>alcohol=%{y}<extra></extra>",
         "legendgroup": "Red",
         "marker": {
          "color": "#636efa"
         },
         "name": "Red",
         "offsetgroup": "Red",
         "orientation": "v",
         "showlegend": true,
         "textposition": "auto",
         "type": "bar",
         "x": [
          "2002 Vintner's Reserve Zinfandel (California)",
          "1997 Buckeye Vyd Cabernet Sauvignon (Sonoma County)",
          "2017 Jackson Estate Pinot Noir (Anderson Valley)",
          "2005 Stature Red (Napa Valley)",
          "2001 Stature Meritage (Napa Valley)",
          "1997 Elite Cabernet Sauvignon (Napa Valley)",
          "2004 Hawkeye Mountain Estate Cabernet Sauvignon (Alexander Valley)",
          "2012 Vintners Reserve Syrah (California)",
          "2012 Vintner's Reserve Zinfandel (Mendocino)",
          "1998 Great Estates Merlot (Alexander Valley)",
          "2003 Stature Red (Napa Valley)",
          "1997 Grand Reserve Cabernet Sauvignon (California)",
          "2012 Vintners Reserve Summation Red (California)",
          "2015 Vintner's Reserve Cabernet Sauvignon (Sonoma County)",
          "2007 Highlands Estates Trace Ridge Red (Knights Valley)",
          "2001 Stature Red (Napa Valley)",
          "2003 Highlands Estate Napa Mountain Cabernet Sauvignon (Mount Veeder)",
          "2007 Grand Reserve Cabernet Sauvignon (Sonoma County)",
          "2006 Grand Reserve Cabernet Sauvignon (Sonoma County)",
          "2003 Vintner's Reserve Cabernet Sauvignon (Sonoma-Napa-Mendocino)",
          "2001 Collage Cabernet Sauvignon-Merlot (California)",
          "2002 Taylor Peak Estate Merlot (Sonoma County)",
          "2000 Stature Merlot (Sonoma County)",
          "2015 Vintner's Reserve Zinfandel (California)",
          "2007 Vintner's Reserve Zinfandel (Mendocino County)",
          "2005 Vintner's Reserve Cabernet Sauvignon (California)",
          "2007 Jackson Hills Cabernet Sauvignon (Knights Valley)",
          "2002 Sable Mountain Estate Merlot (Mendocino)",
          "2016 Jackson Estate Outland Ridge Pinot Noir (Anderson Valley)",
          "2010 Grand Reserve Merlot (Sonoma County)",
          "2004 Taylor Peak Estate Merlot (Bennett Valley)",
          "2009 Vintner's Reserve Zinfandel (Mendocino County)",
          "2012 Jackson Estate Cabernet Sauvignon (Alexander Valley)",
          "2009 Vintner's Reserve Syrah (Santa Barbara County)",
          "2004 Vintner's Reserve Syrah (California)",
          "2000 Great Estates Zinfandel (Mendocino)",
          "2014 Vintner's Reserve Merlot (Sonoma County)",
          "2018 Vintner's Reserve Red (California)",
          "2008 Vintner's Reserve Merlot (Sonoma County)",
          "2012 Vintner's Reserve Pinot Noir (California)",
          "2002 Grand Reserve Sonoma-Mendocino-Napa Counties Merlot (California)",
          "2014 Stature Cabernet Sauvignon (Sonoma County)",
          "2000 Vintner's Reserve Pinot Noir (California)",
          "2001 Cabernet Sauvignon (California)",
          "2006 Vintner's Reserve Merlot (Sonoma-Napa-Mendocino)",
          "2012 Vintner's Reserve Cabernet Sauvignon (Sonoma County)",
          "1999 Grand Reserve Syrah (California)",
          "2006 Grand Reserve Pinot Noir (Monterey County)",
          "2004 Trace Ridge Estate Cabernet Sauvignon (Knights Valley)",
          "2006 Highland Estates Taylor Peak Merlot (Bennett Valley)",
          "1997 Vintner's Reserve Cabernet Sauvignon (Calaveras County)",
          "2013 Jackson Estate Pinot Noir (Anderson Valley)",
          "2005 Highlands Estate Napa Mountain Cabernet Sauvignon (Mount Veeder)",
          "2004 Grand Reserve Cabernet Sauvignon (Sonoma-Napa)",
          "1998 Vintner's Reserve Pinot Noir (California)",
          "2002 Vintner's Reserve Cabernet Sauvignon (Napa-Mendocino-Sonoma)",
          "2014 Vintner's Reserve Zinfandel (California)",
          "2019 Estates Collection Pinot Noir (Anderson Valley)",
          "2011 Vintner's Reserve Zinfandel (Mendocino County)",
          "2006 Vintner's Reserve Pinot Noir (California)",
          "2003 Vintner's Reserve Zinfandel (California)",
          "2016 Vintner's Reserve Zinfandel (California)",
          "2007 Highlands Estates Alisos Hills Syrah (Santa Barbara County)",
          "2017 Grand Reserve Cabernet Sauvignon (Sonoma County)",
          "2005 Vintner's Reserve Syrah (California)",
          "1999 Great Estates Cabernet Sauvignon (Alexander Valley)",
          "1999 Vintner's Reserve Syrah (California)",
          "2014 Grand Reserve Pinot Noir (Central Coast)",
          "2015 Vintner's Reserve Merlot (Sonoma County)",
          "2006 Highland Estates Hawkeye Mountain Cabernet Sauvignon (Alexander Valley)",
          "2011 Vintner's Reserve Syrah (California)",
          "1998 Great Estates Merlot (Sonoma County)",
          "2007 Highlands Estates Raptor Peak Cabernet Sauvignon (Alexander Valley)",
          "2017 Zinfandel (California)",
          "2017 Jackson Estate Hawkeye Mountain Cabernet Sauvignon (Alexander Valley)",
          "1996 Vintner's Reserve Cabernet Sauvignon (California)",
          "2007 Highland Estates Boont Ridge Pinot Noir (Anderson Valley)",
          "1997 Vintner's Reserve Merlot (California)",
          "2002 Taylor Peak Estate Merlot (Bennett Valley)",
          "2004 Seco Highlands Estate Pinot Noir (Arroyo Seco)",
          "2012 Avant Red (California)",
          "2017 Vintner's Reserve Red (California)",
          "2010 Vintner's Reserve Zinfandel (Mendocino County)",
          "2009 Grand Reserve Cabernet Sauvignon (Sonoma County)",
          "2007 Highlands Estates Seco Highlands Pinot Noir (Arroyo Seco)",
          "2003 Grand Reserve Merlot (Sonoma-Napa)",
          "2006 Highland Estates Seco Highlands Pinot Noir (Arroyo Seco)",
          "2001 Vintner's Reserve Merlot (California)",
          "2004 Alisos Hills Estate Syrah (Santa Barbara County)",
          "2009 Vintner's Reserve Cabernet Sauvignon (Sonoma County)",
          "1999 Great Estates Merlot (Sonoma County)",
          "2014 Vintner's Reserve Pinot Noir (California)",
          "2006 Highland Estates Trace Ridge Red (Knights Valley)",
          "2005 Vintner's Reserve Merlot (California)",
          "2002 Stature Meritage (Napa Valley)",
          "1999 Collage - Zinfandel/Shiraz Red (California)",
          "2006 Vintner's Reserve Zinfandel (California)",
          "2001 Grand Reserve Merlot (California)",
          "2004 Vintner's Reserve Meritage Red (California)",
          "2017 Vintner's Reserve Merlot (Sonoma County)",
          "2012 Outland Ridge Pinot Noir (Anderson Valley)",
          "2007 Highlands Estates Trace Ridge Cabernet Sauvignon (Knights Valley)",
          "2002 Collage Zinfandel-Shiraz Red (California)",
          "2003 Vintner's Reserve Merlot (Sonoma-Napa-Mendocino)",
          "1999 Vintner's Reserve Pinot Noir (California)",
          "2013 Vintner's Reserve Pinot Noir (California)",
          "2013 Vintner's Reserve Merlot (Sonoma County)",
          "2002 Stature Red Wine Red (Napa Valley)",
          "2008 Highlands Estates Los Robles Pinot Noir (Santa Barbara County)",
          "2015 Vintner's Reserve Summation Red (California)",
          "2001 Vintner's Reserve Cabernet Sauvignon (California)",
          "2004 Grand Reserve Meritage Red (Sonoma County)",
          "1996 Buckeye Vineyard Merlot (Sonoma County)",
          "2016 Vintner's Reserve Red (California)",
          "1998 Great Estates Cabernet Sauvignon (Alexander Valley)",
          "1996 Grand Reserve Cabernet Sauvignon (California)",
          "2005 Vintner's Reserve Zinfandel (California)",
          "2017 Estate Outland Ridge Pinot Noir (Anderson Valley)",
          "2016 Jackson Estate Hawkeye Mountain Cabernet Sauvignon (Alexander Valley)",
          "2016 Vintner's Reserve Pinot Noir (California)",
          "2006 Vintner's Reserve Cabernet Sauvignon (Sonoma-Napa-Mendocino)",
          "2002 Vintner's Reserve Syrah (California)",
          "2016 Grand Reserve Pinot Noir (Monterey County-Santa Barbara County)",
          "2001 Seco Bench Estate Pinot Noir (Monterey)",
          "2003 Trace Ridge Cabernet Sauvignon (Knights Valley)",
          "2017 Vintner's Reserve Pinot Noir (California)",
          "2018 Vintner's Reserve Zinfandel (North Coast)",
          "2010 Vintner's Reserve Pinot Noir (California)",
          "2007 Grand Reserve Syrah (Santa Barbara County)",
          "2018 Vintner's Reserve Pinot Noir (California)",
          "2009 Vintner's Reserve Merlot (Sonoma County)",
          "1999 Stature Cabernet Sauvignon (Napa Valley)",
          "2008 Vintner's Reserve Pinot Noir (California)",
          "1998 Collage Red (California)",
          "2017 Trace Ridge Estate Cabernet Sauvignon (Knights Valley)",
          "2007 Jackson Estates Grown Vintner's Reserve Syrah (California)",
          "2016 Jackson Estate Pinot Noir (Anderson Valley)",
          "2001 Vintner's Reserve Pinot Noir (California)",
          "1998 Great Estates Cabernet Sauvignon (Napa Valley)",
          "1999 Great Estates Cabernet Sauvignon (Napa Valley)",
          "2007 Highlands Estates Los Robles Pinot Noir (Santa Barbara County)",
          "2008 Vintner's Reserve Summation Red (California)",
          "2008 Grand Reserve Cabernet Sauvignon (Sonoma County)",
          "1999 Collage Cabernet Sauvignon-Shiraz (California)",
          "2011 Grand Reserve Cabernet Sauvignon (Sonoma County)",
          "2006 Vintner's Reserve Meritage (California)",
          "2007 Vintner's Reserve Cabernet Sauvignon (Sonoma-Napa-Mendocino)",
          "2003 Vintner's Reserve Pinot Noir (California)",
          "2011 Vintner's Reserve Merlot (Sonoma County)",
          "2018 Vintner's Reserve Cabernet Sauvignon (Sonoma County)",
          "2006 Highland Estates Trace Ridge Cabernet Sauvignon (Knights Valley)",
          "2013 Grand Reserve Merlot (Sonoma County)",
          "2013 Trace Ridge Cabernet Sauvignon (Knights Valley)",
          "2017 Estates Collection Cabernet Sauvignon (Alexander Valley)",
          "2007 Vintner's Reserve Summation Red (California)",
          "2002 Seco Highlands Estate Pinot Noir (Monterey County)",
          "2012 Vintner's Reserve Merlot (Sonoma County)",
          "2010 Vintner's Reserve Summation Red (Sonoma County)",
          "2005 Highlands Estates Trace Ridge Cabernet Sauvignon (Knights Valley)",
          "2019 Jackson Estate Outland Ridge Pinot Noir (Anderson Valley)",
          "2013 Vintner's Reserve Syrah (Santa Barbara)",
          "2002 Piner Hills Estate Merlot (Sonoma County)",
          "2005 Grand Reserve Cabernet Sauvignon (Sonoma County)",
          "2007 Highands Estates Taylor Peak Merlot (Bennett Valley)",
          "2016 Vintner's Reserve Cabernet Sauvignon (Sonoma County)",
          "2019 Jackson Estate Alisos Hills Syrah (Santa Barbara County)",
          "2006 Vintner's Reserve Syrah (California)",
          "2000 Collage Cabernet Sauvignon-Shiraz (California)",
          "2000 Collage Cabernet Sauvignon-Merlot (California)",
          "2003 Vintner's Reserve Meritage Red (California)",
          "2002 Grand Reserve Sonoma-Napa-Mendocino Counties Cabernet Sauvignon (California)",
          "2005 Highlands Estate Alisos Hills Syrah (Santa Barbara County)",
          "2005 Highland Estates Taylor Peak Merlot (Bennett Valley)",
          "2016 Grand Reserve Cabernet Sauvignon (Sonoma County)",
          "2004 Vintner's Reserve Cabernet Sauvignon (California)",
          "2019 Grand Reserve Pinot Noir (Anderson Valley)",
          "2006 Grand Reserve Merlot (Sonoma County)",
          "1997 Vintner's Reserve Zinfandel (California)",
          "2006 Highland Estates Napa Mountain Cabernet Sauvignon (Mount Veeder)",
          "2012 Grand Reserve Cabernet Sauvignon (Sonoma County)",
          "2008 Jackson Estates Grown Vintner's Reserve Zinfandel (Mendocino County)",
          "2006 Grand Reserve Zinfandel (Mendocino-Solano)",
          "2004 Vintner's Reserve Zinfandel (California)",
          "2009 Grand Reserve Merlot (Sonoma County)",
          "2014 Grand Reserve Cabernet Sauvignon (Sonoma County)",
          "2000 Vintner's Reserve Merlot (California)",
          "2007 Highland Estates Napa Mountain Cabernet Sauvignon (Mount Veeder)",
          "2006 Highland Estates Napa Mountain Merlot (Howell Mountain)",
          "2017 Vintner's Reserve Cabernet Sauvignon (Sonoma County)",
          "2005 Seco Highlands Estate Pinot Noir (Arroyo Seco)",
          "2019 Jackson Estate Seco Highlands Pinot Noir (Arroyo Seco)",
          "1995 Grand Reserve Merlot (California)",
          "2000 Vintner's Reserve Riesling (California)",
          "2004 Grand Reserve Cabernet Sauvignon (Sonoma-Napa)",
          "1998 Great Estates Merlot (Alexander Valley)",
          "1999 Great Estates Pinot Noir (Monterey County)",
          "2011 Vintner's Reserve Pinot Noir (California)",
          "2011 Vintner's Reserve Cabernet Sauvignon (Sonoma County)",
          "2014 Vintner's Reserve Syrah (Santa Barbara County)",
          "1999 Great Estates Zinfandel (Dry Creek Valley)",
          "2011 Grand Reserve Merlot (Sonoma County)",
          "2005 Vintner's Reserve Meritage (California)",
          "2004 Vintner's Reserve Merlot (California)",
          "2010 Vintner's Reserve Syrah (California)",
          "2003 Highlands Estate Alisos Hills Syrah (Santa Barbara County)",
          "1997 Vintner's Reserve Syrah (California)",
          "2017 Grand Reserve Pinot Noir (Anderson Valley)",
          "2013 Vintner's Reserve Cabernet Sauvignon (Sonoma County)",
          "2005 Highlands Estates Hawkeye Mountain Cabernet Sauvignon (Alexander Valley)",
          "2007 Grand Reserve Merlot (Sonoma County)",
          "2013 Vintner's Reserve Summation Red (California)",
          "2004 Vintner's Reserve Cabernet Sauvignon (California)",
          "2001 Vintner's Reserve Zinfandel (California)",
          "2001 Vintner's Reserve Merlot (California)",
          "2002 Alisos Hills Estate Syrah (Santa Barbara County)",
          "2012 Grand Reserve Merlot (Sonoma County)",
          "2009 Summation Red (California)",
          "2002 Vintner's Reserve Pinot Noir (California)",
          "2005 Vintner's Reserve Pinot Noir (California)",
          "2010 Jackson Estate Hawkeye Mountain Cabernet Sauvignon (Alexander Valley)",
          "1997 Vintner's Reserve Merlot (California)",
          "2000 Vintner's Reserve Cabernet Sauvignon (California)",
          "2019 Vintner's Reserve Zinfandel (North Coast)",
          "2007 Vintner's Reserve Alisium Red (California)",
          "2004 Grand Reserve Merlot (Napa-Sonoma)",
          "2008 Highland Estates Trace Ridge Red (Knights Valley)",
          "2015 Vintner's Reserve Pinot Noir (California)",
          "2013 Grand Reserve Pinot Noir (Central Coast)",
          "2013 Grand Reserve Cabernet Sauvignon (Sonoma County)",
          "2004 Stature Red (Napa Valley)",
          "2015 Stature Cabernet Sauvignon (Sonoma County)",
          "2009 Vintner's Reserve Pinot Noir (California)",
          "2013 Vintner's Reserve Zinfandel (Mendocino)",
          "2016 Jackson Estate Cabernet Sauvignon (Alexander Valley)",
          "2007 Vintner's Reserve Merlot (Sonoma County)",
          "2002 Vintner's Reserve Merlot (California)",
          "2008 Vintner's Reserve Cabernet Sauvignon (Sonoma-Napa)",
          "2001 Vintner's Reserve Syrah (California)",
          "2003 Hawkeye Mountain Cabernet Sauvignon (Alexander Valley)",
          "2015 Vintner's Reserve Syrah (Santa Barbara County)",
          "2010 Vintner's Reserve Merlot (Sonoma County)",
          "2004 Napa Mountain Estate Cabernet Sauvignon (Mount Veeder)",
          "2002 Hawkeye Mountain Estate Cabernet Sauvignon (Sonoma County)",
          "2008 Grand Reserve Merlot (Sonoma County)",
          "2010 Grand Reserve Cabernet Sauvignon (Sonoma County)",
          "2006 Stature Red (Napa Valley)",
          "1997 Great Estates Cabernet Sauvignon (Alexander Valley)",
          "2016 Vintner's Reserve Merlot (Sonoma County)",
          "2014 Vintner's Reserve Cabernet Sauvignon (Sonoma County)",
          "2019 Vintner's Reserve Pinot Noir (California)",
          "2014 Grand Reserve Merlot (Sonoma County)",
          "2007 Vintner's Reserve Pinot Noir (California)",
          "2001 Grand Reserve Cabernet Sauvignon (California)",
          "2004 Vintner's Reserve Pinot Noir (California)",
          "2003 Vintner's Reserve Syrah (California)",
          "2003 Highlands Estate Taylor Peak Merlot (Bennett Valley)"
         ],
         "xaxis": "x",
         "y": [
          null,
          null,
          null,
          null,
          null,
          null,
          null,
          null,
          null,
          null,
          null,
          null,
          null,
          null,
          null,
          null,
          null,
          null,
          null,
          null,
          null,
          null,
          null,
          null,
          null,
          null,
          null,
          null,
          null,
          null,
          null,
          null,
          null,
          null,
          null,
          null,
          null,
          null,
          null,
          null,
          null,
          null,
          null,
          null,
          null,
          null,
          null,
          null,
          null,
          null,
          null,
          null,
          null,
          null,
          null,
          null,
          null,
          null,
          null,
          null,
          null,
          null,
          null,
          null,
          null,
          null,
          null,
          86,
          null,
          null,
          null,
          null,
          null,
          null,
          null,
          null,
          null,
          null,
          null,
          null,
          null,
          null,
          null,
          null,
          null,
          null,
          null,
          null,
          null,
          null,
          null,
          null,
          null,
          null,
          null,
          null,
          null,
          null,
          null,
          null,
          null,
          null,
          null,
          null,
          null,
          null,
          null,
          null,
          null,
          null,
          null,
          null,
          null,
          null,
          null,
          null,
          null,
          15,
          null,
          null,
          null,
          null,
          null,
          null,
          null,
          null,
          null,
          null,
          null,
          null,
          null,
          null,
          null,
          null,
          null,
          null,
          15,
          null,
          null,
          null,
          null,
          null,
          null,
          13,
          null,
          null,
          null,
          null,
          null,
          null,
          null,
          null,
          null,
          null,
          null,
          null,
          null,
          null,
          15,
          15,
          null,
          null,
          null,
          null,
          null,
          null,
          null,
          null,
          null,
          null,
          null,
          null,
          null,
          null,
          null,
          15,
          null,
          null,
          null,
          null,
          null,
          15,
          null,
          null,
          null,
          null,
          null,
          null,
          null,
          null,
          null,
          null,
          11,
          null,
          null,
          null,
          null,
          null,
          null,
          null,
          null,
          null,
          null,
          null,
          null,
          null,
          null,
          null,
          15,
          null,
          null,
          null,
          null,
          null,
          null,
          null,
          null,
          null,
          null,
          null,
          null,
          null,
          null,
          null,
          null,
          null,
          null,
          null,
          null,
          null,
          null,
          null,
          null,
          null,
          null,
          null,
          null,
          null,
          null,
          null,
          null,
          null,
          null,
          null,
          null,
          null,
          null,
          null,
          null,
          null,
          null,
          null,
          null,
          null,
          null,
          null
         ],
         "yaxis": "y"
        },
        {
         "alignmentgroup": "True",
         "hovertemplate": "category=White<br>wine=%{x}<br>alcohol=%{y}<extra></extra>",
         "legendgroup": "White",
         "marker": {
          "color": "#EF553B"
         },
         "name": "White",
         "offsetgroup": "White",
         "orientation": "v",
         "showlegend": true,
         "textposition": "auto",
         "type": "bar",
         "x": [
          "2003 Vintner's Reserve Chardonnay (California)",
          "2004 Highland Estates Camelot Highlands Chardonnay (Santa Maria Valley)",
          "2001 Camelot Bench Chardonnay (Santa Maria Valley)",
          "2001 Vintner's Reserve Chardonnay (California)",
          "2013 Avant Sauvignon Blanc (California)",
          "2005 Vintner's Reserve Sauvignon Blanc (California)",
          "2008 Grand Reserve Pinot Gris (Monterey County)",
          "2016 Jackson Estate Camelot Highlands Chardonnay (Santa Maria Valley)",
          "2019 Stature Chardonnay (Santa Barbara County)",
          "2004 Vintner's Reserve Chardonnay (California)",
          "2009 Jackson Hills Chardonnay (Santa Barbara County)",
          "2009 Avant Chardonnay (California)",
          "2016 Vintner's Reserve Chardonnay (California)",
          "2012 Avant Chardonnay (California)",
          "2012 Vintner's Reserve Chardonnay (California)",
          "2019 Vintner's Reserve Chardonnay (California)",
          "2010 Vintner's Reserve Chardonnay (California)",
          "2011 Grand Reserve Chardonnay (Santa Barbara-Monterey)",
          "1998 Grand Reserve Chardonnay (California)",
          "1999 Great Estates Chardonnay (Sonoma Coast)",
          "2014 Jackson Estate Chardonnay (Santa Maria Valley)",
          "2002 Grand Reserve Chardonnay (California)",
          "2019 Winemaker's Block Chardonnay (Monterey County)",
          "2015 Jackson Estate Chardonnay (Santa Maria Valley)",
          "2019 Grand Reserve Chardonnay (Santa Barbara County)",
          "1999 Great Estates Chardonnay (Sonoma Valley)",
          "2000 Vintner's Reserve Sauvignon Blanc (California)",
          "2012 Grand Reserve Chardonnay (Monterey-Santa Barbara)",
          "2011 Vintner's Reserve Sauvignon Blanc (California)",
          "2019 Jackson Estate Nielson Vineyard Pinot Blanc (Santa Maria Valley)",
          "2001 Vintner's Reserve Sauvignon Blanc (California)",
          "2018 Vintner's Reserve Chardonnay (California)",
          "2016 Jackson Estate Chardonnay (Santa Maria Valley)",
          "2009 Grand Reserve Pinot Gris (Monterey County)",
          "2000 Great Estates Chardonnay (Santa Barbara County)",
          "1999 Camelot Vineyard Chardonnay (Santa Maria Valley)",
          "2019 Vintner's Reserve Sauvignon Blanc (California)",
          "2005 Vintner's Reserve Riesling (California)",
          "2009 Grand Reserve Sauvignon Blanc (Mendocino County)",
          "2018 Grand Reserve Chardonnay (Santa Barbara County)",
          "2020 Vintner's Reserve Pinot Gris (California)",
          "1998 Vintner's Reserve Sauvignon Blanc (California)",
          "2019 Cloud Landing Chardonnay (Petaluma Gap)",
          "2009 Highland Estates Camelot Highlands Chardonnay (Santa Maria Valley)",
          "2004 Grand Reserve Chardonnay (Monterey-Santa Barbara)",
          "1998 Camelot Vineyard Chardonnay (Santa Maria Valley)",
          "2006 Highland Estates Seco Highlands Chardonnay (Arroyo Seco)",
          "2002 Vintner's Reserve Chardonnay (California)",
          "2005 Grand Reserve Chardonnay (Santa Barbara-Monterey)",
          "1997 Paradise Vineyard Chardonnay (Arroyo Seco)",
          "2010 Vintner's Reserve Summation White (California)",
          "2015 Jackson Estate Camelot Highlands Chardonnay (Santa Maria Valley)",
          "2013 Avant Chardonnay (California)",
          "2010 Vintner's Reserve Riesling (California)",
          "2007 Grand Reserve Sauvignon Blanc (North Coast)",
          "2005 Grand Reserve Chardonnay (Santa Barbara-Monterey)",
          "2003 Grand Reserve Chardonnay (California)",
          "2014 Grand Reserve Chardonnay (Central Coast)",
          "2014 Vintner's Reserve Pinot Gris (California)",
          "2009 Vintner's Reserve Sauvignon Blanc (California)",
          "2018 Winemaker's Block Chardonnay (Monterey County)",
          "2017 Jackson Estate Chardonnay (Santa Maria Valley)",
          "2020 Vintner's Reserve Sauvignon Blanc (California)",
          "2005 Camelot Highlands Estate Chardonnay (Santa Maria Valley)",
          "1998 Vintner's Reserve Chardonnay (California)",
          "2017 Vintner's Reserve Pinot Gris (California)",
          "2018 Vintner's Reserve Pinot Gris (California)",
          "2002 Camelot Highlands Estate Chardonnay (Santa Barbara County)",
          "2004 Vintner's Reserve Sauvignon Blanc (California)",
          "2018 Camelot Highlands Estate Collection Chardonnay (Santa Maria Valley)",
          "2009 Vintner's Reserve Riesling (Monterey County)",
          "2008 Grand Reserve Chardonnay (Monterey-Santa Barbara)",
          "2013 Jackson Estate Chardonnay (Santa Maria Valley)",
          "2015 Avant Chardonnay (California)",
          "2007 Vintner's Reserve Chardonnay (California)",
          "2010 Grand Reserve Chardonnay (Santa Barbara-Monterey)",
          "2005 Vintner's Reserve Chardonnay (California)",
          "2008 Vintner's Reserve Riesling (Monterey County)",
          "2008 Jackson Hills Chardonnay (Santa Barbara County)",
          "2009 Grand Reserve Chardonnay (Santa Barbara-Monterey)",
          "2002 Vintner's Reserve Sauvignon Blanc (California)",
          "2006 Highland Estates Camelot Highlands Chardonnay (Santa Maria Valley)",
          "2017 Grand Reserve Chardonnay (Santa Barbara County)",
          "2008 Highlands Estates Seco Highlands Chardonnay (Arroyo Seco)",
          "2014 Vintner's Reserve Sauvignon Blanc (California)",
          "2005 Seco Highlands Estate Chardonnay (Arroyo Seco)",
          "2015 Vintner's Reserve Pinot Gris (California)",
          "2019 Sable Mountain Vineyard Chardonnay (Anderson Valley)",
          "2006 Vintner's Reserve Riesling (California)",
          "2008 Vintner's Reserve Sauvignon Blanc (California)",
          "2006 Vintner's Reserve Chardonnay (California)",
          "2001 Stature Chardonnay (Santa Maria Valley)",
          "2017 Vintner's Reserve Chardonnay (California)",
          "2019 Camelot Highlands Estate Collection Chardonnay (Santa Maria Valley)",
          "1999 Grand Reserve Chardonnay (California)",
          "1999 Great Estates Chardonnay (Arroyo Seco)",
          "2003 Vintner's Reserve Sauvignon Blanc (California)",
          "2004 Vintner's Reserve Riesling (California)",
          "2012 Jackson Estate Camelot Highlands Chardonnay (Santa Maria Valley)",
          "2007 Highlands Estates Piner Hills Chardonnay (Russian River Valley)",
          "2014 Vintner's Reserve Chardonnay (California)",
          "2018 Estates Collection Chardonnay (Santa Maria Valley)",
          "2017 Jackson Estate Camelot Highlands Chardonnay (Santa Maria Valley)",
          "2008 Highlands Estates Camelot Highlands Chardonnay (Santa Maria Valley)",
          "2018 Avant Unoaked Chardonnay (California)",
          "1999 Sauvignon Blanc (California)",
          "2011 Vintner's Reserve Chardonnay (California)",
          "2013 Grand Reserve Chardonnay (Central Coast)",
          "2000 Great Estates Chardonnay (Monterey County)",
          "2007 Highlands Estates Seco Highlands Chardonnay (Arroyo Seco)",
          "2020 Jackson Estate Kelsey Hills Vineyard Sauvignon Blanc (Red Hills)",
          "2013 Vintner's Reserve Riesling (Monterey County)",
          "2008 Summation Vintner's Reserve White (California)",
          "2011 Vintner's Reserve Riesling (Monterey County)",
          "2015 Vintner's Reserve Chardonnay (California)",
          "2019 avant unoaked Chardonnay (California)",
          "2018 Stature Chardonnay (Santa Barbara County)",
          "1999 Vintner's Reserve Chardonnay (California)",
          "1998 Stature Chardonnay (Santa Maria Valley)",
          "2004 Seco Highlands Estate Chardonnay (Arroyo Seco)",
          "2008 Grand Reserve Sauvignon Blanc (Mendocino County)",
          "2008 Vintner's Reserve Chardonnay (California)",
          "2010 Avant Chardonnay (California)",
          "2009 Summation White (California)",
          "2001 Grand Reserve Chardonnay (California)",
          "2019 Pinot Gris (California)",
          "2000 Great Estates Chardonnay (Arroyo Seco)",
          "2007 Highlands Estates Camelot Highlands Chardonnay (Santa Maria Valley)",
          "2015 Grand Reserve Chardonnay (Monterey-Santa Barbara)",
          "2006 Vintner's Reserve Sauvignon Blanc (California)",
          "2012 Vintner's Reserve Sauvignon Blanc (California)",
          "2013 Vintner's Reserve Chardonnay (California)",
          "2013 Vintner's Reserve Riesling (Monterey County)",
          "2019 Jackson Estate Seco Highlands Chardonnay (Arroyo Seco)",
          "1997 Vintner's Reserve Sauvignon Blanc (California)",
          "2010 Vintner's Reserve Sauvignon Blanc (California)",
          "2016 Grand Reserve Chardonnay (Santa Barbara-Monterey)",
          "2009 Vintner's Reserve Chardonnay (California)",
          "2015 Vintner's Reserve Sauvignon Blanc (California)",
          "2013 Vintner's Reserve Sauvignon Blanc (California)",
          "2007 Vintner's Reserve Sauvignon Blanc (California)",
          "2011 Avant Chardonnay (California)",
          "2001 20th Harvest Release Chardonnay (California)",
          "2007 Grand Reserve Chardonnay (Santa Barbara-Monterey)",
          "1997 Vintner's Reserve Viognier (California)",
          "1997 Grand Reserve Chardonnay (California)",
          "2002 Camelot Highlands Estate Chardonnay (Santa Barbara County)"
         ],
         "xaxis": "x",
         "y": [
          null,
          null,
          null,
          null,
          null,
          null,
          null,
          null,
          null,
          null,
          null,
          null,
          null,
          null,
          null,
          null,
          null,
          null,
          null,
          null,
          null,
          null,
          null,
          null,
          null,
          null,
          null,
          null,
          null,
          null,
          null,
          null,
          null,
          null,
          null,
          null,
          null,
          null,
          null,
          null,
          null,
          null,
          null,
          null,
          null,
          null,
          null,
          null,
          null,
          null,
          null,
          null,
          null,
          13,
          null,
          null,
          null,
          null,
          null,
          null,
          null,
          null,
          null,
          null,
          null,
          null,
          null,
          null,
          null,
          null,
          13,
          null,
          null,
          null,
          null,
          null,
          null,
          13,
          null,
          null,
          null,
          null,
          null,
          null,
          null,
          null,
          null,
          15,
          null,
          null,
          null,
          null,
          null,
          null,
          null,
          null,
          null,
          null,
          null,
          null,
          null,
          null,
          null,
          null,
          null,
          null,
          null,
          null,
          null,
          null,
          null,
          13,
          null,
          null,
          null,
          null,
          15,
          null,
          null,
          null,
          null,
          null,
          null,
          null,
          null,
          null,
          14,
          null,
          null,
          null,
          null,
          null,
          null,
          null,
          null,
          null,
          null,
          null,
          null,
          null,
          null,
          null,
          null,
          null,
          null,
          null,
          null
         ],
         "yaxis": "y"
        },
        {
         "alignmentgroup": "True",
         "hovertemplate": "category=Dessert<br>wine=%{x}<br>alcohol=%{y}<extra></extra>",
         "legendgroup": "Dessert",
         "marker": {
          "color": "#00cc96"
         },
         "name": "Dessert",
         "offsetgroup": "Dessert",
         "orientation": "v",
         "showlegend": true,
         "textposition": "auto",
         "type": "bar",
         "x": [
          "2009 Late Harvest Riesling (Monterey County)",
          "2000 Late Harvest Riesling (California)"
         ],
         "xaxis": "x",
         "y": [
          10,
          10
         ],
         "yaxis": "y"
        },
        {
         "alignmentgroup": "True",
         "hovertemplate": "category=Rose<br>wine=%{x}<br>alcohol=%{y}<extra></extra>",
         "legendgroup": "Rose",
         "marker": {
          "color": "#ab63fa"
         },
         "name": "Rose",
         "offsetgroup": "Rose",
         "orientation": "v",
         "showlegend": true,
         "textposition": "auto",
         "type": "bar",
         "x": [
          "2020 Panorama Vineyard Jackson Estate Rosé of Pinot Noir (Arroyo Seco)",
          "2019 Vintner's Reserve Rosé (California)",
          "2017 Vintner's Reserve Rosé (California)",
          "2018 Vintner's Reserve Rosé (California)",
          "2016 Vintner's Reserve Rosé (California)",
          "2007 Rosé of Malbec (Napa County)",
          "2006 Grand Reserve Rosé (Sonoma-Napa)",
          "2020 Vintner's Reserve Rosé (California)"
         ],
         "xaxis": "x",
         "y": [
          null,
          null,
          null,
          null,
          13,
          null,
          null,
          null
         ],
         "yaxis": "y"
        }
       ],
       "layout": {
        "barmode": "relative",
        "legend": {
         "title": {
          "text": "category"
         },
         "tracegroupgap": 0
        },
        "margin": {
         "t": 60
        },
        "template": {
         "data": {
          "bar": [
           {
            "error_x": {
             "color": "#2a3f5f"
            },
            "error_y": {
             "color": "#2a3f5f"
            },
            "marker": {
             "line": {
              "color": "#E5ECF6",
              "width": 0.5
             }
            },
            "type": "bar"
           }
          ],
          "barpolar": [
           {
            "marker": {
             "line": {
              "color": "#E5ECF6",
              "width": 0.5
             }
            },
            "type": "barpolar"
           }
          ],
          "carpet": [
           {
            "aaxis": {
             "endlinecolor": "#2a3f5f",
             "gridcolor": "white",
             "linecolor": "white",
             "minorgridcolor": "white",
             "startlinecolor": "#2a3f5f"
            },
            "baxis": {
             "endlinecolor": "#2a3f5f",
             "gridcolor": "white",
             "linecolor": "white",
             "minorgridcolor": "white",
             "startlinecolor": "#2a3f5f"
            },
            "type": "carpet"
           }
          ],
          "choropleth": [
           {
            "colorbar": {
             "outlinewidth": 0,
             "ticks": ""
            },
            "type": "choropleth"
           }
          ],
          "contour": [
           {
            "colorbar": {
             "outlinewidth": 0,
             "ticks": ""
            },
            "colorscale": [
             [
              0,
              "#0d0887"
             ],
             [
              0.1111111111111111,
              "#46039f"
             ],
             [
              0.2222222222222222,
              "#7201a8"
             ],
             [
              0.3333333333333333,
              "#9c179e"
             ],
             [
              0.4444444444444444,
              "#bd3786"
             ],
             [
              0.5555555555555556,
              "#d8576b"
             ],
             [
              0.6666666666666666,
              "#ed7953"
             ],
             [
              0.7777777777777778,
              "#fb9f3a"
             ],
             [
              0.8888888888888888,
              "#fdca26"
             ],
             [
              1,
              "#f0f921"
             ]
            ],
            "type": "contour"
           }
          ],
          "contourcarpet": [
           {
            "colorbar": {
             "outlinewidth": 0,
             "ticks": ""
            },
            "type": "contourcarpet"
           }
          ],
          "heatmap": [
           {
            "colorbar": {
             "outlinewidth": 0,
             "ticks": ""
            },
            "colorscale": [
             [
              0,
              "#0d0887"
             ],
             [
              0.1111111111111111,
              "#46039f"
             ],
             [
              0.2222222222222222,
              "#7201a8"
             ],
             [
              0.3333333333333333,
              "#9c179e"
             ],
             [
              0.4444444444444444,
              "#bd3786"
             ],
             [
              0.5555555555555556,
              "#d8576b"
             ],
             [
              0.6666666666666666,
              "#ed7953"
             ],
             [
              0.7777777777777778,
              "#fb9f3a"
             ],
             [
              0.8888888888888888,
              "#fdca26"
             ],
             [
              1,
              "#f0f921"
             ]
            ],
            "type": "heatmap"
           }
          ],
          "heatmapgl": [
           {
            "colorbar": {
             "outlinewidth": 0,
             "ticks": ""
            },
            "colorscale": [
             [
              0,
              "#0d0887"
             ],
             [
              0.1111111111111111,
              "#46039f"
             ],
             [
              0.2222222222222222,
              "#7201a8"
             ],
             [
              0.3333333333333333,
              "#9c179e"
             ],
             [
              0.4444444444444444,
              "#bd3786"
             ],
             [
              0.5555555555555556,
              "#d8576b"
             ],
             [
              0.6666666666666666,
              "#ed7953"
             ],
             [
              0.7777777777777778,
              "#fb9f3a"
             ],
             [
              0.8888888888888888,
              "#fdca26"
             ],
             [
              1,
              "#f0f921"
             ]
            ],
            "type": "heatmapgl"
           }
          ],
          "histogram": [
           {
            "marker": {
             "colorbar": {
              "outlinewidth": 0,
              "ticks": ""
             }
            },
            "type": "histogram"
           }
          ],
          "histogram2d": [
           {
            "colorbar": {
             "outlinewidth": 0,
             "ticks": ""
            },
            "colorscale": [
             [
              0,
              "#0d0887"
             ],
             [
              0.1111111111111111,
              "#46039f"
             ],
             [
              0.2222222222222222,
              "#7201a8"
             ],
             [
              0.3333333333333333,
              "#9c179e"
             ],
             [
              0.4444444444444444,
              "#bd3786"
             ],
             [
              0.5555555555555556,
              "#d8576b"
             ],
             [
              0.6666666666666666,
              "#ed7953"
             ],
             [
              0.7777777777777778,
              "#fb9f3a"
             ],
             [
              0.8888888888888888,
              "#fdca26"
             ],
             [
              1,
              "#f0f921"
             ]
            ],
            "type": "histogram2d"
           }
          ],
          "histogram2dcontour": [
           {
            "colorbar": {
             "outlinewidth": 0,
             "ticks": ""
            },
            "colorscale": [
             [
              0,
              "#0d0887"
             ],
             [
              0.1111111111111111,
              "#46039f"
             ],
             [
              0.2222222222222222,
              "#7201a8"
             ],
             [
              0.3333333333333333,
              "#9c179e"
             ],
             [
              0.4444444444444444,
              "#bd3786"
             ],
             [
              0.5555555555555556,
              "#d8576b"
             ],
             [
              0.6666666666666666,
              "#ed7953"
             ],
             [
              0.7777777777777778,
              "#fb9f3a"
             ],
             [
              0.8888888888888888,
              "#fdca26"
             ],
             [
              1,
              "#f0f921"
             ]
            ],
            "type": "histogram2dcontour"
           }
          ],
          "mesh3d": [
           {
            "colorbar": {
             "outlinewidth": 0,
             "ticks": ""
            },
            "type": "mesh3d"
           }
          ],
          "parcoords": [
           {
            "line": {
             "colorbar": {
              "outlinewidth": 0,
              "ticks": ""
             }
            },
            "type": "parcoords"
           }
          ],
          "pie": [
           {
            "automargin": true,
            "type": "pie"
           }
          ],
          "scatter": [
           {
            "marker": {
             "colorbar": {
              "outlinewidth": 0,
              "ticks": ""
             }
            },
            "type": "scatter"
           }
          ],
          "scatter3d": [
           {
            "line": {
             "colorbar": {
              "outlinewidth": 0,
              "ticks": ""
             }
            },
            "marker": {
             "colorbar": {
              "outlinewidth": 0,
              "ticks": ""
             }
            },
            "type": "scatter3d"
           }
          ],
          "scattercarpet": [
           {
            "marker": {
             "colorbar": {
              "outlinewidth": 0,
              "ticks": ""
             }
            },
            "type": "scattercarpet"
           }
          ],
          "scattergeo": [
           {
            "marker": {
             "colorbar": {
              "outlinewidth": 0,
              "ticks": ""
             }
            },
            "type": "scattergeo"
           }
          ],
          "scattergl": [
           {
            "marker": {
             "colorbar": {
              "outlinewidth": 0,
              "ticks": ""
             }
            },
            "type": "scattergl"
           }
          ],
          "scattermapbox": [
           {
            "marker": {
             "colorbar": {
              "outlinewidth": 0,
              "ticks": ""
             }
            },
            "type": "scattermapbox"
           }
          ],
          "scatterpolar": [
           {
            "marker": {
             "colorbar": {
              "outlinewidth": 0,
              "ticks": ""
             }
            },
            "type": "scatterpolar"
           }
          ],
          "scatterpolargl": [
           {
            "marker": {
             "colorbar": {
              "outlinewidth": 0,
              "ticks": ""
             }
            },
            "type": "scatterpolargl"
           }
          ],
          "scatterternary": [
           {
            "marker": {
             "colorbar": {
              "outlinewidth": 0,
              "ticks": ""
             }
            },
            "type": "scatterternary"
           }
          ],
          "surface": [
           {
            "colorbar": {
             "outlinewidth": 0,
             "ticks": ""
            },
            "colorscale": [
             [
              0,
              "#0d0887"
             ],
             [
              0.1111111111111111,
              "#46039f"
             ],
             [
              0.2222222222222222,
              "#7201a8"
             ],
             [
              0.3333333333333333,
              "#9c179e"
             ],
             [
              0.4444444444444444,
              "#bd3786"
             ],
             [
              0.5555555555555556,
              "#d8576b"
             ],
             [
              0.6666666666666666,
              "#ed7953"
             ],
             [
              0.7777777777777778,
              "#fb9f3a"
             ],
             [
              0.8888888888888888,
              "#fdca26"
             ],
             [
              1,
              "#f0f921"
             ]
            ],
            "type": "surface"
           }
          ],
          "table": [
           {
            "cells": {
             "fill": {
              "color": "#EBF0F8"
             },
             "line": {
              "color": "white"
             }
            },
            "header": {
             "fill": {
              "color": "#C8D4E3"
             },
             "line": {
              "color": "white"
             }
            },
            "type": "table"
           }
          ]
         },
         "layout": {
          "annotationdefaults": {
           "arrowcolor": "#2a3f5f",
           "arrowhead": 0,
           "arrowwidth": 1
          },
          "autotypenumbers": "strict",
          "coloraxis": {
           "colorbar": {
            "outlinewidth": 0,
            "ticks": ""
           }
          },
          "colorscale": {
           "diverging": [
            [
             0,
             "#8e0152"
            ],
            [
             0.1,
             "#c51b7d"
            ],
            [
             0.2,
             "#de77ae"
            ],
            [
             0.3,
             "#f1b6da"
            ],
            [
             0.4,
             "#fde0ef"
            ],
            [
             0.5,
             "#f7f7f7"
            ],
            [
             0.6,
             "#e6f5d0"
            ],
            [
             0.7,
             "#b8e186"
            ],
            [
             0.8,
             "#7fbc41"
            ],
            [
             0.9,
             "#4d9221"
            ],
            [
             1,
             "#276419"
            ]
           ],
           "sequential": [
            [
             0,
             "#0d0887"
            ],
            [
             0.1111111111111111,
             "#46039f"
            ],
            [
             0.2222222222222222,
             "#7201a8"
            ],
            [
             0.3333333333333333,
             "#9c179e"
            ],
            [
             0.4444444444444444,
             "#bd3786"
            ],
            [
             0.5555555555555556,
             "#d8576b"
            ],
            [
             0.6666666666666666,
             "#ed7953"
            ],
            [
             0.7777777777777778,
             "#fb9f3a"
            ],
            [
             0.8888888888888888,
             "#fdca26"
            ],
            [
             1,
             "#f0f921"
            ]
           ],
           "sequentialminus": [
            [
             0,
             "#0d0887"
            ],
            [
             0.1111111111111111,
             "#46039f"
            ],
            [
             0.2222222222222222,
             "#7201a8"
            ],
            [
             0.3333333333333333,
             "#9c179e"
            ],
            [
             0.4444444444444444,
             "#bd3786"
            ],
            [
             0.5555555555555556,
             "#d8576b"
            ],
            [
             0.6666666666666666,
             "#ed7953"
            ],
            [
             0.7777777777777778,
             "#fb9f3a"
            ],
            [
             0.8888888888888888,
             "#fdca26"
            ],
            [
             1,
             "#f0f921"
            ]
           ]
          },
          "colorway": [
           "#636efa",
           "#EF553B",
           "#00cc96",
           "#ab63fa",
           "#FFA15A",
           "#19d3f3",
           "#FF6692",
           "#B6E880",
           "#FF97FF",
           "#FECB52"
          ],
          "font": {
           "color": "#2a3f5f"
          },
          "geo": {
           "bgcolor": "white",
           "lakecolor": "white",
           "landcolor": "#E5ECF6",
           "showlakes": true,
           "showland": true,
           "subunitcolor": "white"
          },
          "hoverlabel": {
           "align": "left"
          },
          "hovermode": "closest",
          "mapbox": {
           "style": "light"
          },
          "paper_bgcolor": "white",
          "plot_bgcolor": "#E5ECF6",
          "polar": {
           "angularaxis": {
            "gridcolor": "white",
            "linecolor": "white",
            "ticks": ""
           },
           "bgcolor": "#E5ECF6",
           "radialaxis": {
            "gridcolor": "white",
            "linecolor": "white",
            "ticks": ""
           }
          },
          "scene": {
           "xaxis": {
            "backgroundcolor": "#E5ECF6",
            "gridcolor": "white",
            "gridwidth": 2,
            "linecolor": "white",
            "showbackground": true,
            "ticks": "",
            "zerolinecolor": "white"
           },
           "yaxis": {
            "backgroundcolor": "#E5ECF6",
            "gridcolor": "white",
            "gridwidth": 2,
            "linecolor": "white",
            "showbackground": true,
            "ticks": "",
            "zerolinecolor": "white"
           },
           "zaxis": {
            "backgroundcolor": "#E5ECF6",
            "gridcolor": "white",
            "gridwidth": 2,
            "linecolor": "white",
            "showbackground": true,
            "ticks": "",
            "zerolinecolor": "white"
           }
          },
          "shapedefaults": {
           "line": {
            "color": "#2a3f5f"
           }
          },
          "ternary": {
           "aaxis": {
            "gridcolor": "white",
            "linecolor": "white",
            "ticks": ""
           },
           "baxis": {
            "gridcolor": "white",
            "linecolor": "white",
            "ticks": ""
           },
           "bgcolor": "#E5ECF6",
           "caxis": {
            "gridcolor": "white",
            "linecolor": "white",
            "ticks": ""
           }
          },
          "title": {
           "x": 0.05
          },
          "xaxis": {
           "automargin": true,
           "gridcolor": "white",
           "linecolor": "white",
           "ticks": "",
           "title": {
            "standoff": 15
           },
           "zerolinecolor": "white",
           "zerolinewidth": 2
          },
          "yaxis": {
           "automargin": true,
           "gridcolor": "white",
           "linecolor": "white",
           "ticks": "",
           "title": {
            "standoff": 15
           },
           "zerolinecolor": "white",
           "zerolinewidth": 2
          }
         }
        },
        "xaxis": {
         "anchor": "y",
         "domain": [
          0,
          1
         ],
         "title": {
          "text": "wine"
         }
        },
        "yaxis": {
         "anchor": "x",
         "domain": [
          0,
          1
         ],
         "title": {
          "text": "alcohol"
         }
        }
       }
      }
     },
     "metadata": {},
     "output_type": "display_data"
    }
   ],
   "source": [
    "winery = input()\n",
    "tt = df[df.winery == winery]\n",
    "px.bar(tt, x='wine', y='alcohol', color='category')"
   ]
  },
  {
   "cell_type": "code",
   "execution_count": 26,
   "metadata": {},
   "outputs": [],
   "source": [
    "# converting appellation to country name to make geoplotting easier.\n",
    "def get_country(val):\n",
    "    if val == val and val:\n",
    "        return val.split(',')[-1].strip()\n",
    "    return\n",
    "\n",
    "df['appellation'] = df['appellation'].apply(get_country)\n",
    "df = df.rename(columns={'appellation':'country'})"
   ]
  },
  {
   "cell_type": "code",
   "execution_count": 27,
   "metadata": {},
   "outputs": [],
   "source": [
    "country_wise_count = df['country'].value_counts()"
   ]
  },
  {
   "cell_type": "code",
   "execution_count": 28,
   "metadata": {},
   "outputs": [
    {
     "data": {
      "text/plain": [
       "US              135281\n",
       "France           59733\n",
       "Italy            44842\n",
       "Spain            14946\n",
       "Portugal         13299\n",
       "Australia         9596\n",
       "Chile             9535\n",
       "Argentina         8740\n",
       "Austria           7095\n",
       "Germany           5555\n",
       "New Zealand       4586\n",
       "South Africa      3794\n",
       "Israel            1196\n",
       "Greece            1157\n",
       "Buy Now            609\n",
       "Hungary            333\n",
       "Romania            331\n",
       "DrizlyVivino         2\n",
       "Name: country, dtype: int64"
      ]
     },
     "execution_count": 28,
     "metadata": {},
     "output_type": "execute_result"
    }
   ],
   "source": [
    "country_wise_count"
   ]
  },
  {
   "cell_type": "code",
   "execution_count": 29,
   "metadata": {},
   "outputs": [],
   "source": [
    "country_code_mapper = {\n",
    "    'US':'USA',\n",
    "    'France':'FRA',\n",
    "    'Italy':'ITA',\n",
    "    'Spain':'ESP',\n",
    "    'Portugal':'PRT',\n",
    "    'Australia':'AUS',\n",
    "    'Chile':'CHL',\n",
    "    'Argentina':'ARG',\n",
    "    'Austria':'ART',\n",
    "    'Germany':'DEU',\n",
    "    'New Zealand':'NZL',\n",
    "    'South Africa':'ZAF',\n",
    "    'Israel':'ISR',\n",
    "    'Greece':'GRC',\n",
    "    'Buy Now': None,\n",
    "    'Hungary':'HUN',\n",
    "    'Romania':'ROU',\n",
    "    'DrizlyVivino':None\n",
    "}\n",
    "\n",
    "def get_c_code(val):\n",
    "    if val:\n",
    "        return country_code_mapper[val]\n",
    "    return\n",
    "\n",
    "df['country_code'] = df.country.apply(get_c_code)"
   ]
  },
  {
   "cell_type": "code",
   "execution_count": 30,
   "metadata": {},
   "outputs": [
    {
     "data": {
      "text/plain": [
       "USA    135281\n",
       "FRA     59733\n",
       "ITA     44842\n",
       "ESP     14946\n",
       "PRT     13299\n",
       "AUS      9596\n",
       "CHL      9535\n",
       "ARG      8740\n",
       "ART      7095\n",
       "DEU      5555\n",
       "NZL      4586\n",
       "ZAF      3794\n",
       "ISR      1196\n",
       "GRC      1157\n",
       "NaN       609\n",
       "HUN       333\n",
       "ROU       331\n",
       "NaN         2\n",
       "Name: country, dtype: int64"
      ]
     },
     "execution_count": 30,
     "metadata": {},
     "output_type": "execute_result"
    }
   ],
   "source": [
    "country_wise_count.index = country_code_mapper.values()\n",
    "country_wise_count"
   ]
  },
  {
   "cell_type": "code",
   "execution_count": 31,
   "metadata": {},
   "outputs": [
    {
     "data": {
      "application/vnd.plotly.v1+json": {
       "config": {
        "linkText": "Export to plot.ly",
        "plotlyServerURL": "https://plot.ly",
        "showLink": false
       },
       "data": [
        {
         "colorbar": {
          "title": {
           "text": "Number of records found"
          }
         },
         "locations": [
          "USA",
          "FRA",
          "ITA",
          "ESP",
          "PRT",
          "AUS",
          "CHL",
          "ARG",
          "ART",
          "DEU",
          "NZL",
          "ZAF",
          "ISR",
          "GRC",
          null,
          "HUN",
          "ROU",
          null
         ],
         "text": [
          "US",
          "France",
          "Italy",
          "Spain",
          "Portugal",
          "Australia",
          "Chile",
          "Argentina",
          "Austria",
          "Germany",
          "New Zealand",
          "South Africa",
          "Israel",
          "Greece",
          "Buy Now",
          "Hungary",
          "Romania",
          "DrizlyVivino"
         ],
         "type": "choropleth",
         "z": [
          135281,
          59733,
          44842,
          14946,
          13299,
          9596,
          9535,
          8740,
          7095,
          5555,
          4586,
          3794,
          1196,
          1157,
          609,
          333,
          331,
          2
         ]
        }
       ],
       "layout": {
        "geo": {
         "projection": {
          "type": "natural earth"
         },
         "showframe": true
        },
        "template": {
         "data": {
          "bar": [
           {
            "error_x": {
             "color": "#2a3f5f"
            },
            "error_y": {
             "color": "#2a3f5f"
            },
            "marker": {
             "line": {
              "color": "#E5ECF6",
              "width": 0.5
             }
            },
            "type": "bar"
           }
          ],
          "barpolar": [
           {
            "marker": {
             "line": {
              "color": "#E5ECF6",
              "width": 0.5
             }
            },
            "type": "barpolar"
           }
          ],
          "carpet": [
           {
            "aaxis": {
             "endlinecolor": "#2a3f5f",
             "gridcolor": "white",
             "linecolor": "white",
             "minorgridcolor": "white",
             "startlinecolor": "#2a3f5f"
            },
            "baxis": {
             "endlinecolor": "#2a3f5f",
             "gridcolor": "white",
             "linecolor": "white",
             "minorgridcolor": "white",
             "startlinecolor": "#2a3f5f"
            },
            "type": "carpet"
           }
          ],
          "choropleth": [
           {
            "colorbar": {
             "outlinewidth": 0,
             "ticks": ""
            },
            "type": "choropleth"
           }
          ],
          "contour": [
           {
            "colorbar": {
             "outlinewidth": 0,
             "ticks": ""
            },
            "colorscale": [
             [
              0,
              "#0d0887"
             ],
             [
              0.1111111111111111,
              "#46039f"
             ],
             [
              0.2222222222222222,
              "#7201a8"
             ],
             [
              0.3333333333333333,
              "#9c179e"
             ],
             [
              0.4444444444444444,
              "#bd3786"
             ],
             [
              0.5555555555555556,
              "#d8576b"
             ],
             [
              0.6666666666666666,
              "#ed7953"
             ],
             [
              0.7777777777777778,
              "#fb9f3a"
             ],
             [
              0.8888888888888888,
              "#fdca26"
             ],
             [
              1,
              "#f0f921"
             ]
            ],
            "type": "contour"
           }
          ],
          "contourcarpet": [
           {
            "colorbar": {
             "outlinewidth": 0,
             "ticks": ""
            },
            "type": "contourcarpet"
           }
          ],
          "heatmap": [
           {
            "colorbar": {
             "outlinewidth": 0,
             "ticks": ""
            },
            "colorscale": [
             [
              0,
              "#0d0887"
             ],
             [
              0.1111111111111111,
              "#46039f"
             ],
             [
              0.2222222222222222,
              "#7201a8"
             ],
             [
              0.3333333333333333,
              "#9c179e"
             ],
             [
              0.4444444444444444,
              "#bd3786"
             ],
             [
              0.5555555555555556,
              "#d8576b"
             ],
             [
              0.6666666666666666,
              "#ed7953"
             ],
             [
              0.7777777777777778,
              "#fb9f3a"
             ],
             [
              0.8888888888888888,
              "#fdca26"
             ],
             [
              1,
              "#f0f921"
             ]
            ],
            "type": "heatmap"
           }
          ],
          "heatmapgl": [
           {
            "colorbar": {
             "outlinewidth": 0,
             "ticks": ""
            },
            "colorscale": [
             [
              0,
              "#0d0887"
             ],
             [
              0.1111111111111111,
              "#46039f"
             ],
             [
              0.2222222222222222,
              "#7201a8"
             ],
             [
              0.3333333333333333,
              "#9c179e"
             ],
             [
              0.4444444444444444,
              "#bd3786"
             ],
             [
              0.5555555555555556,
              "#d8576b"
             ],
             [
              0.6666666666666666,
              "#ed7953"
             ],
             [
              0.7777777777777778,
              "#fb9f3a"
             ],
             [
              0.8888888888888888,
              "#fdca26"
             ],
             [
              1,
              "#f0f921"
             ]
            ],
            "type": "heatmapgl"
           }
          ],
          "histogram": [
           {
            "marker": {
             "colorbar": {
              "outlinewidth": 0,
              "ticks": ""
             }
            },
            "type": "histogram"
           }
          ],
          "histogram2d": [
           {
            "colorbar": {
             "outlinewidth": 0,
             "ticks": ""
            },
            "colorscale": [
             [
              0,
              "#0d0887"
             ],
             [
              0.1111111111111111,
              "#46039f"
             ],
             [
              0.2222222222222222,
              "#7201a8"
             ],
             [
              0.3333333333333333,
              "#9c179e"
             ],
             [
              0.4444444444444444,
              "#bd3786"
             ],
             [
              0.5555555555555556,
              "#d8576b"
             ],
             [
              0.6666666666666666,
              "#ed7953"
             ],
             [
              0.7777777777777778,
              "#fb9f3a"
             ],
             [
              0.8888888888888888,
              "#fdca26"
             ],
             [
              1,
              "#f0f921"
             ]
            ],
            "type": "histogram2d"
           }
          ],
          "histogram2dcontour": [
           {
            "colorbar": {
             "outlinewidth": 0,
             "ticks": ""
            },
            "colorscale": [
             [
              0,
              "#0d0887"
             ],
             [
              0.1111111111111111,
              "#46039f"
             ],
             [
              0.2222222222222222,
              "#7201a8"
             ],
             [
              0.3333333333333333,
              "#9c179e"
             ],
             [
              0.4444444444444444,
              "#bd3786"
             ],
             [
              0.5555555555555556,
              "#d8576b"
             ],
             [
              0.6666666666666666,
              "#ed7953"
             ],
             [
              0.7777777777777778,
              "#fb9f3a"
             ],
             [
              0.8888888888888888,
              "#fdca26"
             ],
             [
              1,
              "#f0f921"
             ]
            ],
            "type": "histogram2dcontour"
           }
          ],
          "mesh3d": [
           {
            "colorbar": {
             "outlinewidth": 0,
             "ticks": ""
            },
            "type": "mesh3d"
           }
          ],
          "parcoords": [
           {
            "line": {
             "colorbar": {
              "outlinewidth": 0,
              "ticks": ""
             }
            },
            "type": "parcoords"
           }
          ],
          "pie": [
           {
            "automargin": true,
            "type": "pie"
           }
          ],
          "scatter": [
           {
            "marker": {
             "colorbar": {
              "outlinewidth": 0,
              "ticks": ""
             }
            },
            "type": "scatter"
           }
          ],
          "scatter3d": [
           {
            "line": {
             "colorbar": {
              "outlinewidth": 0,
              "ticks": ""
             }
            },
            "marker": {
             "colorbar": {
              "outlinewidth": 0,
              "ticks": ""
             }
            },
            "type": "scatter3d"
           }
          ],
          "scattercarpet": [
           {
            "marker": {
             "colorbar": {
              "outlinewidth": 0,
              "ticks": ""
             }
            },
            "type": "scattercarpet"
           }
          ],
          "scattergeo": [
           {
            "marker": {
             "colorbar": {
              "outlinewidth": 0,
              "ticks": ""
             }
            },
            "type": "scattergeo"
           }
          ],
          "scattergl": [
           {
            "marker": {
             "colorbar": {
              "outlinewidth": 0,
              "ticks": ""
             }
            },
            "type": "scattergl"
           }
          ],
          "scattermapbox": [
           {
            "marker": {
             "colorbar": {
              "outlinewidth": 0,
              "ticks": ""
             }
            },
            "type": "scattermapbox"
           }
          ],
          "scatterpolar": [
           {
            "marker": {
             "colorbar": {
              "outlinewidth": 0,
              "ticks": ""
             }
            },
            "type": "scatterpolar"
           }
          ],
          "scatterpolargl": [
           {
            "marker": {
             "colorbar": {
              "outlinewidth": 0,
              "ticks": ""
             }
            },
            "type": "scatterpolargl"
           }
          ],
          "scatterternary": [
           {
            "marker": {
             "colorbar": {
              "outlinewidth": 0,
              "ticks": ""
             }
            },
            "type": "scatterternary"
           }
          ],
          "surface": [
           {
            "colorbar": {
             "outlinewidth": 0,
             "ticks": ""
            },
            "colorscale": [
             [
              0,
              "#0d0887"
             ],
             [
              0.1111111111111111,
              "#46039f"
             ],
             [
              0.2222222222222222,
              "#7201a8"
             ],
             [
              0.3333333333333333,
              "#9c179e"
             ],
             [
              0.4444444444444444,
              "#bd3786"
             ],
             [
              0.5555555555555556,
              "#d8576b"
             ],
             [
              0.6666666666666666,
              "#ed7953"
             ],
             [
              0.7777777777777778,
              "#fb9f3a"
             ],
             [
              0.8888888888888888,
              "#fdca26"
             ],
             [
              1,
              "#f0f921"
             ]
            ],
            "type": "surface"
           }
          ],
          "table": [
           {
            "cells": {
             "fill": {
              "color": "#EBF0F8"
             },
             "line": {
              "color": "white"
             }
            },
            "header": {
             "fill": {
              "color": "#C8D4E3"
             },
             "line": {
              "color": "white"
             }
            },
            "type": "table"
           }
          ]
         },
         "layout": {
          "annotationdefaults": {
           "arrowcolor": "#2a3f5f",
           "arrowhead": 0,
           "arrowwidth": 1
          },
          "autotypenumbers": "strict",
          "coloraxis": {
           "colorbar": {
            "outlinewidth": 0,
            "ticks": ""
           }
          },
          "colorscale": {
           "diverging": [
            [
             0,
             "#8e0152"
            ],
            [
             0.1,
             "#c51b7d"
            ],
            [
             0.2,
             "#de77ae"
            ],
            [
             0.3,
             "#f1b6da"
            ],
            [
             0.4,
             "#fde0ef"
            ],
            [
             0.5,
             "#f7f7f7"
            ],
            [
             0.6,
             "#e6f5d0"
            ],
            [
             0.7,
             "#b8e186"
            ],
            [
             0.8,
             "#7fbc41"
            ],
            [
             0.9,
             "#4d9221"
            ],
            [
             1,
             "#276419"
            ]
           ],
           "sequential": [
            [
             0,
             "#0d0887"
            ],
            [
             0.1111111111111111,
             "#46039f"
            ],
            [
             0.2222222222222222,
             "#7201a8"
            ],
            [
             0.3333333333333333,
             "#9c179e"
            ],
            [
             0.4444444444444444,
             "#bd3786"
            ],
            [
             0.5555555555555556,
             "#d8576b"
            ],
            [
             0.6666666666666666,
             "#ed7953"
            ],
            [
             0.7777777777777778,
             "#fb9f3a"
            ],
            [
             0.8888888888888888,
             "#fdca26"
            ],
            [
             1,
             "#f0f921"
            ]
           ],
           "sequentialminus": [
            [
             0,
             "#0d0887"
            ],
            [
             0.1111111111111111,
             "#46039f"
            ],
            [
             0.2222222222222222,
             "#7201a8"
            ],
            [
             0.3333333333333333,
             "#9c179e"
            ],
            [
             0.4444444444444444,
             "#bd3786"
            ],
            [
             0.5555555555555556,
             "#d8576b"
            ],
            [
             0.6666666666666666,
             "#ed7953"
            ],
            [
             0.7777777777777778,
             "#fb9f3a"
            ],
            [
             0.8888888888888888,
             "#fdca26"
            ],
            [
             1,
             "#f0f921"
            ]
           ]
          },
          "colorway": [
           "#636efa",
           "#EF553B",
           "#00cc96",
           "#ab63fa",
           "#FFA15A",
           "#19d3f3",
           "#FF6692",
           "#B6E880",
           "#FF97FF",
           "#FECB52"
          ],
          "font": {
           "color": "#2a3f5f"
          },
          "geo": {
           "bgcolor": "white",
           "lakecolor": "white",
           "landcolor": "#E5ECF6",
           "showlakes": true,
           "showland": true,
           "subunitcolor": "white"
          },
          "hoverlabel": {
           "align": "left"
          },
          "hovermode": "closest",
          "mapbox": {
           "style": "light"
          },
          "paper_bgcolor": "white",
          "plot_bgcolor": "#E5ECF6",
          "polar": {
           "angularaxis": {
            "gridcolor": "white",
            "linecolor": "white",
            "ticks": ""
           },
           "bgcolor": "#E5ECF6",
           "radialaxis": {
            "gridcolor": "white",
            "linecolor": "white",
            "ticks": ""
           }
          },
          "scene": {
           "xaxis": {
            "backgroundcolor": "#E5ECF6",
            "gridcolor": "white",
            "gridwidth": 2,
            "linecolor": "white",
            "showbackground": true,
            "ticks": "",
            "zerolinecolor": "white"
           },
           "yaxis": {
            "backgroundcolor": "#E5ECF6",
            "gridcolor": "white",
            "gridwidth": 2,
            "linecolor": "white",
            "showbackground": true,
            "ticks": "",
            "zerolinecolor": "white"
           },
           "zaxis": {
            "backgroundcolor": "#E5ECF6",
            "gridcolor": "white",
            "gridwidth": 2,
            "linecolor": "white",
            "showbackground": true,
            "ticks": "",
            "zerolinecolor": "white"
           }
          },
          "shapedefaults": {
           "line": {
            "color": "#2a3f5f"
           }
          },
          "ternary": {
           "aaxis": {
            "gridcolor": "white",
            "linecolor": "white",
            "ticks": ""
           },
           "baxis": {
            "gridcolor": "white",
            "linecolor": "white",
            "ticks": ""
           },
           "bgcolor": "#E5ECF6",
           "caxis": {
            "gridcolor": "white",
            "linecolor": "white",
            "ticks": ""
           }
          },
          "title": {
           "x": 0.05
          },
          "xaxis": {
           "automargin": true,
           "gridcolor": "white",
           "linecolor": "white",
           "ticks": "",
           "title": {
            "standoff": 15
           },
           "zerolinecolor": "white",
           "zerolinewidth": 2
          },
          "yaxis": {
           "automargin": true,
           "gridcolor": "white",
           "linecolor": "white",
           "ticks": "",
           "title": {
            "standoff": 15
           },
           "zerolinecolor": "white",
           "zerolinewidth": 2
          }
         }
        },
        "title": {
         "text": "Country-wise wine records"
        }
       }
      }
     },
     "metadata": {},
     "output_type": "display_data"
    }
   ],
   "source": [
    "import plotly.graph_objs as go\n",
    "from plotly.offline import iplot\n",
    "\n",
    "data = dict(\n",
    "        type = 'choropleth',\n",
    "        locations = country_wise_count.index,\n",
    "        z = country_wise_count.values,\n",
    "        text = list(country_code_mapper.keys()),\n",
    "        colorbar = {'title' : 'Number of records found'},\n",
    "      )\n",
    "layout = dict(\n",
    "    title = 'Country-wise wine records',\n",
    "    geo = dict(\n",
    "            showframe = True,\n",
    "            projection = {'type':'natural earth'}\n",
    "    )\n",
    ")\n",
    "\n",
    "choromap = go.Figure(data = [data],layout = layout)\n",
    "iplot(choromap)"
   ]
  },
  {
   "cell_type": "code",
   "execution_count": null,
   "metadata": {},
   "outputs": [],
   "source": []
  }
 ],
 "metadata": {
  "interpreter": {
   "hash": "916dbcbb3f70747c44a77c7bcd40155683ae19c65e1c03b4aa3499c5328201f1"
  },
  "kernelspec": {
   "display_name": "Python 3.8.10 64-bit",
   "language": "python",
   "name": "python3"
  },
  "language_info": {
   "codemirror_mode": {
    "name": "ipython",
    "version": 3
   },
   "file_extension": ".py",
   "mimetype": "text/x-python",
   "name": "python",
   "nbconvert_exporter": "python",
   "pygments_lexer": "ipython3",
   "version": "3.9.2"
  },
  "orig_nbformat": 4
 },
 "nbformat": 4,
 "nbformat_minor": 2
}
